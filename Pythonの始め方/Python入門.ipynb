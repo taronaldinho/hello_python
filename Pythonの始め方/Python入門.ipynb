{
 "cells": [
  {
   "cell_type": "markdown",
   "metadata": {
    "colab_type": "text",
    "id": "D3QflLv0qdiy"
   },
   "source": [
    "# Python 入門  \n",
    "\n",
    "この資料は、プログラミング言語 Python の基礎的な文法についての最低限の知識を、最短で習得するための Notebook (ipynb 形式) ファイルです。  \n",
    "対話的にセルを実行しながら学習をする場合は、先に [Pythonの始め方](./Pythonの始め方.md) や [Jupyter基礎](../Jupyter基礎/Jupyter基礎.ipynb) を参照して実行環境を整えてください。  \n",
    "より正確かつ詳細な知識を確認したい場合には、[公式のチュートリアル](https://docs.python.jp/3/tutorial/index.html) などを参照してください。  \n",
    "\n",
    "Python にはバージョンとして 2 系と 3 系の 2 つの系統があり、互換性のない部分もあります。  \n",
    "バージョン 2 系は 2020 年初にアップデートが終了しており、今後は更新されないため、特に制約がなければ 3 系を学んで使うことを推奨します。  \n",
    "\n",
    "本チュートリアルでは、3 系である **Python 3.6** 以上を前提とした解説を行っています。  "
   ]
  },
  {
   "cell_type": "markdown",
   "metadata": {},
   "source": [
    "## Python の特徴  \n",
    "\n",
    "プログラミング言語には、Python 以外にも C 言語や Java、Ruby、R のように様々なものがあります。  \n",
    "それぞれの言語がすべての用途に適しているわけではなく、得手不得手があります。  \n",
    "\n",
    "Python はデータ解析・機械学習のためのライブラリが充実しており、データ解析や機械学習の分野で最もよく使われている言語です。  \n",
    "また、Web アプリケーションフレームワークの開発も活発で、データ解析だけでなく Web サービス開発まで同じ言語で統一して行える点も魅力です。  \n",
    "\n",
    "さらには、初学者にとっても学びやすい言語です。  \n",
    "初学者がプログラミングを学び始めるときにつまづきがちな難しい概念が他の言語と比べ多くなく、入門しやすい言語といえます。  \n",
    "\n",
    "まとめると、Python には  \n",
    "\n",
    "- データ解析や機械学習によく使われている  \n",
    "- Web アプリケーションの開発などでもよく使われている  \n",
    "- 初学者がはじめやすい言語  \n",
    "\n",
    "のような魅力があります。  \n",
    "\n",
    "---  "
   ]
  },
  {
   "cell_type": "markdown",
   "metadata": {
    "colab_type": "text",
    "id": "hO4YLiKjIfDi"
   },
   "source": [
    "## 変数\n",
    "\n",
    "**変数 (variable)** とは、様々な**値**を格納することができ、名前を付けることができる**入れ物のようなイメージ**のものです。  \n",
    "この変数に値を格納したり、更新したりすることで、値を一時的に保持しておくことができます。  "
   ]
  },
  {
   "cell_type": "markdown",
   "metadata": {},
   "source": [
    "### 代入と値の確認\n",
    "\n",
    "それでは、`a` という名前の変数に、値 `1` を**代入**してみましょう。  \n",
    "(下のコードセルを Shift + Enter で実行してください)  "
   ]
  },
  {
   "cell_type": "code",
   "execution_count": null,
   "metadata": {
    "colab": {},
    "colab_type": "code",
    "id": "SjpDQJn-3Rct"
   },
   "outputs": [],
   "source": [
    "a = 1"
   ]
  },
  {
   "cell_type": "markdown",
   "metadata": {
    "colab_type": "text",
    "id": "aitz3Hri_a-n"
   },
   "source": [
    "代入は `=` を用います。  \n",
    "数学的には `=` は等しいという意味を持ちますが、Python では**「左辺の変数に、右辺の値を代入する」**という意味になります。  \n",
    "\n",
    "Jupyter Notebook 上では、変数名だけ、もしくは変数名を最後の行に記述したセルを実行すると、変数に格納された値を出力させることができます。  "
   ]
  },
  {
   "cell_type": "code",
   "execution_count": null,
   "metadata": {
    "colab": {},
    "colab_type": "code",
    "id": "6SbAfM5Rv9aM"
   },
   "outputs": [],
   "source": [
    "a"
   ]
  },
  {
   "cell_type": "markdown",
   "metadata": {
    "colab_type": "text",
    "id": "8b0i8oelv9aR"
   },
   "source": [
    "このように、変数に格納されている値を出力させて確認することができました。  \n",
    "\n",
    "また、値を確認するための他の方法として、`print()` と呼ばれる**関数 (function)** を使用することもできます。  \n",
    "関数について詳しくは後述しますが、`print()` のように Python には予め多くの関数が定義されています。そのような関数を**組み込み関数 (built-in function)** といいます。  "
   ]
  },
  {
   "cell_type": "code",
   "execution_count": null,
   "metadata": {
    "colab": {},
    "colab_type": "code",
    "id": "oTHXMTjiv9aR"
   },
   "outputs": [],
   "source": [
    "print(a)"
   ]
  },
  {
   "cell_type": "markdown",
   "metadata": {
    "colab_type": "text",
    "id": "9yizNcBvv9aU"
   },
   "source": [
    "変数名だけをセルに記入して実行する場合と`print()`を利用する場合の違いについては、後述します。"
   ]
  },
  {
   "cell_type": "markdown",
   "metadata": {
    "colab_type": "text",
    "id": "nGNlqHW_v9aV"
   },
   "source": [
    "変数につける名前は、コードを書く人が自由に決めることができます。\n",
    "ただし、  \n",
    "\n",
    "- アルファベット (a-z, A-Z)、数字 (0-9)、アンダースコア (\\_) を使用可  \n",
    "- 大文字と小文字は区別される (`var`, `Var`, `VAR` などはすべて別の変数)  \n",
    "- 変数名の先頭一文字目に数字は使用できない  \n",
    "- [予約語](https://docs.python.org/ja/3/reference/lexical_analysis.html#keywords) は変数名としては使用できない  \n",
    "- [組み込み関数](https://docs.python.org/ja/3/library/functions.html) と同じ名前を変数名に使用しない方がいい (関数名が上書きされて使用できなくなる)  \n",
    "\n",
    "という言語の制約や注意事項が存在しています。(変数名に漢字などの全角文字も使用できるようですが非推奨)  \n",
    "\n",
    "また、**わかりやすい名前をつけることが重要です。**  \n",
    "例えば、人の名前を格納するための変数が `a` という変数名だと、それがどのような使われ方をするのかを容易に類推することができません。  \n",
    "`name` という名前であれば、ひと目で見て何のための変数かが分かるようになります。  \n",
    "これは、自分のコードを読む他人や、未来の自分にとってコードを理解するための大きな手がかりとなります。"
   ]
  },
  {
   "cell_type": "markdown",
   "metadata": {
    "colab_type": "text",
    "id": "BQhk7-XfDFhS"
   },
   "source": [
    "### コメント\n",
    "\n",
    "Python では、`#` の後からその行の終わりまでに存在する全ての文字列は無視されます。  \n",
    "この `#` の後ろに続く部分を**コメント (comment)**と呼び、すでに書かれたコードをコメントにすることを**コメントアウト (comment out)**と言います。  \n",
    "コメントは、コード中に変数の意味や処理の意味をコードを読む人に伝えるためによく使われます。  \n",
    "\n",
    "Jupyter Notebook のコードセルに書かれたコードを行ごとコメントアウトしたい場合は、その行を選択した状態で `Ctrl + /` を入力することで  \n",
    "自動的に行の先頭に `#` 記号を挿入することができます。  \n",
    "複数行を選択していれば、選択された複数の行が同時にコメントアウトされます。  \n",
    "また、コメントアウトされている行を選択した状態で同じキー入力を送ると、コメントアウトが解除されます。これを**アンコメント (uncomment)**と呼ぶこともあります。\n",
    "\n",
    "下のセルを実行してみましょう。"
   ]
  },
  {
   "cell_type": "code",
   "execution_count": null,
   "metadata": {
    "colab": {},
    "colab_type": "code",
    "id": "YK_XjChXDXmH"
   },
   "outputs": [],
   "source": [
    "# この行及び下の行はコメントアウトされているため実行時に無視されます\n",
    "# print(a)"
   ]
  },
  {
   "cell_type": "markdown",
   "metadata": {
    "colab_type": "text",
    "id": "_xAqta5WIfGJ"
   },
   "source": [
    "`print(a)` が書かれているにも関わらず、何も表示されませんでした。\n",
    "これは、`print(a)` 関数が書かれた行がコメントアウトされていたためです。"
   ]
  },
  {
   "cell_type": "markdown",
   "metadata": {
    "colab_type": "text",
    "id": "I_Z6hhts_v4c"
   },
   "source": [
    "### 変数の型  \n",
    "\n",
    "プログラミングで扱う値には種類があります。  \n",
    "Python では、**整数 (integer)**、**実数 (real number)**、**文字列 (string)** などが代表的な値の種類です。  \n",
    "それぞれの種類によって、コンピュータ内での取扱い方が異なり、この種類のことは一般に**型 (type)** と呼びます。  \n",
    "\n",
    "例えば、整数、実数、そして文字列をそれぞれ別々の変数に代入するコードは以下のとおりです。  "
   ]
  },
  {
   "cell_type": "code",
   "execution_count": null,
   "metadata": {
    "colab": {},
    "colab_type": "code",
    "id": "FChuhC8Jv9aa"
   },
   "outputs": [],
   "source": [
    "a = 1"
   ]
  },
  {
   "cell_type": "code",
   "execution_count": null,
   "metadata": {
    "colab": {},
    "colab_type": "code",
    "id": "qCdjuQqNv9ac"
   },
   "outputs": [],
   "source": [
    "b = 1.2"
   ]
  },
  {
   "cell_type": "code",
   "execution_count": null,
   "metadata": {
    "colab": {},
    "colab_type": "code",
    "id": "VLMovMgnv9ae"
   },
   "outputs": [],
   "source": [
    "c = \"C\""
   ]
  },
  {
   "cell_type": "markdown",
   "metadata": {
    "colab_type": "text",
    "id": "DwMajDvAv9ag"
   },
   "source": [
    "コンピュータの中での取り扱い方は異なりますが、Python では**変数の型を自動的に決定する**ため、初めのうちはあまり気にする必要はありません。  \n",
    "ただし、違う型同士の演算では場合によってエラーが発生するなどの問題が生じるため、簡単に型の特徴は把握しておく必要があります。  \n",
    "\n",
    "まずは、上記の `a`, `b`, `c` の型を確認する方法を紹介します。  \n",
    "型の確認は `type()` という組み込み関数を使用します。  "
   ]
  },
  {
   "cell_type": "code",
   "execution_count": null,
   "metadata": {
    "colab": {},
    "colab_type": "code",
    "id": "RUflpSu6v9ag"
   },
   "outputs": [],
   "source": [
    "type(a)"
   ]
  },
  {
   "cell_type": "code",
   "execution_count": null,
   "metadata": {
    "colab": {},
    "colab_type": "code",
    "id": "YBtHAigUv9aj"
   },
   "outputs": [],
   "source": [
    "type(b)"
   ]
  },
  {
   "cell_type": "code",
   "execution_count": null,
   "metadata": {
    "colab": {},
    "colab_type": "code",
    "id": "6PaQmlMCv9an"
   },
   "outputs": [],
   "source": [
    "type(c)"
   ]
  },
  {
   "cell_type": "markdown",
   "metadata": {
    "colab_type": "text",
    "id": "gatuDQAyv9aq"
   },
   "source": [
    "`a` は `int` という整数の型をもつ変数であり、`b` は `float` という実数の型をもつ変数です。  \n",
    "この `float` という型の名前は、コンピュータ内で実数を扱うときの形式である**浮動小数点数 (floating-point number)** に由来しています。  \n",
    "\n",
    "`c` は `str` という文字列の型をもつ変数であり、値を定義するにはシングルクォーテーション `' '` もしくはダブルクォーテーション `\" \"` で対象の文字列をくくる必要があります。  \n",
    "(個人的にはダブルクォーテーション派です)  "
   ]
  },
  {
   "cell_type": "markdown",
   "metadata": {
    "colab_type": "text",
    "id": "Chdmx6HGIfEV"
   },
   "source": [
    "Python では、`.` を含まない連続した数字を `int`、直前・直後も含め `.` が含まれる連続した数字を `float` だと自動的に解釈します。  \n",
    "例えば、`7` や `365` は `int` ですが、`2.718`、`.25`、`10.` などは `float` になります。  \n",
    " \n",
    "実数の `0` は `0.0` とも `.0` とも `0.` とも書くことができます。  "
   ]
  },
  {
   "cell_type": "code",
   "execution_count": null,
   "metadata": {
    "colab": {},
    "colab_type": "code",
    "id": "sUKUmRgwIfEY"
   },
   "outputs": [],
   "source": [
    "type(0)"
   ]
  },
  {
   "cell_type": "code",
   "execution_count": null,
   "metadata": {
    "colab": {},
    "colab_type": "code",
    "id": "VOiscn8OIfEc"
   },
   "outputs": [],
   "source": [
    "type(0.)"
   ]
  },
  {
   "cell_type": "code",
   "execution_count": null,
   "metadata": {
    "colab": {},
    "colab_type": "code",
    "id": "442-_TpmIfEf"
   },
   "outputs": [],
   "source": [
    "type(.0)"
   ]
  },
  {
   "cell_type": "markdown",
   "metadata": {
    "colab_type": "text",
    "id": "by0V-W7nIfEj"
   },
   "source": [
    "例えば、実数の `5` は以下のように書くことができます。"
   ]
  },
  {
   "cell_type": "code",
   "execution_count": null,
   "metadata": {
    "colab": {},
    "colab_type": "code",
    "id": "uUYCOBaAIfEj"
   },
   "outputs": [],
   "source": [
    "type(5.0)"
   ]
  },
  {
   "cell_type": "code",
   "execution_count": null,
   "metadata": {
    "colab": {},
    "colab_type": "code",
    "id": "y26NMdQ2IfEo"
   },
   "outputs": [],
   "source": [
    "type(5.)"
   ]
  },
  {
   "cell_type": "markdown",
   "metadata": {
    "colab_type": "text",
    "id": "g3BdGDJaIfEr"
   },
   "source": [
    "一方、`.5` と書くと、これは `0.5` の略記と解釈されることに注意してください。"
   ]
  },
  {
   "cell_type": "code",
   "execution_count": null,
   "metadata": {
    "colab": {},
    "colab_type": "code",
    "id": "aXpxR7WmIfEs"
   },
   "outputs": [],
   "source": [
    "type(.5)"
   ]
  },
  {
   "cell_type": "code",
   "execution_count": null,
   "metadata": {
    "colab": {},
    "colab_type": "code",
    "id": "enBKbL9fIfEx"
   },
   "outputs": [],
   "source": [
    "print(.5)"
   ]
  },
  {
   "cell_type": "markdown",
   "metadata": {
    "colab_type": "text",
    "id": "xIr4oyIav9a-"
   },
   "source": [
    "### 複数同時の代入\n",
    "\n",
    "Python では複数の変数に対する代入を一度に行うことができ、**複数同時の代入 (multiple assignment)** と呼びます。  \n",
    "例えば、上記の `a = 1` と `b = 1.2` を同時に一行で記述すると以下のようになります。  "
   ]
  },
  {
   "cell_type": "code",
   "execution_count": null,
   "metadata": {
    "colab": {},
    "colab_type": "code",
    "id": "GxERn_L6v9a-"
   },
   "outputs": [],
   "source": [
    "a, b = 1, 1.2\n",
    "print(a, b)"
   ]
  },
  {
   "cell_type": "markdown",
   "metadata": {
    "colab_type": "text",
    "id": "MrlNU5sQv9bA"
   },
   "source": [
    "同様に、3 つ以上の変数に対して、複数同時の代入を行うことも可能です。"
   ]
  },
  {
   "cell_type": "code",
   "execution_count": null,
   "metadata": {
    "colab": {},
    "colab_type": "code",
    "id": "pzzK0Ocfv9bB"
   },
   "outputs": [],
   "source": [
    "a, b, c = 1, 1.2, \"C\"\n",
    "print(a, b, c)"
   ]
  },
  {
   "cell_type": "markdown",
   "metadata": {
    "colab_type": "text",
    "id": "VsdsnV9uiQev"
   },
   "source": [
    "### 算術演算子\n",
    "\n",
    "様々な計算を意味する**演算子**と呼ばれる記号があります。  \n",
    "はじめに紹介するのは**算術演算子 (arithmetic operator)** と呼ばれるもので、2 つの変数または値を取り、1 つの演算結果を返します。  \n",
    "\n",
    "代表的な演算として**四則演算（加算・減算・乗算・除算）**があります。  \n",
    "四則演算に対応する演算子として、Python では以下の記号が用いられます。  \n",
    "\n",
    "| 演算 | 記号 |\n",
    "|------|------|\n",
    "| 加算（足し算） | `+` |\n",
    "| 減算（引き算） | `-` |\n",
    "| 乗算（掛け算） | `*` |\n",
    "| 除算（割り算） | `/` |\n",
    "\n",
    "具体例を見ながら使い方を説明します。  "
   ]
  },
  {
   "cell_type": "code",
   "execution_count": null,
   "metadata": {
    "colab": {},
    "colab_type": "code",
    "id": "MBaRZ2RkBWbd"
   },
   "outputs": [],
   "source": [
    "# 整数と整数で加算 -> 結果は整数\n",
    "1+1"
   ]
  },
  {
   "cell_type": "markdown",
   "metadata": {
    "colab_type": "text",
    "id": "DE56EVRvIfFJ"
   },
   "source": [
    "このように、演算子を使う際には、**記号の両側に値を書きます。**  \n",
    "このとき、演算子の両側にひとつずつ空白を空けることが多いです。  \n",
    "文法的な意味はありませんが、コードが読みやすくなります。  \n",
    "この空白は Python のコーディング規約である [PEP8](https://www.python.org/dev/peps/pep-0008/#should-a-line-break-before-or-after-a-binary-operator) でも推奨されています。  "
   ]
  },
  {
   "cell_type": "code",
   "execution_count": null,
   "metadata": {
    "colab": {},
    "colab_type": "code",
    "id": "BSsWGE_Ev9bH"
   },
   "outputs": [],
   "source": [
    "1 + 1"
   ]
  },
  {
   "cell_type": "markdown",
   "metadata": {
    "colab_type": "text",
    "id": "ai1hzuv6v9bJ"
   },
   "source": [
    "値が代入されている変数との演算も下記のように行うことができます。"
   ]
  },
  {
   "cell_type": "code",
   "execution_count": null,
   "metadata": {
    "colab": {},
    "colab_type": "code",
    "id": "yvA4BP5hIfFJ"
   },
   "outputs": [],
   "source": [
    "a + 2"
   ]
  },
  {
   "cell_type": "markdown",
   "metadata": {
    "colab_type": "text",
    "id": "y6xkeITrv9bL"
   },
   "source": [
    "また、`int` と `float` は異なる型同士ですが、計算を行うことができます。\n",
    "`int` と `float` の演算結果の型は `float` になります。"
   ]
  },
  {
   "cell_type": "code",
   "execution_count": null,
   "metadata": {
    "colab": {},
    "colab_type": "code",
    "id": "IjU6vwcdIfFM"
   },
   "outputs": [],
   "source": [
    "# 整数と実数で加算 -> 結果は実数\n",
    "a + b"
   ]
  },
  {
   "cell_type": "markdown",
   "metadata": {
    "colab_type": "text",
    "id": "PwsK4SxPIfFN"
   },
   "source": [
    "他の演算子の例を示します。"
   ]
  },
  {
   "cell_type": "code",
   "execution_count": null,
   "metadata": {
    "colab": {},
    "colab_type": "code",
    "id": "hL5QmnGgBYNF"
   },
   "outputs": [],
   "source": [
    "# 整数と整数で減算 -> 結果は整数\n",
    "2 - 1"
   ]
  },
  {
   "cell_type": "code",
   "execution_count": null,
   "metadata": {
    "colab": {},
    "colab_type": "code",
    "id": "huifgJVkv9bR"
   },
   "outputs": [],
   "source": [
    "# 実数と整数で減算 -> 結果は実数\n",
    "3.5 - 2"
   ]
  },
  {
   "cell_type": "code",
   "execution_count": null,
   "metadata": {
    "colab": {},
    "colab_type": "code",
    "id": "v82yE4keBZeo"
   },
   "outputs": [],
   "source": [
    "# 整数と整数で乗算 -> 結果は整数\n",
    "3 * 5"
   ]
  },
  {
   "cell_type": "code",
   "execution_count": null,
   "metadata": {
    "colab": {},
    "colab_type": "code",
    "id": "kYYOMXTHv9bX"
   },
   "outputs": [],
   "source": [
    "# 実数と整数で乗算 -> 結果は実数\n",
    "2.5 * 2"
   ]
  },
  {
   "cell_type": "code",
   "execution_count": null,
   "metadata": {
    "colab": {},
    "colab_type": "code",
    "id": "KHRGnOcNBi05"
   },
   "outputs": [],
   "source": [
    "# 整数と整数で除算 -> 結果は実数\n",
    "3 / 2"
   ]
  },
  {
   "cell_type": "code",
   "execution_count": null,
   "metadata": {
    "colab": {},
    "colab_type": "code",
    "id": "NxnIvty-v9bd"
   },
   "outputs": [],
   "source": [
    "# 整数と整数で除算 -> 結果は実数\n",
    "4 / 2"
   ]
  },
  {
   "cell_type": "markdown",
   "metadata": {
    "colab_type": "text",
    "id": "TDJRJR5vIfFe"
   },
   "source": [
    "Python 3 では、 `/` 記号を用いて除算を行う場合、除数（割る数）と被除数（割られる数）が整数であっても、計算結果として実数が返ります。  \n",
    "計算結果として実数を返す除算のことを特に、**真の除算 (true division)** と言います。  \n",
    "一方、商（整数部分）を返すような除算演算子として、 `//` 記号が用意されています。 `/` 記号を 2 回、間を空けずに繰り返します。  \n",
    "計算結果として商を返す除算のことを、 **切り捨て除算 (floor division)** と呼びます。  \n",
    "商を計算したい場合に便利な演算子であるため、こちらも覚えておきましょう。  \n",
    "\n",
    "| 演算 | 記号 |\n",
    "|------|------|\n",
    "| 切り捨て除算  | `//` |\n",
    "\n",
    "※ Python 2 では、除数も被除数も整数であった場合、 `/` 記号を用いても切り捨て除算が行われるので注意してください。  "
   ]
  },
  {
   "cell_type": "code",
   "execution_count": null,
   "metadata": {
    "colab": {},
    "colab_type": "code",
    "id": "PFwX_4_pBbY0"
   },
   "outputs": [],
   "source": [
    "# 整数と整数で切り捨て除算 -> 結果は整数\n",
    "3 // 2"
   ]
  },
  {
   "cell_type": "code",
   "execution_count": null,
   "metadata": {
    "colab": {},
    "colab_type": "code",
    "id": "nCyFpJHKv9bh"
   },
   "outputs": [],
   "source": [
    "# 整数と整数で切り捨て除算 -> 結果は整数\n",
    "4 // 2"
   ]
  },
  {
   "cell_type": "markdown",
   "metadata": {
    "colab_type": "text",
    "id": "Mywi7srHv9bj"
   },
   "source": [
    "また、ここで注意すべき点として、整数や実数と文字列の演算は基本的にエラーになります。"
   ]
  },
  {
   "cell_type": "code",
   "execution_count": null,
   "metadata": {
    "colab": {},
    "colab_type": "code",
    "id": "ia8mAAr5v9bj"
   },
   "outputs": [],
   "source": [
    "# error\n",
    "a + c"
   ]
  },
  {
   "cell_type": "markdown",
   "metadata": {
    "colab_type": "text",
    "id": "T24iNnwSv9bk"
   },
   "source": [
    "**エラーメッセージを読みましょう。**  \n",
    "\n",
    "> TypeError: unsupported operand type(s) for +: \"int\" and \"str\"  \n",
    "\n",
    "と言われています。「+ にとって int と str はサポートされていない被作用子（+ が作用する対象のこと。operand）です」と書かれています。  \n",
    "「int に str を足す」ということはできないというわけです。  \n",
    "\n",
    "`int` もしくは `float` と、 `str` の間の加算、減算、除算では上記のエラーが生じます。  \n",
    "ただし、`str` と `int` の**乗算**は特別にサポートされており、計算を実行することができます。  "
   ]
  },
  {
   "cell_type": "code",
   "execution_count": null,
   "metadata": {
    "colab": {},
    "colab_type": "code",
    "id": "oKJmWQKcv9bl"
   },
   "outputs": [],
   "source": [
    "# str と int で乗算\n",
    "c * 3"
   ]
  },
  {
   "cell_type": "markdown",
   "metadata": {
    "colab_type": "text",
    "id": "xPX4dcGUv9bm"
   },
   "source": [
    "上のコードは、`c` という文字列を `3` 回繰り返す、という意味になります。"
   ]
  },
  {
   "cell_type": "markdown",
   "metadata": {
    "colab_type": "text",
    "id": "mmlvVMcIv9bm"
   },
   "source": [
    "`str` 同士は足し算を行うことができます。"
   ]
  },
  {
   "cell_type": "code",
   "execution_count": null,
   "metadata": {
    "colab": {},
    "colab_type": "code",
    "id": "DOK7H8LJv9bn"
   },
   "outputs": [],
   "source": [
    "name1 = \"Python\"\n",
    "name2 = \"チュートリアル\"\n",
    "\n",
    "name1 + name2"
   ]
  },
  {
   "cell_type": "markdown",
   "metadata": {
    "colab_type": "text",
    "id": "QoCq87hkv9bq"
   },
   "source": [
    "整数と文字列を連結したいこともあります。  \n",
    "例えば、`1` という整数に、 `\"番目\"` という文字列を足して `\"1番目\"` という文字列を作りたいような場合です。  \n",
    "その場合には、型を変換する**キャスト (cast)** という操作をする必要があります。  \n",
    "\n",
    "何かを `int` にキャストしたい場合は `int()` という組み込み関数を使い、`str` にキャストしたい場合は `str()` という組み込み関数を使います。  \n",
    "では、`1` という整数を `str` にキャストして、 `\"番目\"` という文字列と足し算を行ってみましょう。  "
   ]
  },
  {
   "cell_type": "code",
   "execution_count": null,
   "metadata": {
    "colab": {},
    "colab_type": "code",
    "id": "H8E1Puhmv9bq"
   },
   "outputs": [],
   "source": [
    "1"
   ]
  },
  {
   "cell_type": "code",
   "execution_count": null,
   "metadata": {
    "colab": {},
    "colab_type": "code",
    "id": "TlnTtXUnv9br"
   },
   "outputs": [],
   "source": [
    "type(1)"
   ]
  },
  {
   "cell_type": "code",
   "execution_count": null,
   "metadata": {
    "colab": {},
    "colab_type": "code",
    "id": "EK9fF95av9bt"
   },
   "outputs": [],
   "source": [
    "str(1)"
   ]
  },
  {
   "cell_type": "code",
   "execution_count": null,
   "metadata": {
    "colab": {},
    "colab_type": "code",
    "id": "JxGEBOZzv9bw"
   },
   "outputs": [],
   "source": [
    "type(str(1))"
   ]
  },
  {
   "cell_type": "code",
   "execution_count": null,
   "metadata": {
    "colab": {},
    "colab_type": "code",
    "id": "2boojYfbv9by"
   },
   "outputs": [],
   "source": [
    "str(1) + \"番目\""
   ]
  },
  {
   "cell_type": "markdown",
   "metadata": {
    "colab_type": "text",
    "id": "RzvUMnTQv9bz"
   },
   "source": [
    "また、`+=` や `-=` もよく使います。\n",
    "これは、演算と代入を合わせて行うもので、**累積代入文 (augmented assignment statement)** と呼ばれます。\n",
    "\n",
    "下記に示すとおり、`+=` では左辺の変数に対して右辺の値を足した結果で、左辺の変数を更新します。"
   ]
  },
  {
   "cell_type": "code",
   "execution_count": null,
   "metadata": {
    "colab": {},
    "colab_type": "code",
    "id": "g7g0hOrOv9b0"
   },
   "outputs": [],
   "source": [
    "# 累積代入文を使わない場合\n",
    "count = 0\n",
    "count = count + 1\n",
    "count"
   ]
  },
  {
   "cell_type": "code",
   "execution_count": null,
   "metadata": {
    "colab": {},
    "colab_type": "code",
    "id": "bdgvqEjZv9b2"
   },
   "outputs": [],
   "source": [
    "# 累積代入文を使う場合\n",
    "count = 0\n",
    "count += 1\n",
    "count"
   ]
  },
  {
   "cell_type": "markdown",
   "metadata": {
    "colab_type": "text",
    "id": "AZ7QMIt-v9b3"
   },
   "source": [
    "四則演算の全てで累積代入文を利用することができます。\n",
    "つまり、`+=`, `-=`, `*=`, `/=` がそれぞれ利用可能です。"
   ]
  },
  {
   "cell_type": "markdown",
   "metadata": {
    "colab_type": "text",
    "id": "36GMdun-IfFn"
   },
   "source": [
    "Python には、他にも幾つかの算術演算子が用意されています。\n",
    "例えば以下の演算子です。\n",
    "\n",
    "| 演算 | 記号 |\n",
    "|------|------|\n",
    "| 累乗 | `**` |\n",
    "|  剰余　 | `%` |\n",
    "\n",
    "`**` を使うと、$2^3$ は以下のように記述することができます。"
   ]
  },
  {
   "cell_type": "code",
   "execution_count": null,
   "metadata": {
    "colab": {},
    "colab_type": "code",
    "id": "cK6zHxguIfFo"
   },
   "outputs": [],
   "source": [
    "# 累乗\n",
    "2 ** 3"
   ]
  },
  {
   "cell_type": "markdown",
   "metadata": {
    "colab_type": "text",
    "id": "g8RG0jTDv9b6"
   },
   "source": [
    "`%` を使って、`9` を `2` で割った余りを計算してみましょう。"
   ]
  },
  {
   "cell_type": "code",
   "execution_count": null,
   "metadata": {
    "colab": {},
    "colab_type": "code",
    "id": "CbsiwPcev9b6"
   },
   "outputs": [],
   "source": [
    "# 剰余\n",
    "9 % 2"
   ]
  },
  {
   "cell_type": "markdown",
   "metadata": {
    "colab_type": "text",
    "id": "Z62QzE-4Bc4a"
   },
   "source": [
    "### 比較演算子\n",
    "\n",
    "比較演算子は、2 つの値の比較を行うための演算子です。\n",
    "\n",
    "| 演算 | 記号 |\n",
    "|------|------|\n",
    "| 小なり | `<` |\n",
    "| 大なり | `>` |\n",
    "| 以下 | `<=` |\n",
    "| 以上 | `>=` |\n",
    "| 等しい | `==` |\n",
    "| 等しくない | `!=` |\n",
    "\n",
    "比較演算子は、その両側に与えられた値が決められた条件を満たしているかどうか計算し、満たしている場合は `True` を、満たしていない場合は `False` を返します。  \n",
    "`True` や `False` は、**ブール (bool) 型**と呼ばれる型を持った値です。  \n",
    "ブール型の値は `True` もしくは `False` の 2 つしか存在しません。  \n",
    "\n",
    "いくつかの比較演算子の計算例を示します。  "
   ]
  },
  {
   "cell_type": "code",
   "execution_count": null,
   "metadata": {
    "colab": {},
    "colab_type": "code",
    "id": "5AXOptIWCN53"
   },
   "outputs": [],
   "source": [
    "1 < 2"
   ]
  },
  {
   "cell_type": "code",
   "execution_count": null,
   "metadata": {
    "colab": {},
    "colab_type": "code",
    "id": "ETSRMdkDv9b-"
   },
   "outputs": [],
   "source": [
    "# 型の確認\n",
    "type(1 < 2)"
   ]
  },
  {
   "cell_type": "code",
   "execution_count": null,
   "metadata": {
    "colab": {},
    "colab_type": "code",
    "id": "wR2OPEwiCP5_"
   },
   "outputs": [],
   "source": [
    "2 == 5"
   ]
  },
  {
   "cell_type": "code",
   "execution_count": null,
   "metadata": {
    "colab": {},
    "colab_type": "code",
    "id": "TfEDslvKCQ7o"
   },
   "outputs": [],
   "source": [
    "1 != 2"
   ]
  },
  {
   "cell_type": "code",
   "execution_count": null,
   "metadata": {
    "colab": {},
    "colab_type": "code",
    "id": "W1v_F8-7CWI-"
   },
   "outputs": [],
   "source": [
    "3 >= 3"
   ]
  },
  {
   "cell_type": "code",
   "execution_count": null,
   "metadata": {
    "colab": {},
    "colab_type": "code",
    "id": "XapxlGSYCSOU"
   },
   "outputs": [],
   "source": [
    "\"test\" == \"test\""
   ]
  },
  {
   "cell_type": "markdown",
   "metadata": {
    "colab_type": "text",
    "id": "aBzVaMJ1IfF7"
   },
   "source": [
    "等しいかどうかを判定する比較演算子 `==` を使う際は、代入演算子 `=` と間違えないように気をつけてください。"
   ]
  },
  {
   "cell_type": "markdown",
   "metadata": {
    "colab_type": "text",
    "id": "Wr7NohtiCUN_"
   },
   "source": [
    "## エスケープシーケンス\n",
    "\n",
    "通常の文字列では表せない特殊な文字を、規定された特別な文字の並びにより表したものを**エスケープシーケンス (escape sequence)** と呼びます。 \n",
    "\n",
    "よく使用するものとして、**改行**を意味する `\\n`（もしくは `¥n`）、**タブ**を意味する `\\t`（もしくは `¥t`）があります。"
   ]
  },
  {
   "cell_type": "code",
   "execution_count": null,
   "metadata": {
    "colab": {},
    "colab_type": "code",
    "id": "m3CBKEsrC4L-"
   },
   "outputs": [],
   "source": [
    "print(\"Hello\\nWorld\")"
   ]
  },
  {
   "cell_type": "code",
   "execution_count": null,
   "metadata": {
    "colab": {},
    "colab_type": "code",
    "id": "FosQ7-tzC_45"
   },
   "outputs": [],
   "source": [
    "print(\"Hello\\tWorld\")"
   ]
  },
  {
   "cell_type": "markdown",
   "metadata": {
    "colab_type": "text",
    "id": "2_FlL8P5v9cI"
   },
   "source": [
    "最初に Jupyter Notebook 上で変数の値を確認する際に、`print()` を使う場合と使わない場合の違いについて触れましたが、  \n",
    "エスケープシーケンスを評価したい場合には、`print()` を使う必要があります。"
   ]
  },
  {
   "cell_type": "code",
   "execution_count": null,
   "metadata": {
    "colab": {},
    "colab_type": "code",
    "id": "cTxeZsrPv9cJ"
   },
   "outputs": [],
   "source": [
    "d = \"Hello\\nWorld\""
   ]
  },
  {
   "cell_type": "code",
   "execution_count": null,
   "metadata": {
    "colab": {},
    "colab_type": "code",
    "id": "ZgVfZOKRv9cL"
   },
   "outputs": [],
   "source": [
    "# エスケープシーケンスが評価されない\n",
    "d"
   ]
  },
  {
   "cell_type": "code",
   "execution_count": null,
   "metadata": {
    "colab": {},
    "colab_type": "code",
    "id": "2DcxLEa1v9cM"
   },
   "outputs": [],
   "source": [
    "# エスケープシーケンスが評価される\n",
    "print(d)"
   ]
  },
  {
   "cell_type": "markdown",
   "metadata": {
    "colab_type": "text",
    "id": "Udw0u53Lv9cO"
   },
   "source": [
    "## 文字列メソッド  \n",
    "\n",
    "`str` 型の変数には、いくつか便利な機能がついています。  \n",
    "例えば、その変数が持つ全ての文字を小文字や大文字に変換する `lower()` や `upper()` といった機能があります。  \n",
    "このような型が持っている関数を**メソッド (method)** と呼びます。  "
   ]
  },
  {
   "cell_type": "code",
   "execution_count": null,
   "metadata": {
    "colab": {},
    "colab_type": "code",
    "id": "tDhIrHvev9cP"
   },
   "outputs": [],
   "source": [
    "name = \"Sansaku Python Community\"\n",
    "\n",
    "name"
   ]
  },
  {
   "cell_type": "code",
   "execution_count": null,
   "metadata": {
    "colab": {},
    "colab_type": "code",
    "id": "pUb1lrhzv9cQ"
   },
   "outputs": [],
   "source": [
    "# すべてを小文字に変換\n",
    "name.lower()"
   ]
  },
  {
   "cell_type": "code",
   "execution_count": null,
   "metadata": {
    "colab": {},
    "colab_type": "code",
    "id": "Ma-TiLUsv9cS"
   },
   "outputs": [],
   "source": [
    "# すべてを大文字に変換\n",
    "name.upper()"
   ]
  },
  {
   "cell_type": "markdown",
   "metadata": {
    "colab_type": "text",
    "id": "qvpJWVYkv9cT"
   },
   "source": [
    "よく使う文字列メソッドの一つに、 `format()` があります。  \n",
    "これは、ある文字列の一部分に、あとから別な文字列を埋め込むために使用します。  \n",
    "対象の文字列には `{}` で予め値を埋め込みたい場所を指定しておきます。  "
   ]
  },
  {
   "cell_type": "code",
   "execution_count": null,
   "metadata": {
    "colab": {},
    "colab_type": "code",
    "id": "UBDe56zvv9cT"
   },
   "outputs": [],
   "source": [
    "name = \"Python\"\n",
    "\n",
    "\"{} チュートリアルへようこそ\".format(name)"
   ]
  },
  {
   "cell_type": "code",
   "execution_count": null,
   "metadata": {
    "colab": {},
    "colab_type": "code",
    "id": "mN4n4NYMv9cV"
   },
   "outputs": [],
   "source": [
    "name1 = \"Python\"\n",
    "name2 = \"チュートリアル\"\n",
    "\n",
    "\"{} {}へようこそ\".format(name1, name2)"
   ]
  },
  {
   "cell_type": "markdown",
   "metadata": {
    "colab_type": "text",
    "id": "G_LHyH7Uv9cW"
   },
   "source": [
    "`format()` メソッドを用いると `int` 型 や `float` 型の変数を、`str` 型へ明示的にキャストすることなく文字列に埋め込むことができます。"
   ]
  },
  {
   "cell_type": "code",
   "execution_count": null,
   "metadata": {
    "colab": {},
    "colab_type": "code",
    "id": "hnNv40_Pv9cX"
   },
   "outputs": [],
   "source": [
    "version = 3.7\n",
    "\n",
    "\"Python {}\".format(version)"
   ]
  },
  {
   "cell_type": "markdown",
   "metadata": {
    "colab_type": "text",
    "id": "Pm4cvrnQv9cY"
   },
   "source": [
    "## 浮動小数点数がもつメソッド  \n",
    "\n",
    "「メソッド」は `str` 型の変数だけが持つものではありません。  \n",
    "`int` 型の変数や、`float` 型の変数にも、その型の特徴に合わせた機能が、メソッドとして提供されています。  \n",
    "\n",
    "例えば、`float` 型の変数には、`as_integer_ratio()` というメソッドがあり、比がその浮動小数点数の値となるような整数の組を返します。  \n",
    "\n",
    "例えば、0.5 という値は、分数で表すと $\\frac{1}{2}$ です。  \n",
    "これは、以下のようにして調べることができます。  "
   ]
  },
  {
   "cell_type": "code",
   "execution_count": null,
   "metadata": {
    "colab": {},
    "colab_type": "code",
    "id": "pFPtOpz-v9cY"
   },
   "outputs": [],
   "source": [
    "0.5.as_integer_ratio()"
   ]
  },
  {
   "cell_type": "markdown",
   "metadata": {
    "colab_type": "text",
    "id": "EZNdyQZLv9cZ"
   },
   "source": [
    "0.25 であれば、$\\frac{1}{4}$ となります。"
   ]
  },
  {
   "cell_type": "code",
   "execution_count": null,
   "metadata": {
    "colab": {},
    "colab_type": "code",
    "id": "OuwnCcupv9cZ"
   },
   "outputs": [],
   "source": [
    "0.25.as_integer_ratio()"
   ]
  },
  {
   "cell_type": "markdown",
   "metadata": {
    "colab_type": "text",
    "id": "P1-Ak83pv9ca"
   },
   "source": [
    "このような、型に紐付いたメソッドなどについては、この章の最後にある「クラス」という概念の説明の際にもう少し詳しく解説します。"
   ]
  },
  {
   "cell_type": "markdown",
   "metadata": {
    "colab_type": "text",
    "id": "VsBRE0Wyv9ca"
   },
   "source": [
    "## 複合データ型  \n",
    "\n",
    "これまでは `a = 1` のように 1 つの変数に 1 つの値を代入する場合を扱ってきましたが、複数の値をまとめて取り扱いたい場面もあります。  \n",
    "Python では複数の変数や値をまとめて扱うのに便利な、以下の 3 つの複合データ型があります。  \n",
    "\n",
    "- リスト (list)  \n",
    "- タプル (tuple)  \n",
    "- 辞書 (dictionary)  "
   ]
  },
  {
   "cell_type": "markdown",
   "metadata": {
    "colab_type": "text",
    "id": "S1TLaajMDtmr"
   },
   "source": [
    "### リスト  \n",
    "\n",
    "複数の変数を `,` （カンマ）区切りで並べ、それらの全体を `[ ]` で囲んだものを **リスト (list)** と言います。  \n",
    "リストに含まれる値を**要素**と呼び、整数の**インデックス** （要素番号）を使ってアクセスします。  "
   ]
  },
  {
   "cell_type": "code",
   "execution_count": null,
   "metadata": {
    "colab": {},
    "colab_type": "code",
    "id": "MJ7ZYj82D-a1"
   },
   "outputs": [],
   "source": [
    "# リスト型の変数を定義\n",
    "numbers = [4, 5, 6, 7]\n",
    "\n",
    "# 値の確認\n",
    "print(numbers)"
   ]
  },
  {
   "cell_type": "code",
   "execution_count": null,
   "metadata": {
    "colab": {},
    "colab_type": "code",
    "id": "HH3NT-y4EC4Z"
   },
   "outputs": [],
   "source": [
    "# 型の確認\n",
    "type(numbers)"
   ]
  },
  {
   "cell_type": "markdown",
   "metadata": {
    "colab_type": "text",
    "id": "Rk_jY_TTIfGY"
   },
   "source": [
    "`numbers` には 4 つの数値が入っており、**要素数** は 4 です。  \n",
    "リストの要素数は、リストの**長さ (length)** とも呼ばれ、組み込み関数の `len()` を用いて取得することができます。  \n",
    "`len()` はよく使う関数であるため、覚えておきましょう。  "
   ]
  },
  {
   "cell_type": "code",
   "execution_count": null,
   "metadata": {
    "colab": {},
    "colab_type": "code",
    "id": "DK6aH0AaoELi"
   },
   "outputs": [],
   "source": [
    "# 要素数の確認\n",
    "len(numbers)"
   ]
  },
  {
   "cell_type": "markdown",
   "metadata": {
    "colab_type": "text",
    "id": "RiJeRUdrEEUq"
   },
   "source": [
    "リストの各要素へアクセスする方法はいくつかあります。  \n",
    "最も簡単な方法は `[]` を使ってアクセスしたい要素番号を指定して、リストから値を取り出したり、その位置の値を書き換えたりする方法です。  \n",
    "ここで、注意が必要な点として、Python では先頭の要素のインデックス番号が `0` である点があります。  \n",
    "インデックス番号 `1` は 2 番目の要素を指します。  "
   ]
  },
  {
   "cell_type": "code",
   "execution_count": null,
   "metadata": {
    "colab": {},
    "colab_type": "code",
    "id": "DeCsf_L1Em29"
   },
   "outputs": [],
   "source": [
    "# 先頭の要素にアクセス\n",
    "numbers[0]"
   ]
  },
  {
   "cell_type": "code",
   "execution_count": null,
   "metadata": {
    "colab": {},
    "colab_type": "code",
    "id": "ox-Ma4yv5xqO"
   },
   "outputs": [],
   "source": [
    "# 先頭から3番目の要素にアクセス\n",
    "numbers[2]"
   ]
  },
  {
   "cell_type": "code",
   "execution_count": null,
   "metadata": {
    "colab": {},
    "colab_type": "code",
    "id": "ve-ETFIrv9cg"
   },
   "outputs": [],
   "source": [
    "# 2 番目の要素を書き換え\n",
    "numbers[1] = 10"
   ]
  },
  {
   "cell_type": "code",
   "execution_count": null,
   "metadata": {
    "colab": {},
    "colab_type": "code",
    "id": "AXpG-tqNv9cg"
   },
   "outputs": [],
   "source": [
    "# 値の確認\n",
    "numbers"
   ]
  },
  {
   "cell_type": "markdown",
   "metadata": {
    "colab_type": "text",
    "id": "kOVYiVOwIfGW"
   },
   "source": [
    "また、インデックスに負の値を指定すると、末尾からの位置となります。  \n",
    "要素番号 `-1` で最後の要素を参照することができます。  "
   ]
  },
  {
   "cell_type": "code",
   "execution_count": null,
   "metadata": {
    "colab": {},
    "colab_type": "code",
    "id": "WSaIdvb4IfGX"
   },
   "outputs": [],
   "source": [
    "# 末尾の要素にアクセス\n",
    "numbers[-1]"
   ]
  },
  {
   "cell_type": "code",
   "execution_count": null,
   "metadata": {
    "colab": {},
    "colab_type": "code",
    "id": "jP5fkl3V54WL"
   },
   "outputs": [],
   "source": [
    "# 末尾から3番目の要素にアクセス\n",
    "numbers[-3]"
   ]
  },
  {
   "cell_type": "markdown",
   "metadata": {
    "colab_type": "text",
    "id": "DLzLjTQ8EoG9"
   },
   "source": [
    "次に、リストから一度に複数の要素を取り出す操作である**スライス (slice)** を紹介します。  \n",
    "`開始位置:終了位置` のようにコロン `:` を用いてインデックスを範囲指定し、複数の部分要素にアクセスします。  \n",
    "このスライスの処理は、この後の章でも多用するため、慣れておきましょう。  \n",
    "\n",
    "例えば、先頭から 2 つの要素を取り出したい場合、以下のように指定します。  "
   ]
  },
  {
   "cell_type": "code",
   "execution_count": null,
   "metadata": {
    "colab": {},
    "colab_type": "code",
    "id": "MPI2H38DEy2N"
   },
   "outputs": [],
   "source": [
    "numbers[0:2]"
   ]
  },
  {
   "cell_type": "markdown",
   "metadata": {
    "colab_type": "text",
    "id": "gK6_JXXTE2AY"
   },
   "source": [
    "`開始位置:終了位置` と指定することで、開始位置から**終了位置のひとつ手前**までの要素を抽出します。   \n",
    "終了位置に指定したインデックスの値は含まれないことに注意してください。  \n",
    "\n",
    "また、指定する開始番号が `0` である場合、以下のような略記がよく用いられます。  "
   ]
  },
  {
   "cell_type": "code",
   "execution_count": null,
   "metadata": {
    "colab": {},
    "colab_type": "code",
    "id": "hBo2_C5aFPHR"
   },
   "outputs": [],
   "source": [
    "numbers[:2]"
   ]
  },
  {
   "cell_type": "markdown",
   "metadata": {
    "colab_type": "text",
    "id": "Qqem8sujFQVP"
   },
   "source": [
    "このように、先頭のインデックスは省略することができます。  \n",
    "このような記法を使う場合は、終了位置を示す数字を**取り出したい要素の個数**と捉えて、**先頭から 2 つを取り出す**操作だと考えると分かりやすくなります。  \n",
    "\n",
    "同様に、ある位置からリストの末尾までを取り出す場合も、終了位置のインデックスを省略することができます。  \n",
    "例えば、2 個目の要素から最後までを取り出すには以下のようにします。  "
   ]
  },
  {
   "cell_type": "code",
   "execution_count": null,
   "metadata": {
    "colab": {},
    "colab_type": "code",
    "id": "gItFJqoUFYzX"
   },
   "outputs": [],
   "source": [
    "numbers[1:]"
   ]
  },
  {
   "cell_type": "markdown",
   "metadata": {
    "colab_type": "text",
    "id": "RRlf3vqOv9cq"
   },
   "source": [
    "この場合は、取り出される要素の個数は `len(numbers) - 1` 個となることに注意してください。  \n",
    "\n",
    "以上から、`numbers[:2]` と `numbers[2:]` は、ちょうど 2 個目の要素を境に `numbers` の要素を 2 分割した前半部分と後半部分になっています。  \n",
    "ここで、2 個目の要素自体は**後半部に含まれる**ということに注意してください。  \n",
    "\n",
    "また、開始位置も終了位置も省略した場合は、すべての要素が選択されます。  "
   ]
  },
  {
   "cell_type": "code",
   "execution_count": null,
   "metadata": {
    "colab": {},
    "colab_type": "code",
    "id": "nav8WoxNv9cq"
   },
   "outputs": [],
   "source": [
    "numbers[:]"
   ]
  },
  {
   "cell_type": "markdown",
   "metadata": {
    "colab_type": "text",
    "id": "9qPrP6sYv9cs"
   },
   "source": [
    "現状では、`numbers[:]` と `numbers` の結果が同じであるため、どのように使用するか疑問に思われるかも知れません。  \n",
    "しかし、後の章では NumPy というライブラリを用いてリストの中にリストが入ったような**多次元配列 (multidimensional array)** を扱っていきます。  \n",
    "そして多次元配列を用いて行列を表す場合には、`0 列目のすべての値`を抽出するために `[:, 0]` のような記法を用いるケースが登場します。  \n",
    "これは Python 標準の機能ではありませんが、Python 標準のスライス表記を拡張したものになっています。  "
   ]
  },
  {
   "cell_type": "markdown",
   "metadata": {
    "colab_type": "text",
    "id": "AyoiOU5OFfET"
   },
   "source": [
    "リストは数値以外に、文字列を扱うこともでき、また複数の型を同一のリスト内に混在させることもできます。"
   ]
  },
  {
   "cell_type": "code",
   "execution_count": null,
   "metadata": {
    "colab": {},
    "colab_type": "code",
    "id": "9JglgRiWFyo8"
   },
   "outputs": [],
   "source": [
    "# 文字列を格納したリスト\n",
    "array = [\"hello\", \"world\"]\n",
    "array"
   ]
  },
  {
   "cell_type": "code",
   "execution_count": null,
   "metadata": {
    "colab": {},
    "colab_type": "code",
    "id": "Kcf8MyrBv9cu"
   },
   "outputs": [],
   "source": [
    "# 複数の型が混在したリスト\n",
    "array = [1, 1.2, \"C\"]\n",
    "array"
   ]
  },
  {
   "cell_type": "markdown",
   "metadata": {
    "colab_type": "text",
    "id": "9fKT2sjNv9cu"
   },
   "source": [
    "リストにリストを代入することもできます。  \n",
    "また、Python 標準のリストでは入れ子になったリスト内の要素数がばらばらでも問題ありません。  "
   ]
  },
  {
   "cell_type": "code",
   "execution_count": null,
   "metadata": {
    "colab": {},
    "colab_type": "code",
    "id": "Q8JxfHS8v9cv"
   },
   "outputs": [],
   "source": [
    "array = [[1, 1.2, \"C\", True], [3.2, \"Tutorial\"]]\n",
    "array"
   ]
  },
  {
   "cell_type": "markdown",
   "metadata": {
    "colab_type": "text",
    "id": "5lYy-LP6F3wP"
   },
   "source": [
    "リストを使う際に頻出する操作として、**リストへの値の追加**があります。  \n",
    "リスト型には `append()` というメソッドが定義されており、これを用いてリストの末尾に新しい値を追加することができます。  \n",
    "\n",
    "上記の `array` に値を追加してみましょう。  "
   ]
  },
  {
   "cell_type": "code",
   "execution_count": null,
   "metadata": {
    "colab": {},
    "colab_type": "code",
    "id": "RmgtEN8Lv9cw"
   },
   "outputs": [],
   "source": [
    "# 末尾に 2.5 を追加\n",
    "array.append(2.5)"
   ]
  },
  {
   "cell_type": "code",
   "execution_count": null,
   "metadata": {
    "colab": {},
    "colab_type": "code",
    "id": "2E8q5y94v9cx"
   },
   "outputs": [],
   "source": [
    "# 値の確認\n",
    "array"
   ]
  },
  {
   "cell_type": "markdown",
   "metadata": {
    "colab_type": "text",
    "id": "y5dQJA57v9cz"
   },
   "source": [
    "また、**空のリスト**を定義しておき、そこに後段の処理の中で適宜新たな要素を追加していくという使い方があります。"
   ]
  },
  {
   "cell_type": "code",
   "execution_count": null,
   "metadata": {
    "colab": {},
    "colab_type": "code",
    "id": "00AEmnpxGPky"
   },
   "outputs": [],
   "source": [
    "# 空のリストを定義\n",
    "array = []\n",
    "\n",
    "# 空のリストに要素を追加\n",
    "array.append(\"Python\")\n",
    "array.append(\"チュートリアル\")\n",
    "\n",
    "array"
   ]
  },
  {
   "cell_type": "markdown",
   "metadata": {
    "colab_type": "text",
    "id": "CV1072C3M7Qy"
   },
   "source": [
    "### タプル  \n",
    "\n",
    "**タプル (tuple)** はリストと同様に複数の要素をまとめた型ですが、リストとは異なる点として、定義した後に**中の要素を変更できない**という性質を持ちます。  \n",
    "\n",
    "タプルの定義には `( )`を用います。  "
   ]
  },
  {
   "cell_type": "code",
   "execution_count": null,
   "metadata": {
    "colab": {},
    "colab_type": "code",
    "id": "mo4lGZN6NGAI"
   },
   "outputs": [],
   "source": [
    "# タプルを定義\n",
    "array = (4, 5, 6, 7)\n",
    "array"
   ]
  },
  {
   "cell_type": "code",
   "execution_count": null,
   "metadata": {
    "colab": {},
    "colab_type": "code",
    "id": "LEUgknZov9c3"
   },
   "outputs": [],
   "source": [
    "# 型の確認\n",
    "type(array)"
   ]
  },
  {
   "cell_type": "markdown",
   "metadata": {
    "colab_type": "text",
    "id": "9w2M0A02v9c3"
   },
   "source": [
    "タプルの定義する際に `( )` を使用したため、要素へのアクセスも `( )` を使うように感じるかもしれませんが、実際にはリストと同様 `[ ]` を使用します。"
   ]
  },
  {
   "cell_type": "code",
   "execution_count": null,
   "metadata": {
    "colab": {},
    "colab_type": "code",
    "id": "Fq7zIHMfNIXG"
   },
   "outputs": [],
   "source": [
    "# 先頭の要素へアクセス\n",
    "array[0]"
   ]
  },
  {
   "cell_type": "code",
   "execution_count": null,
   "metadata": {
    "colab": {},
    "colab_type": "code",
    "id": "3XdB2S5pv9c4"
   },
   "outputs": [],
   "source": [
    "# リストと同様、スライスも使用可能\n",
    "array[:3]"
   ]
  },
  {
   "cell_type": "markdown",
   "metadata": {
    "colab_type": "text",
    "id": "KjdkYtSmNSl3"
   },
   "source": [
    "先述の通り、タプルは各要素の値を変更することができません。  \n",
    "この性質は、定数項などプログラムの途中で書き換わってしまうことが望ましくないものをまとめて扱うのに便利です。  \n",
    "\n",
    "実際に、タプルの要素に値の書き換えを行うとエラーが発生します。  "
   ]
  },
  {
   "cell_type": "code",
   "execution_count": null,
   "metadata": {
    "colab": {},
    "colab_type": "code",
    "id": "DRoToOjUNI51"
   },
   "outputs": [],
   "source": [
    "# error\n",
    "array[0] = 10"
   ]
  },
  {
   "cell_type": "markdown",
   "metadata": {
    "colab_type": "text",
    "id": "6aq_3yNZv9c6"
   },
   "source": [
    "`tuple` のように中身が変更できない性質のことを**イミュータブル (immutable)** であると言います。  \n",
    "反対に、`list` のように中身が変更できる性質のことを**ミュータブル (mutable)** であると言います。  "
   ]
  },
  {
   "cell_type": "markdown",
   "metadata": {
    "colab_type": "text",
    "id": "nV8Lp5jLNO66"
   },
   "source": [
    "### 辞書\n",
    "\n",
    "リストやタプルでは、複数の値をまとめて扱うことができました。  \n",
    "そこで、定期テストの結果をまとめることを考えてみましょう。  \n",
    "\n",
    "例えば、数学 90 点、理科 75 点、英語 80 点だったという結果を `scores = [90, 75, 80]` とリストで表してみます。  \n",
    "しかし、これでは**何番目がどの教科の点数に対応するか**、一見して分かりにくいと思われます。  \n",
    "\n",
    "Python の `dict` 型は、**キー (key)** とそれに対応する**値 (value)** をセットにして格納することができる型であり、このようなときに便利です。   \n",
    "\n",
    "リストやタプルでは、各要素にアクセスする際に整数のインデックスを用いていましたが、辞書ではキーでインデックス化されているため、整数や文字列など、色々なものを使って要素を指定することができます。  \n",
    "\n",
    "辞書は `{}` を用いて定義し、要素にアクセスする際には、リストやタプルと同様に `[ ]` を使用し、`[ ]` の中にキーを指定して対応する値を取り出します。  "
   ]
  },
  {
   "cell_type": "code",
   "execution_count": null,
   "metadata": {
    "colab": {},
    "colab_type": "code",
    "id": "NyxphI5fNMO8"
   },
   "outputs": [],
   "source": [
    "# 辞書を定義\n",
    "scores = {\"Math\": 90, \"Science\": 75, \"English\": 80 }\n",
    "scores"
   ]
  },
  {
   "cell_type": "code",
   "execution_count": null,
   "metadata": {
    "colab": {},
    "colab_type": "code",
    "id": "M-V2XOEdNu2a"
   },
   "outputs": [],
   "source": [
    "# key が Math の value にアクセス\n",
    "scores[\"Math\"] "
   ]
  },
  {
   "cell_type": "code",
   "execution_count": null,
   "metadata": {
    "colab": {},
    "colab_type": "code",
    "id": "TA5V7SUBv9c8"
   },
   "outputs": [],
   "source": [
    "# key に日本語を使用することも可能\n",
    "scores = {\"数学\": 90, \"理科\": 75, \"英語\": 80}\n",
    "scores"
   ]
  },
  {
   "cell_type": "code",
   "execution_count": null,
   "metadata": {
    "colab": {},
    "colab_type": "code",
    "id": "IL2y81t-v9c9"
   },
   "outputs": [],
   "source": [
    "scores[\"数学\"]"
   ]
  },
  {
   "cell_type": "markdown",
   "metadata": {
    "colab_type": "text",
    "id": "Jd_XpPMqfrSL"
   },
   "source": [
    "他の人が定義した辞書に、**どのようなキーが存在するのか**を調べたいときがあります。  \n",
    "辞書には、そのような場合に使える便利なメソッドがいくつか存在します。  \n",
    "\n",
    "- `keys()`: キーのリストを取得。`dict_keys` というリストと性質が似た型が返る  \n",
    "- `values()`: 値のリストを取得。`dict_values` というリストと性質が似た型が返る  \n",
    "- `items()`: 各要素の `(key, value)` のタプルが並んだリストを取得。`dict_items` というリストと性質が似た型が返る  "
   ]
  },
  {
   "cell_type": "code",
   "execution_count": null,
   "metadata": {
    "colab": {},
    "colab_type": "code",
    "id": "FkJjSlbShKjK"
   },
   "outputs": [],
   "source": [
    "# キーのリスト\n",
    "scores.keys()"
   ]
  },
  {
   "cell_type": "code",
   "execution_count": null,
   "metadata": {
    "colab": {},
    "colab_type": "code",
    "id": "YOAOTDtUhNBz"
   },
   "outputs": [],
   "source": [
    "# 値のリスト\n",
    "scores.values()"
   ]
  },
  {
   "cell_type": "code",
   "execution_count": null,
   "metadata": {
    "colab": {},
    "colab_type": "code",
    "id": "mWA7opwAhVEa"
   },
   "outputs": [],
   "source": [
    "# (キー, 値)というタプルを要素とするリスト\n",
    "scores.items()"
   ]
  },
  {
   "cell_type": "markdown",
   "metadata": {
    "colab_type": "text",
    "id": "I9WEXgSZv9dC"
   },
   "source": [
    "`dict_keys`, `dict_values`, `dict_items` と新しい型が登場しましたが、これは辞書型特有の型であり厳密には標準のリストとは異なりますが、リストと性質の似た型であるという程度の認識で問題ありません。  "
   ]
  },
  {
   "cell_type": "markdown",
   "metadata": {
    "colab_type": "text",
    "id": "qpoTmSY8bTDw"
   },
   "source": [
    "辞書に要素を追加する場合は、新しいキーを指定して値を代入します。  "
   ]
  },
  {
   "cell_type": "code",
   "execution_count": null,
   "metadata": {
    "colab": {},
    "colab_type": "code",
    "id": "nDZ4RRcjnERu"
   },
   "outputs": [],
   "source": [
    "scores[\"国語\"] = 85"
   ]
  },
  {
   "cell_type": "code",
   "execution_count": null,
   "metadata": {
    "colab": {},
    "colab_type": "code",
    "id": "P0HJVZJSnKal"
   },
   "outputs": [],
   "source": [
    "scores"
   ]
  },
  {
   "cell_type": "markdown",
   "metadata": {
    "colab_type": "text",
    "id": "NIC2fwAknPf9"
   },
   "source": [
    "また、既に存在するキーを指定した場合には、値が上書きされます。  "
   ]
  },
  {
   "cell_type": "code",
   "execution_count": null,
   "metadata": {
    "colab": {},
    "colab_type": "code",
    "id": "teLZbAHQnUfN"
   },
   "outputs": [],
   "source": [
    "scores[\"数学\"] = 95"
   ]
  },
  {
   "cell_type": "code",
   "execution_count": null,
   "metadata": {
    "colab": {},
    "colab_type": "code",
    "id": "kQESKoXgnYRN"
   },
   "outputs": [],
   "source": [
    "scores"
   ]
  },
  {
   "cell_type": "markdown",
   "metadata": {
    "colab_type": "text",
    "id": "zTYLayT3qEzA"
   },
   "source": [
    "## 制御構文  \n",
    "\n",
    "複雑なプログラムを記述しようとすると、繰り返しの処理や、条件によって動作を変える処理が必要となります。  \n",
    "これらは**制御構文**を用いて記述します。  \n",
    " \n",
    "ここでは最も基本的な制御構文を 2 つ紹介します。  \n",
    "\n",
    "- 繰り返し (`for`, `while`)  \n",
    "- 条件分岐 (`if`)  \n",
    "\n",
    "Python の制御構文は、**ヘッダ (header)** と **ブロック (block)** と呼ばれる 2 つの部分で構成されています。  \n",
    "これらを合わせて **複合文 (compound statement)** と呼びます。  \n",
    "\n",
    "![ヘッダーとブロック](./pictures/header_block.png)  "
   ]
  },
  {
   "cell_type": "markdown",
   "metadata": {
    "colab_type": "text",
    "id": "ciZc5_PCv9dJ"
   },
   "source": [
    "上図に示すように、制御構文ではヘッダ行に `for` 文や `if-else` 句を記述し、行末に `:` (コロン) を書きます。  \n",
    "\n",
    "次に、ヘッダ行の条件で実行したい一連の処理文を、ブロックとしてその次の行以降に記述していきます。  \n",
    "その際、 **インデント (indent)** と呼ばれる空白文字を先頭に挿入することで、ブロックを表現します。同じ数の空白でインデントされた文がブロックとみなされます。  \n",
    "\n",
    "Python では、インデントとして**スペース 4 つ**を用いることが推奨されています。  "
   ]
  },
  {
   "cell_type": "markdown",
   "metadata": {
    "colab_type": "text",
    "id": "oELnTpERNwCQ"
   },
   "source": [
    "### 繰り返し (for 文)  \n",
    "\n",
    "同じ内容のメールを宛名だけ個別に変えて、1000 人に一斉送信したい場合など、繰り返す処理を記述する制御構文である `for` を使います。  \n",
    "\n",
    "![for文](./pictures/for.png)  "
   ]
  },
  {
   "cell_type": "markdown",
   "metadata": {
    "colab_type": "text",
    "id": "_-50XwKOv9dJ"
   },
   "source": [
    "`for` 文の文法は上図のとおりです。  \n",
    "\n",
    "**イテラブルオブジェクト (iterable object)** とは、繰り返し可能なオブジェクトのことであり、内包する要素を一度に 1 つずつ返せるオブジェクトのことを指します。  \n",
    "\n",
    "例えば、`range()` という組み込み関数を使うと、引数に与えた整数の回数だけ順番に整数を返すイテラブルオブジェクトを作ることができます。  \n",
    "`range(5)` と書くと、`0`, `1`, `2`, `3`, `4` という整数 5 つを順番に返すイテラブルオブジェクトになります。  \n",
    "\n",
    "後述しますが、このイテラブルオブジェクトとして、リストやタプルも指定することができます。  "
   ]
  },
  {
   "cell_type": "code",
   "execution_count": null,
   "metadata": {
    "colab": {},
    "colab_type": "code",
    "id": "f7Y4APgkON_7"
   },
   "outputs": [],
   "source": [
    "# 5回繰り返す\n",
    "for i in range(5):\n",
    "    print(i)"
   ]
  },
  {
   "cell_type": "markdown",
   "metadata": {
    "colab_type": "text",
    "id": "oLpTgIv4OPnt"
   },
   "source": [
    "上記の例では、イテラブルオブジェクトが1 つずつ返す値を変数 `i` で受け取っています。  \n",
    "最初は `i = 0` から始まっていることに注意してください。  \n",
    "最後の値も、`5` ではなく `4` となっています。  \n",
    "このように、`range()` に 1 つの整数 `n` を与えた場合は、`0` から `n-1` まで `1` ずつ増えていく整数を順番に返します。  "
   ]
  },
  {
   "cell_type": "code",
   "execution_count": null,
   "metadata": {
    "colab": {},
    "colab_type": "code",
    "id": "SUTjSLuKv9dK"
   },
   "outputs": [],
   "source": [
    "# 繰り返し処理が終わった後の値の確認\n",
    "i"
   ]
  },
  {
   "cell_type": "markdown",
   "metadata": {
    "colab_type": "text",
    "id": "4sMmj2Ewv9dL"
   },
   "source": [
    "Jupyter Notebook では変数名をコードセルの最後の行に書いて実行するとその変数に代入されている値を確認できましたが、for 文の中のブロックでは明示的に `print()` を使う必要があります。  \n",
    "`print()` を用いないと、以下のように何も表示されません。  "
   ]
  },
  {
   "cell_type": "code",
   "execution_count": null,
   "metadata": {
    "colab": {},
    "colab_type": "code",
    "id": "2SlR9vcGv9dL"
   },
   "outputs": [],
   "source": [
    "# 変数の値は表示されない\n",
    "for i in range(5):\n",
    "    i"
   ]
  },
  {
   "cell_type": "markdown",
   "metadata": {
    "colab_type": "text",
    "id": "tEczQdb9v9dM"
   },
   "source": [
    "for 文を使って、0 から始まって 1 ずつ大きくなっていく整数順番に取得し、これをリストのインデックスに利用すれば、リストの各要素に順番にアクセスすることができます。  "
   ]
  },
  {
   "cell_type": "code",
   "execution_count": null,
   "metadata": {
    "colab": {},
    "colab_type": "code",
    "id": "b6XXuQ_gOnxk"
   },
   "outputs": [],
   "source": [
    "names = [\"佐藤\", \"鈴木\", \"高橋\"]\n",
    "\n",
    "for i in range(3):\n",
    "    print(names[i])"
   ]
  },
  {
   "cell_type": "markdown",
   "metadata": {
    "colab_type": "text",
    "id": "ci6hVBb-v9dN"
   },
   "source": [
    "少し応用して、自動的に敬称をつけて表示してみましょう。  "
   ]
  },
  {
   "cell_type": "code",
   "execution_count": null,
   "metadata": {
    "colab": {},
    "colab_type": "code",
    "id": "B24Fyoe9v9dN"
   },
   "outputs": [],
   "source": [
    "for i in range(3):\n",
    "    print(\"{}さん\".format(names[i]))"
   ]
  },
  {
   "cell_type": "markdown",
   "metadata": {
    "colab_type": "text",
    "id": "msGhS1ISv9dN"
   },
   "source": [
    "つぎに、さらに汎用性の高いプログラムを目指します。  \n",
    "\n",
    "上記のコードに関して、汎用性が低い点として、`range(3)` のように `3` という値を直接記述していることが挙げられます。  \n",
    "この `3` はリストの要素の数を意味していますが、リストの要素の数が変わると、このプログラムも書き換える必要があり、手間がかかったり、ミスが発生する原因となったりします。  \n",
    "\n",
    "リスト内の要素の数は、組み込み関数である `len()` を用いて取得できるため、これを使用した汎用性の高いプログラムに書き換えましょう。  "
   ]
  },
  {
   "cell_type": "code",
   "execution_count": null,
   "metadata": {
    "colab": {},
    "colab_type": "code",
    "id": "e4gbC4CIOzve"
   },
   "outputs": [],
   "source": [
    "len(names)"
   ]
  },
  {
   "cell_type": "code",
   "execution_count": null,
   "metadata": {
    "colab": {},
    "colab_type": "code",
    "id": "4i21QYMwPB1C"
   },
   "outputs": [],
   "source": [
    "for i in range(len(names)):\n",
    "    print(\"{}さん\".format(names[i]))"
   ]
  },
  {
   "cell_type": "markdown",
   "metadata": {
    "colab_type": "text",
    "id": "9wx-qJovPEC0"
   },
   "source": [
    "これでリストの要素数に依存しないプログラムにすることができました。   "
   ]
  },
  {
   "cell_type": "markdown",
   "metadata": {
    "colab_type": "text",
    "id": "KIO9gkUnv9dR"
   },
   "source": [
    "また、リスト自体をイテラブルオブジェクトとして指定することにより、リスト要素数の取得も `[]` でのインデックス番号の指定もせずに、より可読性の高いプログラムを書くことができます。  "
   ]
  },
  {
   "cell_type": "code",
   "execution_count": null,
   "metadata": {
    "colab": {},
    "colab_type": "code",
    "id": "EDqeGWucv9dR"
   },
   "outputs": [],
   "source": [
    "# リストをイテラブルオブジェクトに指定\n",
    "for name in names:\n",
    "    print(\"{}さん\".format(name))"
   ]
  },
  {
   "cell_type": "markdown",
   "metadata": {
    "colab_type": "text",
    "id": "iWEhrw_9v9dS"
   },
   "source": [
    "最初のケースと比べていかがでしょうか。  \n",
    "動作としては変わりがありませんが、可読性という観点も重要です。  "
   ]
  },
  {
   "cell_type": "markdown",
   "metadata": {
    "colab_type": "text",
    "id": "eeTHJ3hzPW7U"
   },
   "source": [
    "リストをイテラブルオブジェクトとして指定した場合、要素番号を取得できませんが、状況によっては要素番号を使用したいことがあります。  \n",
    "\n",
    "そのような場合は、`enumerate()` という組み込み関数を使います。  \n",
    "これにイテラブルオブジェクトを渡すと、`(要素番号, 要素)` というタプルを 1 つずつ返すイテラブルオブジェクトになります。  "
   ]
  },
  {
   "cell_type": "code",
   "execution_count": null,
   "metadata": {
    "colab": {},
    "colab_type": "code",
    "id": "8dT-qUhGv9dT"
   },
   "outputs": [],
   "source": [
    "for i, name in enumerate(names):\n",
    "    message = \"{}番目: {}さん\".format(i, name)\n",
    "    print(message)"
   ]
  },
  {
   "cell_type": "markdown",
   "metadata": {
    "colab_type": "text",
    "id": "wGwCa9wmP2r4"
   },
   "source": [
    "`enumerate()` と同様、`for` 文と合わせてよく使う組み込み関数に `zip()` があります。  \n",
    "\n",
    "`zip()` は、複数のイテラブルオブジェクトを受け取り、その要素のペアを順番に返すイテラブルオブジェクトを作ります。  \n",
    "このイテラブルオブジェクトは、渡されたイテラブルオブジェクトそれぞれの先頭の要素から順番に、タプルに束ねて返します。  \n",
    "このイテラブルオブジェクトの長さは、渡されたイテラブルオブジェクトのうち最も短い長さと一致します。  "
   ]
  },
  {
   "cell_type": "code",
   "execution_count": null,
   "metadata": {
    "colab": {},
    "colab_type": "code",
    "id": "5w8huhHcQR8F"
   },
   "outputs": [],
   "source": [
    "names = [\"Python\", \"Sansaku\"]\n",
    "versions = [\"3.7\", \"60\"]\n",
    "suffixes = [\"!!\", \"!!\", \"?\"]\n",
    "\n",
    "for name, version, suffix in zip(names, versions, suffixes):\n",
    "    print(\"{} {} {}\".format(name, version, suffix))"
   ]
  },
  {
   "cell_type": "markdown",
   "metadata": {
    "colab_type": "text",
    "id": "IeQCA00UQYDq"
   },
   "source": [
    "`suffixes` の要素数は 3 ですが、より短いイテラブルオブジェクトと共に `zip` に渡されたため、先頭から 2 つ目までしか値が取り出されていません。  "
   ]
  },
  {
   "cell_type": "markdown",
   "metadata": {
    "colab_type": "text",
    "id": "WguFiYgqQnQT"
   },
   "source": [
    "### 条件分岐 (if 文)  \n",
    "\n",
    "`if` は、指定した条件が `True` か `False` かによって、処理を変えるための制御構文です。  \n",
    "\n",
    "![if文](./pictures/if.png)  "
   ]
  },
  {
   "cell_type": "markdown",
   "metadata": {
    "colab_type": "text",
    "id": "J-Z8g-Klv9dV"
   },
   "source": [
    "`elif` と `else` は任意であり、`elif` は 1 つだけでなく複数連ねることができます。  \n",
    "\n",
    "例えば、0 より大きいことを条件とした処理を書いてみます。  "
   ]
  },
  {
   "cell_type": "code",
   "execution_count": null,
   "metadata": {
    "colab": {},
    "colab_type": "code",
    "id": "E-x_6gXwSsm7"
   },
   "outputs": [],
   "source": [
    "# if の条件を満たす場合\n",
    "a = 1\n",
    "\n",
    "if a > 0:\n",
    "    print(\"0より大きいです\")\n",
    "else:\n",
    "    print(\"0以下です\")"
   ]
  },
  {
   "cell_type": "code",
   "execution_count": null,
   "metadata": {
    "colab": {},
    "colab_type": "code",
    "id": "BmcHf-w5v9dV"
   },
   "outputs": [],
   "source": [
    "# if の条件を満たさない場合\n",
    "a = -1\n",
    "\n",
    "if a > 0:\n",
    "    print(\"0より大きいです\")\n",
    "else:\n",
    "    print(\"0以下です\")"
   ]
  },
  {
   "cell_type": "markdown",
   "metadata": {
    "colab_type": "text",
    "id": "u0F8tX6FStcQ"
   },
   "source": [
    "また、`if` に対する条件以外の条件分岐を追加する場合は、下記のように `elif` を使います。  "
   ]
  },
  {
   "cell_type": "code",
   "execution_count": null,
   "metadata": {
    "colab": {},
    "colab_type": "code",
    "id": "6li0UyjpStjg"
   },
   "outputs": [],
   "source": [
    "a = 0\n",
    "\n",
    "if a > 0:    \n",
    "    print(\"0より大きいです\")\n",
    "elif a == 0:\n",
    "    print(\"０です\")\n",
    "else:\n",
    "    print(\"0より小さいです\")"
   ]
  },
  {
   "cell_type": "markdown",
   "metadata": {
    "colab_type": "text",
    "id": "tZ15Hv9Gv9dY"
   },
   "source": [
    "### 繰り返し (while 文)  \n",
    "\n",
    "繰り返し処理は、`for` 以外にも `while` を用いて記述することもできます。  \n",
    "`while` 文では、以下のように**ループを継続する条件**を指定します。  \n",
    "指定された条件文が `True` である限り、ブロックの部分に記述された処理が繰り返し実行されます。  \n",
    "\n",
    "![while文](./pictures/while.png)  "
   ]
  },
  {
   "cell_type": "markdown",
   "metadata": {
    "colab_type": "text",
    "id": "Zjv8d3Rmv9dZ"
   },
   "source": [
    "`while` 文を使用した 3 回繰り返すプログラムは下記のとおりです。  "
   ]
  },
  {
   "cell_type": "code",
   "execution_count": null,
   "metadata": {
    "colab": {},
    "colab_type": "code",
    "id": "aFhfzaDFv9dZ"
   },
   "outputs": [],
   "source": [
    "count = 0\n",
    "\n",
    "while count < 3:\n",
    "    print(count)\n",
    "    count += 1"
   ]
  },
  {
   "cell_type": "markdown",
   "metadata": {
    "colab_type": "text",
    "id": "1Q3QReThv9da"
   },
   "source": [
    "ここで使われている `count` という変数は、ループの中身が何回実行されたかを数えるために使われています。  \n",
    "まず `0` で初期化し、ループ内の処理が一度行われるたびに `count` の値に 1 を足しています。  \n",
    "この `count` を使った条件式を `while` 文に与えることで、ループを回したい回数を指定しています。  \n",
    "\n",
    "一方、`while True` と指定すると、`True` は変数ではなく値なので、変更されることはなく、ループは無限に回り続けます。  \n",
    "`while` 文自体は無限ループの状態にしておき、ループの中で `if` 文を使って、ある条件が満たされた場合はループを中断する、という使い方ができます。  \n",
    "これには `break` 文が用いられます。  \n",
    "\n",
    "以下は、`break` 文を使って上のコードと同様に 3 回ループを回すコードです。  "
   ]
  },
  {
   "cell_type": "code",
   "execution_count": null,
   "metadata": {
    "colab": {},
    "colab_type": "code",
    "id": "wj65vycFv9da"
   },
   "outputs": [],
   "source": [
    "count = 0\n",
    "\n",
    "while True:    \n",
    "    if count == 3:\n",
    "        break        \n",
    "    print(count)\n",
    "    count += 1"
   ]
  },
  {
   "cell_type": "markdown",
   "metadata": {
    "colab_type": "text",
    "id": "AQFnBfgEv9da"
   },
   "source": [
    "`count` の値が 3 と等しいかどうかが毎回チェックされ、等しくなっていれば `break` 文が実行されて `while` ループが終了します。  "
   ]
  },
  {
   "cell_type": "markdown",
   "metadata": {},
   "source": [
    "`continue` 文を使用すると、それ以降のブロックの処理をスキップし、次のループに処理が移ります。  \n",
    "以下は、`continue` 文を使って 10 以下の奇数 (2 で割った余りが 0 でない) ものを出力します。  "
   ]
  },
  {
   "cell_type": "code",
   "execution_count": null,
   "metadata": {},
   "outputs": [],
   "source": [
    "count = 0\n",
    "\n",
    "while count <= 10:            \n",
    "    if count % 2 == 0:\n",
    "        count += 1\n",
    "        continue\n",
    "    print(count)\n",
    "    count += 1"
   ]
  },
  {
   "cell_type": "markdown",
   "metadata": {
    "colab_type": "text",
    "id": "2rtEn2APv9db"
   },
   "source": [
    "`while` 文を使って、指定された条件を満たして**いない**間ループを繰り返すという処理も書くことができます。  \n",
    "`while` 文自体の使い方は同じですが、条件を反転して与えることで、与えた条件が `False` である間繰り返されるようにすることができます。  \n",
    "\n",
    "これには、ブール値を反転する `not` を用います。  \n",
    "`not True` は `False` を返し、`not False` は `True` を返します。  "
   ]
  },
  {
   "cell_type": "code",
   "execution_count": null,
   "metadata": {
    "colab": {},
    "colab_type": "code",
    "id": "0PucNNA0v9db"
   },
   "outputs": [],
   "source": [
    "not True"
   ]
  },
  {
   "cell_type": "code",
   "execution_count": null,
   "metadata": {
    "colab": {},
    "colab_type": "code",
    "id": "9iX7JkEOv9db"
   },
   "outputs": [],
   "source": [
    "not False"
   ]
  },
  {
   "cell_type": "code",
   "execution_count": null,
   "metadata": {
    "colab": {},
    "colab_type": "code",
    "id": "TkSUZ1iZv9dc"
   },
   "outputs": [],
   "source": [
    "not 1 == 2"
   ]
  },
  {
   "cell_type": "markdown",
   "metadata": {
    "colab_type": "text",
    "id": "0aM2yZ7qv9dd"
   },
   "source": [
    "このように、`not` はあとに続くブール値を反転します。  \n",
    "これを用いて、`count` が 3 **ではない**限りループを繰り返すというコードを `while` 文を使って書いてみましょう。  "
   ]
  },
  {
   "cell_type": "code",
   "execution_count": null,
   "metadata": {
    "colab": {},
    "colab_type": "code",
    "id": "vhvBNYCXv9dd"
   },
   "outputs": [],
   "source": [
    "count = 0\n",
    "\n",
    "while not count == 3:\n",
    "    print(count)\n",
    "    count += 1"
   ]
  },
  {
   "cell_type": "markdown",
   "metadata": {
    "colab_type": "text",
    "id": "e96zsBv7IfDn"
   },
   "source": [
    "## 関数  \n",
    "\n",
    "何かひとまとまりの処理を書いた際には、その処理のためのコードをまとめて、プログラム全体の色々な箇所から再利用できるようにしておくと、便利な場合があります。  \n",
    "ここでは、処理をひとまとめにする方法の一つとして**関数 (function)** を定義する方法を紹介します。  "
   ]
  },
  {
   "cell_type": "markdown",
   "metadata": {
    "colab_type": "text",
    "id": "RCB98_8xv9df"
   },
   "source": [
    "### 関数を定義する  \n",
    "\n",
    "![関数の定義](./pictures/def.png)  \n",
    "\n",
    "例えば、**受け取った値を 2 倍して表示する関数**を作ってみましょう。  \n",
    "\n",
    "関数を定義するには、まず名前を決める必要があります。  \n",
    "今回は `double()` という名前の関数を定義してみます。  \n",
    "\n",
    "関数も制御構文と同じく**ヘッダー**と**ブロック**を持っています。  "
   ]
  },
  {
   "cell_type": "code",
   "execution_count": null,
   "metadata": {
    "colab": {},
    "colab_type": "code",
    "id": "iDh3Mpi_IfDp"
   },
   "outputs": [],
   "source": [
    "# 関数 double() の定義\n",
    "def double(x):\n",
    "    print(2 * x)"
   ]
  },
  {
   "cell_type": "markdown",
   "metadata": {
    "colab_type": "text",
    "id": "yG-qN405v9dg"
   },
   "source": [
    "**関数は定義されただけでは実行されません。**  \n",
    "定義した関数を使用するためには、定義を行うコードとは別に、実行を行うコードが必要です。  "
   ]
  },
  {
   "cell_type": "code",
   "execution_count": null,
   "metadata": {
    "colab": {},
    "colab_type": "code",
    "id": "6QUecRiUv9dg"
   },
   "outputs": [],
   "source": [
    "# 関数の実行\n",
    "double(3)"
   ]
  },
  {
   "cell_type": "code",
   "execution_count": null,
   "metadata": {
    "colab": {},
    "colab_type": "code",
    "id": "dR7DqN2fv9dh"
   },
   "outputs": [],
   "source": [
    "double(5)"
   ]
  },
  {
   "cell_type": "code",
   "execution_count": null,
   "metadata": {
    "colab": {},
    "colab_type": "code",
    "id": "wjStuxcBv9di"
   },
   "outputs": [],
   "source": [
    "double(1.5)"
   ]
  },
  {
   "cell_type": "markdown",
   "metadata": {
    "colab_type": "text",
    "id": "CRggp-QcIfDs"
   },
   "source": [
    "`double(x)` における `x` のように、関数に渡される変数や値のことを**引数 (argument)** といいます。  \n",
    "上の例は、名前が `double` で、1つの引数 `x` をとり、`2 * x` という計算を行い、その結果を表示しています。  "
   ]
  },
  {
   "cell_type": "markdown",
   "metadata": {
    "colab_type": "text",
    "id": "VDqeEdX5v9dj"
   },
   "source": [
    "### 複数の引数をとる関数  \n",
    "\n",
    "複数の引数をとる関数を定義する場合は、関数名に続く `()` の中に、カンマ `,` 区切りで引数名を並べます。  \n",
    "\n",
    "例えば、引数を 2 つとり、足し算を行う関数 `add()` を作ってみましょう。  "
   ]
  },
  {
   "cell_type": "code",
   "execution_count": null,
   "metadata": {
    "colab": {},
    "colab_type": "code",
    "id": "ARE2LU8Qv9dl"
   },
   "outputs": [],
   "source": [
    "# 関数の定義\n",
    "def add(a, b):\n",
    "    print(a + b)"
   ]
  },
  {
   "cell_type": "code",
   "execution_count": null,
   "metadata": {
    "colab": {},
    "colab_type": "code",
    "id": "Zte-_M1-v9dl"
   },
   "outputs": [],
   "source": [
    "# 関数の実行\n",
    "add(1, 2)"
   ]
  },
  {
   "cell_type": "code",
   "execution_count": null,
   "metadata": {
    "colab": {},
    "colab_type": "code",
    "id": "7HUAVoGhv9dm"
   },
   "outputs": [],
   "source": [
    "add(3, 2.5)"
   ]
  },
  {
   "cell_type": "code",
   "execution_count": null,
   "metadata": {
    "colab": {},
    "colab_type": "code",
    "id": "IjMBFjvmv9dm"
   },
   "outputs": [],
   "source": [
    "add(1, -5)"
   ]
  },
  {
   "cell_type": "markdown",
   "metadata": {
    "colab_type": "text",
    "id": "A8XpuE_av9dn"
   },
   "source": [
    "### 引数をとらない関数  \n",
    "\n",
    "引数をとらない関数を定義する場合でも、関数名の後に `()` を加える必要があります。  \n",
    "\n",
    "例えば、実行するとメッセージを表示する関数を定義して、実行してみましょう。  "
   ]
  },
  {
   "cell_type": "code",
   "execution_count": null,
   "metadata": {
    "colab": {},
    "colab_type": "code",
    "id": "z2Xej00Bv9dn"
   },
   "outputs": [],
   "source": [
    "# 引数のない関数の定義\n",
    "def hello():\n",
    "    print(\"Python チュートリアルにようこそ!\")"
   ]
  },
  {
   "cell_type": "code",
   "execution_count": null,
   "metadata": {
    "colab": {},
    "colab_type": "code",
    "id": "peShhHg2v9dn"
   },
   "outputs": [],
   "source": [
    "# 引数のない関数の実行\n",
    "hello()"
   ]
  },
  {
   "cell_type": "markdown",
   "metadata": {
    "colab_type": "text",
    "id": "BZGSKTbcv9do"
   },
   "source": [
    "### 引数のデフォルト値  \n",
    "\n",
    "引数には、あらかじめ値を与えておくことができます。  \n",
    "これは、引数をとる関数を定義する際に、何も引数に値が渡されなかったときにどのような値がその引数に渡されたことにするかをあらかじめ決めておける機能で、その値のことを**デフォルト値**と呼びます。  \n",
    "\n",
    "例えば、上の `hello()` という関数に、`message` という引数をもたせ、そこにデフォルト値を設定しておきます。  "
   ]
  },
  {
   "cell_type": "code",
   "execution_count": null,
   "metadata": {
    "colab": {},
    "colab_type": "code",
    "id": "uw2d8qDov9do"
   },
   "outputs": [],
   "source": [
    "def hello(message=\"Python チュートリアルにようこそ!\"):\n",
    "    print(message)"
   ]
  },
  {
   "cell_type": "markdown",
   "metadata": {
    "colab_type": "text",
    "id": "7i8TQcfzv9do"
   },
   "source": [
    "この関数は引数に何も与えずに呼び出すと、「Pythonチュートリアルにようこそ!」というメッセージを表示し、引数に別な値が渡されると、その値を表示します。  "
   ]
  },
  {
   "cell_type": "code",
   "execution_count": null,
   "metadata": {
    "colab": {},
    "colab_type": "code",
    "id": "Fh4VEHmMv9dp"
   },
   "outputs": [],
   "source": [
    "hello()"
   ]
  },
  {
   "cell_type": "code",
   "execution_count": null,
   "metadata": {
    "colab": {},
    "colab_type": "code",
    "id": "p2g-ULOWv9dp"
   },
   "outputs": [],
   "source": [
    "hello(\"Welcome to SPC!\")"
   ]
  },
  {
   "cell_type": "markdown",
   "metadata": {
    "colab_type": "text",
    "id": "GWhAbt3ov9dq"
   },
   "source": [
    "デフォルト値が与えられていない引数は、関数呼び出しの際に必ず何らかの値が渡される必要がありますが、デフォルト値を持つ場合は、何も指定しなくても関数を呼び出すことができるようになります。  "
   ]
  },
  {
   "cell_type": "markdown",
   "metadata": {
    "colab_type": "text",
    "id": "DpwRYy4ov9dq"
   },
   "source": [
    "### 返り値のある関数  \n",
    "\n",
    "上で定義した足し算を行う関数 `add()` では、計算結果を表示するだけで、計算結果を呼び出し元に戻していませんでした。  \n",
    "そのため、このままでは計算結果を関数の外から利用することができません。  \n",
    "\n",
    "そこで、`add()` 関数の末尾に `return` 文を追加して、計算結果を呼び出し元に返すように変更してみましょう。  "
   ]
  },
  {
   "cell_type": "code",
   "execution_count": null,
   "metadata": {
    "colab": {},
    "colab_type": "code",
    "id": "ZCtzpxG1v9dq"
   },
   "outputs": [],
   "source": [
    "# 返り値のある関数の定義\n",
    "def add(a, b):\n",
    "    return a + b"
   ]
  },
  {
   "cell_type": "markdown",
   "metadata": {
    "colab_type": "text",
    "id": "M9c1_e-sv9dr"
   },
   "source": [
    "このように、呼び出し元に返したい値を `return` に続いて書くと、その値が `add()` 関数を呼び出したところへ戻されます。  \n",
    "`return` で返される値のことを**返り値 (return value)** と言います。  \n",
    "\n",
    "以下に、計算結果を `result` という変数に格納し、表示する例を示します。  "
   ]
  },
  {
   "cell_type": "code",
   "execution_count": null,
   "metadata": {
    "colab": {},
    "colab_type": "code",
    "id": "RPJnjuL5v9dr"
   },
   "outputs": [],
   "source": [
    "result = add(1, 3)\n",
    "\n",
    "result"
   ]
  },
  {
   "cell_type": "markdown",
   "metadata": {
    "colab_type": "text",
    "id": "tagr61vUv9ds"
   },
   "source": [
    "計算結果が `result` に格納されているので、この結果を用いてさらに別の処理を行うことができます。  "
   ]
  },
  {
   "cell_type": "code",
   "execution_count": null,
   "metadata": {
    "colab": {},
    "colab_type": "code",
    "id": "Qe8Enb6Ev9ds"
   },
   "outputs": [],
   "source": [
    "result = add(1, 3)\n",
    "\n",
    "result_doubled = result * 2\n",
    "\n",
    "result_doubled"
   ]
  },
  {
   "cell_type": "markdown",
   "metadata": {
    "colab_type": "text",
    "id": "fP4OdcI-v9ds"
   },
   "source": [
    "また、返り値は「呼び出し元」に返されると書きました。  \n",
    "この「呼び出し元」というのは、関数を呼び出す部分のことで、上のコードは `add(1, 3)` の部分が `4` という結果の値になり、それが左辺の `result` に代入されています。  \n",
    "\n",
    "これを用いると、例えば「2 と 3 を足した結果と、1 と 3 を足した結果を、掛け合わせる」という計算が、以下のように書けます。  "
   ]
  },
  {
   "cell_type": "code",
   "execution_count": null,
   "metadata": {
    "colab": {},
    "colab_type": "code",
    "id": "gs0hBjg6v9ds"
   },
   "outputs": [],
   "source": [
    "add(2, 3) * add(1, 3)"
   ]
  },
  {
   "cell_type": "markdown",
   "metadata": {
    "colab_type": "text",
    "id": "BJnkcc_Qv9dt"
   },
   "source": [
    "### 変数のスコープ  \n",
    "\n",
    "関数の中で定義した変数は基本的には関数の外では利用できません。  \n",
    "例えば、以下の例を見てみましょう。  "
   ]
  },
  {
   "cell_type": "code",
   "execution_count": null,
   "metadata": {
    "colab": {},
    "colab_type": "code",
    "id": "L8vtxEV7v9dt"
   },
   "outputs": [],
   "source": [
    "a = 1\n",
    "\n",
    "# 関数の内部で a に 2 を代入\n",
    "def change():\n",
    "    a = 2\n",
    "    \n",
    "change()\n",
    "a"
   ]
  },
  {
   "cell_type": "markdown",
   "metadata": {
    "colab_type": "text",
    "id": "Z9slKEKXv9du"
   },
   "source": [
    "関数の外で `a = 1` と初期化した変数と同じ名前の変数に対して、`change()` 関数の内部で `a = 2` という代入を行っているにもかかわらず、  \n",
    "`change()` 関数の実行後にも関数の外側では `a` の値は 1 のままになっています。  \n",
    "**関数の外側で定義された変数** `a` **に、関数内部での処理が影響していないことがわかります。**  \n",
    "\n",
    "なぜこうなるかというと、関数の中で変数に値が代入されるとき、その変数はその関数の**スコープ (scope)** でだけ有効な**ローカル変数**になり、  \n",
    "関数の外にある同じ名前の変数とは別のものを指すようになるためです。  \n",
    "スコープとは、その変数が参照可能な範囲のことです。 \n",
    "\n",
    "上の例では、`a = 2` の代入を行った時点で`change()` 関数のスコープに `a` という変数が作られ、`change()` 関数の中からは `a` といえばこれを指すようになります。  \n",
    "関数から抜けると、`a` は 1 を値に持つ外側の変数を指すようになります。  \n",
    "\n",
    "ただし、代入を行わずに、参照するだけであれば、関数の内側から外側で定義された変数を利用することができます。  "
   ]
  },
  {
   "cell_type": "code",
   "execution_count": null,
   "metadata": {
    "colab": {},
    "colab_type": "code",
    "id": "XgGcEUSQv9du"
   },
   "outputs": [],
   "source": [
    "a = 1\n",
    "\n",
    "def change():\n",
    "    print(\"From inside:\", a)\n",
    "    \n",
    "change()\n",
    "print(\"From outside:\", a)"
   ]
  },
  {
   "cell_type": "markdown",
   "metadata": {
    "colab_type": "text",
    "id": "vAHe5xDGv9dv"
   },
   "source": [
    "この場合は、`change()` 関数のスコープには `a` という変数は作られないので、関数の中で `a` といえば外側で定義された変数を指します。  \n",
    "\n",
    "関数の外で定義された変数は**グローバル変数**と呼ばれます。  \n",
    "グローバル変数は、特に特別な記述を要せず参照することはできますが、関数の中で**代入**を行う場合は、`global` 文を使って、代入先をグローバル変数とする宣言を行う必要があります。  "
   ]
  },
  {
   "cell_type": "code",
   "execution_count": null,
   "metadata": {
    "colab": {},
    "colab_type": "code",
    "id": "D1uNClamv9dv"
   },
   "outputs": [],
   "source": [
    "a = 1\n",
    "\n",
    "def change():\n",
    "    global a  # a をグローバル変数である宣言\n",
    "    a = 2       # グローバル変数への代入\n",
    "\n",
    "# 関数の実行\n",
    "change()\n",
    "\n",
    "# 結果の確認 <- a の値が上書きされている\n",
    "a"
   ]
  },
  {
   "cell_type": "markdown",
   "metadata": {
    "colab_type": "text",
    "id": "MSTyBWulv9dv"
   },
   "source": [
    "`global a` という行を `change()` 関数内で `a` という変数を使用する前に追加すると、その行以降は `a` という変数への代入も関数の外側で定義されたグローバル変数の `a` に対して行われます。  "
   ]
  },
  {
   "cell_type": "markdown",
   "metadata": {
    "colab_type": "text",
    "id": "w8B9S7NbYW98"
   },
   "source": [
    "## モジュールのインポート  \n",
    "\n",
    "ここまでは Python の持つ基本的な機能を説明してきましたが、様々な団体・個人が開発した**モジュール**を利用することで、さらに多くの機能を利用することができます。  \n",
    "\n",
    "モジュールを使うためには、  \n",
    "\n",
    "1. モジュールを自分のコンピュータにインストールする (Pythonと同時にインストールされるものもある)  \n",
    "1. 処理のはじめにモジュールを**インポート**する  \n",
    "\n",
    "という手順を踏む必要があります。  "
   ]
  },
  {
   "cell_type": "markdown",
   "metadata": {
    "colab_type": "text",
    "id": "WUpD8HzkaqC-"
   },
   "source": [
    "よく使用されるモジュールとしては、  \n",
    "\n",
    "モジュール名|主な機能・用途  \n",
    "-|-\n",
    "NumPy|数学関数や高速な行列計算機能を提供\n",
    "Pandas|表型式のデータの加工\n",
    "Matplotlib|データのグラフ化\n",
    "Scikit-learn|機械学習によるデータ分析\n",
    "\n",
    "などがあります。  \n",
    "\n",
    "モジュールのインポートは、  \n",
    "\n",
    "```python\n",
    "import モジュール名\n",
    "```\n",
    "もしくは、\n",
    "```python\n",
    "import モジュール名 as 別名\n",
    "```\n",
    "\n",
    "のように記述します。ここでは NumPy をインポートして、その機能を少し利用してみましょう。  "
   ]
  },
  {
   "cell_type": "code",
   "execution_count": null,
   "metadata": {
    "colab": {},
    "colab_type": "code",
    "id": "muDMqm_7dGSA"
   },
   "outputs": [],
   "source": [
    "# NumPyを \"np\" という別名でインポート\n",
    "# モジュール名を指定するときは、必ずすべて小文字の \"numpy\"\n",
    "import numpy as np\n",
    "\n",
    "x = np.abs(-235) # NumPy の abs() 関数で、引数の絶対値を得る\n",
    "x"
   ]
  },
  {
   "cell_type": "markdown",
   "metadata": {
    "colab_type": "text",
    "id": "66noBYcedEYx"
   },
   "source": [
    "ここでは、\n",
    "\n",
    "```python\n",
    "import numpy as np\n",
    "```\n",
    "\n",
    "としましたが、 `as np` を省略してもインポートすることができます。  \n",
    "そのようにインポートした場合は、`numpy.abs(-235)` のようにモジュールの正式名.関数()とコードする必要があります。\n",
    "\n",
    "また、\n",
    "\n",
    "```python\n",
    "from モジュール名 import モジュールで定義された関数やクラスの名前\n",
    "```\n",
    "\n",
    "のように記述すると、`import` 以下で指定した関数やクラスだけをインポートすることもできます。"
   ]
  },
  {
   "cell_type": "markdown",
   "metadata": {
    "colab_type": "text",
    "id": "mIPsXEy0v9d9"
   },
   "source": [
    "以上で、Python の基本についての解説を終了します。  \n",
    "Python には他にもここでは紹介されていない多くの特徴や機能があります。  \n",
    "さらに詳しく学びたい方は、[Pythonチュートリアル](https://docs.python.org/ja/3/tutorial/index.html) などを参照してください。  "
   ]
  },
  {
   "cell_type": "markdown",
   "metadata": {},
   "source": [
    "## ファイルの入出力  "
   ]
  },
  {
   "cell_type": "markdown",
   "metadata": {},
   "source": [
    "### ファイルからの入力 (読み込み)  "
   ]
  },
  {
   "cell_type": "code",
   "execution_count": null,
   "metadata": {},
   "outputs": [],
   "source": [
    "# 開く対象のファイルはこの Notebook ファイルと同じディレクトリにある\n",
    "# sample フォルダの中にある sample.txt というファイル。\n",
    "# 相対パスで指定する。\n",
    "file_path_to_read = r\"./sample/sample_r.txt\"\n",
    "\n",
    "# ファイルを読み込み (\"r\"ead) モード、utf-8 のエンコード方式で開く。\n",
    "file = open(file_path_to_read, mode=\"r\", encoding=\"utf8\")\n",
    "\n",
    "# 1 行ずつ読んで表示させる。\n",
    "text_to_read_1 = file.readline()\n",
    "print(text_to_read_1)\n",
    "\n",
    "text_to_read_2 = file.readline()\n",
    "print(text_to_read_2)\n",
    "\n",
    "text_to_read_3 = file.readline()\n",
    "print(text_to_read_3)\n",
    "\n",
    "# open したファイルは必ず閉じなければならない。\n",
    "file.close()"
   ]
  },
  {
   "cell_type": "code",
   "execution_count": null,
   "metadata": {},
   "outputs": [],
   "source": [
    "# with を使えば、開いたファイルはブロックを抜けた時、自動的に閉じられる。\n",
    "# また開いたファイルのオブジェクトは as で指定した別名で取り扱う。\n",
    "with open(file_path_to_read, mode=\"r\", encoding=\"utf8\") as f:\n",
    "    # 一度にすべて表示させる。\n",
    "    print(f.read())\n",
    "    \n",
    "# 開いたファイルはこの時点で閉じられている。"
   ]
  },
  {
   "cell_type": "markdown",
   "metadata": {},
   "source": [
    "### ファイルへの出力 (書き込み)  "
   ]
  },
  {
   "cell_type": "code",
   "execution_count": null,
   "metadata": {},
   "outputs": [],
   "source": [
    "text_to_write_1 = \"(1 行目) これは Python スクリプトから書き込んだ内容です。\"\n",
    "text_to_write_2 = \"(2 行目) これは 2 行目の内容です。\"\n",
    "text_to_write_3 = \"(3 行目) これは 3 行目の内容です。この行で終わり。\"\n",
    "\n",
    "# 改行文字 \\n で各行の文章を連結する。\n",
    "text_to_write = \"\\n\".join([text_to_write_1, text_to_write_2, text_to_write_3])\n",
    "\n",
    "# 書き込みファイル (実行前には存在しないので新規作成される) のパスを指定。\n",
    "file_path_to_write = r\"./sample/sample_w.txt\"\n",
    "\n",
    "# ファイルを書き込み (\"w\"rite) モード、utf-8 のエンコード方式で開く (なければ作成)。\n",
    "with open(file_path_to_write, mode=\"w\", encoding=\"utf8\", ) as f:\n",
    "    f.write(text_to_write)\n",
    "    \n",
    "# 文章を書き込んだファイルをメモ帳などで開いて確認。"
   ]
  },
  {
   "cell_type": "markdown",
   "metadata": {},
   "source": [
    "### ファイルへの追記  "
   ]
  },
  {
   "cell_type": "code",
   "execution_count": null,
   "metadata": {},
   "outputs": [],
   "source": [
    "text_to_write_4 = \"(4 行目) これは 3 行目の後に追記したい内容です。\"\n",
    "\n",
    "with open(file_path_to_write, mode=\"w\", encoding=\"utf8\") as f:\n",
    "    f.write(text_to_write_4)    \n",
    "    \n",
    "# これでは前の 3 行は text_to_write_4 の値で上書きされてしまう…\n",
    "# 文章を書き込んだファイルをメモ帳などで開いて確認。"
   ]
  },
  {
   "cell_type": "code",
   "execution_count": null,
   "metadata": {},
   "outputs": [],
   "source": [
    "with open(file_path_to_write, mode=\"w\", encoding=\"utf8\", ) as f:\n",
    "    f.write(text_to_write)\n",
    "\n",
    "# ファイルを追記 (\"a\"ppend) モードで開く。\n",
    "with open(file_path_to_write, mode=\"a\", encoding=\"utf8\", ) as f:\n",
    "    f.write(\"\\n\")  # はじめに改行しておく。\n",
    "    f.write(text_to_write_4)\n",
    "    \n",
    "# 文章を書き込んだファイルをメモ帳などで開いて確認。"
   ]
  },
  {
   "cell_type": "markdown",
   "metadata": {},
   "source": [
    "上記の他にも `open(new_file_path, mode=\"x\", ...)` のように `mode=\"x\"` で、  \n",
    "ファイルが存在しない場合のみファイルが書き込み用として開かれ保存（新規作成）される。"
   ]
  }
 ],
 "metadata": {
  "colab": {
   "collapsed_sections": [],
   "name": "Python習得資料(Light版).ipynb",
   "provenance": [],
   "toc_visible": true,
   "version": "0.3.2"
  },
  "kernelspec": {
   "display_name": "Python 3",
   "language": "python",
   "name": "python3"
  },
  "language_info": {
   "codemirror_mode": {
    "name": "ipython",
    "version": 3
   },
   "file_extension": ".py",
   "mimetype": "text/x-python",
   "name": "python",
   "nbconvert_exporter": "python",
   "pygments_lexer": "ipython3",
   "version": "3.7.6"
  }
 },
 "nbformat": 4,
 "nbformat_minor": 4
}
