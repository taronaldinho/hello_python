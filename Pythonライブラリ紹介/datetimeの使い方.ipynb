{
 "cells": [
  {
   "cell_type": "markdown",
   "metadata": {},
   "source": [
    "# datetime"
   ]
  },
  {
   "cell_type": "code",
   "execution_count": 6,
   "metadata": {},
   "outputs": [],
   "source": [
    "from datetime import datetime"
   ]
  },
  {
   "cell_type": "code",
   "execution_count": 11,
   "metadata": {},
   "outputs": [
    {
     "name": "stdout",
     "output_type": "stream",
     "text": [
      "2020-02-24 22:12:07.392126\n",
      "<class 'datetime.datetime'>\n"
     ]
    }
   ],
   "source": [
    "d_now = datetime.now()\n",
    "print(d_now)\n",
    "print(type(d_now))"
   ]
  },
  {
   "cell_type": "code",
   "execution_count": 13,
   "metadata": {},
   "outputs": [
    {
     "name": "stdout",
     "output_type": "stream",
     "text": [
      "2020/02/24\n",
      "<class 'str'>\n"
     ]
    }
   ],
   "source": [
    "datetime_format = \"%Y/%m/%d\"\n",
    "str_now = d_now.strftime(datetime_format)\n",
    "print(str_now)\n",
    "print(type(str_now))"
   ]
  },
  {
   "cell_type": "code",
   "execution_count": 14,
   "metadata": {},
   "outputs": [
    {
     "name": "stdout",
     "output_type": "stream",
     "text": [
      "2019-12-30 00:00:00\n",
      "<class 'datetime.datetime'>\n"
     ]
    }
   ],
   "source": [
    "d_20191230 = datetime(year=2019, month=12, day=30, hour=0, minute=0, second=0)\n",
    "print(d_20191230)\n",
    "print(type(d_20191230))"
   ]
  },
  {
   "cell_type": "code",
   "execution_count": 16,
   "metadata": {},
   "outputs": [
    {
     "name": "stdout",
     "output_type": "stream",
     "text": [
      "56 days, 22:12:07.392126\n",
      "<class 'datetime.timedelta'>\n"
     ]
    }
   ],
   "source": [
    "d_delta = d_now - d_20191230\n",
    "print(d_delta)\n",
    "print(type(d_delta))"
   ]
  },
  {
   "cell_type": "code",
   "execution_count": null,
   "metadata": {},
   "outputs": [],
   "source": []
  }
 ],
 "metadata": {
  "kernelspec": {
   "display_name": "Jupyter",
   "language": "python",
   "name": "jupyter"
  },
  "language_info": {
   "codemirror_mode": {
    "name": "ipython",
    "version": 3
   },
   "file_extension": ".py",
   "mimetype": "text/x-python",
   "name": "python",
   "nbconvert_exporter": "python",
   "pygments_lexer": "ipython3",
   "version": "3.7.6"
  }
 },
 "nbformat": 4,
 "nbformat_minor": 4
}
