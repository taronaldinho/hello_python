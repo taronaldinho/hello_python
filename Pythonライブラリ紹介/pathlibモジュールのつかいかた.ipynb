{
 "cells": [
  {
   "cell_type": "markdown",
   "metadata": {},
   "source": [
    "# pathlib モジュールのつかいかた  \n",
    "\n",
    "pathlib モジュールオブジェクト指向のファイルパス操作を可能にするものであり、これを利用すると、ファイルパスの取得、加工、ファイルやディレクトリ (フォルダ) のリネームや移動を行うことができます。  \n",
    "\n",
    "この標準モジュールは python 3.4 から追加されたものであり、以前からある os モジュールが文字列操作として行っていたファイルパスの取り扱いをさらに効率よく行うことが可能です。  \n",
    "\n",
    "- [pathlib --- オブジェクト指向のファイルシステムパス — Python 3.8.1 ドキュメント](https://docs.python.org/ja/3/library/pathlib.html)  \n",
    "- [［Python入門］pathlib.Pathクラスによるパス操作 (1/3)：Python入門 - ＠IT](https://www.atmarkit.co.jp/ait/articles/1910/29/news019.html#_ga=2.261375433.590574634.1581306805-1489931188.1570511598)  "
   ]
  },
  {
   "cell_type": "code",
   "execution_count": null,
   "metadata": {},
   "outputs": [],
   "source": [
    "# モジュールのインポート\n",
    "import pathlib"
   ]
  },
  {
   "cell_type": "code",
   "execution_count": null,
   "metadata": {},
   "outputs": [],
   "source": [
    "# Path クラスのインスタンスを生成\n",
    "file_path = pathlib.Path(\"パッケージ紹介.md\")\n",
    "print(file_path)"
   ]
  },
  {
   "cell_type": "code",
   "execution_count": null,
   "metadata": {},
   "outputs": [],
   "source": [
    "# 現在の作業ディレクトリの取得\n",
    "current_working_dir = pathlib.Path.cwd()\n",
    "print(current_working_dir)"
   ]
  },
  {
   "cell_type": "code",
   "execution_count": null,
   "metadata": {},
   "outputs": [],
   "source": [
    "# ホームディレクトリの取得\n",
    "home_dir = pathlib.Path.home()\n",
    "print(home_dir)"
   ]
  },
  {
   "cell_type": "code",
   "execution_count": null,
   "metadata": {},
   "outputs": [],
   "source": [
    "# Path クラスと文字列を \"/\" で連結することができる\n",
    "temp_file_path = current_working_dir / \"temp.txt\"\n",
    "temp_file_path"
   ]
  },
  {
   "cell_type": "code",
   "execution_count": null,
   "metadata": {},
   "outputs": [],
   "source": [
    "# ファイルの存在確認\n",
    "# (この時点ではまだ存在しない)\n",
    "temp_file_path.exists()"
   ]
  },
  {
   "cell_type": "code",
   "execution_count": null,
   "metadata": {},
   "outputs": [],
   "source": [
    "# ファイルの作成\n",
    "temp_file_path.touch()"
   ]
  },
  {
   "cell_type": "code",
   "execution_count": null,
   "metadata": {},
   "outputs": [],
   "source": [
    "# ファイルの存在確認\n",
    "temp_file_path.exists()"
   ]
  },
  {
   "cell_type": "code",
   "execution_count": null,
   "metadata": {},
   "outputs": [],
   "source": [
    "# ファイルかどうかの確認\n",
    "temp_file_path.is_file()"
   ]
  },
  {
   "cell_type": "code",
   "execution_count": null,
   "metadata": {},
   "outputs": [],
   "source": [
    "# ディレクトリかどうかの確認\n",
    "temp_file_path.is_dir()"
   ]
  },
  {
   "cell_type": "code",
   "execution_count": null,
   "metadata": {},
   "outputs": [],
   "source": [
    "# シンボリックリンクかどうかの確認\n",
    "temp_file_path.is_symlink()"
   ]
  },
  {
   "cell_type": "code",
   "execution_count": null,
   "metadata": {},
   "outputs": [],
   "source": [
    "# ファイル名\n",
    "temp_file_path.name"
   ]
  },
  {
   "cell_type": "code",
   "execution_count": null,
   "metadata": {},
   "outputs": [],
   "source": [
    "# 拡張子部分を除いたファイル名\n",
    "temp_file_path.stem"
   ]
  },
  {
   "cell_type": "code",
   "execution_count": null,
   "metadata": {},
   "outputs": [],
   "source": [
    "# 拡張子\n",
    "temp_file_path.suffix"
   ]
  },
  {
   "cell_type": "code",
   "execution_count": null,
   "metadata": {},
   "outputs": [],
   "source": [
    "# ファイルのリネーム (名前の変更のみ)\n",
    "# Python 3.8 以降では、 Path.rename() がリネーム後のパスを返すようになるようなので、\n",
    "# new_file_path = temp_file_path.rename(new_file_path)\n",
    "# として、最下行は不要となる模様\n",
    "new_file_path = pathlib.Path(\"仮.txt\")\n",
    "if temp_file_path.exists():\n",
    "    temp_file_path.rename(new_file_path)\n",
    "    print(\"renamed.\")\n",
    "temp_file_path = new_file_path"
   ]
  },
  {
   "cell_type": "code",
   "execution_count": null,
   "metadata": {},
   "outputs": [],
   "source": [
    "# リネーム後のファイル名\n",
    "temp_file_path.name"
   ]
  },
  {
   "cell_type": "code",
   "execution_count": null,
   "metadata": {},
   "outputs": [],
   "source": [
    "# ディレクトリのパスも \"/\" で連結できる\n",
    "temp_dir_path = current_working_dir / \"temp\"\n",
    "print(temp_dir_path)"
   ]
  },
  {
   "cell_type": "code",
   "execution_count": null,
   "metadata": {},
   "outputs": [],
   "source": [
    "# ディレクトリの存在確認\n",
    "# (この時点ではまだ存在しない)\n",
    "temp_dir_path.exists()"
   ]
  },
  {
   "cell_type": "code",
   "execution_count": null,
   "metadata": {},
   "outputs": [],
   "source": [
    "# ディレクトリの作成\n",
    "temp_dir_path.mkdir()"
   ]
  },
  {
   "cell_type": "code",
   "execution_count": null,
   "metadata": {},
   "outputs": [],
   "source": [
    "# ディレクトリの存在確認\n",
    "temp_dir_path.exists()"
   ]
  },
  {
   "cell_type": "code",
   "execution_count": null,
   "metadata": {},
   "outputs": [],
   "source": [
    "# ディレクトリかどうかの確認\n",
    "temp_dir_path.is_dir()"
   ]
  },
  {
   "cell_type": "code",
   "execution_count": null,
   "metadata": {},
   "outputs": [],
   "source": [
    "# 指定したディレクトリ内のフォルダやディレクトリは…\n",
    "for p in current_working_dir.iterdir():\n",
    "    print(p)"
   ]
  },
  {
   "cell_type": "code",
   "execution_count": null,
   "metadata": {},
   "outputs": [],
   "source": [
    "# 指定したパターンにマッチしたパスのみ出力\n",
    "for p in current_working_dir.iterdir():\n",
    "    if p.match(\"*.py\"):\n",
    "        print(p)"
   ]
  },
  {
   "cell_type": "code",
   "execution_count": null,
   "metadata": {},
   "outputs": [],
   "source": [
    "# テキストファイルに対する書き込み\n",
    "input_string = \"古池や\\n蛙飛び込む\\n水の音\"\n",
    "with temp_file_path.open(mode=\"w\", encoding=\"utf-8\") as tf:\n",
    "    tf.write(input_string)"
   ]
  },
  {
   "cell_type": "code",
   "execution_count": null,
   "metadata": {},
   "outputs": [],
   "source": [
    "# joinpath でもパスの連結ができる\n",
    "new_file_path_2 = temp_dir_path.joinpath(temp_file_path.name)"
   ]
  },
  {
   "cell_type": "code",
   "execution_count": null,
   "metadata": {},
   "outputs": [],
   "source": [
    "# ファイルのリネーム (ディレクトリの移動を伴う)\n",
    "# Python 3.8 以降では、 Path.rename() がリネーム後のパスを返すようになるようなので、\n",
    "# new_file_path_2 = temp_file_path.rename(new_file_path_2)\n",
    "# として、最下行は不要となる模様\n",
    "if temp_file_path.exists():\n",
    "    temp_file_path.rename(new_file_path_2)\n",
    "    print(\"renamed.\")\n",
    "temp_file_path = new_file_path_2"
   ]
  },
  {
   "cell_type": "code",
   "execution_count": null,
   "metadata": {},
   "outputs": [],
   "source": [
    "# ファイルの削除\n",
    "temp_file_path.unlink()"
   ]
  },
  {
   "cell_type": "code",
   "execution_count": null,
   "metadata": {},
   "outputs": [],
   "source": [
    "# ディレクトリの削除 (空のディレクトリしか削除できない)\n",
    "temp_dir_path.rmdir()"
   ]
  },
  {
   "cell_type": "markdown",
   "metadata": {},
   "source": [
    "空でないディレクトリの削除は shutil モジュールを使う。  \n",
    "```\n",
    "import shutil\n",
    "shutil.rmtree(\"dir_path\")\n",
    "```"
   ]
  }
 ],
 "metadata": {
  "kernelspec": {
   "display_name": "Jupyter",
   "language": "python",
   "name": "jupyter"
  },
  "language_info": {
   "codemirror_mode": {
    "name": "ipython",
    "version": 3
   },
   "file_extension": ".py",
   "mimetype": "text/x-python",
   "name": "python",
   "nbconvert_exporter": "python",
   "pygments_lexer": "ipython3",
   "version": "3.7.6"
  }
 },
 "nbformat": 4,
 "nbformat_minor": 4
}