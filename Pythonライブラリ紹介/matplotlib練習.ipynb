{
 "cells": [
  {
   "cell_type": "markdown",
   "metadata": {
    "colab_type": "text",
    "id": "PjFFinhOschk"
   },
   "source": [
    "# Matplotlib の練習  \n",
    "\n",
    "## Matplotlib とは  \n",
    "\n",
    "> Matplotlibは、プログラミング言語Pythonおよびその科学計算用ライブラリNumPyのためのグラフ描画ライブラリである。オブジェクト指向のAPIを提供しており、様々な種類のグラフを描画する能力を持つ。([Wikipedia](https://ja.wikipedia.org/wiki/Matplotlib)より)  "
   ]
  },
  {
   "cell_type": "code",
   "execution_count": null,
   "metadata": {
    "colab": {},
    "colab_type": "code",
    "id": "Q3fNNwa3qcUs"
   },
   "outputs": [],
   "source": [
    "# モジュールのインポート\n",
    "import matplotlib.pyplot as plt\n",
    "\n",
    "# matplotlibを Jupyter Notebook で使うときのおまじない\n",
    "%matplotlib inline  \n",
    "\n",
    "# NumPy と pandasも使用するのでついでにインポートする\n",
    "import numpy as np  \n",
    "import pandas as pd"
   ]
  },
  {
   "cell_type": "markdown",
   "metadata": {
    "colab_type": "text",
    "id": "aC0eURcgFhZB"
   },
   "source": [
    "下の表のような種類のグラフを、対応する関数を使って描画します。  \n",
    "\n",
    "|種類|描画関数|\n",
    "|:-:|:-:|\n",
    "|折れ線グラフ|`plot()`|\n",
    "|散布図|`scatter()`|\n",
    "|ヒストグラム|`hist()`|\n",
    "|棒グラフ|`bar()`|\n",
    "|円グラフ|`pie()`|\n",
    "|箱ひげ図|`boxplot()`|"
   ]
  },
  {
   "cell_type": "markdown",
   "metadata": {
    "colab_type": "text",
    "id": "y_1N0k8-2YQ5"
   },
   "source": [
    "## 折れ線グラフと散布図の描画  \n",
    "\n",
    "基本の折れ線グラフと散布図から描画してみます。折れ線グラフには `plt.plot()` を、散布図には `plt.scatter()` を使います。  "
   ]
  },
  {
   "cell_type": "code",
   "execution_count": null,
   "metadata": {
    "colab": {},
    "colab_type": "code",
    "id": "mKONzS5OzqjV"
   },
   "outputs": [],
   "source": [
    "# x, y の座標を配列 (numpy.ndarray) として用意する\n",
    "x = np.array([1, 2, 3, 4])\n",
    "y = np.array([3, 5, 4, 7])\n",
    "\n",
    "# x, y 座標を元にグラフを生成する\n",
    "plt.plot(x, y)\n",
    "\n",
    "# 生成したグラフを描画する\n",
    "plt.show()"
   ]
  },
  {
   "cell_type": "code",
   "execution_count": null,
   "metadata": {
    "colab": {},
    "colab_type": "code",
    "id": "vxWeffjF2FGT"
   },
   "outputs": [],
   "source": [
    "# 散布図の場合\n",
    "plt.scatter(x, y)\n",
    "plt.show()"
   ]
  },
  {
   "cell_type": "markdown",
   "metadata": {
    "colab_type": "text",
    "id": "JWBBpNEv2sjA"
   },
   "source": [
    "なお、上の例の `x` と `y` は NumPy の ndarray ではなくリストなどを用いても構いません。  "
   ]
  },
  {
   "cell_type": "markdown",
   "metadata": {
    "colab_type": "text",
    "id": "3rNjAbM33ZQv"
   },
   "source": [
    "### グラフを並べて表示する subplots() 関数  \n",
    "\n",
    "上のふたつのグラフをひとつのセルに並べて表示するには `subplots()` 関数を使います。`subplots()` の第 1 引数は行数（縦に幾つグラフを並べるか）で、第 2 引数は列数（横に幾つグラフを並べるか）です。縦横に複数並べることもできます。このように並べられたそれぞれのグラフ枠を「パネル」と呼ぶこともあります。  "
   ]
  },
  {
   "cell_type": "code",
   "execution_count": null,
   "metadata": {
    "colab": {},
    "colab_type": "code",
    "id": "JGdPJWiR2mEm"
   },
   "outputs": [],
   "source": [
    "fig, axes = plt.subplots(1, 2)\n",
    "axes[0].plot(x, y)\n",
    "axes[1].scatter(x, y)\n",
    "plt.show()"
   ]
  },
  {
   "cell_type": "markdown",
   "metadata": {
    "colab_type": "text",
    "id": "-oVBC2BT8djz"
   },
   "source": [
    "`subplots()` の名前付き引数 `figsize=` に整数値のタプル/リストを与えることでサイズを指定できます。  "
   ]
  },
  {
   "cell_type": "code",
   "execution_count": null,
   "metadata": {
    "colab": {},
    "colab_type": "code",
    "id": "HYXcf4693l2e"
   },
   "outputs": [],
   "source": [
    "fig, axes = plt.subplots(2, 2, figsize=(12, 5))\n",
    "axes[0, 0].plot(x, y)\n",
    "axes[0, 1].plot(x, y)\n",
    "axes[1, 0].scatter(x, y)\n",
    "axes[1, 1].scatter(x, y)\n",
    "plt.show()"
   ]
  },
  {
   "cell_type": "markdown",
   "metadata": {
    "colab_type": "text",
    "id": "VbENJVS79Bfe"
   },
   "source": [
    "### 曲線の描画と各種描画設定\n",
    "\n",
    "\n",
    "設定対象|キーワード引数|説明\n",
    ":-:|:-:|-\n",
    "凡例|`label`|「凡例」を文字列で与える。`False` を与えると凡例を表示しない。  \n",
    "線の色|`c`, `color`|描画色を指定する。次の文字列が指定できる。`\"red\"`, `\"green\"`, `\"blue\"`, `\"cyan\"`, `\"magenta\"`, `\"yellow\"`, `\"black\"`, `\"white\"`<br>また、それぞれの色の頭文字でも良い。`\"r\"`, `\"g\"`, `\"b\"`, `\"c\"`, `\"m\"`, `\"y\"`, `\"k\"`, `\"w\"`<br>この他にもカラーマップを用いた方法もある。\n",
    "線の太さ|`lw`, `linewidth`|描画の線の太さを与える。単位はポイント\n",
    "線のスタイル|`ls`, `linestyle`|線のスタイルを次のような文字列で与える。`\"-\"` (実線: デフォルト) , `\"--\"` (破線) , `\":\"` (点線) , `\"-.\"` (一点鎖線)  他にもあり \n",
    "マーカーの種類|`marker`|マーカーの種類を次のような文字列で与える。<br>`\".\"` (ドット) , `\"o\"` (丸) , `\"s\"` (■) , `\"*\"` (星) , `\"^\"` (三角形) , `\"v\"` (逆三角形) , `\">\"` (右向き三角形) , `\"<\"` (左向き三角形)  その他多数 \n",
    "マーカーのサイズ|`markersize`|マーカーのサイズを数値で与える。単位はポイント　\n",
    "$\\alpha$ 値|`alpha`|透明度を  $0 \\leq \\alpha \\leq 1$  の範囲で指定する。大きいほど濃い。"
   ]
  },
  {
   "cell_type": "code",
   "execution_count": null,
   "metadata": {
    "colab": {},
    "colab_type": "code",
    "id": "sp2QXiwB7uSW"
   },
   "outputs": [],
   "source": [
    "x = np.linspace(-5, 5, 100)\n",
    "y_sin = np.sin(x)\n",
    "y_cos = np.cos(x)\n",
    "\n",
    "plt.plot(x, y_sin, label=\"sin_curve\", c=\"r\", lw=1, ls=\"-\", marker=\".\", markersize=5, alpha=1)\n",
    "plt.plot(x, y_cos, label=\"cos_curve\", c=\"g\", lw=1, ls=\"--\", marker=\"o\", markersize=5, alpha=1)\n",
    "\n",
    "# 凡例の生成\n",
    "plt.legend()\n",
    "\n",
    "plt.show()"
   ]
  },
  {
   "cell_type": "markdown",
   "metadata": {
    "colab_type": "text",
    "id": "4QAoYIcDBmkI"
   },
   "source": [
    "次に、上の表に正接 (タンジェント) 関数のグラフを追加してみます。  "
   ]
  },
  {
   "cell_type": "code",
   "execution_count": null,
   "metadata": {
    "colab": {},
    "colab_type": "code",
    "id": "YkxUL4CF_p6Z"
   },
   "outputs": [],
   "source": [
    "y_tan = np.tan(x)\n",
    "plt.plot(x, y_sin, label=\"sin_curve\", c=\"r\", lw=1, ls=\"-\", marker=\".\", markersize=5, alpha=1)\n",
    "plt.plot(x, y_cos, label=\"cos_curve\", c=\"g\", lw=1, ls=\"--\", marker=\"o\", markersize=5, alpha=1)\n",
    "plt.plot(x, y_tan, label=\"tan_curve\", c=\"b\", lw=1, ls=\":\", marker=\"s\", markersize=5, alpha=1)\n",
    "plt.legend()\n",
    "plt.show()"
   ]
  },
  {
   "cell_type": "markdown",
   "metadata": {
    "colab_type": "text",
    "id": "0yES3O4KByOp"
   },
   "source": [
    "グラフの y 座標のスケールを制限しないと見づらいため、上下限を指定します。  "
   ]
  },
  {
   "cell_type": "code",
   "execution_count": null,
   "metadata": {
    "colab": {},
    "colab_type": "code",
    "id": "i8PVVhPlAIMo"
   },
   "outputs": [],
   "source": [
    "plt.plot(x, y_sin, label=\"sin_curve\", c=\"r\", lw=1, ls=\"-\", marker=\".\", markersize=5, alpha=1)\n",
    "plt.plot(x, y_cos, label=\"cos_curve\", c=\"g\", lw=1, ls=\"--\", marker=\"o\", markersize=5, alpha=1)\n",
    "plt.plot(x, y_tan, label=\"tan_curve\", c=\"b\", lw=1, ls=\":\", marker=\"s\", markersize=5, alpha=1)\n",
    "plt.legend()\n",
    "\n",
    "# y軸の上下限を指定\n",
    "plt.ylim(-2, 2)\n",
    "\n",
    "# グラフタイトルを指定\n",
    "plt.title(\"trigonometric functions\")\n",
    "\n",
    "plt.show()"
   ]
  },
  {
   "cell_type": "markdown",
   "metadata": {
    "colab_type": "text",
    "id": "MtPW3Hq_9cyp"
   },
   "source": [
    "## ヒストグラムの描画  "
   ]
  },
  {
   "cell_type": "code",
   "execution_count": null,
   "metadata": {
    "colab": {},
    "colab_type": "code",
    "id": "QpEBaiGKCr6o"
   },
   "outputs": [],
   "source": [
    "# サンプルデータの読み込み\n",
    "df_sample_housing = pd.read_csv(\"./練習用データ/cadata.csv\")"
   ]
  },
  {
   "cell_type": "code",
   "execution_count": null,
   "metadata": {
    "colab": {},
    "colab_type": "code",
    "id": "whTUnur2C0pV"
   },
   "outputs": [],
   "source": [
    "# ヒストグラムの描画\n",
    "plt.hist(df_sample_housing[\"median_house_value\"])\n",
    "plt.show()"
   ]
  },
  {
   "cell_type": "markdown",
   "metadata": {
    "colab_type": "text",
    "id": "OnSd75CyD1gc"
   },
   "source": [
    "名前付き引数 `bins=` に正の整数を渡すことで、ヒストグラムの階級幅 (ビン/bin) を指定することができる。  "
   ]
  },
  {
   "cell_type": "code",
   "execution_count": null,
   "metadata": {
    "colab": {},
    "colab_type": "code",
    "id": "t81j-ML5C9rf"
   },
   "outputs": [],
   "source": [
    "plt.hist(df_sample_housing[\"median_house_value\"], bins=50)\n",
    "plt.show()"
   ]
  },
  {
   "cell_type": "markdown",
   "metadata": {
    "colab_type": "text",
    "id": "mTF3OX3WIYIQ"
   },
   "source": [
    "## おまけ  \n",
    "pandas の DataFrame 型の持つ `plot()` メソッドから図を直接描画することもできます。  "
   ]
  },
  {
   "cell_type": "code",
   "execution_count": null,
   "metadata": {
    "colab": {},
    "colab_type": "code",
    "id": "FGQ8c_d6Ekum"
   },
   "outputs": [],
   "source": [
    "# matplotlib.pyplot の axes に対して、DataFrame のメソッドから図を直接描画\n",
    "\n",
    "# 作図領域は 1x3\n",
    "fig, axes = plt.subplots(1, 3, figsize=(20, 5))\n",
    "\n",
    "# axes 間のスペースを調整\n",
    "plt.subplots_adjust(wspace=0.5, hspace=0.1)\n",
    "\n",
    "# matplotlib.pyplot の axes に対して、DataFrame のメソッドから図を直接描画\n",
    "# 散布図を用いてx, yを経緯度でプロットするとカリフォルニア州の地形が見える\n",
    "df_sample_housing.plot.scatter(x=\"longitude\", y=\"latitude\", c=\"median_house_value\", cmap=\"seismic\", ax=axes.flatten()[0])\n",
    "df_sample_housing.plot.scatter(x=\"longitude\", y=\"latitude\", c=\"median_income\", cmap=\"seismic\", ax=axes.flatten()[1])\n",
    "df_sample_housing.plot.scatter(x=\"longitude\", y=\"latitude\", c=\"households\", cmap=\"seismic\", ax=axes.flatten()[2])\n",
    "\n",
    "plt.show()"
   ]
  },
  {
   "cell_type": "markdown",
   "metadata": {},
   "source": [
    "<img src=\"https://upload.wikimedia.org/wikipedia/commons/thumb/9/94/California_in_United_States.svg/1280px-California_in_United_States.svg.png\" alt=\"サンプル\" width=\"400\">"
   ]
  },
  {
   "cell_type": "markdown",
   "metadata": {
    "colab_type": "text",
    "id": "878xajbgKP37"
   },
   "source": [
    "## 補足資料  \n",
    "\n",
    "この資料による説明は以上です。さらに詳しく知りたい場合は、  \n",
    "\n",
    "- [Matplotlib: Python plotting](https://matplotlib.org/)  \n",
    "  - [Overview](https://matplotlib.org/contents.html)\n",
    "  - [Tutorials](https://matplotlib.org/tutorials/index.html)  \n",
    "- [12. Matplotlib 入門 — ディープラーニング入門：Chainer チュートリアル](https://tutorials.chainer.org/ja/src/12_Introduction_to_Matplotlib_ja.html)  \n",
    "\n",
    "などを参照してください。  "
   ]
  }
 ],
 "metadata": {
  "colab": {
   "collapsed_sections": [],
   "name": "Matplotlib練習(Light版).ipynb",
   "provenance": [],
   "toc_visible": true,
   "version": "0.3.2"
  },
  "kernelspec": {
   "display_name": "Python 3",
   "language": "python",
   "name": "python3"
  },
  "language_info": {
   "codemirror_mode": {
    "name": "ipython",
    "version": 3
   },
   "file_extension": ".py",
   "mimetype": "text/x-python",
   "name": "python",
   "nbconvert_exporter": "python",
   "pygments_lexer": "ipython3",
   "version": "3.7.6"
  }
 },
 "nbformat": 4,
 "nbformat_minor": 4
}
