{
 "cells": [
  {
   "cell_type": "markdown",
   "metadata": {
    "colab_type": "text",
    "id": "PjFFinhOschk"
   },
   "source": [
    "# Matplotlib の練習  "
   ]
  },
  {
   "cell_type": "markdown",
   "metadata": {},
   "source": [
    "## Matplotlib とは  \n",
    "\n",
    "> Matplotlibは、プログラミング言語Pythonおよびその科学計算用ライブラリNumPyのためのグラフ描画ライブラリである。オブジェクト指向のAPIを提供しており、様々な種類のグラフを描画する能力を持つ。([Wikipedia](https://ja.wikipedia.org/wiki/Matplotlib)より)  "
   ]
  },
  {
   "cell_type": "code",
   "execution_count": null,
   "metadata": {
    "colab": {},
    "colab_type": "code",
    "id": "Q3fNNwa3qcUs"
   },
   "outputs": [],
   "source": [
    "# モジュールのインポート\n",
    "import matplotlib.pyplot as plt\n",
    "\n",
    "# matplotlib を Jupyter Notebook で使うときのおまじない\n",
    "%matplotlib inline  \n",
    "\n",
    "# NumPy と pandasも使用するのでついでにインポートする\n",
    "import numpy as np  \n",
    "import pandas as pd"
   ]
  },
  {
   "cell_type": "markdown",
   "metadata": {
    "colab_type": "text",
    "id": "aC0eURcgFhZB"
   },
   "source": [
    "下の表のような種類のグラフを、対応する関数を使って描画します。  \n",
    "\n",
    "|種類|描画関数|\n",
    "|:-:|:-:|\n",
    "|折れ線グラフ|`plot()`|\n",
    "|散布図|`scatter()`|\n",
    "|ヒストグラム|`hist()`|\n",
    "|棒グラフ|`bar()`|\n",
    "|円グラフ|`pie()`|\n",
    "|箱ひげ図|`boxplot()`|"
   ]
  },
  {
   "cell_type": "markdown",
   "metadata": {
    "colab_type": "text",
    "id": "y_1N0k8-2YQ5"
   },
   "source": [
    "## 折れ線グラフと散布図の描画  \n",
    "\n",
    "基本の折れ線グラフと散布図から描画してみます。折れ線グラフには `plt.plot()` を、散布図には `plt.scatter()` を使います。  \n",
    "\n",
    "- [matplotlib.pyplot.plot](https://matplotlib.org/api/_as_gen/matplotlib.pyplot.plot.html#matplotlib.pyplot.plot)  \n",
    "- [matplotlib.pyplot.scatter](https://matplotlib.org/api/_as_gen/matplotlib.pyplot.scatter.html#matplotlib.pyplot.scatter)  "
   ]
  },
  {
   "cell_type": "code",
   "execution_count": null,
   "metadata": {
    "colab": {},
    "colab_type": "code",
    "id": "mKONzS5OzqjV"
   },
   "outputs": [],
   "source": [
    "# x, y の座標を配列 (numpy.ndarray) として用意する\n",
    "x = np.array(range(20))\n",
    "y = np.array([i if i%2==0 else -i for i in x])\n",
    "\n",
    "# x, y 座標を元にグラフを生成する\n",
    "plt.plot(x, y)\n",
    "\n",
    "# 生成したグラフを描画する\n",
    "plt.show()"
   ]
  },
  {
   "cell_type": "code",
   "execution_count": null,
   "metadata": {
    "colab": {},
    "colab_type": "code",
    "id": "vxWeffjF2FGT"
   },
   "outputs": [],
   "source": [
    "# 散布図の場合\n",
    "plt.scatter(x, y)\n",
    "plt.show()"
   ]
  },
  {
   "cell_type": "markdown",
   "metadata": {
    "colab_type": "text",
    "id": "JWBBpNEv2sjA"
   },
   "source": [
    "なお、上の例の `x` と `y` は NumPy の ndarray ではなくリストなどを用いても構いません。  "
   ]
  },
  {
   "cell_type": "markdown",
   "metadata": {
    "colab_type": "text",
    "id": "VbENJVS79Bfe"
   },
   "source": [
    "### 曲線の描画と各種描画設定\n",
    "\n",
    "\n",
    "設定対象|キーワード引数|説明\n",
    ":-:|:-:|-\n",
    "凡例|`label`|「凡例」を文字列で与える。`False` を与えると凡例を表示しない。  \n",
    "線の色|`c`, `color`|描画色を指定する。次の文字列が指定できる。`\"red\"`, `\"green\"`, `\"blue\"`, `\"cyan\"`, `\"magenta\"`, `\"yellow\"`, `\"black\"`, `\"white\"`<br>また、それぞれの色の頭文字でも良い。`\"r\"`, `\"g\"`, `\"b\"`, `\"c\"`, `\"m\"`, `\"y\"`, `\"k\"`, `\"w\"`<br>この他にもカラーマップを用いた方法もある。\n",
    "線の太さ|`lw`, `linewidth`|描画の線の太さを与える。単位はポイント\n",
    "線のスタイル|`ls`, `linestyle`|線のスタイルを次のような文字列で与える。`\"-\"` (実線: デフォルト) , `\"--\"` (破線) , `\":\"` (点線) , `\"-.\"` (一点鎖線)  他にもあり \n",
    "マーカーの種類|`marker`|マーカーの種類を次のような文字列で与える。<br>`\".\"` (ドット) , `\"o\"` (丸) , `\"s\"` (■) , `\"*\"` (星) , `\"^\"` (三角形) , `\"v\"` (逆三角形) , `\">\"` (右向き三角形) , `\"<\"` (左向き三角形)  その他多数 \n",
    "マーカーのサイズ|`ms`, `markersize`|マーカーのサイズを数値で与える。単位はポイント　\n",
    "$\\alpha$ 値|`alpha`|透明度を  $0 \\leq \\alpha \\leq 1$  の範囲で指定する。大きいほど濃い。"
   ]
  },
  {
   "cell_type": "code",
   "execution_count": null,
   "metadata": {
    "colab": {},
    "colab_type": "code",
    "id": "sp2QXiwB7uSW"
   },
   "outputs": [],
   "source": [
    "x = np.linspace(-5, 5, 100)\n",
    "y_sin = np.sin(x)\n",
    "y_cos = np.cos(x)\n",
    "\n",
    "plt.plot(x, y_sin, label=\"sin_curve\", c=\"b\", lw=1, ls=\"-\", marker=\".\", ms=5, alpha=1)\n",
    "plt.plot(x, y_cos, label=\"cos_curve\", c=\"g\", lw=1, ls=\"--\", marker=\"o\", markersize=5, alpha=1)\n",
    "\n",
    "# 凡例の生成\n",
    "plt.legend()\n",
    "\n",
    "plt.show()"
   ]
  },
  {
   "cell_type": "markdown",
   "metadata": {
    "colab_type": "text",
    "id": "4QAoYIcDBmkI"
   },
   "source": [
    "次に、上の表に正接 (タンジェント) 関数のグラフを追加してみます。  "
   ]
  },
  {
   "cell_type": "code",
   "execution_count": null,
   "metadata": {
    "colab": {},
    "colab_type": "code",
    "id": "YkxUL4CF_p6Z"
   },
   "outputs": [],
   "source": [
    "y_tan = np.tan(x)\n",
    "plt.plot(x, y_sin, label=\"sin_curve\", c=\"b\", lw=1, ls=\"-\", marker=\".\", markersize=5, alpha=1)\n",
    "plt.plot(x, y_cos, label=\"cos_curve\", c=\"g\", lw=1, ls=\"--\", marker=\"o\", markersize=5, alpha=1)\n",
    "plt.plot(x, y_tan, label=\"tan_curve\", c=\"r\", lw=1, ls=\":\", marker=\"s\", markersize=5, alpha=1)\n",
    "plt.legend()\n",
    "plt.show()"
   ]
  },
  {
   "cell_type": "markdown",
   "metadata": {
    "colab_type": "text",
    "id": "0yES3O4KByOp"
   },
   "source": [
    "グラフの y 座標のスケールを制限しないと見づらいため、上下限を指定します。  "
   ]
  },
  {
   "cell_type": "code",
   "execution_count": null,
   "metadata": {
    "colab": {},
    "colab_type": "code",
    "id": "i8PVVhPlAIMo"
   },
   "outputs": [],
   "source": [
    "plt.plot(x, y_sin, label=\"sin_curve\", c=\"b\", lw=1, ls=\"-\", marker=\".\", markersize=5, alpha=1)\n",
    "plt.plot(x, y_cos, label=\"cos_curve\", c=\"g\", lw=1, ls=\"--\", marker=\"o\", markersize=5, alpha=1)\n",
    "plt.plot(x, y_tan, label=\"tan_curve\", c=\"r\", lw=1, ls=\":\", marker=\"s\", markersize=5, alpha=1)\n",
    "plt.legend()\n",
    "\n",
    "# y軸の上下限を指定\n",
    "plt.ylim(-2, 2)\n",
    "\n",
    "# グラフタイトルを指定\n",
    "plt.title(\"trigonometric functions\")\n",
    "\n",
    "plt.show()"
   ]
  },
  {
   "cell_type": "code",
   "execution_count": null,
   "metadata": {},
   "outputs": [],
   "source": [
    "y = np.e**x\n",
    "\n",
    "plt.plot(x, y)\n",
    "\n",
    "plt.yscale(\"log\")  # 対数目盛\n",
    "plt.grid()\n",
    "\n",
    "plt.show()"
   ]
  },
  {
   "cell_type": "markdown",
   "metadata": {
    "colab_type": "text",
    "id": "MtPW3Hq_9cyp"
   },
   "source": [
    "## ヒストグラムの描画  \n",
    "\n",
    "- [matplotlib.pyplot.hist](https://matplotlib.org/api/_as_gen/matplotlib.pyplot.hist.html#matplotlib.pyplot.hist)  "
   ]
  },
  {
   "cell_type": "code",
   "execution_count": null,
   "metadata": {
    "colab": {},
    "colab_type": "code",
    "id": "QpEBaiGKCr6o"
   },
   "outputs": [],
   "source": [
    "# サンプルデータの読み込み\n",
    "df_sample_housing = pd.read_csv(\"./練習用データ/cadata.csv\")"
   ]
  },
  {
   "cell_type": "code",
   "execution_count": null,
   "metadata": {
    "colab": {},
    "colab_type": "code",
    "id": "whTUnur2C0pV"
   },
   "outputs": [],
   "source": [
    "# ヒストグラムの描画\n",
    "plt.hist(df_sample_housing[\"median_house_value\"])\n",
    "plt.show()"
   ]
  },
  {
   "cell_type": "markdown",
   "metadata": {
    "colab_type": "text",
    "id": "OnSd75CyD1gc"
   },
   "source": [
    "名前付き引数 `bins=` に正の整数を渡すことで、ヒストグラムの階級幅 (ビン/bin) を指定することができる。  "
   ]
  },
  {
   "cell_type": "code",
   "execution_count": null,
   "metadata": {
    "colab": {},
    "colab_type": "code",
    "id": "t81j-ML5C9rf"
   },
   "outputs": [],
   "source": [
    "plt.hist(df_sample_housing[\"median_house_value\"], bins=50)\n",
    "plt.show()"
   ]
  },
  {
   "cell_type": "markdown",
   "metadata": {},
   "source": [
    "## 棒グラフの描画  \n",
    "\n",
    "- [matplotlib.pyplot.bar](https://matplotlib.org/api/_as_gen/matplotlib.pyplot.bar.html#matplotlib.pyplot.bar)  \n",
    "- [matplotlib.pyplot.barh](https://matplotlib.org/api/_as_gen/matplotlib.pyplot.barh.html#matplotlib.pyplot.barh)  "
   ]
  },
  {
   "cell_type": "code",
   "execution_count": null,
   "metadata": {},
   "outputs": [],
   "source": [
    "x_labels = [\"A\", \"B\", \"C\", \"D\", \"E\", \"F\"]\n",
    "height = [10, 20, 50, 40, 60, 30]\n",
    "\n",
    "# 棒グラフの描画\n",
    "plt.bar(np.arange(len(height)), height=height, tick_label=x_labels)\n",
    "plt.show()"
   ]
  },
  {
   "cell_type": "code",
   "execution_count": null,
   "metadata": {},
   "outputs": [],
   "source": [
    "x_labels = [\"A\", \"B\", \"C\", \"D\", \"E\", \"F\"]\n",
    "heights = {\"h_0\": [10, 20, 50, 40, 60, 30],\n",
    "           \"h_1\": [20, 30, 40, 60, 70, 30], \n",
    "           \"h_2\": [40, 20, 30, 20, 20, 50]}\n",
    "width = 0.2\n",
    "i = -1\n",
    "for h in heights:\n",
    "    x = np.arange(len(x_labels))+i*width\n",
    "    plt.bar(x, height=heights[h], label=h, tick_label=x_labels, width=width)    \n",
    "    i += 1\n",
    "\n",
    "plt.legend()\n",
    "plt.xticks(np.arange(len(x_labels)))\n",
    "plt.show()"
   ]
  },
  {
   "cell_type": "code",
   "execution_count": null,
   "metadata": {},
   "outputs": [],
   "source": [
    "# 積み上げ棒グラフ\n",
    "df = pd.DataFrame(heights, index=x_labels)\n",
    "\n",
    "for i, col in enumerate(df.columns):\n",
    "    plt.bar(df.index, df.loc[:, col], label=col, \n",
    "            bottom=df.iloc[:, i+1:].sum(axis=1), zorder=10)\n",
    "    \n",
    "plt.legend()\n",
    "plt.yticks(np.arange(0, max(df.sum(axis=1))+50, 50))\n",
    "plt.grid(zorder=5)\n",
    "plt.show()"
   ]
  },
  {
   "cell_type": "code",
   "execution_count": null,
   "metadata": {},
   "outputs": [],
   "source": [
    "# plt.barh() で水平方向の棒グラフ\n",
    "plt.barh(np.arange(len(height)), width=height, tick_label=x_labels)\n",
    "plt.show()"
   ]
  },
  {
   "cell_type": "markdown",
   "metadata": {},
   "source": [
    "## 円グラフ  \n",
    "\n",
    "- [matplotlib.pyplot.pie](https://matplotlib.org/api/_as_gen/matplotlib.pyplot.pie.html#matplotlib.pyplot.pie)  "
   ]
  },
  {
   "cell_type": "code",
   "execution_count": null,
   "metadata": {},
   "outputs": [],
   "source": [
    "# labels のフォントが背景色と同色の場合は見えないので設定する。\n",
    "plt.figure(facecolor=\"w\", linewidth=0.5, edgecolor='w')\n",
    "\n",
    "\n",
    "data = [[\"A\", \"B\", \"C\", \"D\", \"E\"],\n",
    "        [ 55,  10,  45,  40,  60]] \n",
    "\n",
    "# 円グラフの描画\n",
    "plt.pie(data[1], labels=data[0], startangle=90, counterclock=False)\n",
    "plt.show()"
   ]
  },
  {
   "cell_type": "code",
   "execution_count": null,
   "metadata": {},
   "outputs": [],
   "source": [
    "plt.figure(facecolor=\"w\", linewidth=0.5, edgecolor='w')\n",
    "\n",
    "# explode= に数値のリストを渡すと…\n",
    "plt.pie(data[1], explode=[0, 0.3, 0, 0, 0], labels=data[0], \n",
    "        startangle=90, counterclock=False)\n",
    "plt.show()"
   ]
  },
  {
   "cell_type": "markdown",
   "metadata": {},
   "source": [
    "## 箱ひげ図  \n",
    "\n",
    "- [matplotlib.pyplot.boxplot](https://matplotlib.org/api/_as_gen/matplotlib.pyplot.boxplot.html#matplotlib.pyplot.boxplot)  "
   ]
  },
  {
   "cell_type": "code",
   "execution_count": null,
   "metadata": {},
   "outputs": [],
   "source": [
    "x_0 = np.random.normal(-2, 0.5, 100)\n",
    "x_1 = np.random.normal(1, 1.3, 100)\n",
    "\n",
    "# 箱ひげ図の描画\n",
    "plt.boxplot((x_0, x_1), labels=(\"x_0\", \"x_1\"))\n",
    "plt.show()"
   ]
  },
  {
   "cell_type": "markdown",
   "metadata": {},
   "source": [
    "## スタイル  \n",
    "\n",
    "- [Style sheets reference](https://matplotlib.org/gallery/style_sheets/style_sheets_reference.html)  "
   ]
  },
  {
   "cell_type": "code",
   "execution_count": null,
   "metadata": {},
   "outputs": [],
   "source": [
    "# スタイルを指定\n",
    "plt.style.use(\"ggplot\")"
   ]
  },
  {
   "cell_type": "code",
   "execution_count": null,
   "metadata": {},
   "outputs": [],
   "source": [
    "# デフォルトとは異なるスタイルで描画される\n",
    "plt.boxplot((x_0, x_1), labels=(\"x_0\", \"x_1\"))\n",
    "plt.show()"
   ]
  },
  {
   "cell_type": "code",
   "execution_count": null,
   "metadata": {},
   "outputs": [],
   "source": [
    "# 利用可能なスタイルの一覧\n",
    "plt.style.available"
   ]
  },
  {
   "cell_type": "markdown",
   "metadata": {
    "colab_type": "text",
    "id": "mTF3OX3WIYIQ"
   },
   "source": [
    "## おまけ  \n",
    "pandas の DataFrame 型の持つ `plot()` メソッドから図を直接描画することもできます。  "
   ]
  },
  {
   "cell_type": "code",
   "execution_count": null,
   "metadata": {
    "colab": {},
    "colab_type": "code",
    "id": "FGQ8c_d6Ekum"
   },
   "outputs": [],
   "source": [
    "# matplotlib.pyplot の axes に対して、DataFrame のメソッドから図を直接描画\n",
    "\n",
    "# 作図領域は 1 行 3 列\n",
    "fig, axes = plt.subplots(1, 3, figsize=(20, 5))\n",
    "\n",
    "# axes 間のスペースを調整\n",
    "plt.subplots_adjust(wspace=0.5, hspace=0.1)\n",
    "\n",
    "# matplotlib.pyplot の axes に対して、DataFrame のメソッドから図を直接描画\n",
    "# 散布図を用いてx, yを経緯度でプロットするとカリフォルニア州の地形が見える\n",
    "df_sample_housing.plot.scatter(x=\"longitude\", y=\"latitude\", c=\"median_house_value\", cmap=\"seismic\", ax=axes.flatten()[0])\n",
    "df_sample_housing.plot.scatter(x=\"longitude\", y=\"latitude\", c=\"median_income\", cmap=\"seismic\", ax=axes.flatten()[1])\n",
    "df_sample_housing.plot.scatter(x=\"longitude\", y=\"latitude\", c=\"households\", cmap=\"seismic\", ax=axes.flatten()[2])\n",
    "\n",
    "plt.show()"
   ]
  },
  {
   "cell_type": "markdown",
   "metadata": {},
   "source": [
    "<img src=\"https://upload.wikimedia.org/wikipedia/commons/thumb/9/94/California_in_United_States.svg/1280px-California_in_United_States.svg.png\" alt=\"サンプル\" width=\"400\">"
   ]
  },
  {
   "cell_type": "markdown",
   "metadata": {
    "colab_type": "text",
    "id": "878xajbgKP37"
   },
   "source": [
    "## 補足資料  \n",
    "\n",
    "この資料による説明は以上です。さらに詳しく知りたい場合は、  \n",
    "\n",
    "- [Matplotlib: Python plotting](https://matplotlib.org/)  \n",
    "  - [Overview](https://matplotlib.org/contents.html)\n",
    "  - [Tutorials](https://matplotlib.org/tutorials/index.html)  \n",
    "- [12. Matplotlib 入門 — ディープラーニング入門：Chainer チュートリアル](https://tutorials.chainer.org/ja/src/12_Introduction_to_Matplotlib_ja.html)  \n",
    "- [matplotlibのめっちゃまとめ - Qiita](https://qiita.com/nkay/items/d1eb91e33b9d6469ef51)    \n",
    "\n",
    "などを参照してください。  "
   ]
  }
 ],
 "metadata": {
  "colab": {
   "collapsed_sections": [],
   "name": "Matplotlib練習(Light版).ipynb",
   "provenance": [],
   "toc_visible": true,
   "version": "0.3.2"
  },
  "kernelspec": {
   "display_name": "jpy",
   "language": "python",
   "name": "jpy"
  },
  "language_info": {
   "codemirror_mode": {
    "name": "ipython",
    "version": 3
   },
   "file_extension": ".py",
   "mimetype": "text/x-python",
   "name": "python",
   "nbconvert_exporter": "python",
   "pygments_lexer": "ipython3",
   "version": "3.7.6"
  },
  "toc-autonumbering": true
 },
 "nbformat": 4,
 "nbformat_minor": 4
}
