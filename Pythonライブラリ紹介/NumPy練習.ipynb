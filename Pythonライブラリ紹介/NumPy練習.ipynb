{
 "cells": [
  {
   "cell_type": "markdown",
   "metadata": {
    "colab_type": "text",
    "id": "uO-Ynsfn5l1a"
   },
   "source": [
    "# NumPy 練習  \n",
    "\n",
    "## NumPy とは\n",
    "\n",
    "> プログラミング言語 Python において数値計算を効率的に行うための拡張モジュールである。効率的な数値計算を行うための型付きの多次元配列（例えばベクトルや行列などを表現できる）のサポートを Python に加えるとともに、それらを操作するための大規模な高水準の数学関数ライブラリを提供する。([Wikipedia](https://ja.wikipedia.org/wiki/NumPy)より)  "
   ]
  },
  {
   "cell_type": "markdown",
   "metadata": {},
   "source": [
    "---"
   ]
  },
  {
   "cell_type": "code",
   "execution_count": null,
   "metadata": {
    "colab": {},
    "colab_type": "code",
    "id": "A2WCZoJS324g"
   },
   "outputs": [],
   "source": [
    "# モジュールのインポート\n",
    "import numpy as np"
   ]
  },
  {
   "cell_type": "markdown",
   "metadata": {
    "colab_type": "text",
    "id": "YUbzrZ9o54j0"
   },
   "source": [
    "## NumPy の配列の基本操作  \n",
    "\n",
    "Python 本体には `list` というクラス（以下リスト）がありますが、配列に相当するクラスはありません。リストは格納されている要素のクラスが同じでなくてもよく、気軽に要素を追加できるなどの柔軟性で利点がありますが、数値計算をするときの速度などの点では NumPy の `ndarray` クラスの方が優秀です。  その代わり、`ndarray` では各要素はすべて同じクラスである必要があります。"
   ]
  },
  {
   "cell_type": "markdown",
   "metadata": {
    "colab_type": "text",
    "id": "WddLaSx8_347"
   },
   "source": [
    "### リストから ndarray を作る numpy.array()  \n",
    "\n",
    "1 次元の `ndarray` はリストと似ていますが、全ての要素が同じクラスであるという点が異なります。1 次元の `ndarray` は、下記のように `numpy.array()` を使うことで、リストから簡単に作れます。  "
   ]
  },
  {
   "cell_type": "code",
   "execution_count": null,
   "metadata": {
    "colab": {},
    "colab_type": "code",
    "id": "ZXWROYBQ4D04"
   },
   "outputs": [],
   "source": [
    "basic_array = np.array([1, 2, 3])\n",
    "print(basic_array)\n",
    "print(type(basic_array))"
   ]
  },
  {
   "cell_type": "markdown",
   "metadata": {
    "colab_type": "text",
    "id": "eyTvFyJB6mDL"
   },
   "source": [
    "1 次元の `ndarray` の `i` 番目の要素にアクセスするにはリストと同様に `ndarray[i]` とします。ただし Python では、インデックスは `0` から始まるので、要素を順に「0 番目」「1 番目」と呼ぶことにします。2 次元配列の場合の「i 行目」「j 列目」の呼称も同様です。  "
   ]
  },
  {
   "cell_type": "code",
   "execution_count": null,
   "metadata": {
    "colab": {},
    "colab_type": "code",
    "id": "hdO8uzmt5GQ3"
   },
   "outputs": [],
   "source": [
    "basic_array[1]"
   ]
  },
  {
   "cell_type": "markdown",
   "metadata": {
    "colab_type": "text",
    "id": "pOy9DRPW76Mm"
   },
   "source": [
    "`ndarray` の形状はその属性 (プロパティ) を参照して、`ndarray.shape` で確認することができます。  "
   ]
  },
  {
   "cell_type": "code",
   "execution_count": null,
   "metadata": {
    "colab": {},
    "colab_type": "code",
    "id": "nm1k5vJ25JBf"
   },
   "outputs": [],
   "source": [
    "basic_array.shape"
   ]
  },
  {
   "cell_type": "markdown",
   "metadata": {
    "colab_type": "text",
    "id": "SakdrVFR78Td"
   },
   "source": [
    "要素のクラスは、`ndarray.dtype.name` で確認することができます。  "
   ]
  },
  {
   "cell_type": "code",
   "execution_count": null,
   "metadata": {
    "colab": {},
    "colab_type": "code",
    "id": "SdfRgr8m5KF3"
   },
   "outputs": [],
   "source": [
    "basic_array.dtype.name"
   ]
  },
  {
   "cell_type": "markdown",
   "metadata": {
    "colab_type": "text",
    "id": "oa37LiWQASFj"
   },
   "source": [
    "### 等差数列を要素とする配列を作る numpy.arange() と numpy.linspace()  \n",
    "\n",
    "等差数列を要素とする配列を作るには `numpy.arange()`、`numpy.linspace()` を使います。  \n",
    "\n",
    "`numpy.arange()` は公差を、`numpy.linspace()` は要素数を指定する点が異なります。それぞれ a\"rr\"ange、lin\"e\"space **ではない**ので注意💦  "
   ]
  },
  {
   "cell_type": "code",
   "execution_count": null,
   "metadata": {
    "colab": {},
    "colab_type": "code",
    "id": "YMYZ0Xaa5NS_"
   },
   "outputs": [],
   "source": [
    "# 0 から 3 (4 のひとつ手前) まで\n",
    "arange_array_1 = np.arange(4)  \n",
    "arange_array_1"
   ]
  },
  {
   "cell_type": "code",
   "execution_count": null,
   "metadata": {
    "colab": {},
    "colab_type": "code",
    "id": "hCXa4DOZBGqy"
   },
   "outputs": [],
   "source": [
    "# 2 から 3 (4 のひとつ手前) まで\n",
    "arange_array_2 = np.arange(2, 4)  \n",
    "arange_array_2"
   ]
  },
  {
   "cell_type": "code",
   "execution_count": null,
   "metadata": {
    "colab": {},
    "colab_type": "code",
    "id": "X441UyiABRVh"
   },
   "outputs": [],
   "source": [
    "# 3 から 0.1 刻みで 4 の直前まで\n",
    "arange_array_3 = np.arange(3, 4, 0.1)  \n",
    "arange_array_3"
   ]
  },
  {
   "cell_type": "code",
   "execution_count": null,
   "metadata": {},
   "outputs": [],
   "source": [
    "# linspace() は始点と終点を必ず指定する\n",
    "# 要素数を指定しない場合、自動で 50 要素となる\n",
    "# 1 から 5 まで (5 を含む) 50 等分\n",
    "linspace_array_1 = np.linspace(1, 5)  \n",
    "linspace_array_1"
   ]
  },
  {
   "cell_type": "code",
   "execution_count": null,
   "metadata": {},
   "outputs": [],
   "source": [
    "# 1 から 5 まで (5 を含まない) 50 等分\n",
    "linspace_array_2 = np.linspace(1, 5, endpoint=False)\n",
    "linspace_array_2"
   ]
  },
  {
   "cell_type": "code",
   "execution_count": null,
   "metadata": {},
   "outputs": [],
   "source": [
    "# # 1 から 5 まで (5 を含む) 10 等分\n",
    "linspace_array_3 = np.linspace(1, 5, 10)  \n",
    "linspace_array_3"
   ]
  },
  {
   "cell_type": "markdown",
   "metadata": {
    "colab_type": "text",
    "id": "k_p1up6ECIa7"
   },
   "source": [
    "### 名前付き引数 dtype で配列の要素のクラスを指定する  \n",
    "\n",
    "配列の要素のクラスは自動的に設定されますが、`numpy.array()` の名前付き引数 `dtype=` で明示的に指定することもできます。  "
   ]
  },
  {
   "cell_type": "code",
   "execution_count": null,
   "metadata": {
    "colab": {},
    "colab_type": "code",
    "id": "YQT1z7tjBhxB"
   },
   "outputs": [],
   "source": [
    "int_array = np.array([1, 2, 3])\n",
    "int_array.dtype.name"
   ]
  },
  {
   "cell_type": "code",
   "execution_count": null,
   "metadata": {
    "colab": {},
    "colab_type": "code",
    "id": "mAbMSva9CloX"
   },
   "outputs": [],
   "source": [
    "float_array = np.array([1., 2., 3.])\n",
    "float_array.dtype.name"
   ]
  },
  {
   "cell_type": "code",
   "execution_count": null,
   "metadata": {
    "colab": {},
    "colab_type": "code",
    "id": "piIqC1ZvCti3"
   },
   "outputs": [],
   "source": [
    "converted_float_array = np.array([1, 2, 3], dtype=\"float64\")\n",
    "converted_float_array.dtype.name"
   ]
  },
  {
   "cell_type": "markdown",
   "metadata": {
    "colab_type": "text",
    "id": "DaT6MwvlEiS0"
   },
   "source": [
    "### 多次元リストから多次元 ndarray を作る  \n",
    "\n",
    "`numpy.array()` の引数に多次元のリストを渡すと、多次元の `ndarray` を作成することができます。  \n",
    "2 次元 `ndarray` から要素を取り出すには `ndarray[i, j]` のようにします。もちろんインデックスは `0` から始まります。  \n",
    "3 次元では、`ndarray[i, j, k]` です。  \n",
    "\n",
    "`ndarray.shape` で `ndarray` の形 (各次元の要素数) を確認することができます。 "
   ]
  },
  {
   "cell_type": "markdown",
   "metadata": {},
   "source": [
    "ndarray の次元と axis (軸) の方向との関係は以下の通りです。  \n",
    "\n",
    "![関係](./pictures/ndarrayとaxisの関係.png)\n",
    "\n",
    "`np.array()` に渡すリストの外側の `[ ]` から順に、次元のインデックス `0, 1, 2,…` が対応することになります。  "
   ]
  },
  {
   "cell_type": "code",
   "execution_count": null,
   "metadata": {},
   "outputs": [],
   "source": [
    "one_dim_list = [0, 1, 2, 3]\n",
    "\n",
    "one_dim_array = np.array(one_dim_list)\n",
    "print(one_dim_array)\n",
    "print(one_dim_array.shape)"
   ]
  },
  {
   "cell_type": "code",
   "execution_count": null,
   "metadata": {
    "colab": {},
    "colab_type": "code",
    "id": "4r8Q-wEtC4HQ"
   },
   "outputs": [],
   "source": [
    "two_dim_list = [[0, 1, 2, 3], [4, 5, 6, 7], [8, 9, 10, 11]] # 2次元のリスト\n",
    "\n",
    "two_dim_array = np.array(two_dim_list)\n",
    "print(two_dim_array)\n",
    "print(two_dim_array.shape)"
   ]
  },
  {
   "cell_type": "code",
   "execution_count": null,
   "metadata": {
    "colab": {},
    "colab_type": "code",
    "id": "PztATepYE2e_"
   },
   "outputs": [],
   "source": [
    "two_dim_array[1, 2]"
   ]
  },
  {
   "cell_type": "code",
   "execution_count": null,
   "metadata": {},
   "outputs": [],
   "source": [
    "three_dim_list = [[[0, 1, 2, 3], [4, 5, 6, 7], [8, 9, 10, 11]], [[12, 13, 14, 15], [16, 17, 18, 19], [20, 21, 22, 23]]]\n",
    "\n",
    "three_dim_array = np.array(three_dim_list)\n",
    "print(three_dim_array)\n",
    "print(three_dim_array.shape)"
   ]
  },
  {
   "cell_type": "code",
   "execution_count": null,
   "metadata": {},
   "outputs": [],
   "source": [
    "three_dim_array[1, 0, 2]"
   ]
  },
  {
   "cell_type": "markdown",
   "metadata": {
    "colab_type": "text",
    "id": "l7gCubtajBZf"
   },
   "source": [
    "## スライシング  "
   ]
  },
  {
   "cell_type": "markdown",
   "metadata": {
    "colab_type": "text",
    "id": "rgNLl60mjG1C"
   },
   "source": [
    "### 与えられた配列の一部を取り出すスライシング  \n",
    "\n",
    "与えられた配列の一部を取り出すには「スライシング」という仕組みを使います。1 次元の `ndarray` である `vec` に対して、`vec[i:j], v[i:], v[:j]` などとして一部の要素を抽出できるのはリストと同様です。  \n",
    "\n",
    "`vec[i:j:step]` のようにすれば抽出のステップを指定することができ、インデックスを負の数にすれば要素の後ろから数えたインデックスを意味します。これらもリストの扱いと同様です。  \n",
    "\n",
    "また、2 次元の `ndarray` については `mat[i:j, k:l]` のように、それぞれの次元のインデックスでのスライシングができます。"
   ]
  },
  {
   "cell_type": "code",
   "execution_count": null,
   "metadata": {
    "colab": {},
    "colab_type": "code",
    "id": "VImM9L2MlMvu"
   },
   "outputs": [],
   "source": [
    "vec = np.array([1, 2, 3, 4])\n",
    "vec"
   ]
  },
  {
   "cell_type": "code",
   "execution_count": null,
   "metadata": {},
   "outputs": [],
   "source": [
    "vec[1:3]"
   ]
  },
  {
   "cell_type": "code",
   "execution_count": null,
   "metadata": {
    "colab": {},
    "colab_type": "code",
    "id": "Jhd6rZwOlaWe"
   },
   "outputs": [],
   "source": [
    "vec[2:]"
   ]
  },
  {
   "cell_type": "code",
   "execution_count": null,
   "metadata": {
    "colab": {},
    "colab_type": "code",
    "id": "SV9YxZBOld1c"
   },
   "outputs": [],
   "source": [
    "vec[:3]"
   ]
  },
  {
   "cell_type": "code",
   "execution_count": null,
   "metadata": {},
   "outputs": [],
   "source": [
    "vec[::2]"
   ]
  },
  {
   "cell_type": "code",
   "execution_count": null,
   "metadata": {
    "colab": {},
    "colab_type": "code",
    "id": "QOXtFkj8lfn-"
   },
   "outputs": [],
   "source": [
    "vec[:-1]"
   ]
  },
  {
   "cell_type": "code",
   "execution_count": null,
   "metadata": {
    "colab": {},
    "colab_type": "code",
    "id": "vsBBPxWQllpE"
   },
   "outputs": [],
   "source": [
    "# reshape() メソッドで形を変えることができる\n",
    "mat = np.arange(9).reshape(3, 3)\n",
    "mat"
   ]
  },
  {
   "cell_type": "code",
   "execution_count": null,
   "metadata": {
    "colab": {},
    "colab_type": "code",
    "id": "nwUY2ocIn73Y"
   },
   "outputs": [],
   "source": [
    "mat[1, 2]"
   ]
  },
  {
   "cell_type": "code",
   "execution_count": null,
   "metadata": {
    "colab": {},
    "colab_type": "code",
    "id": "94trTM66ly50"
   },
   "outputs": [],
   "source": [
    "mat[:2, :]"
   ]
  },
  {
   "cell_type": "code",
   "execution_count": null,
   "metadata": {
    "colab": {},
    "colab_type": "code",
    "id": "-xUSnlDCn022"
   },
   "outputs": [],
   "source": [
    "mat[:, 1:]"
   ]
  },
  {
   "cell_type": "code",
   "execution_count": null,
   "metadata": {
    "colab": {},
    "colab_type": "code",
    "id": "tScMYDY5oN7O"
   },
   "outputs": [],
   "source": [
    "mat[0:3, 2]"
   ]
  },
  {
   "cell_type": "markdown",
   "metadata": {},
   "source": [
    "## ndarray の要素の書き換え  "
   ]
  },
  {
   "cell_type": "code",
   "execution_count": null,
   "metadata": {},
   "outputs": [],
   "source": [
    "base_array = np.arange(45).reshape(5, -1)  # -1 を指定すると、その他の情報から適当な数にしてくれる\n",
    "base_array"
   ]
  },
  {
   "cell_type": "code",
   "execution_count": null,
   "metadata": {},
   "outputs": [],
   "source": [
    "base_array[0, 0] = -1\n",
    "base_array"
   ]
  },
  {
   "cell_type": "code",
   "execution_count": null,
   "metadata": {},
   "outputs": [],
   "source": [
    "base_array[2:5, 0] = -2\n",
    "base_array"
   ]
  },
  {
   "cell_type": "code",
   "execution_count": null,
   "metadata": {},
   "outputs": [],
   "source": [
    "base_array[2:4, 5:7] = -3\n",
    "base_array"
   ]
  },
  {
   "cell_type": "code",
   "execution_count": null,
   "metadata": {},
   "outputs": [],
   "source": [
    "base_array[4, 4:7] = [-4, -5, -6]\n",
    "base_array"
   ]
  },
  {
   "cell_type": "markdown",
   "metadata": {},
   "source": [
    "## ndarray の要素の条件による抽出  "
   ]
  },
  {
   "cell_type": "code",
   "execution_count": null,
   "metadata": {},
   "outputs": [],
   "source": [
    "# 比較した結果を真偽値とする ndarray が返る\n",
    "base_array == -1"
   ]
  },
  {
   "cell_type": "code",
   "execution_count": null,
   "metadata": {},
   "outputs": [],
   "source": [
    "base_array < 0"
   ]
  },
  {
   "cell_type": "code",
   "execution_count": null,
   "metadata": {},
   "outputs": [],
   "source": [
    "# 比較した結果 True の要素のみを 1 次元の ndarray として抽出\n",
    "base_array[base_array < 0]"
   ]
  },
  {
   "cell_type": "markdown",
   "metadata": {},
   "source": [
    "### numpy.any() と numpy.all()  \n",
    "\n",
    "`numpy.any()` は、引数として与えられた真偽値を要素とする `ndarray` の要素のうち、ひとつでも `True` があれば `Ture` を返します。  \n",
    "`numpy.all()` は、引数として与えられた真偽値を要素とする `ndarray` の要素が、すべて `True` であれば `Ture` を返します。  \n",
    "\n",
    "さらに、それぞれ `axis=` で指定することで、集計の軸 (方向) を指定して、真偽値を要素とする `ndarray` を返します。  "
   ]
  },
  {
   "cell_type": "code",
   "execution_count": null,
   "metadata": {},
   "outputs": [],
   "source": [
    "np.any(base_array < 0)"
   ]
  },
  {
   "cell_type": "code",
   "execution_count": null,
   "metadata": {},
   "outputs": [],
   "source": [
    "np.any(base_array < 0, axis=0)"
   ]
  },
  {
   "cell_type": "code",
   "execution_count": null,
   "metadata": {},
   "outputs": [],
   "source": [
    "np.any(base_array < 0, axis=1)"
   ]
  },
  {
   "cell_type": "code",
   "execution_count": null,
   "metadata": {},
   "outputs": [],
   "source": [
    "np.all(base_array >= 0)"
   ]
  },
  {
   "cell_type": "code",
   "execution_count": null,
   "metadata": {},
   "outputs": [],
   "source": [
    "np.all(base_array >= 0, axis=0)"
   ]
  },
  {
   "cell_type": "code",
   "execution_count": null,
   "metadata": {},
   "outputs": [],
   "source": [
    "np.all(base_array >= 0, axis=1)"
   ]
  },
  {
   "cell_type": "markdown",
   "metadata": {},
   "source": [
    "### numpy.where()  \n",
    "\n",
    "`numpy.where(ndarrayに対する比較式, Trueのときの値, Falseのときの値)` のように引数を与えると、比較した結果によって `ndarray` の要素の値を置き換えた、**新たな** `ndarray` を返します。  "
   ]
  },
  {
   "cell_type": "code",
   "execution_count": null,
   "metadata": {},
   "outputs": [],
   "source": [
    "np.where(base_array <= 0, 1, -1)"
   ]
  },
  {
   "cell_type": "code",
   "execution_count": null,
   "metadata": {},
   "outputs": [],
   "source": [
    "# 元の ndarray 自体は変わっていない\n",
    "base_array"
   ]
  },
  {
   "cell_type": "markdown",
   "metadata": {},
   "source": [
    "## ndarray の複製  "
   ]
  },
  {
   "cell_type": "code",
   "execution_count": null,
   "metadata": {},
   "outputs": [],
   "source": [
    "origin_array = np.array(range(10))\n",
    "origin_array"
   ]
  },
  {
   "cell_type": "code",
   "execution_count": null,
   "metadata": {},
   "outputs": [],
   "source": [
    "# まずはベースの ndarray を代入したものを作り、\n",
    "# 値を書き換えてみる\n",
    "# ベースにも同じ変更が反映されている\n",
    "assigned_array = origin_array\n",
    "\n",
    "assigned_array[7] = 70\n",
    "\n",
    "print(\"origin array:\\t{}\".format(origin_array))\n",
    "print(\"assigned_array:\\t{}\".format(assigned_array))"
   ]
  },
  {
   "cell_type": "code",
   "execution_count": null,
   "metadata": {},
   "outputs": [],
   "source": [
    "# ベースの ndarray を copy() したものの場合\n",
    "# ベースに変更の影響はない\n",
    "copied_array = origin_array.copy()\n",
    "\n",
    "copied_array[8] = 80\n",
    "\n",
    "print(\"origin array:\\t{}\".format(origin_array))\n",
    "print(\"copied array:\\t{}\".format(copied_array))"
   ]
  },
  {
   "cell_type": "code",
   "execution_count": null,
   "metadata": {},
   "outputs": [],
   "source": [
    "# スライスによって作られた ndarray についても同じ\n",
    "sliced_array = origin_array[:5]\n",
    "sliced_and_copied_array = origin_array[:5].copy()\n",
    "\n",
    "print(\"sliced array:\\t\\t\\t{}\".format(sliced_array))\n",
    "print(\"sliced and copied array:\\t{}\".format(sliced_and_copied_array))"
   ]
  },
  {
   "cell_type": "code",
   "execution_count": null,
   "metadata": {},
   "outputs": [],
   "source": [
    "sliced_array[0] = -1\n",
    "sliced_and_copied_array[1] = 100\n",
    "\n",
    "print(\"origin array:\\t\\t\\t{}\".format(origin_array))\n",
    "print(\"sliced array:\\t\\t\\t{}\".format(sliced_array))\n",
    "print(\"sliced and copied array:\\t{}\".format(sliced_and_copied_array))"
   ]
  },
  {
   "cell_type": "markdown",
   "metadata": {},
   "source": [
    "## ndarray の要素の追加と削除"
   ]
  },
  {
   "cell_type": "code",
   "execution_count": null,
   "metadata": {},
   "outputs": [],
   "source": [
    "one_dim_array_1 = np.array([0, 1])\n",
    "one_dim_array_2 = np.array([10])"
   ]
  },
  {
   "cell_type": "code",
   "execution_count": null,
   "metadata": {},
   "outputs": [],
   "source": [
    "# append() で末尾に追加\n",
    "one_dim_array_1 = np.append(one_dim_array_1, 3)\n",
    "one_dim_array_1"
   ]
  },
  {
   "cell_type": "code",
   "execution_count": null,
   "metadata": {},
   "outputs": [],
   "source": [
    "one_dim_array_2 = np.append(one_dim_array_2, [11, 12])\n",
    "one_dim_array_2"
   ]
  },
  {
   "cell_type": "code",
   "execution_count": null,
   "metadata": {},
   "outputs": [],
   "source": [
    "# insert() で任意の場所に追加\n",
    "one_dim_array_1 = np.insert(one_dim_array_1, 2, 2)\n",
    "one_dim_array_1"
   ]
  },
  {
   "cell_type": "code",
   "execution_count": null,
   "metadata": {},
   "outputs": [],
   "source": [
    "one_dim_array_2 = np.insert(one_dim_array_2, 0, [100, 200])\n",
    "one_dim_array_2"
   ]
  },
  {
   "cell_type": "code",
   "execution_count": null,
   "metadata": {},
   "outputs": [],
   "source": [
    "# delete() で任意の要素の削除 (-1 で末尾を指定している)\n",
    "one_dim_array_1 = np.delete(one_dim_array_1, -1)\n",
    "one_dim_array_1"
   ]
  },
  {
   "cell_type": "code",
   "execution_count": null,
   "metadata": {},
   "outputs": [],
   "source": [
    "one_dim_array_2 = np.delete(one_dim_array_2, np.s_[0:2])\n",
    "one_dim_array_2"
   ]
  },
  {
   "cell_type": "markdown",
   "metadata": {},
   "source": [
    "`np.s_[start:stop:step]` はスライス記法と同じものと考えてください。  "
   ]
  },
  {
   "cell_type": "code",
   "execution_count": null,
   "metadata": {},
   "outputs": [],
   "source": [
    "# concatenate() で ndarray 同士を連結\n",
    "np.concatenate([one_dim_array_1, one_dim_array_2])"
   ]
  },
  {
   "cell_type": "code",
   "execution_count": null,
   "metadata": {},
   "outputs": [],
   "source": [
    "# hstack() で水平方向に連結\n",
    "np.hstack([one_dim_array_1, one_dim_array_2])"
   ]
  },
  {
   "cell_type": "code",
   "execution_count": null,
   "metadata": {},
   "outputs": [],
   "source": [
    "# vstack() で垂直方向に連結\n",
    "two_dim_array_1 = np.vstack([one_dim_array_1, one_dim_array_2])\n",
    "two_dim_array_1"
   ]
  },
  {
   "cell_type": "code",
   "execution_count": null,
   "metadata": {},
   "outputs": [],
   "source": [
    "# concatenate() で axis を指定して 2 次元の ndarray を連結\n",
    "two_dim_array_2 = np.array([[4, 5], [24, 25]])\n",
    "\n",
    "np.concatenate([two_dim_array_1, two_dim_array_2], axis=1)"
   ]
  },
  {
   "cell_type": "code",
   "execution_count": null,
   "metadata": {},
   "outputs": [],
   "source": [
    "# numpy.newaxis を以下のように加えると ndarray に新たな次元を追加する\n",
    "one_dim_array_1[:, np.newaxis]"
   ]
  },
  {
   "cell_type": "code",
   "execution_count": null,
   "metadata": {},
   "outputs": [],
   "source": [
    "one_dim_array_2[np.newaxis, :]"
   ]
  },
  {
   "cell_type": "markdown",
   "metadata": {},
   "source": [
    "## 様々な ndarray の作成  "
   ]
  },
  {
   "cell_type": "markdown",
   "metadata": {
    "colab_type": "text",
    "id": "AKsdfZpXJO7X"
   },
   "source": [
    "### numpy.zeros() と numpy.ones()  \n",
    "\n",
    "あらかじめ決められた値の入った `ndarray` が必要なこともよくあります。要素が全部 `0` である行列は `numpy.zeros()` で、要素が全部 1 である行列は `numpy.ones()` で作れます。これらも `dtype=` で要素のクラスを指定できます。"
   ]
  },
  {
   "cell_type": "code",
   "execution_count": null,
   "metadata": {
    "colab": {},
    "colab_type": "code",
    "id": "6qMLOK2IHGkg"
   },
   "outputs": [],
   "source": [
    "zeros_array = np.zeros((3, 4))\n",
    "zeros_array"
   ]
  },
  {
   "cell_type": "code",
   "execution_count": null,
   "metadata": {
    "colab": {},
    "colab_type": "code",
    "id": "YZQf5ip1LBCF"
   },
   "outputs": [],
   "source": [
    "ones_array = np.ones((3, 4))\n",
    "ones_array"
   ]
  },
  {
   "cell_type": "code",
   "execution_count": null,
   "metadata": {
    "colab": {},
    "colab_type": "code",
    "id": "OYjnUh5BcEx8"
   },
   "outputs": [],
   "source": [
    "int_zeros_array = np.zeros((3, 3), dtype=\"int64\")\n",
    "int_zeros_array"
   ]
  },
  {
   "cell_type": "markdown",
   "metadata": {
    "colab_type": "text",
    "id": "BdrEFTclc3xO"
   },
   "source": [
    "### 特定の値で初期化されていない ndarray を作る numpy.empty()  \n",
    "\n",
    "「中身は何でも構わないから、ただ配列の入れ物だけ用意して、要素は後で入れる」という場合、`numpy.empty()` を使います。これは、配列の入れ物を用意するだけで要素への設定は行わないので、配列の要素が何になるかは分かりません。たまたま配列のメモリ領域を確保したときに、そこにあった値がそのまま使われます。  "
   ]
  },
  {
   "cell_type": "code",
   "execution_count": null,
   "metadata": {
    "colab": {},
    "colab_type": "code",
    "id": "TtuUK77kcRWE"
   },
   "outputs": [],
   "source": [
    "empty_array = np.empty((4, 3))\n",
    "empty_array"
   ]
  },
  {
   "cell_type": "markdown",
   "metadata": {
    "colab_type": "text",
    "id": "l3rAVoT4bgeN"
   },
   "source": [
    "### 乱数値を要素に持つ ndarray  \n",
    "\n",
    "関数名|機能\n",
    "-|-\n",
    "`numpy.random.rand()`|0 以上 1 未満の一様分布から抽出した乱数\n",
    "`numpy.random.uniform()`|任意の区間の一様分布から抽出した乱数\n",
    "`numpy.random.randint()`| 任意の区間の一様分布から抽出した整数の乱数\n",
    "`numpy.random.randn()`|標準正規分布 (平均 0, 標準偏差 1) から抽出した乱数\n",
    "`numpy.random.normal()`|任意の平均、標準偏差の正規分布から抽出した乱数"
   ]
  },
  {
   "cell_type": "code",
   "execution_count": null,
   "metadata": {
    "colab": {},
    "colab_type": "code",
    "id": "PHPZd43wbfa-"
   },
   "outputs": [],
   "source": [
    "# (疑似) 乱数を生成する際のシード値を指定することができる\n",
    "# シード値を指定して生成した乱数は、毎回同じものとなる\n",
    "# 追試、検証には便利\n",
    "np.random.seed(0)"
   ]
  },
  {
   "cell_type": "code",
   "execution_count": null,
   "metadata": {
    "colab": {},
    "colab_type": "code",
    "id": "8xAlapjDbtfx"
   },
   "outputs": [],
   "source": [
    "# 0 以上 1 未満の乱数 (一様分布)\n",
    "print(np.random.rand())\n",
    "\n",
    "rand_array = np.random.rand(2, 3)\n",
    "print(rand_array)\n",
    "\n",
    "# 本セルを上のセルに続けてはじめて実行した場合、以下の結果が出力されるはず\n",
    "# 0.5488135039273248\n",
    "# [[0.71518937 0.60276338 0.54488318]\n",
    "#  [0.4236548  0.64589411 0.43758721]]"
   ]
  },
  {
   "cell_type": "code",
   "execution_count": null,
   "metadata": {
    "colab": {},
    "colab_type": "code",
    "id": "mZqW808c0SlY"
   },
   "outputs": [],
   "source": [
    "# 区間を指定した一様分布に従う乱数\n",
    "print(np.random.uniform(0, 6)) # 区間[0, 6)の一様分布から抽出\n",
    "\n",
    "uniform_array = np.random.uniform(0, 6, (5, 3))\n",
    "print(uniform_array)"
   ]
  },
  {
   "cell_type": "code",
   "execution_count": null,
   "metadata": {
    "colab": {},
    "colab_type": "code",
    "id": "kWM-DAVqbtiy"
   },
   "outputs": [],
   "source": [
    "# 区間を指定した整数の乱数 (一様分布)\n",
    "print(np.random.randint(0, 5))\n",
    "\n",
    "randint_array = np.random.randint(0, 10, [2, 3])\n",
    "print(randint_array)"
   ]
  },
  {
   "cell_type": "code",
   "execution_count": null,
   "metadata": {
    "colab": {},
    "colab_type": "code",
    "id": "iThlnDokbtmG"
   },
   "outputs": [],
   "source": [
    "# 平均 0 標準偏差 1 の標準正規分布に従う乱数\n",
    "print(np.random.randn())\n",
    "\n",
    "randn_array = np.random.randn(2, 3)\n",
    "print(randn_array)"
   ]
  },
  {
   "cell_type": "code",
   "execution_count": null,
   "metadata": {
    "colab": {},
    "colab_type": "code",
    "id": "gfDprzvtbtpu"
   },
   "outputs": [],
   "source": [
    "# 平均、標準偏差を指定した正規分布に従う乱数\n",
    "print(np.random.normal(5, 2)) # 平均 5、標準偏差 2 の正規分布\n",
    "\n",
    "normal_array = np.random.normal(-2, 3, (2, 3)) # 平均 -2、標準偏差 3 の正規分布の 2x3 配列\n",
    "print(normal_array)"
   ]
  },
  {
   "cell_type": "markdown",
   "metadata": {
    "colab_type": "text",
    "id": "P7rocU8upXCw"
   },
   "source": [
    "## ndarray を使った計算  "
   ]
  },
  {
   "cell_type": "markdown",
   "metadata": {
    "colab_type": "text",
    "id": "YUPzPqUGpcaV"
   },
   "source": [
    "### 和を求める numpy.sum() と平均値を求める numpy.mean()  \n",
    "\n",
    "和と平均値を求めるには `numpy.sum()`、`numpy.mean()` を使います。これらは名前付き引数 `axis=` を指定することで、どの方向に計算するかを指定でき、`axis=` の指定がない場合は全ての要素の和/平均値を計算します。"
   ]
  },
  {
   "cell_type": "code",
   "execution_count": null,
   "metadata": {
    "colab": {},
    "colab_type": "code",
    "id": "wCs5OTh6oQ-0"
   },
   "outputs": [],
   "source": [
    "target_array = np.arange(20).reshape(5, 4)\n",
    "target_array"
   ]
  },
  {
   "cell_type": "code",
   "execution_count": null,
   "metadata": {
    "colab": {},
    "colab_type": "code",
    "id": "4dLT4MGur_Ja"
   },
   "outputs": [],
   "source": [
    "np.sum(target_array)"
   ]
  },
  {
   "cell_type": "code",
   "execution_count": null,
   "metadata": {
    "colab": {},
    "colab_type": "code",
    "id": "LhZ1dlHtqUIs"
   },
   "outputs": [],
   "source": [
    "np.sum(target_array, axis=0)"
   ]
  },
  {
   "cell_type": "code",
   "execution_count": null,
   "metadata": {
    "colab": {},
    "colab_type": "code",
    "id": "NGIT4DoEqnYk"
   },
   "outputs": [],
   "source": [
    "np.mean(target_array, axis=1)"
   ]
  },
  {
   "cell_type": "markdown",
   "metadata": {
    "colab_type": "text",
    "id": "7mVlJeuqrJfd"
   },
   "source": [
    "`ndarray` に対する `sum()` メソッドや `mean()` メソッドを使うことで同様の結果を得ることができます。"
   ]
  },
  {
   "cell_type": "code",
   "execution_count": null,
   "metadata": {
    "colab": {},
    "colab_type": "code",
    "id": "1lTeE0cHqC_E"
   },
   "outputs": [],
   "source": [
    "target_array.sum()"
   ]
  },
  {
   "cell_type": "code",
   "execution_count": null,
   "metadata": {
    "colab": {},
    "colab_type": "code",
    "id": "99cAXlQeqItT"
   },
   "outputs": [],
   "source": [
    "target_array.sum(axis=0)"
   ]
  },
  {
   "cell_type": "code",
   "execution_count": null,
   "metadata": {
    "colab": {},
    "colab_type": "code",
    "id": "1CpjZkZCqNZs"
   },
   "outputs": [],
   "source": [
    "target_array.mean(axis=1)"
   ]
  },
  {
   "cell_type": "markdown",
   "metadata": {
    "colab_type": "text",
    "id": "aEAaUe5vsVLa"
   },
   "source": [
    "### 最小値と最大値  \n",
    "\n",
    "`ndarray` の最小値を求める `numpy.min()`、最大値を求める `numpy.max()` があります。  \n",
    "\n",
    "また、最小値の**インデックス**を求める `numpy.argmin()`、最大値の**インデックス**を求める `numpy.argmax()` もあります。  \n",
    "\n",
    "さらに、`sum()`、`mean()` と同様に `ndarray` に対するメソッドとしても使うことができます。"
   ]
  },
  {
   "cell_type": "code",
   "execution_count": null,
   "metadata": {
    "colab": {},
    "colab_type": "code",
    "id": "bDu0Ed0ps6Xu"
   },
   "outputs": [],
   "source": [
    "target_array"
   ]
  },
  {
   "cell_type": "code",
   "execution_count": null,
   "metadata": {
    "colab": {},
    "colab_type": "code",
    "id": "crVSdSagq0NU"
   },
   "outputs": [],
   "source": [
    "np.min(target_array, axis=1)"
   ]
  },
  {
   "cell_type": "code",
   "execution_count": null,
   "metadata": {
    "colab": {},
    "colab_type": "code",
    "id": "Dvb0i4UBsiMk"
   },
   "outputs": [],
   "source": [
    "np.max(target_array, axis=1)"
   ]
  },
  {
   "cell_type": "code",
   "execution_count": null,
   "metadata": {
    "colab": {},
    "colab_type": "code",
    "id": "8uZ2NJlUvRsb"
   },
   "outputs": [],
   "source": [
    "np.argmin(target_array, axis=1)"
   ]
  },
  {
   "cell_type": "code",
   "execution_count": null,
   "metadata": {
    "colab": {},
    "colab_type": "code",
    "id": "UkWUuVQGsu5t"
   },
   "outputs": [],
   "source": [
    "np.argmax(target_array, axis=1)"
   ]
  },
  {
   "cell_type": "markdown",
   "metadata": {
    "colab_type": "text",
    "id": "inSWPni0zoIA"
   },
   "source": [
    "### 行列積を求める numpy.dot()  \n",
    "\n",
    "`numpy.dot()` で、行列同士の積を下記の公式に沿って行うことができます。  \n",
    "\n",
    "$${\n",
    "\\boldsymbol{A} = \n",
    "\\begin{pmatrix}\n",
    "a & b \\\\\n",
    "c & d \\\\\n",
    "\\end{pmatrix},~\n",
    "\\boldsymbol{B} =\n",
    "\\begin{pmatrix}\n",
    "e & f \\\\\n",
    "g & h \\\\\n",
    "\\end{pmatrix} \n",
    "}$$\n",
    "\n",
    "$${\n",
    "\\boldsymbol{A}  \\boldsymbol{B} = \n",
    "\\begin{pmatrix}\n",
    "ae + bg & af + bh \\\\\n",
    "ce + dg & cf + dh \\\\\n",
    "\\end{pmatrix}\n",
    "}$$  "
   ]
  },
  {
   "cell_type": "code",
   "execution_count": null,
   "metadata": {
    "colab": {},
    "colab_type": "code",
    "id": "18PJZL91w-fc"
   },
   "outputs": [],
   "source": [
    "array_A = np.arange(1, 5).reshape(2, 2)\n",
    "array_A"
   ]
  },
  {
   "cell_type": "code",
   "execution_count": null,
   "metadata": {
    "colab": {},
    "colab_type": "code",
    "id": "1c9v8WCp3Evv"
   },
   "outputs": [],
   "source": [
    "array_B = np.arange(5, 9).reshape(2, 2)\n",
    "array_B"
   ]
  },
  {
   "cell_type": "code",
   "execution_count": null,
   "metadata": {
    "colab": {},
    "colab_type": "code",
    "id": "zwktTjks3Oss"
   },
   "outputs": [],
   "source": [
    "np.dot(array_A, array_B)"
   ]
  },
  {
   "cell_type": "code",
   "execution_count": null,
   "metadata": {
    "colab": {},
    "colab_type": "code",
    "id": "bZfdGKOg3jQ8"
   },
   "outputs": [],
   "source": [
    "# 1次元配列 (ベクトル) 同士は内積計算を行う\n",
    "vec_a = np.array([1, 2, 3])\n",
    "vec_b = np.array([4, 5, 6])\n",
    "np.dot(vec_a, vec_b)"
   ]
  },
  {
   "cell_type": "code",
   "execution_count": null,
   "metadata": {
    "colab": {},
    "colab_type": "code",
    "id": "0v1IoCmd8ULe"
   },
   "outputs": [],
   "source": [
    "# 1x2 行列 (ベクトル) と 2x2 行列の行列積\n",
    "vec_c = np.array([10, 20])\n",
    "np.dot(vec_c, array_A)"
   ]
  },
  {
   "cell_type": "markdown",
   "metadata": {
    "colab_type": "text",
    "id": "kqOZUhlCkDjs"
   },
   "source": [
    "なお、Python 3.5 から追加された `@` 演算子は `numpy.dot()` と同じように作用します。  "
   ]
  },
  {
   "cell_type": "code",
   "execution_count": null,
   "metadata": {
    "colab": {},
    "colab_type": "code",
    "id": "s1TAnjoejimj"
   },
   "outputs": [],
   "source": [
    "# @ 演算子による行列積、ベクトル内積の計算\n",
    "array_A @ array_B"
   ]
  },
  {
   "cell_type": "code",
   "execution_count": null,
   "metadata": {
    "colab": {},
    "colab_type": "code",
    "id": "HbUVeGuvj3iA"
   },
   "outputs": [],
   "source": [
    "vec_a @ vec_b"
   ]
  },
  {
   "cell_type": "code",
   "execution_count": null,
   "metadata": {
    "colab": {},
    "colab_type": "code",
    "id": "ip1vY8jTj6fd"
   },
   "outputs": [],
   "source": [
    "vec_c @ array_A"
   ]
  },
  {
   "cell_type": "markdown",
   "metadata": {
    "colab_type": "text",
    "id": "aP0ewZoU7xfU"
   },
   "source": [
    "`numpy.dot()` や `@` ではなく、演算子 `*` を用いた場合は**同位置の要素ごとの積を計算します。**その他の四則演算も同様に同じ位置の要素同士に作用します。  \n",
    "ただしこのような結果が得られるためには、次元数が同じ配列である必要があります。  "
   ]
  },
  {
   "cell_type": "code",
   "execution_count": null,
   "metadata": {
    "colab": {},
    "colab_type": "code",
    "id": "dP8_Gc-p3Sh9"
   },
   "outputs": [],
   "source": [
    "array_A * array_B"
   ]
  },
  {
   "cell_type": "code",
   "execution_count": null,
   "metadata": {
    "colab": {},
    "colab_type": "code",
    "id": "ptuojIdKW7Do"
   },
   "outputs": [],
   "source": [
    "array_A + array_B"
   ]
  },
  {
   "cell_type": "code",
   "execution_count": null,
   "metadata": {
    "colab": {},
    "colab_type": "code",
    "id": "a1qSXLp0W66b"
   },
   "outputs": [],
   "source": [
    "array_A - array_B"
   ]
  },
  {
   "cell_type": "code",
   "execution_count": null,
   "metadata": {
    "colab": {},
    "colab_type": "code",
    "id": "T0y4vOy7W6vp"
   },
   "outputs": [],
   "source": [
    "array_A / array_B"
   ]
  },
  {
   "cell_type": "markdown",
   "metadata": {
    "colab_type": "text",
    "id": "sc0ZHnlhWLBh"
   },
   "source": [
    "## NumPy のブロードキャスティング  \n",
    "\n",
    "ブロードキャスティングとは、`ndarray` の全ての要素に、何らかの演算を作用させることを意味します。  "
   ]
  },
  {
   "cell_type": "markdown",
   "metadata": {
    "colab_type": "text",
    "id": "R870iF3vWcEH"
   },
   "source": [
    "### NumPy における配列の四則演算  "
   ]
  },
  {
   "cell_type": "code",
   "execution_count": null,
   "metadata": {
    "colab": {},
    "colab_type": "code",
    "id": "lHPhhXhg9F1b"
   },
   "outputs": [],
   "source": [
    "array_C = np.arange(5)\n",
    "array_D = np.arange(9).reshape(3, 3)\n",
    "\n",
    "array_C"
   ]
  },
  {
   "cell_type": "code",
   "execution_count": null,
   "metadata": {
    "colab": {},
    "colab_type": "code",
    "id": "6PthDTtmYZ8v"
   },
   "outputs": [],
   "source": [
    "array_D"
   ]
  },
  {
   "cell_type": "code",
   "execution_count": null,
   "metadata": {
    "colab": {},
    "colab_type": "code",
    "id": "CVePXKEuYl2T"
   },
   "outputs": [],
   "source": [
    "array_C + 1"
   ]
  },
  {
   "cell_type": "code",
   "execution_count": null,
   "metadata": {
    "colab": {},
    "colab_type": "code",
    "id": "RyXUvXVUYoMW"
   },
   "outputs": [],
   "source": [
    "array_C / 2"
   ]
  },
  {
   "cell_type": "code",
   "execution_count": null,
   "metadata": {
    "colab": {},
    "colab_type": "code",
    "id": "gmDEGFW7ZHZ2"
   },
   "outputs": [],
   "source": [
    "array_D - 2"
   ]
  },
  {
   "cell_type": "code",
   "execution_count": null,
   "metadata": {
    "colab": {},
    "colab_type": "code",
    "id": "vxksiOjdZK1f"
   },
   "outputs": [],
   "source": [
    "# * による積算も同様\n",
    "array_D * 4"
   ]
  },
  {
   "cell_type": "markdown",
   "metadata": {
    "colab_type": "text",
    "id": "HuNtAFbvaBbA"
   },
   "source": [
    "### ユニバーサル関数  \n",
    "\n",
    "NumPy では、四則演算に限らず、幾つかの関数でもブロードキャスティングが行えます。  \n",
    "\n",
    "ただし全ての関数についてこのような操作ができるわけではありません。ブロードキャスティング可能な関数を「ユニバーサル関数」、または略して `ufunc` と呼びます。  \n",
    "例えば以下のように、NumPy モジュールの関数である `numpy.exp()` を括弧を付けずに評価すると次のように `ufunc` と表示されます。  "
   ]
  },
  {
   "cell_type": "code",
   "execution_count": null,
   "metadata": {
    "colab": {},
    "colab_type": "code",
    "id": "xA-cS1tTaBIA"
   },
   "outputs": [],
   "source": [
    "np.exp"
   ]
  },
  {
   "cell_type": "code",
   "execution_count": null,
   "metadata": {
    "colab": {},
    "colab_type": "code",
    "id": "uqAp9bPhZ9zf"
   },
   "outputs": [],
   "source": [
    "# numpy.exp() は自然対数 e のべき乗を返す\n",
    "np.exp(1)  # = e^1"
   ]
  },
  {
   "cell_type": "code",
   "execution_count": null,
   "metadata": {
    "colab": {},
    "colab_type": "code",
    "id": "VxsGisGTbmqf"
   },
   "outputs": [],
   "source": [
    "array_E = np.arange(6).reshape(2, 3)\n",
    "array_E"
   ]
  },
  {
   "cell_type": "code",
   "execution_count": null,
   "metadata": {
    "colab": {},
    "colab_type": "code",
    "id": "B5nExmSQbzMP"
   },
   "outputs": [],
   "source": [
    "np.exp(array_E)"
   ]
  },
  {
   "cell_type": "markdown",
   "metadata": {
    "colab_type": "text",
    "id": "ud6fn_34ifBG"
   },
   "source": [
    "その他、下記のような一般的に使用する数学関数もユニバーサル関数として提供されています。(一部抜粋)  \n",
    "\n",
    "関数名|機能\n",
    "-|-\n",
    "`numpy.sin()/cos()/tan()`|三角関数\n",
    "`numpy.sinh()/cosh()/tanh()`|双曲線関数\n",
    "`numpy.arcsin()/arccos()/arctan()`|逆三角関数\n",
    "`numpy.log()/log2()/log10()`|対数関数\n",
    "`numpy.abs()`|絶対値"
   ]
  },
  {
   "cell_type": "markdown",
   "metadata": {
    "colab_type": "text",
    "id": "Chm9ECqCnRDR"
   },
   "source": [
    "また、下記のような数学定数も関数として利用することができます。  \n",
    "\n",
    "関数名|機能\n",
    "-|-\n",
    "`numpy.e()`|ネイピア数 $e$\n",
    "`numpy.pi()`|円周率 $\\pi$"
   ]
  },
  {
   "cell_type": "markdown",
   "metadata": {},
   "source": [
    "### その他  "
   ]
  },
  {
   "cell_type": "code",
   "execution_count": null,
   "metadata": {},
   "outputs": [],
   "source": [
    "# 引数として与えられた ndarray の要素の差分を要素とする ndarray を返す\n",
    "array_F = np.array([0, 1, 4, 9, 16, 25])\n",
    "np.diff(array_F)"
   ]
  },
  {
   "cell_type": "code",
   "execution_count": null,
   "metadata": {},
   "outputs": [],
   "source": [
    "# 要素の累積和は…\n",
    "np.cumsum(array_F)"
   ]
  },
  {
   "cell_type": "code",
   "execution_count": null,
   "metadata": {},
   "outputs": [],
   "source": [
    "# ndarray の転置\n",
    "array_G = np.array([[0, 1], [4, 9], [16, 25]])\n",
    "array_G.T"
   ]
  },
  {
   "cell_type": "code",
   "execution_count": null,
   "metadata": {},
   "outputs": [],
   "source": [
    "# 多次元の ndarray を 1 次元に変換\n",
    "array_H = np.array([[0, 1], [4, 9], [16, 25]])\n",
    "array_H.flatten()"
   ]
  },
  {
   "cell_type": "markdown",
   "metadata": {
    "colab_type": "text",
    "id": "qQFEzzIJoERZ"
   },
   "source": [
    "## 補足資料  \n",
    "\n",
    "この資料による説明は以上です。さらに詳しく知りたい場合は、  \n",
    "\n",
    "- [NumPy](https://www.numpy.org/)  \n",
    "- [8. NumPy 入門 — ディープラーニング入門：Chainer チュートリアル](https://tutorials.chainer.org/ja/src/08_Introduction_to_NumPy_ja.html)  \n",
    "- [Pythonでの数値計算ライブラリNumPy徹底入門 - DeepAge](https://deepage.net/features/numpy/)  \n",
    "\n",
    "などを参照してください。  "
   ]
  }
 ],
 "metadata": {
  "colab": {
   "collapsed_sections": [],
   "name": "NumPy練習(Light版).ipynb",
   "provenance": [],
   "toc_visible": true,
   "version": "0.3.2"
  },
  "kernelspec": {
   "display_name": "jpy",
   "language": "python",
   "name": "jpy"
  },
  "language_info": {
   "codemirror_mode": {
    "name": "ipython",
    "version": 3
   },
   "file_extension": ".py",
   "mimetype": "text/x-python",
   "name": "python",
   "nbconvert_exporter": "python",
   "pygments_lexer": "ipython3",
   "version": "3.7.6"
  }
 },
 "nbformat": 4,
 "nbformat_minor": 4
}
