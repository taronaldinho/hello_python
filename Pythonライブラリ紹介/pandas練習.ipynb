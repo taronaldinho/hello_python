{
 "cells": [
  {
   "cell_type": "markdown",
   "metadata": {},
   "source": [
    "# Pandas 練習  \n",
    "\n",
    "Pandas を使ったデータ処理の練習をします。  \n",
    "\n",
    "[なんちゃって個人情報](http://kazina.com/dummy/) で入手したダミー個人データを加工していきます。  "
   ]
  },
  {
   "cell_type": "code",
   "execution_count": null,
   "metadata": {},
   "outputs": [],
   "source": [
    "# モジュールのインポート\n",
    "import pandas as pd"
   ]
  },
  {
   "cell_type": "code",
   "execution_count": null,
   "metadata": {},
   "outputs": [],
   "source": [
    "# 前半のダミーデータの読み込み\n",
    "df_0 = pd.read_csv(\"./pandas練習用データ/ダミー個人データ_0.csv\", encoding=\"shiftjis\")\n",
    "df_0.head()"
   ]
  },
  {
   "cell_type": "code",
   "execution_count": null,
   "metadata": {},
   "outputs": [],
   "source": [
    "# 後半のダミーデータの読み込み\n",
    "df_1 = pd.read_csv(\"./pandas練習用データ/ダミー個人データ_1.csv\", encoding=\"shiftjis\")\n",
    "df_1.tail()"
   ]
  },
  {
   "cell_type": "code",
   "execution_count": null,
   "metadata": {},
   "outputs": [],
   "source": [
    "# ダミーデータを縦方向に連結\n",
    "df = pd.concat([df_0, df_1], ignore_index=True)\n",
    "df"
   ]
  },
  {
   "cell_type": "code",
   "execution_count": null,
   "metadata": {},
   "outputs": [],
   "source": [
    "# 電話番号と携帯で桁数がおかしいところがある\n",
    "# 半角スペースになっているようなので、0 で置き換える\n",
    "df[\"電話番号\"] = df[\"電話番号\"].str.replace(\" \", \"0\")\n",
    "df[\"携帯\"] = df[\"携帯\"].str.replace(\" \", \"0\")\n",
    "df.head()"
   ]
  },
  {
   "cell_type": "code",
   "execution_count": null,
   "metadata": {},
   "outputs": [],
   "source": [
    "# Pandas は内部で Matplotlib を import しており\n",
    "# DataFrame から直接グラフをプロットすることができる\n",
    "df_age = df[\"年齢\"]\n",
    "df_age.hist()"
   ]
  },
  {
   "cell_type": "code",
   "execution_count": null,
   "metadata": {},
   "outputs": [],
   "source": [
    "df[\"キャリア\"].hist()"
   ]
  },
  {
   "cell_type": "code",
   "execution_count": null,
   "metadata": {},
   "outputs": [],
   "source": [
    "# Matplotlib は日本語フォントを追加しなければ表示できない\n",
    "# 今回は日本語名称を英字名称に置き換える\n",
    "df[\"キャリア\"].unique()"
   ]
  },
  {
   "cell_type": "code",
   "execution_count": null,
   "metadata": {},
   "outputs": [],
   "source": [
    "# それぞれ置き換えを実施\n",
    "df.loc[df[\"キャリア\"] == \"ソフトバンク\", [\"キャリア\"]] = \"SoftBank\"\n",
    "df.loc[df[\"キャリア\"] == \"ドコモ\", [\"キャリア\"]] = \"NTT DoCoMo\"\n",
    "df.loc[df[\"キャリア\"] == \"ツーカー\", [\"キャリア\"]] = \"au\"  # ツーカーは au ということにする(^^)/\n",
    "df[\"キャリア\"].hist()"
   ]
  },
  {
   "cell_type": "code",
   "execution_count": null,
   "metadata": {},
   "outputs": [],
   "source": [
    "# カレーの食べ方を正規表現を使って詳細化 (分割)\n",
    "df[\"カレールーの位置\"] = df[\"カレーの食べ方\"].str.extract(\"^(.*)・(.*)$\")[0]\n",
    "df[\"カレーの攻め方\"] = df[\"カレーの食べ方\"].str.extract(\"^(.*)・(.*)$\")[1]\n",
    "df.head()"
   ]
  },
  {
   "cell_type": "code",
   "execution_count": null,
   "metadata": {},
   "outputs": [],
   "source": [
    "# ルーの位置の種類\n",
    "df[\"カレールーの位置\"].unique()"
   ]
  },
  {
   "cell_type": "code",
   "execution_count": null,
   "metadata": {},
   "outputs": [],
   "source": [
    "# 攻め方の種類\n",
    "df[\"カレーの攻め方\"].unique()"
   ]
  },
  {
   "cell_type": "code",
   "execution_count": null,
   "metadata": {},
   "outputs": [],
   "source": [
    "# 年齢を元に世代に分類\n",
    "bin = [10, 20, 30, 40, 50, 60, 70, 80, 100]\n",
    "lab = [\"10代\", \"20代\", \"30代\", \"40代\", \"50代\", \"60代\", \"70代\", \"80代以上\"]\n",
    "\n",
    "df[\"世代\"] = pd.cut(df[\"年齢\"], bins=bin, right=False, labels=lab)\n",
    "df.head()"
   ]
  },
  {
   "cell_type": "code",
   "execution_count": null,
   "metadata": {},
   "outputs": [],
   "source": [
    "# 世代の確認\n",
    "df[df[\"世代\"] == \"10代\"].head()"
   ]
  },
  {
   "cell_type": "code",
   "execution_count": null,
   "metadata": {},
   "outputs": [],
   "source": [
    "# 世代の確認\n",
    "df[df[\"世代\"] == \"70代\"].head()"
   ]
  },
  {
   "cell_type": "code",
   "execution_count": null,
   "metadata": {},
   "outputs": [],
   "source": [
    "# 世代毎に携帯電話を契約しているかどうかの確率を設定し\n",
    "# それをもとにデータを修正する関数を定義する\n",
    "import numpy as np\n",
    "\n",
    "def to_be_uncontracted(gen_series: pd.Series, cont_prob: dict) -> pd.Series:\n",
    "    \n",
    "    gen_arr = gen_series.to_numpy()\n",
    "    buf = []\n",
    "    for gen in gen_arr:\n",
    "        if np.random.rand() <= 1-prob[gen]:\n",
    "            buf.append(True)\n",
    "        else:\n",
    "            buf.append(False)\n",
    "    return pd.Series(buf)"
   ]
  },
  {
   "cell_type": "code",
   "execution_count": null,
   "metadata": {},
   "outputs": [],
   "source": [
    "# 元のデータをコピーし、契約しているかどうかの確率を設定\n",
    "df_ = df.copy()\n",
    "\n",
    "prob = {\"10代\": 0.70, \"20代\": 0.98, \"30代\": 0.98, \"40代\": 0.97, \"50代\": 0.95, \"60代\": 0.89, \"70代\": 0.78, \"80代以上\": 0.65}"
   ]
  },
  {
   "cell_type": "code",
   "execution_count": null,
   "metadata": {},
   "outputs": [],
   "source": [
    "# 関数を適用\n",
    "df_[\"契約見直し\"] = to_be_uncontracted(df_[\"世代\"], prob)"
   ]
  },
  {
   "cell_type": "code",
   "execution_count": null,
   "metadata": {},
   "outputs": [],
   "source": [
    "# 適用結果を元にデータを修正\n",
    "df_.loc[df_[\"契約見直し\"], [\"キャリア\"]] = \"no_contract\"\n",
    "df_.loc[df_[\"契約見直し\"], [\"携帯\"]] = np.nan"
   ]
  },
  {
   "cell_type": "code",
   "execution_count": null,
   "metadata": {},
   "outputs": [],
   "source": [
    "# データの確認\n",
    "df_[df_[\"キャリア\"]==\"no_contract\"].head()"
   ]
  },
  {
   "cell_type": "code",
   "execution_count": null,
   "metadata": {},
   "outputs": [],
   "source": [
    "# ヒストグラムでも確認\n",
    "df_[\"キャリア\"].hist()"
   ]
  },
  {
   "cell_type": "code",
   "execution_count": null,
   "metadata": {},
   "outputs": [],
   "source": [
    "# ピボットテーブルでも確認\n",
    "pd.pivot_table(df_, index=\"キャリア\", columns=\"世代\", values=[\"名前\"], aggfunc=\"count\")"
   ]
  },
  {
   "cell_type": "code",
   "execution_count": null,
   "metadata": {},
   "outputs": [],
   "source": [
    "# 保存用のデータのためにいらない列項目を削除\n",
    "df_processed = df_.drop(columns=[\"カレーの食べ方\", \"契約見直し\"])\n",
    "df_processed.head()"
   ]
  },
  {
   "cell_type": "code",
   "execution_count": null,
   "metadata": {},
   "outputs": [],
   "source": [
    "# 加工済みのデータを保存\n",
    "df_processed.to_csv(\"./pandas練習用データ/加工済みデータ.csv\", encoding=\"utf-8\")"
   ]
  }
 ],
 "metadata": {
  "kernelspec": {
   "display_name": "Jupyter",
   "language": "python",
   "name": "jupyter"
  },
  "language_info": {
   "codemirror_mode": {
    "name": "ipython",
    "version": 3
   },
   "file_extension": ".py",
   "mimetype": "text/x-python",
   "name": "python",
   "nbconvert_exporter": "python",
   "pygments_lexer": "ipython3",
   "version": "3.7.6"
  }
 },
 "nbformat": 4,
 "nbformat_minor": 4
}
