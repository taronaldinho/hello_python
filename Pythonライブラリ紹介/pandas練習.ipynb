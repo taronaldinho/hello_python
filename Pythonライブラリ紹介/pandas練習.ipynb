{
 "cells": [
  {
   "cell_type": "markdown",
   "metadata": {
    "colab_type": "text",
    "id": "PjFFinhOschk"
   },
   "source": [
    "# pandas 練習  \n",
    "\n",
    "\n",
    "## pandas とは  \n",
    "\n",
    "> プログラミング言語Pythonにおいて、データ解析を支援する機能を提供するライブラリである。特に、数表および時系列データを操作するためのデータ構造と演算を提供する。([Wikipedia](https://ja.wikipedia.org/wiki/Pandas)より)  \n",
    "\n",
    "\n"
   ]
  },
  {
   "cell_type": "markdown",
   "metadata": {},
   "source": [
    "---"
   ]
  },
  {
   "cell_type": "code",
   "execution_count": null,
   "metadata": {
    "colab": {},
    "colab_type": "code",
    "id": "Q3fNNwa3qcUs"
   },
   "outputs": [],
   "source": [
    "# モジュールのインポート\n",
    "import pandas as pd\n",
    "import numpy as np  "
   ]
  },
  {
   "cell_type": "markdown",
   "metadata": {
    "colab_type": "text",
    "id": "vp99tLRsOI09"
   },
   "source": [
    "以降の説明のために簡単な人工データを用意します。  \n",
    "\n",
    "pandas の `DataFrame` クラスを作成します。5 行 4 列から成る乱数の配列と、列の見出し (ラベル) として `A - D` のアルファベットを指定しています。  "
   ]
  },
  {
   "cell_type": "code",
   "execution_count": null,
   "metadata": {
    "colab": {},
    "colab_type": "code",
    "id": "go8fIS9bZUTQ"
   },
   "outputs": [],
   "source": [
    "np.random.seed(0)\n",
    "df_random_values = pd.DataFrame(np.random.rand(5, 4), columns=[\"A\", \"B\", \"C\", \"D\"])\n",
    "df_random_values"
   ]
  },
  {
   "cell_type": "code",
   "execution_count": null,
   "metadata": {},
   "outputs": [],
   "source": [
    "# クラスの確認\n",
    "type(df_random_values)"
   ]
  },
  {
   "cell_type": "markdown",
   "metadata": {},
   "source": [
    "## データの参照と抽出  "
   ]
  },
  {
   "cell_type": "markdown",
   "metadata": {},
   "source": [
    "### ラベルを指定して列を抽出  \n",
    "\n",
    "`DataFrame[\"label\"]` で指定したラベルの列を抽出することができます。  "
   ]
  },
  {
   "cell_type": "code",
   "execution_count": null,
   "metadata": {},
   "outputs": [],
   "source": [
    "df_random_values[\"A\"]"
   ]
  },
  {
   "cell_type": "markdown",
   "metadata": {},
   "source": [
    "このような 1 列のみのデータは `Series` というクラスになります。"
   ]
  },
  {
   "cell_type": "code",
   "execution_count": null,
   "metadata": {},
   "outputs": [],
   "source": [
    "# クラスの確認\n",
    "type(df_random_values[\"A\"])"
   ]
  },
  {
   "cell_type": "markdown",
   "metadata": {},
   "source": [
    "複数のラベルをリストとして指定することも可能です。(この場合のクラスは DataFrame)  "
   ]
  },
  {
   "cell_type": "code",
   "execution_count": null,
   "metadata": {},
   "outputs": [],
   "source": [
    "df_random_values[[\"A\", \"D\"]]"
   ]
  },
  {
   "cell_type": "markdown",
   "metadata": {
    "colab_type": "text",
    "id": "G832HJrKZ0Qe"
   },
   "source": [
    "### ラベルによる指定の loc() メソッドと位置による指定の iloc() メソッド  "
   ]
  },
  {
   "cell_type": "markdown",
   "metadata": {
    "colab_type": "text",
    "id": "7sP-5e9APDx6"
   },
   "source": [
    "DataFrame クラスの持つ `loc()` メソッドを使って、行と列を指定して次のような抽出ができます。  \n",
    "この `[ ]` の中の `2:4` はインデックスが 2 ～ 4 であることを意味し、`[\"B\", \"C\"]` は B 列と C 列を意味します。このように `loc()` だと DataFrame クラスに付与されたインデックスと列名で指定します。  "
   ]
  },
  {
   "cell_type": "code",
   "execution_count": null,
   "metadata": {
    "colab": {},
    "colab_type": "code",
    "id": "5IBQ0k_QOQfX"
   },
   "outputs": [],
   "source": [
    "df_random_values.loc[2:4, [\"B\", \"C\"]]"
   ]
  },
  {
   "cell_type": "markdown",
   "metadata": {
    "colab_type": "text",
    "id": "Lp3U_1_IRKbj"
   },
   "source": [
    "次の例のように `iloc()` メソッドを使って数値で指定することもできます。  \n",
    "`loc()` のときの `2:4` は抽出される行のインデックスが 2 ～ 4 だったのに対し、`iloc()` での `2:4` は 2 ～ 3 のみになっていることに注意してください。`iloc()` の仕様はリストや配列でのインデックス指定と同じになっています。  \n",
    "\n",
    "このように `loc()` はラベルによる指定なのに対し、`iloc()` は位置による指定になってます。  "
   ]
  },
  {
   "cell_type": "code",
   "execution_count": null,
   "metadata": {
    "colab": {},
    "colab_type": "code",
    "id": "UdbDG41gQLQG"
   },
   "outputs": [],
   "source": [
    "df_random_values.iloc[2:4, 1:3]"
   ]
  },
  {
   "cell_type": "markdown",
   "metadata": {
    "colab_type": "text",
    "id": "7KaxeB_iTkZQ"
   },
   "source": [
    "### ひとつのセルを指定する at() メソッドと iat() メソッド  \n",
    "\n",
    "ひとつのセルを指定して、値を抽出したり、書き換えたりする用途としては、`at(), iat()` メソッドがあります。  \n",
    "両者の違いは `loc(), iloc()` と同様に、指定するのがラベル/ラベルのインデックスかどうかです。  "
   ]
  },
  {
   "cell_type": "code",
   "execution_count": null,
   "metadata": {
    "colab": {},
    "colab_type": "code",
    "id": "vqroZBd3WZ8G"
   },
   "outputs": [],
   "source": [
    "df_random_values.at[0, \"A\"]"
   ]
  },
  {
   "cell_type": "code",
   "execution_count": null,
   "metadata": {
    "colab": {},
    "colab_type": "code",
    "id": "h8kI_QT5Svjl"
   },
   "outputs": [],
   "source": [
    "df_random_values.iat[0, 0]"
   ]
  },
  {
   "cell_type": "markdown",
   "metadata": {},
   "source": [
    "### 数値との比較による抽出  "
   ]
  },
  {
   "cell_type": "markdown",
   "metadata": {},
   "source": [
    "DataFrame に、真偽値を要素とし DataFrame の行数と同じ要素数の Series やリストを与えると、`True` に対応する行のみを抽出することができます。  "
   ]
  },
  {
   "cell_type": "code",
   "execution_count": null,
   "metadata": {},
   "outputs": [],
   "source": [
    "sr_bool = pd.Series([True, False, True, False, True])\n",
    "df_random_values[sr_bool]"
   ]
  },
  {
   "cell_type": "markdown",
   "metadata": {},
   "source": [
    "また、DataFrame に対して比較演算子を使って数値と比較すると…  "
   ]
  },
  {
   "cell_type": "code",
   "execution_count": null,
   "metadata": {},
   "outputs": [],
   "source": [
    "df_random_values <= 0.5"
   ]
  },
  {
   "cell_type": "markdown",
   "metadata": {},
   "source": [
    "このように、真偽値 (条件を満足すれば `True`、そうでなければ `False`) を要素にした同じサイズの DataFrame が返ります。  \n",
    "\n",
    "Series と比較すると 同様の Series が返ります。    "
   ]
  },
  {
   "cell_type": "code",
   "execution_count": null,
   "metadata": {},
   "outputs": [],
   "source": [
    "df_random_values[\"A\"] <= 0.5"
   ]
  },
  {
   "cell_type": "code",
   "execution_count": null,
   "metadata": {},
   "outputs": [],
   "source": [
    "# クラスの確認\n",
    "type(df_random_values[\"A\"] <= 0.5)"
   ]
  },
  {
   "cell_type": "markdown",
   "metadata": {},
   "source": [
    "これらを組み合わせると、**DataFrame の特定の列の値と数値とを比較し、条件に合った値を持つ行を抽出することができます。**  "
   ]
  },
  {
   "cell_type": "code",
   "execution_count": null,
   "metadata": {},
   "outputs": [],
   "source": [
    "df_random_values[df_random_values[\"A\"] <= 0.5]"
   ]
  },
  {
   "cell_type": "markdown",
   "metadata": {},
   "source": [
    "複数の条件で抽出するときは次のように `&` (AND) や `|` (OR) などの演算子を用います。`~` (NOT) も使えます。  "
   ]
  },
  {
   "cell_type": "code",
   "execution_count": null,
   "metadata": {},
   "outputs": [],
   "source": [
    "df_random_values[(df_random_values[\"A\"] <= 0.5) & (df_random_values[\"C\"] > 0.7)]"
   ]
  },
  {
   "cell_type": "code",
   "execution_count": null,
   "metadata": {},
   "outputs": [],
   "source": [
    "df_random_values[(df_random_values[\"A\"] <= 0.5) | (df_random_values[\"C\"] > 0.7)]"
   ]
  },
  {
   "cell_type": "code",
   "execution_count": null,
   "metadata": {},
   "outputs": [],
   "source": [
    "df_random_values[(df_random_values[\"A\"] <= 0.5) & ~(df_random_values[\"C\"] > 0.7)]"
   ]
  },
  {
   "cell_type": "markdown",
   "metadata": {},
   "source": [
    "文字列を要素とする列と文字列を比較する場合は、以下のようにします。  \n",
    "\n",
    "```\n",
    "df[df[\"str_columns\"]==\"string\"]  # 一致する場合\n",
    "df[df[\"str_columns\"]!=\"string\"]  # 一致しない場合\n",
    "```"
   ]
  },
  {
   "cell_type": "markdown",
   "metadata": {
    "colab_type": "text",
    "id": "hz4uHQE0Rn7X"
   },
   "source": [
    "## データの加工  "
   ]
  },
  {
   "cell_type": "markdown",
   "metadata": {
    "colab_type": "text",
    "id": "K-FXi360UB7T"
   },
   "source": [
    "### 列の追加、上書き  \n",
    "\n",
    "既存の DataFrame 型に対して何らかの計算を行ってデータを付加したいことがよくあります。試しに、`C` 列と `D` 列を足し算したものを `E` 列として追加してみましょう。  "
   ]
  },
  {
   "cell_type": "code",
   "execution_count": null,
   "metadata": {
    "colab": {},
    "colab_type": "code",
    "id": "rmDEe1nkRCi2"
   },
   "outputs": [],
   "source": [
    "# 新しい列ラベルを指定して追加\n",
    "df_random_values[\"E\"] = df_random_values[\"C\"] + df_random_values[\"C\"]\n",
    "df_random_values"
   ]
  },
  {
   "cell_type": "markdown",
   "metadata": {
    "colab_type": "text",
    "id": "U59icEqeSPsn"
   },
   "source": [
    "このようにして列を増やすことができますが、同じような書き方で列を上書きすることもできます。例として、`B` 列を 2 倍したものを `A` 列に上書きしてみましょう。  "
   ]
  },
  {
   "cell_type": "code",
   "execution_count": null,
   "metadata": {
    "colab": {},
    "colab_type": "code",
    "id": "HLHl9AAUSHhI"
   },
   "outputs": [],
   "source": [
    "# 既存の列ラベルを指定して上書き\n",
    "df_random_values[\"A\"] = df_random_values[\"B\"] * 2\n",
    "df_random_values"
   ]
  },
  {
   "cell_type": "markdown",
   "metadata": {
    "colab_type": "text",
    "id": "Z9eVUWlrWoxy"
   },
   "source": [
    "### 値の上書き  \n",
    "\n",
    "`at(), iat()` メソッドでセルを指定して値を上書きすることもできます。  "
   ]
  },
  {
   "cell_type": "code",
   "execution_count": null,
   "metadata": {
    "colab": {},
    "colab_type": "code",
    "id": "Mq1h91MUUqNW"
   },
   "outputs": [],
   "source": [
    "df_random_values.at[1, \"A\"] = -1\n",
    "df_random_values"
   ]
  },
  {
   "cell_type": "code",
   "execution_count": null,
   "metadata": {
    "colab": {},
    "colab_type": "code",
    "id": "U5u5ayFiW9__"
   },
   "outputs": [],
   "source": [
    "df_random_values.iat[2, 0] = -1\n",
    "df_random_values"
   ]
  },
  {
   "cell_type": "markdown",
   "metadata": {
    "colab_type": "text",
    "id": "1RJm2rIRXF5q"
   },
   "source": [
    "## 欠損値の処理  \n",
    "\n",
    "データ分析でよく問題になるのが欠損値の処理です。ここで以下の説明のためにわざと欠損値を入れてみます。  \n",
    "なお、`None` は Python において、値が存在しないことを表すデータ型です。さらに `None` は 、pandas では `NaN` として表示されます。  "
   ]
  },
  {
   "cell_type": "code",
   "execution_count": null,
   "metadata": {
    "colab": {},
    "colab_type": "code",
    "id": "ReRiLeyoXEJu"
   },
   "outputs": [],
   "source": [
    "df_random_values[\"F\"] = [1, None, None, 1, None]\n",
    "df_random_values"
   ]
  },
  {
   "cell_type": "markdown",
   "metadata": {
    "colab_type": "text",
    "id": "gEfkNlvHpV1t"
   },
   "source": [
    "### 欠損値を無視する dropna() メソッド  \n",
    "\n",
    "`dropna()` メソッドによって欠損値を無視してデータを分析を進めることができます。  "
   ]
  },
  {
   "cell_type": "code",
   "execution_count": null,
   "metadata": {
    "colab": {},
    "colab_type": "code",
    "id": "7MbjrNrVpAXw"
   },
   "outputs": [],
   "source": [
    "df_random_values.dropna()"
   ]
  },
  {
   "cell_type": "markdown",
   "metadata": {
    "colab_type": "text",
    "id": "6W9OuRtaqFir"
   },
   "source": [
    "### 欠損値を特定の値で書き換える fillna() メソッド  \n",
    "\n",
    "`fillna()` メソッドで欠損値のを特定の値で置き換えます。  "
   ]
  },
  {
   "cell_type": "code",
   "execution_count": null,
   "metadata": {
    "colab": {},
    "colab_type": "code",
    "id": "LQ8MMIsoqBJO"
   },
   "outputs": [],
   "source": [
    "df_random_values.fillna(0)"
   ]
  },
  {
   "cell_type": "markdown",
   "metadata": {
    "colab_type": "text",
    "id": "6qnl2_38rD6S"
   },
   "source": [
    "なお、`dropna()` も `fillna()` も、上のようなコードでは元の `df_random_values` を書き換えるものではありません (破壊的な操作ではない)。  "
   ]
  },
  {
   "cell_type": "code",
   "execution_count": null,
   "metadata": {
    "colab": {},
    "colab_type": "code",
    "id": "AXOLw92IqYz-"
   },
   "outputs": [],
   "source": [
    "# 前のセルの操作で元のデータに変更がないことを確認\n",
    "df_random_values"
   ]
  },
  {
   "cell_type": "markdown",
   "metadata": {
    "colab_type": "text",
    "id": "3-Lg2Y6HrsdS"
   },
   "source": [
    "以下のように新たな変数に代入することで書き換えられた DataFrame を得ることができます。  "
   ]
  },
  {
   "cell_type": "code",
   "execution_count": null,
   "metadata": {
    "colab": {},
    "colab_type": "code",
    "id": "nDrkQA59q7FW"
   },
   "outputs": [],
   "source": [
    "example_fillna = df_random_values.fillna(0)\n",
    "example_fillna"
   ]
  },
  {
   "cell_type": "markdown",
   "metadata": {},
   "source": [
    "## groupby の使い方  \n",
    "\n",
    "特定の列の値を指定してグループ化し、一括して関数を適用させた結果を表示させることができます。  "
   ]
  },
  {
   "cell_type": "code",
   "execution_count": null,
   "metadata": {},
   "outputs": [],
   "source": [
    "# グループのキーとするための G 列を追加\n",
    "df_random_values[\"G\"] = [\"X\", \"X\", \"Y\", \"Y\", \"Z\"]\n",
    "df_random_values"
   ]
  },
  {
   "cell_type": "code",
   "execution_count": null,
   "metadata": {},
   "outputs": [],
   "source": [
    "# 列の値をキーにグループ化\n",
    "gr = df_random_values.groupby(\"G\")\n",
    "# gr = df.groupby(\"G\", as_index=False)  # キーを index にしたくない場合\n",
    "\n",
    "type(gr)"
   ]
  },
  {
   "cell_type": "markdown",
   "metadata": {},
   "source": [
    "`DataFrameGroupBy` クラスに適用できる関数は以下の通りです。  \n",
    "\n",
    "|関数名|説明|\n",
    "|--- |--- |\n",
    "|mean()|平均を計算します|\n",
    "|sum()|合計を計算します|\n",
    "|size()|グループの大きさを計算します|\n",
    "|count()|グループのデータの個数を計算します|\n",
    "|std()|標準偏差を計算します|\n",
    "|var()|分散を計算します|\n",
    "|sem()|平均値の標準誤差を計算します|\n",
    "|describe()|グループ内の統計量を返します|\n",
    "|first()|グループ内の先頭の値を返します|\n",
    "|last()|グループ内の最後の値を返します|\n",
    "|nth()|n番目の要素を返します。リストで指定することも可|\n",
    "|min()|最小値を返します|\n",
    "|max()|最大値を返します|\n"
   ]
  },
  {
   "cell_type": "code",
   "execution_count": null,
   "metadata": {},
   "outputs": [],
   "source": [
    "# 合計値の表示\n",
    "gr.sum()"
   ]
  },
  {
   "cell_type": "markdown",
   "metadata": {},
   "source": [
    "## データの連結  "
   ]
  },
  {
   "cell_type": "markdown",
   "metadata": {},
   "source": [
    "### DataFrame を縦に連結する concat() メソッド  "
   ]
  },
  {
   "cell_type": "code",
   "execution_count": null,
   "metadata": {},
   "outputs": [],
   "source": [
    "# 連結するためのもうひとつの DataFrame を作成\n",
    "df_to_concat = pd.DataFrame(np.random.rand(5, 4), columns=[\"A\", \"B\", \"C\", \"D\"])\n",
    "df_to_concat[\"E\"] = df_to_concat[\"C\"] + df_to_concat[\"C\"]\n",
    "df_to_concat[\"A\"] = df_to_concat[\"B\"] * 2\n",
    "df_to_concat[\"F\"] = [1, 1, None, None, None]\n",
    "df_to_concat[\"G\"] = [\"Y\", \"M\", \"Y\", \"X\", \"Z\"]\n",
    "df_to_concat"
   ]
  },
  {
   "cell_type": "code",
   "execution_count": null,
   "metadata": {},
   "outputs": [],
   "source": [
    "df_concat = pd.concat([df_random_values, df_to_concat])\n",
    "# df_concat = pd.concat([df_random_values, df_to_concat], ignore_index=True)  # 連結した際に元の index を無視して新しく振り直す場合\n",
    "df_concat"
   ]
  },
  {
   "cell_type": "code",
   "execution_count": null,
   "metadata": {},
   "outputs": [],
   "source": [
    "df_concat.reset_index(drop=True)  # 上で ignore_index=True とした場合は不要"
   ]
  },
  {
   "cell_type": "markdown",
   "metadata": {},
   "source": [
    "### DataFrame を横に連結する merge() メソッド  "
   ]
  },
  {
   "cell_type": "code",
   "execution_count": null,
   "metadata": {},
   "outputs": [],
   "source": [
    "df_to_merge = pd.DataFrame([[\"X\", \"Suarez\"], [\"Y\", \"Messi\"], [\"Z\", \"Grieazmann\"], [\"XXX\", \"Ansu-Fati\"]], columns=[\"G\", \"H\"])\n",
    "df_to_merge"
   ]
  },
  {
   "cell_type": "code",
   "execution_count": null,
   "metadata": {},
   "outputs": [],
   "source": [
    "# 内部結合 (キーでソートされる)\n",
    "pd.merge(df_concat, df_to_merge, on=\"G\", how=\"inner\")"
   ]
  },
  {
   "cell_type": "code",
   "execution_count": null,
   "metadata": {},
   "outputs": [],
   "source": [
    "# 左結合\n",
    "pd.merge(df_concat, df_to_merge, on=\"G\", how=\"left\")"
   ]
  },
  {
   "cell_type": "code",
   "execution_count": null,
   "metadata": {},
   "outputs": [],
   "source": [
    "# 右結合\n",
    "pd.merge(df_concat, df_to_merge, on=\"G\", how=\"right\")"
   ]
  },
  {
   "cell_type": "code",
   "execution_count": null,
   "metadata": {},
   "outputs": [],
   "source": [
    "# 外部結合\n",
    "pd.merge(df_concat, df_to_merge, on=\"G\", how=\"outer\")"
   ]
  },
  {
   "cell_type": "markdown",
   "metadata": {
    "colab_type": "text",
    "id": "iLQqMkY0uTbV"
   },
   "source": [
    "## NumPy 配列型への変換  \n",
    "\n",
    "NumPy が提供する各種演算などを利用するために、NumPy の配列型に変換することもできます。以下の例では DataFrame 型の持つメソッドのひとつである `to_numpy()` を使い、新しい変数に代入しています。"
   ]
  },
  {
   "cell_type": "code",
   "execution_count": null,
   "metadata": {
    "colab": {},
    "colab_type": "code",
    "id": "YUF1cjFSr7e_"
   },
   "outputs": [],
   "source": [
    "numpy_array_type_data = df_random_values.loc[:, [\"A\", \"B\", \"C\"]].to_numpy()\n",
    "numpy_array_type_data"
   ]
  },
  {
   "cell_type": "code",
   "execution_count": null,
   "metadata": {
    "colab": {},
    "colab_type": "code",
    "id": "XpG6LRVyvO9B"
   },
   "outputs": [],
   "source": [
    "type(numpy_array_type_data)"
   ]
  },
  {
   "cell_type": "markdown",
   "metadata": {},
   "source": [
    "---\n",
    "## データの前処理_その1  "
   ]
  },
  {
   "cell_type": "markdown",
   "metadata": {},
   "source": [
    "### データの読み込み  \n",
    "\n",
    "[なんちゃって個人情報](http://kazina.com/dummy/) で入手したダミー個人データを加工していきます。\n",
    "\n",
    "pandas の `read_csv()` 関数を使ってデータを読み込むことができます。他にも `read_json(), read_excel(), read_html()` など、様々なファイル形式からデータを得ることができます。  \n",
    "\n",
    "扱うことのできるデータ形式とそれを読み込むための関数の一覧は、pandas の [公式ドキュメント](http://pandas.pydata.org/pandas-docs/stable/user_guide/io.html) 内に一覧表があるので参照してください。下記はその抜粋です。\n",
    "\n",
    "|フォーマット|データ形式|読み込み関数|書き出し関数|\n",
    "|-|-|-|-|\n",
    "|text|CSV|read_csv|to_csv|\n",
    "|text|JSON|read_json|to_json|\n",
    "|text|HTML|read_html|to_html|\n",
    "|text|Local clipboard|read_clipboard|to_clipboard|\n",
    "|binary|MS Excel|read_excel|to_excel|\n",
    "|binary|Python Pickle Format|read_pickle|to_pickle|\n",
    "|SQL|SQL|read_sql|to_sql|"
   ]
  },
  {
   "cell_type": "code",
   "execution_count": null,
   "metadata": {},
   "outputs": [],
   "source": [
    "# 前半のダミーデータの読み込み\n",
    "# DataFrame.head() は先頭の 5 件を表示\n",
    "df_0 = pd.read_csv(\"./pandas練習用データ/ダミー個人データ_0.csv\", encoding=\"shiftjis\")\n",
    "df_0"
   ]
  },
  {
   "cell_type": "code",
   "execution_count": null,
   "metadata": {},
   "outputs": [],
   "source": [
    "# 後半のダミーデータの読み込み\n",
    "# DataFrame.tail() は末尾の 5 件を表示\n",
    "df_1 = pd.read_csv(\"./pandas練習用データ/ダミー個人データ_1.csv\", encoding=\"shiftjis\")\n",
    "df_1"
   ]
  },
  {
   "cell_type": "code",
   "execution_count": null,
   "metadata": {},
   "outputs": [],
   "source": [
    "df = pd.concat([df_0, df_1], ignore_index=True)\n",
    "df"
   ]
  },
  {
   "cell_type": "code",
   "execution_count": null,
   "metadata": {},
   "outputs": [],
   "source": [
    "# 都道府県名を元に都道府県コード列を加える\n",
    "# まず都道府県コードデータを読み込む\n",
    "df_pref_code = pd.read_csv(\"./pandas練習用データ/都道府県コード.csv\", encoding=\"utf-8\")\n",
    "df_pref_code.head()"
   ]
  },
  {
   "cell_type": "code",
   "execution_count": null,
   "metadata": {},
   "outputs": [],
   "source": [
    "# columns のラベルをキーにして連結するため\n",
    "# ラベルを変更する\n",
    "df_pref_code.columns = [\"都道府県コード\", \"都道府県\"]\n",
    "df_pref_code.head()"
   ]
  },
  {
   "cell_type": "code",
   "execution_count": null,
   "metadata": {},
   "outputs": [],
   "source": [
    "# 都道府県をキーに、都道府県コード列を追加\n",
    "df = pd.merge(df, df_pref_code, on=\"都道府県\", how=\"left\")\n",
    "df.head()"
   ]
  },
  {
   "cell_type": "code",
   "execution_count": null,
   "metadata": {},
   "outputs": [],
   "source": [
    "# 欠損値がないか列ごとに確認\n",
    "df.isna().any()"
   ]
  },
  {
   "cell_type": "code",
   "execution_count": null,
   "metadata": {},
   "outputs": [],
   "source": [
    "# 同じ電話番号を持っている人がいないか確認 (True なら OK)\n",
    "len(df[\"電話番号\"]) == len(df[\"電話番号\"].unique())"
   ]
  },
  {
   "cell_type": "code",
   "execution_count": null,
   "metadata": {},
   "outputs": [],
   "source": [
    "# 同じ携帯 (番号) を持っている人がいないか確認\n",
    "len(df[\"携帯\"]) == len(df[\"携帯\"].unique())"
   ]
  },
  {
   "cell_type": "code",
   "execution_count": null,
   "metadata": {},
   "outputs": [],
   "source": [
    "# 都道府県のように重複がある場合は…\n",
    "len(df[\"都道府県\"]) == len(df[\"都道府県\"].unique())"
   ]
  },
  {
   "cell_type": "code",
   "execution_count": null,
   "metadata": {},
   "outputs": [],
   "source": [
    "# カレーの食べ方を正規表現を使って詳細化 (分割)\n",
    "df[\"カレールーの位置\"] = df[\"カレーの食べ方\"].str.extract(\"^(.*)・(.*)$\")[0]\n",
    "df[\"カレーの攻め方\"] = df[\"カレーの食べ方\"].str.extract(\"^(.*)・(.*)$\")[1]\n",
    "df.head()"
   ]
  },
  {
   "cell_type": "code",
   "execution_count": null,
   "metadata": {},
   "outputs": [],
   "source": [
    "# 年齢を元に世代に分類\n",
    "bin = [10, 20, 30, 40, 50, 60, 70, 80, 100]\n",
    "lab = [\"10代\", \"20代\", \"30代\", \"40代\", \"50代\", \"60代\", \"70代\", \"80代以上\"]\n",
    "\n",
    "df[\"世代\"] = pd.cut(df[\"年齢\"], bins=bin, right=False, labels=lab)\n",
    "df.head()"
   ]
  },
  {
   "cell_type": "code",
   "execution_count": null,
   "metadata": {},
   "outputs": [],
   "source": [
    "# 世代の確認\n",
    "df[df[\"世代\"] == \"10代\"].head()"
   ]
  },
  {
   "cell_type": "code",
   "execution_count": null,
   "metadata": {},
   "outputs": [],
   "source": [
    "# 世代の確認\n",
    "df[df[\"世代\"] == \"70代\"].head()"
   ]
  },
  {
   "cell_type": "code",
   "execution_count": null,
   "metadata": {},
   "outputs": [],
   "source": [
    "# Pandas は内部で Matplotlib をインポートしており\n",
    "# DataFrame から直接グラフをプロットすることができる\n",
    "df_age = df[\"年齢\"]\n",
    "df_age.hist()"
   ]
  },
  {
   "cell_type": "code",
   "execution_count": null,
   "metadata": {},
   "outputs": [],
   "source": [
    "# 別項目のヒストグラムを表示\n",
    "df[\"キャリア\"].hist()"
   ]
  },
  {
   "cell_type": "code",
   "execution_count": null,
   "metadata": {},
   "outputs": [],
   "source": [
    "# Matplotlib はフォントを追加しなければ日本語を表示できない\n",
    "# 今回は日本語名称を英字名称に置き換える\n",
    "# まずは文字化けして読めない項目を確認する\n",
    "df[\"キャリア\"].unique()"
   ]
  },
  {
   "cell_type": "code",
   "execution_count": null,
   "metadata": {},
   "outputs": [],
   "source": [
    "# それぞれ置き換えを実施\n",
    "df.loc[df[\"キャリア\"] == \"ソフトバンク\", [\"キャリア\"]] = \"SoftBank\"\n",
    "df.loc[df[\"キャリア\"] == \"ドコモ\", [\"キャリア\"]] = \"NTT DoCoMo\"\n",
    "df.loc[df[\"キャリア\"] == \"ツーカー\", [\"キャリア\"]] = \"au\"  # ツーカーは au ということにする(^^)/\n",
    "df[\"キャリア\"].hist()"
   ]
  },
  {
   "cell_type": "code",
   "execution_count": null,
   "metadata": {},
   "outputs": [],
   "source": [
    "# 世代毎に携帯電話を契約しているかどうかの確率を設定し\n",
    "# それをもとにデータを修正する関数を定義する\n",
    "import numpy as np\n",
    "\n",
    "def is_uncontracted(gen_series: pd.Series, cont_prob: dict) -> pd.Series:\n",
    "    \n",
    "    gen_arr = gen_series.to_numpy()  # pandas.Series を numpy.ndarray に変換\n",
    "    buf = []\n",
    "    for gen in gen_arr:\n",
    "        if np.random.rand() <= 1-prob[gen]:\n",
    "            buf.append(True)\n",
    "        else:\n",
    "            buf.append(False)\n",
    "    return pd.Series(buf)"
   ]
  },
  {
   "cell_type": "code",
   "execution_count": null,
   "metadata": {},
   "outputs": [],
   "source": [
    "# 元のデータをコピー\n",
    "df_ = df.copy()\n",
    "\n",
    "# 契約しているかどうかの確率を設定\n",
    "prob = {\"10代\": 0.70, \"20代\": 0.98, \"30代\": 0.98, \"40代\": 0.97, \"50代\": 0.95, \"60代\": 0.89, \"70代\": 0.78, \"80代以上\": 0.65}"
   ]
  },
  {
   "cell_type": "code",
   "execution_count": null,
   "metadata": {},
   "outputs": [],
   "source": [
    "# 定義した関数を実行して新しい列とする\n",
    "df_[\"契約見直し\"] = is_uncontracted(df_[\"世代\"], prob)\n",
    "df_.head()"
   ]
  },
  {
   "cell_type": "code",
   "execution_count": null,
   "metadata": {},
   "outputs": [],
   "source": [
    "# 関数実行結果を元にデータを修正\n",
    "df_.loc[df_[\"契約見直し\"], [\"キャリア\"]] = \"no_contract\"\n",
    "df_.loc[df_[\"契約見直し\"], [\"携帯\"]] = np.nan  # ひとまず NaN にしておく\n",
    "df_[df_[\"キャリア\"]==\"no_contract\"].head()"
   ]
  },
  {
   "cell_type": "code",
   "execution_count": null,
   "metadata": {},
   "outputs": [],
   "source": [
    "# 携帯を契約していない人の電話番号 (携帯) を NaN に変換したので\n",
    "# もう一度欠損値を確認してみる\n",
    "df_.isna().any()"
   ]
  },
  {
   "cell_type": "code",
   "execution_count": null,
   "metadata": {},
   "outputs": [],
   "source": [
    "# 欠損値を変換\n",
    "df_[\"携帯\"] = df_[\"携帯\"].fillna(\"-\")\n",
    "df_[\"携帯\"].isna().any()"
   ]
  },
  {
   "cell_type": "code",
   "execution_count": null,
   "metadata": {},
   "outputs": [],
   "source": [
    "# ヒストグラムでも確認\n",
    "df_[\"キャリア\"].hist()"
   ]
  },
  {
   "cell_type": "code",
   "execution_count": null,
   "metadata": {},
   "outputs": [],
   "source": [
    "# キャリアのグループごとに size (この場合は人数) を表示\n",
    "df_.groupby(\"キャリア\").size()"
   ]
  },
  {
   "cell_type": "code",
   "execution_count": null,
   "metadata": {},
   "outputs": [],
   "source": [
    "# ピボットテーブルでも確認\n",
    "pd.pivot_table(df_, index=\"キャリア\", columns=\"世代\", values=[\"名前\"], aggfunc=\"count\")"
   ]
  },
  {
   "cell_type": "code",
   "execution_count": null,
   "metadata": {},
   "outputs": [],
   "source": [
    "# 保存用のデータのために列の順序の並び替え＆必要な列のみ抽出\n",
    "# 不要な列項目を削除するだけなら df_.drop(columns=[\"label_1\", \"label_2, ...\"])\n",
    "df_processed = df_[[\"名前\", \"ふりがな\", \"アドレス\", \"性別\", \"年齢\", \"世代\", \"都道府県\", \"都道府県コード\", \"電話番号\", \"携帯\", \"キャリア\", \"カレールーの位置\", \"カレーの攻め方\"]]\n",
    "df_processed.head()"
   ]
  },
  {
   "cell_type": "code",
   "execution_count": null,
   "metadata": {},
   "outputs": [],
   "source": [
    "# 加工済みのデータを保存\n",
    "df_processed.to_csv(\"./pandas練習用データ/加工済みデータ.csv\", encoding=\"utf-8\")"
   ]
  },
  {
   "cell_type": "markdown",
   "metadata": {},
   "source": [
    "---\n",
    "## データの前処理_その2  "
   ]
  },
  {
   "cell_type": "markdown",
   "metadata": {},
   "source": [
    "[StatLib---Datasets Archive](http://lib.stat.cmu.edu/datasets/) で公開されているデータを `./pandas練習用データ/cadata.csv` に加工＆保存しています。それを読み込んでデータを眺めてみます。  \n",
    "\n",
    "このデータセットは、アメリカの国勢調査で得られたカリフォルニア州の住宅価格などの情報を集約したものです。  \n",
    "\n",
    "各 column の説明  \n",
    "\n",
    "|columns|descriptions|\n",
    "|-|-|\n",
    "|median_house_value|Median house value for households within a block (measured in US Dollars)|  \n",
    "|median_income|Median income for households within a block of houses (measured in tens of thousands of US Dollars)|  \n",
    "|housing_median_age|Median age of a house within a block; a lower number is a newer building|  \n",
    "|total_rooms|Total number of rooms within a block|  \n",
    "|total_bedrooms|Total number of bedrooms within a block|  \n",
    "|population|Total number of people residing within a block|  \n",
    "|households|Total number of households, a group of people residing within a home unit, for a block|  \n",
    "|latitude|A measure of how far north a house is; a higher value is farther north|  \n",
    "|longitude|A measure of how far west a house is; a higher value is farther west|\n"
   ]
  },
  {
   "cell_type": "code",
   "execution_count": null,
   "metadata": {},
   "outputs": [],
   "source": [
    "df_housing = pd.read_csv(\"./pandas練習用データ/cadata.csv\", encoding=\"utf-8\")  #　ヘッダー行がない場合は header=None が必要\n",
    "df_housing.head()"
   ]
  },
  {
   "cell_type": "code",
   "execution_count": null,
   "metadata": {
    "colab": {},
    "colab_type": "code",
    "id": "M3W_5yj26gHS"
   },
   "outputs": [],
   "source": [
    "type(df_housing)"
   ]
  },
  {
   "cell_type": "markdown",
   "metadata": {
    "colab_type": "text",
    "id": "eQKzVi_Y5oxc"
   },
   "source": [
    "### データの冒頭/末尾部分を表示する head()/tail() メソッド  \n",
    "\n",
    "DataFrame 型が持つ `head()` メソッドで、全てを表示すると長くなるような大量のデータの冒頭の部分だけを表示します。同様に `tail()` メソッドでデータの末尾の部分だけを表示させることも可能です。  \n",
    "\n",
    "DataFrame 型は pandas で標準的に使われます。縦横に表のような形式でデータが並んでおり、一番上の行には見出しが、一番左の列にはインデックスが格納されます。  "
   ]
  },
  {
   "cell_type": "code",
   "execution_count": null,
   "metadata": {
    "colab": {},
    "colab_type": "code",
    "id": "QkPoB6hb0CZO"
   },
   "outputs": [],
   "source": [
    "df_housing.head()"
   ]
  },
  {
   "cell_type": "code",
   "execution_count": null,
   "metadata": {
    "colab": {},
    "colab_type": "code",
    "id": "NVXTD43R8Fyg"
   },
   "outputs": [],
   "source": [
    "df_housing.tail()"
   ]
  },
  {
   "cell_type": "markdown",
   "metadata": {
    "colab_type": "text",
    "id": "BL-gNPP0yfhh"
   },
   "source": [
    "### DataFrame の行数列数を表示する shape 属性 (プロパティ)  \n",
    "\n",
    "DataFrame 型の持つ `shape` プロパティによって行数と列数を確認することができます。  "
   ]
  },
  {
   "cell_type": "code",
   "execution_count": null,
   "metadata": {
    "colab": {},
    "colab_type": "code",
    "id": "gRdRgWFuy2Ym"
   },
   "outputs": [],
   "source": [
    "df_housing.shape"
   ]
  },
  {
   "cell_type": "markdown",
   "metadata": {
    "colab_type": "text",
    "id": "UKvfF30X745W"
   },
   "source": [
    "### 簡単な統計情報を見る describe() メソッド  \n",
    "\n",
    "DataFrame 型の持つ `describe()` メソッドによって基本的な統計量を可視化することができます。それぞれの行は上から順に、データ数、平均、標準偏差、最小値、25％点、50％点（メジアン）、75％点、最大値を表します。  "
   ]
  },
  {
   "cell_type": "code",
   "execution_count": null,
   "metadata": {
    "colab": {},
    "colab_type": "code",
    "id": "wclTKR3v0O6d"
   },
   "outputs": [],
   "source": [
    "df_housing.describe()"
   ]
  },
  {
   "cell_type": "markdown",
   "metadata": {
    "colab_type": "text",
    "id": "CtXxHmxYscdM"
   },
   "source": [
    "### 個々の統計情報の表示  \n",
    "\n",
    "DataFrame 型の持つ `count(), mean(), std(), var()` などのメソッドで特定の統計情報のみ表示させることもできます。  "
   ]
  },
  {
   "cell_type": "code",
   "execution_count": null,
   "metadata": {
    "colab": {},
    "colab_type": "code",
    "id": "h9jcmNaPtGB0"
   },
   "outputs": [],
   "source": [
    "# 分散の表示\n",
    "df_housing.var()"
   ]
  },
  {
   "cell_type": "markdown",
   "metadata": {
    "colab_type": "text",
    "id": "Pg58GQIZtnkv"
   },
   "source": [
    "### 相関係数の表示\n",
    "各列間の相関係数を表示する `corr()` メソッドも便利です。"
   ]
  },
  {
   "cell_type": "code",
   "execution_count": null,
   "metadata": {
    "colab": {},
    "colab_type": "code",
    "id": "cqUuV2H7tWlT"
   },
   "outputs": [],
   "source": [
    "# 相関係数の一覧を表示\n",
    "df_housing.corr()"
   ]
  },
  {
   "cell_type": "markdown",
   "metadata": {
    "colab_type": "text",
    "id": "bXVixWnZdmrA"
   },
   "source": [
    "## データの抽出"
   ]
  },
  {
   "cell_type": "markdown",
   "metadata": {
    "colab_type": "text",
    "id": "0aXC_WNudt4t"
   },
   "source": [
    "### 1 次元にデータが並んだ Series 型  \n",
    "\n",
    "DataFrame 型が 2 次元的な広がりを持つ表であるのに対し、Series は 1 次元にデータが並んだものです。DataFrame は各行にインデックスが付与されていますが、Series 型も同様に各要素にインデックスが付与されています。上記で見たように、DataFrame から1列を抽出すると Series 型になります。  "
   ]
  },
  {
   "cell_type": "code",
   "execution_count": null,
   "metadata": {
    "colab": {},
    "colab_type": "code",
    "id": "Bqx885vU0lMu"
   },
   "outputs": [],
   "source": [
    "# \"longitude\"列を抽出する\n",
    "sr_housing_longitude = df_housing[\"longitude\"]\n",
    "sr_housing_longitude.head()"
   ]
  },
  {
   "cell_type": "code",
   "execution_count": null,
   "metadata": {
    "colab": {},
    "colab_type": "code",
    "id": "5WhEY4cfeORC"
   },
   "outputs": [],
   "source": [
    "# Series型であることを確認\n",
    "type(sr_housing_longitude)"
   ]
  },
  {
   "cell_type": "markdown",
   "metadata": {
    "colab_type": "text",
    "id": "D8OkCyykfxnh"
   },
   "source": [
    "### DataFrame 型から複数の列を取り出す  \n",
    "\n",
    "DataFrame 型から複数の列を取り出す場合は、`[ ]` に抽出する列の見出しのリストを渡します。  "
   ]
  },
  {
   "cell_type": "code",
   "execution_count": null,
   "metadata": {
    "colab": {},
    "colab_type": "code",
    "id": "B_W50FQCekUv"
   },
   "outputs": [],
   "source": [
    "df_housing_coordinate = df_housing[[\"longitude\", \"latitude\"]]\n",
    "df_housing_coordinate.head()"
   ]
  },
  {
   "cell_type": "code",
   "execution_count": null,
   "metadata": {
    "colab": {},
    "colab_type": "code",
    "id": "xgDPMsm8gKVo"
   },
   "outputs": [],
   "source": [
    "type(df_housing_coordinate)"
   ]
  },
  {
   "cell_type": "markdown",
   "metadata": {
    "colab_type": "text",
    "id": "-CTJjpd5gw8T"
   },
   "source": [
    "### 条件による行の抽出  \n",
    "\n",
    "次の例では住宅の築年数の中央値がを 2 年以内の行を抽出します。  \n",
    "\n",
    "1. `df_sample_housing[\"housing_median_age\"]` で `housing_median_age` 列を抽出する  \n",
    "1. `df_sample_housinge[\"housing_median_age\"] <= 2` で `housing_median_age` 列の値が `2` を以下の行をインデックスと真偽値で表した `Series` を得る  \n",
    "1. `df_sample_housing[df_sample_housing[\"housing_median_age\"] <= 2]` で `df_sample_housing` から条件に対応した (真偽値 `True` の行の) データを抽出する  \n"
   ]
  },
  {
   "cell_type": "code",
   "execution_count": null,
   "metadata": {
    "colab": {},
    "colab_type": "code",
    "id": "QyCyWQ8xgNSe"
   },
   "outputs": [],
   "source": [
    "df_housing[df_housing[\"housing_median_age\"] <= 2]"
   ]
  },
  {
   "cell_type": "markdown",
   "metadata": {},
   "source": [
    "緯度経度でプロットしてみます。  \n",
    "何となくカリフォルニア州っぽく見えます。"
   ]
  },
  {
   "cell_type": "code",
   "execution_count": null,
   "metadata": {},
   "outputs": [],
   "source": [
    "df_housing.plot.scatter(x=\"longitude\", y=\"latitude\")"
   ]
  },
  {
   "cell_type": "code",
   "execution_count": null,
   "metadata": {},
   "outputs": [],
   "source": [
    "df_housing[\"median_house_value\"].hist()"
   ]
  },
  {
   "cell_type": "code",
   "execution_count": null,
   "metadata": {},
   "outputs": [],
   "source": [
    "df_housing.plot.scatter(x=\"median_income\", y=\"median_house_value\")"
   ]
  },
  {
   "cell_type": "markdown",
   "metadata": {},
   "source": [
    "\"median_house_value\" <= 500000 の値はすべて 500000 になっていそうなので、除外して再度プロットしてみます。   "
   ]
  },
  {
   "cell_type": "code",
   "execution_count": null,
   "metadata": {},
   "outputs": [],
   "source": [
    "df_housing_cutoff = df_housing[df_housing[\"median_house_value\"]<500000]"
   ]
  },
  {
   "cell_type": "code",
   "execution_count": null,
   "metadata": {},
   "outputs": [],
   "source": [
    "df_housing_cutoff[\"median_house_value\"].hist()"
   ]
  },
  {
   "cell_type": "code",
   "execution_count": null,
   "metadata": {},
   "outputs": [],
   "source": [
    "df_housing_cutoff.plot.scatter(x=\"median_income\", y=\"median_house_value\")"
   ]
  },
  {
   "cell_type": "markdown",
   "metadata": {},
   "source": [
    "このように、データをプロットしてみて修正を繰り返す作業を行う場合は、seaborn の `pairplot()` を利用するといいかもしれません。  \n",
    "\n",
    "[seaborn.pairplot](https://seaborn.pydata.org/generated/seaborn.pairplot.html)  "
   ]
  },
  {
   "cell_type": "markdown",
   "metadata": {
    "colab_type": "text",
    "id": "G_bwFVAkv0JF"
   },
   "source": [
    "## 補足資料  \n",
    "\n",
    "この資料による説明は以上です。さらに詳しく知りたい場合は、  \n",
    "\n",
    "- [pandas: Python Data Analysis Library](http://pandas.pydata.org/)  \n",
    "- [11. Pandas 入門 — ディープラーニング入門：Chainer チュートリアル](https://tutorials.chainer.org/ja/src/11_Introduction_to_Pandas_ja.html)  \n",
    "- [Pandas入門 - DeepAge](https://deepage.net/features/pandas/)  \n",
    "\n",
    "などを参照してください。"
   ]
  }
 ],
 "metadata": {
  "colab": {
   "collapsed_sections": [],
   "name": "pandas練習(Light版).ipynb",
   "provenance": [],
   "toc_visible": true,
   "version": "0.3.2"
  },
  "kernelspec": {
   "display_name": "Jupyter",
   "language": "python",
   "name": "jupyter"
  },
  "language_info": {
   "codemirror_mode": {
    "name": "ipython",
    "version": 3
   },
   "file_extension": ".py",
   "mimetype": "text/x-python",
   "name": "python",
   "nbconvert_exporter": "python",
   "pygments_lexer": "ipython3",
   "version": "3.7.6"
  }
 },
 "nbformat": 4,
 "nbformat_minor": 4
}
