{
 "cells": [
  {
   "cell_type": "markdown",
   "metadata": {},
   "source": [
    "# xlwings 練習  "
   ]
  },
  {
   "cell_type": "markdown",
   "metadata": {},
   "source": [
    "xlwings は openpyxl とともに Excel ファイルを操作するための代表的な Python パッケージです。両者とも Anaconda に同梱されています。  \n",
    "簡単に比較すると、  \n",
    "\n",
    "|[xlwings](https://www.xlwings.org/)|[openpyxl](https://openpyxl.readthedocs.io/)| \n",
    "|-----------------------------------|--------------------------------------------|\n",
    "|Excel アプリを通して Excel ファイルを取り扱う|Excel ファイルを直接操作する|\n",
    "|Excel アプリのインストールが必要|Excel アプリ不要で利用できる|                             \n",
    "|処理が遅い|速い|\n",
    "|Excel のバグも考慮しなければならない|Excel のバグの影響をうけない|\n",
    "|制限は Excel に準じる|ブックを超えたシートのコピーなどが出来ない|\n",
    "|VBA に近い|VBA とはかなり異なる|\n",
    "\n",
    "このような違いがあります。  \n",
    "\n",
    "コードの実行とともに Excel が動くので、xlwings のほうがコーディングやデバッグはしやすいと感じます。  \n",
    "\n",
    "[xlwings - 翔べ！Excel — xlwings dev ドキュメント](https://docs.xlwings.org/ja/latest/)  \n",
    "[Python API — xlwings dev documentation](https://docs.xlwings.org/en/stable/api.html)  "
   ]
  },
  {
   "cell_type": "code",
   "execution_count": null,
   "metadata": {},
   "outputs": [],
   "source": [
    "# xlwings のインポート\n",
    "import xlwings as xw"
   ]
  },
  {
   "cell_type": "code",
   "execution_count": null,
   "metadata": {},
   "outputs": [],
   "source": [
    "# 新規 Book クラスを作成 (Excel が起動します)\n",
    "book_xw = xw.Book()\n",
    "print(type(book_xw))"
   ]
  },
  {
   "cell_type": "code",
   "execution_count": null,
   "metadata": {},
   "outputs": [],
   "source": [
    "# 作成したファイルを名前を付けて保存\n",
    "book_xw.save(\"book_xw.xlsx\")"
   ]
  },
  {
   "cell_type": "code",
   "execution_count": null,
   "metadata": {},
   "outputs": [],
   "source": [
    "# 最後に Excel 自体を終了させる必要があるため \n",
    "# Excel アプリ (App クラス) を取得しておく\n",
    "app_xw = book_xw.app\n",
    "print(\"App's pid: {}\".format(app_xw.pid))\n",
    "print(type(app_xw))"
   ]
  },
  {
   "cell_type": "code",
   "execution_count": null,
   "metadata": {},
   "outputs": [],
   "source": [
    "# Sheets クラスを取得\n",
    "# VBA の Worksheets コレクションに相当\n",
    "sheets_xw = book_xw.sheets\n",
    "print(type(sheets_xw))"
   ]
  },
  {
   "cell_type": "code",
   "execution_count": null,
   "metadata": {},
   "outputs": [],
   "source": [
    "# Sheets へのインデックス指定で Sheet クラスを取得\n",
    "# [] でのインデックス指定は 0 から始まる (Python 風)\n",
    "# () でのインデックス指定は 1 から始まる (VBA 風)\n",
    "print(type(sheets_xw[0]))\n",
    "print(sheets_xw[0].name)\n",
    "print(sheets_xw(1).name)\n",
    "# 名前を指定しての取得も可能\n",
    "print(sheets_xw[\"Sheet1\"].name)"
   ]
  },
  {
   "cell_type": "code",
   "execution_count": null,
   "metadata": {},
   "outputs": [],
   "source": [
    "# 新しいシートを追加\n",
    "# 追加されたシートが自動的にアクティブになる\n",
    "sheets_xw.add(\"シート2\", after=\"Sheet1\")  # befor=\"sheet_name\" も可/before と after は前者が優先\n",
    "print(\"現在のシート数は {} です。\".format(sheets_xw.count))\n",
    "print(\"現在アクティブなシートは {} です。\".format(sheets_xw.active.name))"
   ]
  },
  {
   "cell_type": "code",
   "execution_count": null,
   "metadata": {},
   "outputs": [],
   "source": [
    "print(sheets_xw[1].name)          # Python 風\n",
    "print(sheets_xw(2).name)          # VBA 風\n",
    "print(sheets_xw[\"シート2\"].name)"
   ]
  },
  {
   "cell_type": "code",
   "execution_count": null,
   "metadata": {},
   "outputs": [],
   "source": [
    "# Sheet1 をアクティブにする\n",
    "sheets_xw(\"Sheet1\").activate()\n",
    "print(\"現在アクティブなシートは {} です。\".format(sheets_xw.active.name))"
   ]
  },
  {
   "cell_type": "code",
   "execution_count": null,
   "metadata": {},
   "outputs": [],
   "source": [
    "# Sheet1 → シート1 にリネーム\n",
    "s1_xw = sheets_xw(\"Sheet1\")\n",
    "s1_xw.name = \"シート1\"\n",
    "print(\"現在アクティブなシートは {} です。\".format(sheets_xw.active.name))"
   ]
  },
  {
   "cell_type": "code",
   "execution_count": null,
   "metadata": {},
   "outputs": [],
   "source": [
    "# Range クラスを取得してアクセス\n",
    "s1_xw[0, 0].value = \"A1\"          # Python 風\n",
    "s1_xw.range(\"B1\").value = \"B1\"    # VBA 風\n",
    "s1_xw.range((1, 3)).value = \"C1\"  # VBA 風"
   ]
  },
  {
   "cell_type": "code",
   "execution_count": null,
   "metadata": {},
   "outputs": [],
   "source": [
    "# 複数のセル範囲に対する処理\n",
    "# セルの背景色 RGB をタプルで渡して指定\n",
    "s1_xw.range(\"A2:C2\").color = (255, 0, 0)  "
   ]
  },
  {
   "cell_type": "code",
   "execution_count": null,
   "metadata": {},
   "outputs": [],
   "source": [
    "# Sheet.range((from), (to)) で VBA 風のインデックスを渡してセル範囲を取得\n",
    "rng_A3_J4 = s1_xw.range((3, 1), (4, 10))  "
   ]
  },
  {
   "cell_type": "code",
   "execution_count": null,
   "metadata": {},
   "outputs": [],
   "source": [
    "listed_values = [[\"A3\", \"B3\", \"C3\", \"D3\", \"E3\", \"F3\", \"G3\", \"H3\", \"I3\", \"J3\"], [\"A4\", \"B4\", \"C4\", \"D4\", \"E4\", \"F4\", \"G4\", \"H4\", \"I4\", \"J4\"]]  # list\n",
    "rng_A3_J4.value = listed_values"
   ]
  },
  {
   "cell_type": "code",
   "execution_count": null,
   "metadata": {},
   "outputs": [],
   "source": [
    "# 単一のセルの value に対して複数要素を持つリスト (やタプル) を与えた場合\n",
    "s1_xw.range(\"A5\").value = listed_values"
   ]
  },
  {
   "cell_type": "code",
   "execution_count": null,
   "metadata": {},
   "outputs": [],
   "source": [
    "s1_xw.range(\"A7\").value = [[cell for cell in row] for row in [\"ABCDEFGHIJ\", \"1234567890\"]]  # リスト内法表記を利用"
   ]
  },
  {
   "cell_type": "code",
   "execution_count": null,
   "metadata": {},
   "outputs": [],
   "source": [
    "s1_xw.range(\"A9:J10\").formula = \"=ROW(A9) & \\\", \\\" & COLUMN(A9)\"  # 文字列中のダブルクォーテーションは \\ でエスケープ"
   ]
  },
  {
   "cell_type": "code",
   "execution_count": null,
   "metadata": {},
   "outputs": [],
   "source": [
    "# セルの背景色をクラスで定義された定数で指定\n",
    "rng_A3_J4.color = xw.constants.RgbColor.rgbBlue "
   ]
  },
  {
   "cell_type": "code",
   "execution_count": null,
   "metadata": {},
   "outputs": [],
   "source": [
    "# api を使って Excel ネイティブのオブジェクトを操作\n",
    "# ここではフォントの色を変更\n",
    "rng_A3_J4.api.Font.Color = xw.constants.RgbColor.rgbRed"
   ]
  },
  {
   "cell_type": "markdown",
   "metadata": {},
   "source": [
    "xlwings で利用できるその他の定数の一覧は以下を参照ください。  \n",
    "[xlwings/constants.py at master · xlwings/xlwings](https://github.com/xlwings/xlwings/blob/master/xlwings/constants.py)  "
   ]
  },
  {
   "cell_type": "code",
   "execution_count": null,
   "metadata": {},
   "outputs": [],
   "source": [
    "# 行範囲および列範囲の操作\n",
    "# セルの背景色をなくす\n",
    "s1_xw.range(\"3:3\").color = None"
   ]
  },
  {
   "cell_type": "code",
   "execution_count": null,
   "metadata": {},
   "outputs": [],
   "source": [
    "s1_xw.range(\"B:B\").color = None"
   ]
  },
  {
   "cell_type": "code",
   "execution_count": null,
   "metadata": {},
   "outputs": [],
   "source": [
    "# Sheet.cells() は Range を返す\n",
    "s1_xw.cells(11, 1).value = \"A11\"\n",
    "print(type(s1_xw.cells(11, 1)))"
   ]
  },
  {
   "cell_type": "code",
   "execution_count": null,
   "metadata": {},
   "outputs": [],
   "source": [
    "# 式の入力\n",
    "s1_xw.cells(11, 2).formula = \"=\\\"B\\\" & row(A11)\""
   ]
  },
  {
   "cell_type": "code",
   "execution_count": null,
   "metadata": {},
   "outputs": [],
   "source": [
    "# copy を使ってセルのコピー\n",
    "# 元の式中の相対セル参照部分も相対移動する\n",
    "s1_xw.range((11, 2)).copy(destination=s1_xw.range((11, 3)))"
   ]
  },
  {
   "cell_type": "code",
   "execution_count": null,
   "metadata": {},
   "outputs": [],
   "source": [
    "# この方法では相対セル参照であっても元の数式のとおり\n",
    "s1_xw.range((11, 4)).formula = s1_xw.range((11, 2)).formula"
   ]
  },
  {
   "cell_type": "code",
   "execution_count": null,
   "metadata": {},
   "outputs": [],
   "source": [
    "# Sheet.cells でシート内のすべてのセル範囲を選択\n",
    "# clear() は、Range の値、式、書式をクリアする\n",
    "s1_xw.cells.clear()"
   ]
  },
  {
   "cell_type": "markdown",
   "metadata": {},
   "source": [
    "---\n",
    "## pandas.DataFrame のデータをセルに入力  "
   ]
  },
  {
   "cell_type": "code",
   "execution_count": null,
   "metadata": {},
   "outputs": [],
   "source": [
    "import pandas as pd \n",
    "\n",
    "df = pd.read_csv(\"./練習用データ/都道府県コード.csv\", encoding=\"utf-8\") \n",
    "df"
   ]
  },
  {
   "cell_type": "code",
   "execution_count": null,
   "metadata": {},
   "outputs": [],
   "source": [
    "# DataFrame をそのまま貼り付け\n",
    "s1_xw.range(\"A1\").value = df"
   ]
  },
  {
   "cell_type": "code",
   "execution_count": null,
   "metadata": {},
   "outputs": [],
   "source": [
    "# 不要な DataFrame の index 列を削除\n",
    "s1_xw.range(\"A:A\").delete(shift=\"left\")"
   ]
  },
  {
   "cell_type": "markdown",
   "metadata": {},
   "source": [
    "---  \n",
    "## グラフや画像の挿入  "
   ]
  },
  {
   "cell_type": "code",
   "execution_count": null,
   "metadata": {},
   "outputs": [],
   "source": [
    "# シート2 を表示 (アクティブに)\n",
    "s2_xw = sheets_xw(\"シート2\")\n",
    "s2_xw.activate()\n",
    "print(\"現在アクティブなシートは {} です。\".format(sheets_xw.active.name))"
   ]
  },
  {
   "cell_type": "code",
   "execution_count": null,
   "metadata": {},
   "outputs": [],
   "source": [
    "# グラフを描くためのデータを作成\n",
    "import numpy as np\n",
    "\n",
    "x = np.linspace(-5, 5, 101)\n",
    "y_sin = np.sin(x)\n",
    "y_cos = np.cos(x)"
   ]
  },
  {
   "cell_type": "code",
   "execution_count": null,
   "metadata": {},
   "outputs": [],
   "source": [
    "# pandas.DataFrame と同様、numpy.ndarray もそのまま貼り付け\n",
    "s2_xw.range(\"A1\").value = x\n",
    "s2_xw.range(\"A2\").value = y_sin\n",
    "s2_xw.range(\"A3\").value = y_cos"
   ]
  },
  {
   "cell_type": "code",
   "execution_count": null,
   "metadata": {},
   "outputs": [],
   "source": [
    "# データの個数を確認\n",
    "print(len(x))"
   ]
  },
  {
   "cell_type": "code",
   "execution_count": null,
   "metadata": {},
   "outputs": [],
   "source": [
    "# 使用されている最大の行を取得\n",
    "s2_xw.used_range.last_cell.row"
   ]
  },
  {
   "cell_type": "code",
   "execution_count": null,
   "metadata": {},
   "outputs": [],
   "source": [
    "# 使用されている最大の列を取得\n",
    "# データの個数と一致\n",
    "s2_xw.used_range.last_cell.column"
   ]
  },
  {
   "cell_type": "code",
   "execution_count": null,
   "metadata": {},
   "outputs": [],
   "source": [
    "# Sheet.used_range.last_cell で取得されているのは Range\n",
    "last_cell = s2_xw.used_range.last_cell\n",
    "print(type(last_cell))"
   ]
  },
  {
   "cell_type": "code",
   "execution_count": null,
   "metadata": {},
   "outputs": [],
   "source": [
    "# Range.get_address() を使うと A1 形式のアドレスが返る\n",
    "s2_xw.used_range.last_cell.get_address()"
   ]
  },
  {
   "cell_type": "code",
   "execution_count": null,
   "metadata": {},
   "outputs": [],
   "source": [
    "# データをもとに Chart (グラフ) クラスを作成\n",
    "chart_xw = s2_xw.charts.add()\n",
    "print(type(chart_xw))"
   ]
  },
  {
   "cell_type": "code",
   "execution_count": null,
   "metadata": {},
   "outputs": [],
   "source": [
    "chart_xw.set_source_data(s2_xw.range(\"A2:{}\".format(last_cell.get_address())))\n",
    "chart_xw.chart_type = 'line'\n",
    "chart_xw.left = 0  # シート左端からのグラフの位置\n",
    "chart_xw.top = 100  # シート上端からのグラフの位置"
   ]
  },
  {
   "cell_type": "code",
   "execution_count": null,
   "metadata": {},
   "outputs": [],
   "source": [
    "# api を使って Excel ネイティブのオブジェクトを操作\n",
    "# ここでは x 軸の目盛りを変換\n",
    "chart_xw.api[1].SeriesCollection(1).XValues = s2_xw.api.Range(\"A1:CW1\")  # ネイティブの Range オブジェクトを渡す。s2_xw.range(\"A1:CW1\") では不可"
   ]
  },
  {
   "cell_type": "markdown",
   "metadata": {},
   "source": [
    "注意: Chart.api は要素が 2 つのタプルを返します。  \n",
    "2 番目の要素 (インデックス指定は `[1]`) を指定することでうまく操作できるようです。理由はよくわかりません💦  \n",
    "\n",
    "[python - set chart name in Xlwings - Stack Overflow](https://stackoverflow.com/questions/44910566/set-chart-name-in-xlwings?rq=1)  "
   ]
  },
  {
   "cell_type": "code",
   "execution_count": null,
   "metadata": {},
   "outputs": [],
   "source": [
    "# ここではタイトルを設定\n",
    "chart_xw.api[1].HasTitle = True\n",
    "chart_xw.api[1].ChartTitle.Text = \"Sin Curve & Cos Curve\""
   ]
  },
  {
   "cell_type": "code",
   "execution_count": null,
   "metadata": {},
   "outputs": [],
   "source": [
    "# ここでは凡例ラベルを変更\n",
    "names = (\"y_sin\", \"y_cos\")\n",
    "for s, n in zip(chart_xw.api[1].SeriesCollection(), names):\n",
    "    s.XValues = s2_xw.api.Range(\"A1:CW1\")\n",
    "    s.Name = n"
   ]
  },
  {
   "cell_type": "code",
   "execution_count": null,
   "metadata": {},
   "outputs": [],
   "source": [
    "# matplotlib の Figure を画像として挿入\n",
    "import matplotlib.pyplot as plt\n",
    "\n",
    "fig = plt.figure()\n",
    "plt.plot(x, y_sin, label=\"y_sin\", c=\"r\", lw=1, ls=\"-\", marker=\".\", markersize=4, alpha=1)\n",
    "plt.plot(x, y_cos, label=\"y_cos\", c=\"g\", lw=1, ls=\"--\", marker=\"x\", markersize=4, alpha=1)\n",
    "plt.legend()\n",
    "plt.title(\"Sin Curve & Cos Curve\")\n",
    "plt.show()"
   ]
  },
  {
   "cell_type": "code",
   "execution_count": null,
   "metadata": {},
   "outputs": [],
   "source": [
    "p1_xw = s2_xw.pictures.add(fig, name=\"plt_pict\", update=True)\n",
    "p1_xw.left = 450\n",
    "p1_xw.top = 100"
   ]
  },
  {
   "cell_type": "code",
   "execution_count": null,
   "metadata": {},
   "outputs": [],
   "source": [
    "# png の挿入\n",
    "p2_xw = s2_xw.pictures.add(\"https://www.google.com/images/branding/googlelogo/1x/googlelogo_color_272x92dp.png\", name=\"g_logo_pict\", update=True)\n",
    "p2_xw.left = 0\n",
    "p2_xw.top = 350"
   ]
  },
  {
   "cell_type": "markdown",
   "metadata": {},
   "source": [
    "---\n",
    "## シートのコピーと移動  "
   ]
  },
  {
   "cell_type": "code",
   "execution_count": null,
   "metadata": {},
   "outputs": [],
   "source": [
    "# シートをコピーして追加\n",
    "# ここでは先頭に追加している\n",
    "# After= を使うとなぜか新しいブックが開いてコピーされるので注意…\n",
    "s2_xw.api.Copy(Before=sheets_xw[0].api)"
   ]
  },
  {
   "cell_type": "code",
   "execution_count": null,
   "metadata": {},
   "outputs": [],
   "source": [
    "# 先頭に追加されたシートの名前を変更\n",
    "s3_xw = sheets_xw[0]\n",
    "s3_xw.name = \"added_sheet\""
   ]
  },
  {
   "cell_type": "code",
   "execution_count": null,
   "metadata": {},
   "outputs": [],
   "source": [
    "# シートの移動\n",
    "# ここでも After= が上手く機能しないので、\n",
    "# シートの最後に移動するには以下のようにする\n",
    "bottom_sheet = sheets_xw[-1]\n",
    "s3_xw.api.Move(Before=bottom_sheet.api)\n",
    "bottom_sheet.api.Move(Before=s3_xw.api)"
   ]
  },
  {
   "cell_type": "markdown",
   "metadata": {},
   "source": [
    "---\n",
    "## xlwings の終了"
   ]
  },
  {
   "cell_type": "code",
   "execution_count": null,
   "metadata": {},
   "outputs": [],
   "source": [
    "# 上書き保存して終了\n",
    "book_xw.save()\n",
    "book_xw.close()\n",
    "app_xw.quit()  # ← これがないと Excel のプロセスが残ってしまう"
   ]
  }
 ],
 "metadata": {
  "kernelspec": {
   "display_name": "jpy",
   "language": "python",
   "name": "jpy"
  },
  "language_info": {
   "codemirror_mode": {
    "name": "ipython",
    "version": 3
   },
   "file_extension": ".py",
   "mimetype": "text/x-python",
   "name": "python",
   "nbconvert_exporter": "python",
   "pygments_lexer": "ipython3",
   "version": "3.7.6"
  }
 },
 "nbformat": 4,
 "nbformat_minor": 4
}
