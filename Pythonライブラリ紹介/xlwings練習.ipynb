{
 "cells": [
  {
   "cell_type": "markdown",
   "metadata": {},
   "source": [
    "# xlwings 練習  "
   ]
  },
  {
   "cell_type": "markdown",
   "metadata": {},
   "source": [
    "xlwings は openpyxl とともに Excel ファイルを操作するための代表的な Python パッケージです。両者とも Anaconda に同梱されています。  \n",
    "簡単に比較すると、  \n",
    "\n",
    "|[xlwings](https://www.xlwings.org/)|[openpyxl](https://openpyxl.readthedocs.io/)| \n",
    "|-----------------------------------|--------------------------------------------|\n",
    "|Excel アプリを通して Excel ファイルを取り扱う|Excel ファイルを直接操作する|\n",
    "|Excel アプリのインストールが必要|Excel アプリ不要で利用できる|                             \n",
    "|処理が遅い|速い|\n",
    "|Excel のバグも考慮しなければならない|Excel のバグの影響をうけない|\n",
    "|制限は Excel に準じる|ブックを超えたシートのコピーなどが出来ない|\n",
    "|VBA に近い|VBA とはかなり異なる|\n",
    "\n",
    "このような違いがあります。  \n",
    "\n",
    "コードの実行とともに Excel が動くので、xlwings のほうがコーディングやデバッグはしやすいと感じます。  \n",
    "\n",
    "[xlwings - 翔べ！Excel — xlwings dev ドキュメント](https://docs.xlwings.org/ja/latest/)  \n",
    "[Python API — xlwings dev documentation](https://docs.xlwings.org/en/stable/api.html)  "
   ]
  },
  {
   "cell_type": "code",
   "execution_count": 1,
   "metadata": {},
   "outputs": [],
   "source": [
    "# xlwings のインポート\n",
    "import xlwings as xw"
   ]
  },
  {
   "cell_type": "code",
   "execution_count": 2,
   "metadata": {},
   "outputs": [
    {
     "name": "stdout",
     "output_type": "stream",
     "text": [
      "<class 'xlwings.main.Book'>\n"
     ]
    }
   ],
   "source": [
    "# 新規 Book クラスを作成 (Excel が起動します)\n",
    "book_xw = xw.Book()\n",
    "print(type(book_xw))"
   ]
  },
  {
   "cell_type": "code",
   "execution_count": 3,
   "metadata": {},
   "outputs": [],
   "source": [
    "# 作成したファイルを名前を付けて保存\n",
    "book_xw.save(\"book_xw.xlsx\")"
   ]
  },
  {
   "cell_type": "code",
   "execution_count": 4,
   "metadata": {},
   "outputs": [
    {
     "name": "stdout",
     "output_type": "stream",
     "text": [
      "App's pid: 244\n",
      "<class 'xlwings.main.App'>\n"
     ]
    }
   ],
   "source": [
    "# 最後に Excel 自体を終了させる必要があるため \n",
    "# Excel アプリ (App クラス) を取得しておく\n",
    "app_xw = book_xw.app\n",
    "print(\"App's pid: {}\".format(app_xw.pid))\n",
    "print(type(app_xw))"
   ]
  },
  {
   "cell_type": "code",
   "execution_count": 5,
   "metadata": {},
   "outputs": [
    {
     "name": "stdout",
     "output_type": "stream",
     "text": [
      "<class 'xlwings.main.Sheets'>\n"
     ]
    }
   ],
   "source": [
    "# Sheets クラスを取得\n",
    "# VBA の Worksheets コレクションに相当\n",
    "sheets_xw = book_xw.sheets\n",
    "print(type(sheets_xw))"
   ]
  },
  {
   "cell_type": "code",
   "execution_count": 6,
   "metadata": {},
   "outputs": [
    {
     "name": "stdout",
     "output_type": "stream",
     "text": [
      "<class 'xlwings.main.Sheet'>\n",
      "Sheet1\n",
      "Sheet1\n",
      "Sheet1\n"
     ]
    }
   ],
   "source": [
    "# Sheets へのインデックス指定で Sheet クラスを取得\n",
    "# [] でのインデックス指定は 0 から始まる (Python 風)\n",
    "# () でのインデックス指定は 1 から始まる (VBA 風)\n",
    "print(type(sheets_xw[0]))\n",
    "print(sheets_xw[0].name)\n",
    "print(sheets_xw(1).name)\n",
    "# 名前を指定しての取得も可能\n",
    "print(sheets_xw[\"Sheet1\"].name)"
   ]
  },
  {
   "cell_type": "code",
   "execution_count": 7,
   "metadata": {},
   "outputs": [
    {
     "name": "stdout",
     "output_type": "stream",
     "text": [
      "現在のシート数は 2 です。\n",
      "現在アクティブなシートは シート2 です。\n"
     ]
    }
   ],
   "source": [
    "# 新しいシートを追加\n",
    "# 追加されたシートが自動的にアクティブになる\n",
    "sheets_xw.add(\"シート2\", after=\"Sheet1\")  # befor=\"sheet_name\" も可/before と after は前者が優先\n",
    "print(\"現在のシート数は {} です。\".format(sheets_xw.count))\n",
    "print(\"現在アクティブなシートは {} です。\".format(sheets_xw.active.name))"
   ]
  },
  {
   "cell_type": "code",
   "execution_count": 8,
   "metadata": {},
   "outputs": [
    {
     "name": "stdout",
     "output_type": "stream",
     "text": [
      "シート2\n",
      "シート2\n",
      "シート2\n"
     ]
    }
   ],
   "source": [
    "print(sheets_xw[1].name)          # Python 風\n",
    "print(sheets_xw(2).name)          # VBA 風\n",
    "print(sheets_xw[\"シート2\"].name)"
   ]
  },
  {
   "cell_type": "code",
   "execution_count": 9,
   "metadata": {},
   "outputs": [
    {
     "name": "stdout",
     "output_type": "stream",
     "text": [
      "現在アクティブなシートは Sheet1 です。\n"
     ]
    }
   ],
   "source": [
    "# Sheet1 をアクティブにする\n",
    "sheets_xw(\"Sheet1\").activate()\n",
    "print(\"現在アクティブなシートは {} です。\".format(sheets_xw.active.name))"
   ]
  },
  {
   "cell_type": "code",
   "execution_count": 10,
   "metadata": {},
   "outputs": [
    {
     "name": "stdout",
     "output_type": "stream",
     "text": [
      "現在アクティブなシートは シート1 です。\n"
     ]
    }
   ],
   "source": [
    "# Sheet1 → シート1 にリネーム\n",
    "s1_xw = sheets_xw(\"Sheet1\")\n",
    "s1_xw.name = \"シート1\"\n",
    "print(\"現在アクティブなシートは {} です。\".format(sheets_xw.active.name))"
   ]
  },
  {
   "cell_type": "code",
   "execution_count": 11,
   "metadata": {},
   "outputs": [],
   "source": [
    "# Range クラスを取得してアクセス\n",
    "s1_xw[0, 0].value = \"A1\"          # Python 風\n",
    "s1_xw.range(\"B1\").value = \"B1\"    # VBA 風\n",
    "s1_xw.range((1, 3)).value = \"C1\"  # VBA 風"
   ]
  },
  {
   "cell_type": "code",
   "execution_count": 12,
   "metadata": {},
   "outputs": [],
   "source": [
    "# 複数のセル範囲に対する処理\n",
    "# セルの背景色 RGB をタプルで渡して指定\n",
    "s1_xw.range(\"A2:C2\").color = (255, 0, 0)  "
   ]
  },
  {
   "cell_type": "code",
   "execution_count": 13,
   "metadata": {},
   "outputs": [],
   "source": [
    "# Sheet.range((from), (to)) で VBA 風のインデックスを渡してセル範囲を取得\n",
    "rng_A3_J4 = s1_xw.range((3, 1), (4, 10))  "
   ]
  },
  {
   "cell_type": "code",
   "execution_count": 14,
   "metadata": {},
   "outputs": [],
   "source": [
    "listed_values = [[\"A3\", \"B3\", \"C3\", \"D3\", \"E3\", \"F3\", \"G3\", \"H3\", \"I3\", \"J3\"], [\"A4\", \"B4\", \"C4\", \"D4\", \"E4\", \"F4\", \"G4\", \"H4\", \"I4\", \"J4\"]]  # list\n",
    "rng_A3_J4.value = listed_values"
   ]
  },
  {
   "cell_type": "code",
   "execution_count": 15,
   "metadata": {},
   "outputs": [],
   "source": [
    "# 単一のセルの value に対して複数要素を持つリスト (やタプル) を与えた場合\n",
    "s1_xw.range(\"A5\").value = listed_values"
   ]
  },
  {
   "cell_type": "code",
   "execution_count": 16,
   "metadata": {},
   "outputs": [],
   "source": [
    "s1_xw.range(\"A7\").value = [[cell for cell in row] for row in [\"ABCDEFGHIJ\", \"1234567890\"]]  # リスト内法表記を利用"
   ]
  },
  {
   "cell_type": "code",
   "execution_count": 17,
   "metadata": {},
   "outputs": [],
   "source": [
    "s1_xw.range(\"A9:J10\").formula = \"=ROW(A9) & \\\", \\\" & COLUMN(A9)\"  # 文字列中のダブルクォーテーションは \\ でエスケープ"
   ]
  },
  {
   "cell_type": "code",
   "execution_count": 18,
   "metadata": {},
   "outputs": [],
   "source": [
    "# セルの背景色をクラスで定義された定数で指定\n",
    "rng_A3_J4.color = xw.constants.RgbColor.rgbBlue "
   ]
  },
  {
   "cell_type": "code",
   "execution_count": 19,
   "metadata": {},
   "outputs": [],
   "source": [
    "# api を使って Excel ネイティブのオブジェクトを操作\n",
    "# ここではフォントの色を変更\n",
    "rng_A3_J4.api.Font.Color = xw.constants.RgbColor.rgbRed"
   ]
  },
  {
   "cell_type": "markdown",
   "metadata": {},
   "source": [
    "xlwings で利用できるその他の定数の一覧は以下を参照ください。  \n",
    "[xlwings/constants.py at master · xlwings/xlwings](https://github.com/xlwings/xlwings/blob/master/xlwings/constants.py)  "
   ]
  },
  {
   "cell_type": "code",
   "execution_count": 20,
   "metadata": {},
   "outputs": [],
   "source": [
    "# 行範囲および列範囲の操作\n",
    "# セルの背景色をなくす\n",
    "s1_xw.range(\"3:3\").color = None"
   ]
  },
  {
   "cell_type": "code",
   "execution_count": 21,
   "metadata": {},
   "outputs": [],
   "source": [
    "s1_xw.range(\"B:B\").color = None"
   ]
  },
  {
   "cell_type": "code",
   "execution_count": 22,
   "metadata": {},
   "outputs": [
    {
     "name": "stdout",
     "output_type": "stream",
     "text": [
      "<class 'xlwings.main.Range'>\n"
     ]
    }
   ],
   "source": [
    "# Sheet.cells() は Range を返す\n",
    "s1_xw.cells(11, 1).value = \"A11\"\n",
    "print(type(s1_xw.cells(11, 1)))"
   ]
  },
  {
   "cell_type": "code",
   "execution_count": 23,
   "metadata": {},
   "outputs": [],
   "source": [
    "# 式の入力\n",
    "s1_xw.cells(11, 2).formula = \"=\\\"B\\\" & row(A11)\""
   ]
  },
  {
   "cell_type": "code",
   "execution_count": 24,
   "metadata": {},
   "outputs": [],
   "source": [
    "# copy を使ってセルのコピー\n",
    "# 元の式中の相対セル参照部分も相対移動する\n",
    "s1_xw.range((11, 2)).copy(destination=s1_xw.range((11, 3)))"
   ]
  },
  {
   "cell_type": "code",
   "execution_count": 25,
   "metadata": {},
   "outputs": [],
   "source": [
    "# この方法では相対セル参照であっても元の数式のとおり\n",
    "s1_xw.range((11, 4)).formula = s1_xw.range((11, 2)).formula"
   ]
  },
  {
   "cell_type": "code",
   "execution_count": 26,
   "metadata": {},
   "outputs": [],
   "source": [
    "# Sheet.cells でシート内のすべてのセル範囲を選択\n",
    "# clear() は、Range の値、式、書式をクリアする\n",
    "s1_xw.cells.clear()"
   ]
  },
  {
   "cell_type": "markdown",
   "metadata": {},
   "source": [
    "---\n",
    "## pandas.DataFrame のデータをセルに入力  "
   ]
  },
  {
   "cell_type": "code",
   "execution_count": 27,
   "metadata": {},
   "outputs": [
    {
     "data": {
      "text/html": [
       "<div>\n",
       "<style scoped>\n",
       "    .dataframe tbody tr th:only-of-type {\n",
       "        vertical-align: middle;\n",
       "    }\n",
       "\n",
       "    .dataframe tbody tr th {\n",
       "        vertical-align: top;\n",
       "    }\n",
       "\n",
       "    .dataframe thead th {\n",
       "        text-align: right;\n",
       "    }\n",
       "</style>\n",
       "<table border=\"1\" class=\"dataframe\">\n",
       "  <thead>\n",
       "    <tr style=\"text-align: right;\">\n",
       "      <th></th>\n",
       "      <th>Code</th>\n",
       "      <th>Name</th>\n",
       "    </tr>\n",
       "  </thead>\n",
       "  <tbody>\n",
       "    <tr>\n",
       "      <th>0</th>\n",
       "      <td>1</td>\n",
       "      <td>北海道</td>\n",
       "    </tr>\n",
       "    <tr>\n",
       "      <th>1</th>\n",
       "      <td>2</td>\n",
       "      <td>青森県</td>\n",
       "    </tr>\n",
       "    <tr>\n",
       "      <th>2</th>\n",
       "      <td>3</td>\n",
       "      <td>岩手県</td>\n",
       "    </tr>\n",
       "    <tr>\n",
       "      <th>3</th>\n",
       "      <td>4</td>\n",
       "      <td>宮城県</td>\n",
       "    </tr>\n",
       "    <tr>\n",
       "      <th>4</th>\n",
       "      <td>5</td>\n",
       "      <td>秋田県</td>\n",
       "    </tr>\n",
       "    <tr>\n",
       "      <th>5</th>\n",
       "      <td>6</td>\n",
       "      <td>山形県</td>\n",
       "    </tr>\n",
       "    <tr>\n",
       "      <th>6</th>\n",
       "      <td>7</td>\n",
       "      <td>福島県</td>\n",
       "    </tr>\n",
       "    <tr>\n",
       "      <th>7</th>\n",
       "      <td>8</td>\n",
       "      <td>茨城県</td>\n",
       "    </tr>\n",
       "    <tr>\n",
       "      <th>8</th>\n",
       "      <td>9</td>\n",
       "      <td>栃木県</td>\n",
       "    </tr>\n",
       "    <tr>\n",
       "      <th>9</th>\n",
       "      <td>10</td>\n",
       "      <td>群馬県</td>\n",
       "    </tr>\n",
       "    <tr>\n",
       "      <th>10</th>\n",
       "      <td>11</td>\n",
       "      <td>埼玉県</td>\n",
       "    </tr>\n",
       "    <tr>\n",
       "      <th>11</th>\n",
       "      <td>12</td>\n",
       "      <td>千葉県</td>\n",
       "    </tr>\n",
       "    <tr>\n",
       "      <th>12</th>\n",
       "      <td>13</td>\n",
       "      <td>東京都</td>\n",
       "    </tr>\n",
       "    <tr>\n",
       "      <th>13</th>\n",
       "      <td>14</td>\n",
       "      <td>神奈川県</td>\n",
       "    </tr>\n",
       "    <tr>\n",
       "      <th>14</th>\n",
       "      <td>15</td>\n",
       "      <td>新潟県</td>\n",
       "    </tr>\n",
       "    <tr>\n",
       "      <th>15</th>\n",
       "      <td>16</td>\n",
       "      <td>富山県</td>\n",
       "    </tr>\n",
       "    <tr>\n",
       "      <th>16</th>\n",
       "      <td>17</td>\n",
       "      <td>石川県</td>\n",
       "    </tr>\n",
       "    <tr>\n",
       "      <th>17</th>\n",
       "      <td>18</td>\n",
       "      <td>福井県</td>\n",
       "    </tr>\n",
       "    <tr>\n",
       "      <th>18</th>\n",
       "      <td>19</td>\n",
       "      <td>山梨県</td>\n",
       "    </tr>\n",
       "    <tr>\n",
       "      <th>19</th>\n",
       "      <td>20</td>\n",
       "      <td>長野県</td>\n",
       "    </tr>\n",
       "    <tr>\n",
       "      <th>20</th>\n",
       "      <td>21</td>\n",
       "      <td>岐阜県</td>\n",
       "    </tr>\n",
       "    <tr>\n",
       "      <th>21</th>\n",
       "      <td>22</td>\n",
       "      <td>静岡県</td>\n",
       "    </tr>\n",
       "    <tr>\n",
       "      <th>22</th>\n",
       "      <td>23</td>\n",
       "      <td>愛知県</td>\n",
       "    </tr>\n",
       "    <tr>\n",
       "      <th>23</th>\n",
       "      <td>24</td>\n",
       "      <td>三重県</td>\n",
       "    </tr>\n",
       "    <tr>\n",
       "      <th>24</th>\n",
       "      <td>25</td>\n",
       "      <td>滋賀県</td>\n",
       "    </tr>\n",
       "    <tr>\n",
       "      <th>25</th>\n",
       "      <td>26</td>\n",
       "      <td>京都府</td>\n",
       "    </tr>\n",
       "    <tr>\n",
       "      <th>26</th>\n",
       "      <td>27</td>\n",
       "      <td>大阪府</td>\n",
       "    </tr>\n",
       "    <tr>\n",
       "      <th>27</th>\n",
       "      <td>28</td>\n",
       "      <td>兵庫県</td>\n",
       "    </tr>\n",
       "    <tr>\n",
       "      <th>28</th>\n",
       "      <td>29</td>\n",
       "      <td>奈良県</td>\n",
       "    </tr>\n",
       "    <tr>\n",
       "      <th>29</th>\n",
       "      <td>30</td>\n",
       "      <td>和歌山県</td>\n",
       "    </tr>\n",
       "    <tr>\n",
       "      <th>30</th>\n",
       "      <td>31</td>\n",
       "      <td>鳥取県</td>\n",
       "    </tr>\n",
       "    <tr>\n",
       "      <th>31</th>\n",
       "      <td>32</td>\n",
       "      <td>島根県</td>\n",
       "    </tr>\n",
       "    <tr>\n",
       "      <th>32</th>\n",
       "      <td>33</td>\n",
       "      <td>岡山県</td>\n",
       "    </tr>\n",
       "    <tr>\n",
       "      <th>33</th>\n",
       "      <td>34</td>\n",
       "      <td>広島県</td>\n",
       "    </tr>\n",
       "    <tr>\n",
       "      <th>34</th>\n",
       "      <td>35</td>\n",
       "      <td>山口県</td>\n",
       "    </tr>\n",
       "    <tr>\n",
       "      <th>35</th>\n",
       "      <td>36</td>\n",
       "      <td>徳島県</td>\n",
       "    </tr>\n",
       "    <tr>\n",
       "      <th>36</th>\n",
       "      <td>37</td>\n",
       "      <td>香川県</td>\n",
       "    </tr>\n",
       "    <tr>\n",
       "      <th>37</th>\n",
       "      <td>38</td>\n",
       "      <td>愛媛県</td>\n",
       "    </tr>\n",
       "    <tr>\n",
       "      <th>38</th>\n",
       "      <td>39</td>\n",
       "      <td>高知県</td>\n",
       "    </tr>\n",
       "    <tr>\n",
       "      <th>39</th>\n",
       "      <td>40</td>\n",
       "      <td>福岡県</td>\n",
       "    </tr>\n",
       "    <tr>\n",
       "      <th>40</th>\n",
       "      <td>41</td>\n",
       "      <td>佐賀県</td>\n",
       "    </tr>\n",
       "    <tr>\n",
       "      <th>41</th>\n",
       "      <td>42</td>\n",
       "      <td>長崎県</td>\n",
       "    </tr>\n",
       "    <tr>\n",
       "      <th>42</th>\n",
       "      <td>43</td>\n",
       "      <td>熊本県</td>\n",
       "    </tr>\n",
       "    <tr>\n",
       "      <th>43</th>\n",
       "      <td>44</td>\n",
       "      <td>大分県</td>\n",
       "    </tr>\n",
       "    <tr>\n",
       "      <th>44</th>\n",
       "      <td>45</td>\n",
       "      <td>宮崎県</td>\n",
       "    </tr>\n",
       "    <tr>\n",
       "      <th>45</th>\n",
       "      <td>46</td>\n",
       "      <td>鹿児島県</td>\n",
       "    </tr>\n",
       "    <tr>\n",
       "      <th>46</th>\n",
       "      <td>47</td>\n",
       "      <td>沖縄県</td>\n",
       "    </tr>\n",
       "  </tbody>\n",
       "</table>\n",
       "</div>"
      ],
      "text/plain": [
       "    Code  Name\n",
       "0      1   北海道\n",
       "1      2   青森県\n",
       "2      3   岩手県\n",
       "3      4   宮城県\n",
       "4      5   秋田県\n",
       "5      6   山形県\n",
       "6      7   福島県\n",
       "7      8   茨城県\n",
       "8      9   栃木県\n",
       "9     10   群馬県\n",
       "10    11   埼玉県\n",
       "11    12   千葉県\n",
       "12    13   東京都\n",
       "13    14  神奈川県\n",
       "14    15   新潟県\n",
       "15    16   富山県\n",
       "16    17   石川県\n",
       "17    18   福井県\n",
       "18    19   山梨県\n",
       "19    20   長野県\n",
       "20    21   岐阜県\n",
       "21    22   静岡県\n",
       "22    23   愛知県\n",
       "23    24   三重県\n",
       "24    25   滋賀県\n",
       "25    26   京都府\n",
       "26    27   大阪府\n",
       "27    28   兵庫県\n",
       "28    29   奈良県\n",
       "29    30  和歌山県\n",
       "30    31   鳥取県\n",
       "31    32   島根県\n",
       "32    33   岡山県\n",
       "33    34   広島県\n",
       "34    35   山口県\n",
       "35    36   徳島県\n",
       "36    37   香川県\n",
       "37    38   愛媛県\n",
       "38    39   高知県\n",
       "39    40   福岡県\n",
       "40    41   佐賀県\n",
       "41    42   長崎県\n",
       "42    43   熊本県\n",
       "43    44   大分県\n",
       "44    45   宮崎県\n",
       "45    46  鹿児島県\n",
       "46    47   沖縄県"
      ]
     },
     "execution_count": 27,
     "metadata": {},
     "output_type": "execute_result"
    }
   ],
   "source": [
    "import pandas as pd \n",
    "\n",
    "df = pd.read_csv(\"./pandas練習用データ/都道府県コード.csv\", encoding=\"utf-8\") \n",
    "df"
   ]
  },
  {
   "cell_type": "code",
   "execution_count": 28,
   "metadata": {},
   "outputs": [],
   "source": [
    "# DataFrame をそのまま貼り付け\n",
    "s1_xw.range(\"A1\").value = df"
   ]
  },
  {
   "cell_type": "code",
   "execution_count": 29,
   "metadata": {},
   "outputs": [],
   "source": [
    "# 不要な DataFrame の index 列を削除\n",
    "s1_xw.range(\"A:A\").delete(shift=\"left\")"
   ]
  },
  {
   "cell_type": "markdown",
   "metadata": {},
   "source": [
    "---  \n",
    "## グラフや画像の挿入  "
   ]
  },
  {
   "cell_type": "code",
   "execution_count": 30,
   "metadata": {},
   "outputs": [
    {
     "name": "stdout",
     "output_type": "stream",
     "text": [
      "現在アクティブなシートは シート2 です。\n"
     ]
    }
   ],
   "source": [
    "# シート2 を表示 (アクティブに)\n",
    "s2_xw = sheets_xw(\"シート2\")\n",
    "s2_xw.activate()\n",
    "print(\"現在アクティブなシートは {} です。\".format(sheets_xw.active.name))"
   ]
  },
  {
   "cell_type": "code",
   "execution_count": 31,
   "metadata": {},
   "outputs": [],
   "source": [
    "# グラフを描くためのデータを作成\n",
    "import numpy as np\n",
    "\n",
    "x = np.linspace(-5, 5, 101)\n",
    "y_sin = np.sin(x)\n",
    "y_cos = np.cos(x)"
   ]
  },
  {
   "cell_type": "code",
   "execution_count": 32,
   "metadata": {},
   "outputs": [],
   "source": [
    "# pandas.DataFrame と同様、numpy.ndarray もそのまま貼り付け\n",
    "s2_xw.range(\"A1\").value = x\n",
    "s2_xw.range(\"A2\").value = y_sin\n",
    "s2_xw.range(\"A3\").value = y_cos"
   ]
  },
  {
   "cell_type": "code",
   "execution_count": 33,
   "metadata": {},
   "outputs": [
    {
     "name": "stdout",
     "output_type": "stream",
     "text": [
      "101\n"
     ]
    }
   ],
   "source": [
    "# データの個数を確認\n",
    "print(len(x))"
   ]
  },
  {
   "cell_type": "code",
   "execution_count": 34,
   "metadata": {},
   "outputs": [
    {
     "data": {
      "text/plain": [
       "3"
      ]
     },
     "execution_count": 34,
     "metadata": {},
     "output_type": "execute_result"
    }
   ],
   "source": [
    "# 使用されている最大の行を取得\n",
    "s2_xw.used_range.last_cell.row"
   ]
  },
  {
   "cell_type": "code",
   "execution_count": 35,
   "metadata": {},
   "outputs": [
    {
     "data": {
      "text/plain": [
       "101"
      ]
     },
     "execution_count": 35,
     "metadata": {},
     "output_type": "execute_result"
    }
   ],
   "source": [
    "# 使用されている最大の列を取得\n",
    "# データの個数と一致\n",
    "s2_xw.used_range.last_cell.column"
   ]
  },
  {
   "cell_type": "code",
   "execution_count": 36,
   "metadata": {},
   "outputs": [
    {
     "name": "stdout",
     "output_type": "stream",
     "text": [
      "<class 'xlwings.main.Range'>\n"
     ]
    }
   ],
   "source": [
    "# Sheet.used_range.last_cell で取得されているのは Range\n",
    "last_cell = s2_xw.used_range.last_cell\n",
    "print(type(last_cell))"
   ]
  },
  {
   "cell_type": "code",
   "execution_count": 37,
   "metadata": {},
   "outputs": [
    {
     "data": {
      "text/plain": [
       "'$CW$3'"
      ]
     },
     "execution_count": 37,
     "metadata": {},
     "output_type": "execute_result"
    }
   ],
   "source": [
    "# Range.get_address() を使うと A1 形式のアドレスが返る\n",
    "s2_xw.used_range.last_cell.get_address()"
   ]
  },
  {
   "cell_type": "code",
   "execution_count": 38,
   "metadata": {},
   "outputs": [
    {
     "name": "stdout",
     "output_type": "stream",
     "text": [
      "<class 'xlwings.main.Chart'>\n"
     ]
    }
   ],
   "source": [
    "# データをもとに Chart (グラフ) クラスを作成\n",
    "chart_xw = s2_xw.charts.add()\n",
    "print(type(chart_xw))"
   ]
  },
  {
   "cell_type": "code",
   "execution_count": 39,
   "metadata": {},
   "outputs": [],
   "source": [
    "chart_xw.set_source_data(s2_xw.range(\"A2:{}\".format(last_cell.get_address())))\n",
    "chart_xw.chart_type = 'line'\n",
    "chart_xw.left = 0  # シート左端からのグラフの位置\n",
    "chart_xw.top = 100  # シート上端からのグラフの位置"
   ]
  },
  {
   "cell_type": "code",
   "execution_count": 40,
   "metadata": {},
   "outputs": [],
   "source": [
    "# api を使って Excel ネイティブのオブジェクトを操作\n",
    "# ここでは x 軸の目盛りを変換\n",
    "chart_xw.api[1].SeriesCollection(1).XValues = s2_xw.api.Range(\"A1:CW1\")  # ネイティブの Range オブジェクトを渡す。s2_xw.range(\"A1:CW1\") では不可"
   ]
  },
  {
   "cell_type": "markdown",
   "metadata": {},
   "source": [
    "注意: Chart.api は要素が 2 つのタプルを返します。  \n",
    "2 番目の要素 (インデックス指定は `[1]`) を指定することでうまく操作できるようです。理由はよくわかりません💦  \n",
    "\n",
    "[python - set chart name in Xlwings - Stack Overflow](https://stackoverflow.com/questions/44910566/set-chart-name-in-xlwings?rq=1)  "
   ]
  },
  {
   "cell_type": "code",
   "execution_count": 41,
   "metadata": {},
   "outputs": [],
   "source": [
    "# ここではタイトルを設定\n",
    "chart_xw.api[1].HasTitle = True\n",
    "chart_xw.api[1].ChartTitle.Text = \"Sin Curve & Cos Curve\""
   ]
  },
  {
   "cell_type": "code",
   "execution_count": 42,
   "metadata": {},
   "outputs": [],
   "source": [
    "# ここでは凡例ラベルを変更\n",
    "names = (\"y_sin\", \"y_cos\")\n",
    "for s, n in zip(chart_xw.api[1].SeriesCollection(), names):\n",
    "    s.XValues = s2_xw.api.Range(\"A1:CW1\")\n",
    "    s.Name = n"
   ]
  },
  {
   "cell_type": "code",
   "execution_count": 43,
   "metadata": {},
   "outputs": [
    {
     "data": {
      "image/png": "[encoded data removed]",
      "text/plain": [
       "<Figure size 432x288 with 1 Axes>"
      ]
     },
     "metadata": {
      "needs_background": "light"
     },
     "output_type": "display_data"
    }
   ],
   "source": [
    "# matplotlib の Figure を画像として挿入\n",
    "import matplotlib.pyplot as plt\n",
    "\n",
    "fig = plt.figure()\n",
    "plt.plot(x, y_sin, label=\"y_sin\", c=\"r\", lw=1, ls=\"-\", marker=\".\", markersize=4, alpha=1)\n",
    "plt.plot(x, y_cos, label=\"y_cos\", c=\"g\", lw=1, ls=\"--\", marker=\"x\", markersize=4, alpha=1)\n",
    "plt.legend()\n",
    "plt.title(\"Sin Curve & Cos Curve\")\n",
    "plt.show()"
   ]
  },
  {
   "cell_type": "code",
   "execution_count": 44,
   "metadata": {},
   "outputs": [],
   "source": [
    "p1_xw = s2_xw.pictures.add(fig, name=\"plt_pict\", update=True)\n",
    "p1_xw.left = 450\n",
    "p1_xw.top = 100"
   ]
  },
  {
   "cell_type": "code",
   "execution_count": 45,
   "metadata": {},
   "outputs": [],
   "source": [
    "# png の挿入\n",
    "p2_xw = s2_xw.pictures.add(\"https://www.google.com/images/branding/googlelogo/1x/googlelogo_color_272x92dp.png\", name=\"g_logo_pict\", update=True)\n",
    "p2_xw.left = 0\n",
    "p2_xw.top = 350"
   ]
  },
  {
   "cell_type": "code",
   "execution_count": 46,
   "metadata": {},
   "outputs": [],
   "source": [
    "# 上書き保存して終了\n",
    "book_xw.save()\n",
    "book_xw.close()\n",
    "app_xw.quit()  # ← これがないと Excel のプロセスが残ってしまう"
   ]
  }
 ],
 "metadata": {
  "kernelspec": {
   "display_name": "Jupyter",
   "language": "python",
   "name": "jupyter"
  },
  "language_info": {
   "codemirror_mode": {
    "name": "ipython",
    "version": 3
   },
   "file_extension": ".py",
   "mimetype": "text/x-python",
   "name": "python",
   "nbconvert_exporter": "python",
   "pygments_lexer": "ipython3",
   "version": "3.7.6"
  }
 },
 "nbformat": 4,
 "nbformat_minor": 4
}
