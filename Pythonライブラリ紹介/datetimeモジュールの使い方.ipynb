{
 "cells": [
  {
   "cell_type": "markdown",
   "metadata": {},
   "source": [
    "# datetime モジュールの使い方  \n",
    "\n",
    "[datetime --- 基本的な日付型および時間型](https://docs.python.org/ja/3/library/datetime.html)  "
   ]
  },
  {
   "cell_type": "code",
   "execution_count": null,
   "metadata": {},
   "outputs": [],
   "source": [
    "# モジュールのインポート\n",
    "from datetime import datetime"
   ]
  },
  {
   "cell_type": "code",
   "execution_count": null,
   "metadata": {},
   "outputs": [],
   "source": [
    "# 現在時刻の datetime を取得\n",
    "d_now = datetime.now()\n",
    "print(d_now)\n",
    "print(type(d_now))"
   ]
  },
  {
   "cell_type": "code",
   "execution_count": null,
   "metadata": {},
   "outputs": [],
   "source": [
    "# 年\n",
    "print(d_now.year)\n",
    "# 月\n",
    "print(d_now.month)\n",
    "# 日\n",
    "print(d_now.day)\n",
    "# 時\n",
    "print(d_now.hour)\n",
    "# 分\n",
    "print(d_now.minute)\n",
    "# 秒\n",
    "print(d_now.second)\n",
    "# マイクロ秒\n",
    "print(d_now.microsecond)"
   ]
  },
  {
   "cell_type": "code",
   "execution_count": null,
   "metadata": {},
   "outputs": [],
   "source": [
    "# 日時を指定して datetime を生成\n",
    "# 下の行の右辺は datetime(2019, 2, 3) でも OK\n",
    "d_20190203 = datetime(year=2019, month=2, day=3, hour=0, minute=0, second=0, microsecond=0)\n",
    "print(d_20190203)\n",
    "print(type(d_20190203))"
   ]
  },
  {
   "cell_type": "markdown",
   "metadata": {},
   "source": [
    "## 日付の差  "
   ]
  },
  {
   "cell_type": "code",
   "execution_count": null,
   "metadata": {},
   "outputs": [],
   "source": [
    "from datetime import timedelta"
   ]
  },
  {
   "cell_type": "code",
   "execution_count": null,
   "metadata": {},
   "outputs": [],
   "source": [
    "# datetime 同士の差は timedelta となる\n",
    "delta_1 = d_now - d_20190203\n",
    "print(delta_1)\n",
    "print(type(delta_1))"
   ]
  },
  {
   "cell_type": "code",
   "execution_count": null,
   "metadata": {},
   "outputs": [],
   "source": [
    "# timedelta を生成\n",
    "delta_2 = timedelta(days=7)\n",
    "print(delta_2)\n",
    "print(type(delta_2))"
   ]
  },
  {
   "cell_type": "code",
   "execution_count": null,
   "metadata": {},
   "outputs": [],
   "source": [
    "# 現在時刻の 7 日前\n",
    "print(d_now - delta_2)"
   ]
  },
  {
   "cell_type": "markdown",
   "metadata": {},
   "source": [
    "datetime.timedelta は年月の差を直接扱えません。  \n",
    "そのような場合は dateutil.relativedelta を使ってください。前月末日の計算も簡単です。  \n",
    "(ただし、標準ライブラリではないので別途インストールする必要があります)  \n",
    "[dateutil - powerful extensions to datetime](https://dateutil.readthedocs.io/en/stable/)  "
   ]
  },
  {
   "cell_type": "markdown",
   "metadata": {},
   "source": [
    "## 日付と文字列の変換  "
   ]
  },
  {
   "cell_type": "code",
   "execution_count": null,
   "metadata": {},
   "outputs": [],
   "source": [
    "# datetime からフォーマットを指定して str (文字列) に変換\n",
    "datetime_format = \"%Y/%m/%d\"\n",
    "str_now = d_20190203.strftime(datetime_format)\n",
    "print(str_now)\n",
    "print(type(str_now))"
   ]
  },
  {
   "cell_type": "code",
   "execution_count": null,
   "metadata": {},
   "outputs": [],
   "source": [
    "# フォーマット文字列が漢字などを含むと上手くいかない…\n",
    "kanji_format = \"%Y/年%m月%d日\"\n",
    "str_now = d_20190203.strftime(kanji_format)\n",
    "print(str_now)"
   ]
  },
  {
   "cell_type": "code",
   "execution_count": null,
   "metadata": {},
   "outputs": [],
   "source": [
    "# このように format() 関数と併用すれば上手くいく\n",
    "tmp_format = \"%Y{}%m{}%d{}\"\n",
    "str_now = d_20190203.strftime(tmp_format).format(\"年\", \"月\", \"日\")\n",
    "print(str_now)"
   ]
  },
  {
   "cell_type": "code",
   "execution_count": null,
   "metadata": {},
   "outputs": [],
   "source": [
    "# さらに月日などをゼロ埋めしたくない場合は\n",
    "# %#m や %#d などに置き換える (Windows の場合有効な手段)\n",
    "tmp_format_without_zerofilling = \"%Y{}%#m{}%#d{}\"\n",
    "str_now = d_20190203.strftime(tmp_format_without_zerofilling).format(\"年\", \"月\", \"日\")\n",
    "print(str_now)"
   ]
  },
  {
   "cell_type": "code",
   "execution_count": null,
   "metadata": {},
   "outputs": [],
   "source": [
    "# str から datetime に変換\n",
    "string = \"2020年2月29日\"\n",
    "strp_format = \"%Y年%m月%d日\"\n",
    "print(datetime.strptime(string, strp_format))"
   ]
  },
  {
   "cell_type": "markdown",
   "metadata": {},
   "source": [
    "フォーマット文字列の考え方は以下を参照ください。  \n",
    "[strftime() と strptime() の振る舞い](https://docs.python.org/ja/3/library/datetime.html#strftime-strptime-behavior)  "
   ]
  },
  {
   "cell_type": "markdown",
   "metadata": {},
   "source": [
    "## タイムゾーンの取り扱い  "
   ]
  },
  {
   "cell_type": "code",
   "execution_count": null,
   "metadata": {},
   "outputs": [],
   "source": [
    "# timezone を持った datetime を扱うために timezone をインポートする\n",
    "from datetime import timezone\n",
    "\n",
    "# utc → coordinated universal time: 協定世界時\n",
    "tz_utc = timezone.utc\n",
    "print(tz_utc)\n",
    "print(type(tz_utc))"
   ]
  },
  {
   "cell_type": "code",
   "execution_count": null,
   "metadata": {},
   "outputs": [],
   "source": [
    "d_now_with_utc = datetime.now(tz=tz_utc)\n",
    "print(d_now_with_utc)"
   ]
  },
  {
   "cell_type": "code",
   "execution_count": null,
   "metadata": {},
   "outputs": [],
   "source": [
    "# UTC からの時差は timedelta で与える\n",
    "# jst → Japan Standard Time: 日本標準時\n",
    "tz_jst = timezone(timedelta(hours=9))\n",
    "print(tz_jst)\n",
    "print(type(tz_jst))"
   ]
  },
  {
   "cell_type": "code",
   "execution_count": null,
   "metadata": {},
   "outputs": [],
   "source": [
    "d_now_with_jst = datetime.now(tz=tz_jst)\n",
    "print(d_now_with_jst)"
   ]
  }
 ],
 "metadata": {
  "kernelspec": {
   "display_name": "jpy",
   "language": "python",
   "name": "jpy"
  },
  "language_info": {
   "codemirror_mode": {
    "name": "ipython",
    "version": 3
   },
   "file_extension": ".py",
   "mimetype": "text/x-python",
   "name": "python",
   "nbconvert_exporter": "python",
   "pygments_lexer": "ipython3",
   "version": "3.7.6"
  }
 },
 "nbformat": 4,
 "nbformat_minor": 4
}
