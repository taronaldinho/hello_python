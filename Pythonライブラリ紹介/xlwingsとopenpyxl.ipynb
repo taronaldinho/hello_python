{
 "cells": [
  {
   "cell_type": "markdown",
   "metadata": {},
   "source": [
    "# 注意！ 作成中です👽"
   ]
  },
  {
   "cell_type": "markdown",
   "metadata": {},
   "source": [
    "# xlwings と openpyxl  "
   ]
  },
  {
   "cell_type": "markdown",
   "metadata": {},
   "source": [
    "xlwings と openpyxl はともに Excel ファイルを操作するための代表的な Python パッケージです。両者とも Anaconda に同梱されています。  \n",
    "簡単に比較すると、  \n",
    "\n",
    "|[xlwings](https://www.xlwings.org/)|[openpyxl](https://openpyxl.readthedocs.io/)| \n",
    "|-----------------------------------|--------------------------------------------|\n",
    "|Excel アプリを通して Excel ファイルを取り扱う|Excel ファイルを直接操作する|\n",
    "|Excel アプリのインストールが必要|Excel アプリ不要で利用できる|                             \n",
    "|処理が遅い|速い|\n",
    "|Excel のバグも考慮しなければならない|Excel のバグの影響をうけない|\n",
    "|制限は Excel に準じる|ブックを超えたシートのコピーなどが出来ない|\n",
    "|VBA に近い|VBA とはかなり異なる|\n",
    "\n",
    "このような違いがあります。  \n",
    "\n",
    "コードの実行とともに Excel が動くので、xlwings のほうがコーディングやデバッグはしやすいと感じます。  "
   ]
  },
  {
   "cell_type": "markdown",
   "metadata": {},
   "source": [
    "[xlwings - 翔べ！Excel — xlwings dev ドキュメント](https://docs.xlwings.org/ja/latest/)  \n",
    "[openpyxl - A Python library to read/write Excel 2010 xlsx/xlsm files — openpyxl 3.0.3 documentation](https://openpyxl.readthedocs.io/en/stable/)  "
   ]
  },
  {
   "cell_type": "markdown",
   "metadata": {},
   "source": [
    "## xlwings"
   ]
  },
  {
   "cell_type": "code",
   "execution_count": 102,
   "metadata": {},
   "outputs": [],
   "source": [
    "# xlwings のインポート\n",
    "import xlwings as xw"
   ]
  },
  {
   "cell_type": "code",
   "execution_count": 103,
   "metadata": {},
   "outputs": [
    {
     "name": "stdout",
     "output_type": "stream",
     "text": [
      "<class 'xlwings.main.Book'>\n"
     ]
    }
   ],
   "source": [
    "# 新規 Book を作成 (Excel が起動します)\n",
    "book_xw = xw.Book()\n",
    "print(type(book_xw))"
   ]
  },
  {
   "cell_type": "code",
   "execution_count": 104,
   "metadata": {},
   "outputs": [],
   "source": [
    "# 作成したファイルを名前を付けて保存\n",
    "book_xw.save(\"book_xw.xlsx\")"
   ]
  },
  {
   "cell_type": "code",
   "execution_count": 105,
   "metadata": {},
   "outputs": [],
   "source": [
    "s = book_xw.sheets.active"
   ]
  },
  {
   "cell_type": "code",
   "execution_count": 106,
   "metadata": {},
   "outputs": [],
   "source": [
    "rng = s.range(\"A1:J2\")"
   ]
  },
  {
   "cell_type": "code",
   "execution_count": 107,
   "metadata": {},
   "outputs": [],
   "source": [
    "rng.value = [[c for c in row] for row in [\"ABCDEFGHIJ\", \"1234567890\"]]  # リスト内法表記を利用"
   ]
  },
  {
   "cell_type": "code",
   "execution_count": null,
   "metadata": {},
   "outputs": [],
   "source": []
  },
  {
   "cell_type": "code",
   "execution_count": null,
   "metadata": {},
   "outputs": [],
   "source": []
  },
  {
   "cell_type": "code",
   "execution_count": 76,
   "metadata": {},
   "outputs": [
    {
     "name": "stdout",
     "output_type": "stream",
     "text": [
      "<class 'xlwings.main.App'>\n"
     ]
    }
   ],
   "source": [
    "# 最後に Excel 自体を終了させる必要があるため \n",
    "# Excel アプリを取得しておく\n",
    "app_xw = book_xw.app\n",
    "print(type(app_xw))"
   ]
  },
  {
   "cell_type": "code",
   "execution_count": 77,
   "metadata": {},
   "outputs": [
    {
     "name": "stdout",
     "output_type": "stream",
     "text": [
      "<class 'xlwings.main.Sheets'>\n"
     ]
    }
   ],
   "source": [
    "# Sheets を取得\n",
    "# VBA の Worksheets コレクションに相当\n",
    "sheets_xw = book_xw.sheets\n",
    "print(type(sheets_xw))"
   ]
  },
  {
   "cell_type": "code",
   "execution_count": 78,
   "metadata": {},
   "outputs": [
    {
     "name": "stdout",
     "output_type": "stream",
     "text": [
      "<class 'xlwings.main.Sheet'>\n",
      "Sheet1\n",
      "Sheet1\n",
      "Sheet1\n"
     ]
    }
   ],
   "source": [
    "# Sheets へのインデックス指定で Sheet を取得\n",
    "# [] でのインデックス指定は 0 から始まる (Python 風)\n",
    "# () でのインデックス指定は 1 から始まる (VBA 風)\n",
    "print(type(sheets_xw[0]))\n",
    "print(sheets_xw[0].name)\n",
    "print(sheets_xw(1).name)\n",
    "# 名前を指定しての取得も可能\n",
    "print(sheets_xw[\"Sheet1\"].name)"
   ]
  },
  {
   "cell_type": "code",
   "execution_count": 79,
   "metadata": {},
   "outputs": [
    {
     "name": "stdout",
     "output_type": "stream",
     "text": [
      "現在のシート数は 2 です。\n",
      "現在アクティブなシートは シート2 です。\n"
     ]
    }
   ],
   "source": [
    "# 新しいシートを追加\n",
    "# 追加されたシートが自動的にアクティブになる\n",
    "sheets_xw.add(\"シート2\", after=\"Sheet1\")\n",
    "print(\"現在のシート数は {} です。\".format(sheets_xw.count))\n",
    "print(\"現在アクティブなシートは {} です。\".format(sheets_xw.active.name))"
   ]
  },
  {
   "cell_type": "code",
   "execution_count": 80,
   "metadata": {},
   "outputs": [
    {
     "name": "stdout",
     "output_type": "stream",
     "text": [
      "シート2\n",
      "シート2\n",
      "シート2\n"
     ]
    }
   ],
   "source": [
    "print(sheets_xw[1].name)          # Python 風\n",
    "print(sheets_xw(2).name)          # VBA 風\n",
    "print(sheets_xw[\"シート2\"].name)  # VBA 風"
   ]
  },
  {
   "cell_type": "code",
   "execution_count": 81,
   "metadata": {},
   "outputs": [
    {
     "name": "stdout",
     "output_type": "stream",
     "text": [
      "現在アクティブなシートは Sheet1 です。\n"
     ]
    }
   ],
   "source": [
    "# Sheet1 をアクティブにする\n",
    "sheets_xw(\"Sheet1\").activate()\n",
    "print(\"現在アクティブなシートは {} です。\".format(sheets_xw.active.name))"
   ]
  },
  {
   "cell_type": "code",
   "execution_count": 82,
   "metadata": {},
   "outputs": [
    {
     "name": "stdout",
     "output_type": "stream",
     "text": [
      "現在アクティブなシートは シート1 です。\n"
     ]
    }
   ],
   "source": [
    "# Sheet1 → シート1 にリネーム\n",
    "s1_xw = sheets_xw(\"Sheet1\")\n",
    "s1_xw.name = \"シート1\"\n",
    "print(\"現在アクティブなシートは {} です。\".format(sheets_xw.active.name))"
   ]
  },
  {
   "cell_type": "code",
   "execution_count": 83,
   "metadata": {},
   "outputs": [],
   "source": [
    "# Range を取得してアクセス\n",
    "s1_xw[0, 0].value = \"A1\"          # Python 風\n",
    "s1_xw.range(\"B1\").value = \"B1\"    # VBA 風\n",
    "s1_xw.range((1, 3)).value = \"C1\"  # VBA 風"
   ]
  },
  {
   "cell_type": "code",
   "execution_count": 84,
   "metadata": {},
   "outputs": [],
   "source": [
    "# 複数のセル範囲に対する処理\n",
    "# セルの背景色 RGB をタプルで渡して指定\n",
    "s1_xw.range(\"A2:C2\").color = (255, 0, 0)  "
   ]
  },
  {
   "cell_type": "code",
   "execution_count": 85,
   "metadata": {},
   "outputs": [],
   "source": [
    "# Sheet.range((from), (to)) で VBA 風のインデックスを渡\n",
    "# セルの背景色をクラスで定義された定数で指定\n",
    "s1_xw.range((3, 1), (4, 4)).color = xw.constants.RgbColor.rgbBlue "
   ]
  },
  {
   "cell_type": "markdown",
   "metadata": {},
   "source": [
    "xlwings で利用できるその他の定数の一覧は以下を参照ください。  \n",
    "[xlwings/constants.py at master · xlwings/xlwings](https://github.com/xlwings/xlwings/blob/master/xlwings/constants.py)  "
   ]
  },
  {
   "cell_type": "code",
   "execution_count": 86,
   "metadata": {},
   "outputs": [],
   "source": [
    "# セルの背景色をなくす\n",
    "s1_xw.range(\"3:3\").color = None"
   ]
  },
  {
   "cell_type": "code",
   "execution_count": 88,
   "metadata": {},
   "outputs": [
    {
     "data": {
      "text/plain": [
       "<Sheet [book_xw.xlsx]sheet5>"
      ]
     },
     "execution_count": 88,
     "metadata": {},
     "output_type": "execute_result"
    }
   ],
   "source": [
    "sheets_xw.add(\"sheet5\", before=1)"
   ]
  },
  {
   "cell_type": "code",
   "execution_count": 56,
   "metadata": {},
   "outputs": [
    {
     "name": "stdout",
     "output_type": "stream",
     "text": [
      "<class 'xlwings.main.Range'>\n"
     ]
    }
   ],
   "source": [
    "# Sheet.cells() は range を返す\n",
    "s1_xw.cells(4, 1).value = \"A4\"\n",
    "print(type(s1_xw.cells(4, 1)))"
   ]
  },
  {
   "cell_type": "code",
   "execution_count": 57,
   "metadata": {},
   "outputs": [],
   "source": [
    "# 式の入力\n",
    "s1_xw.cells(4, 2).formula = \"=\\\"B\\\" & right(A4, 1)\"  # 文字列中のダブルクォーテーションは \\ でエスケープ"
   ]
  },
  {
   "cell_type": "code",
   "execution_count": 58,
   "metadata": {},
   "outputs": [],
   "source": [
    "# copy を使ってセルのコピー\n",
    "# 相対セル参照部分も移動する\n",
    "s1_xw.range((4, 2)).copy(destination=s1_xw.range((4, 3)))"
   ]
  },
  {
   "cell_type": "code",
   "execution_count": 59,
   "metadata": {},
   "outputs": [],
   "source": [
    "# この方法では相対セル参照であっても元の数式のとおり\n",
    "s1_xw.range((4, 4)).formula = s1_xw.range((4, 2)).formula"
   ]
  },
  {
   "cell_type": "code",
   "execution_count": 60,
   "metadata": {},
   "outputs": [
    {
     "name": "stdout",
     "output_type": "stream",
     "text": [
      "現在アクティブなシートは シート2 です。\n"
     ]
    }
   ],
   "source": [
    "# シート2を表示 (アクティブに)\n",
    "s2_xw = sheets_xw(\"シート2\")\n",
    "s2_xw.activate()\n",
    "print(\"現在アクティブなシートは {} です。\".format(sheets_xw.active.name))"
   ]
  },
  {
   "cell_type": "code",
   "execution_count": 61,
   "metadata": {},
   "outputs": [],
   "source": [
    "# グラフを描くためのデータを作成\n",
    "import numpy as np\n",
    "\n",
    "x = np.linspace(-5, 5, 101)\n",
    "y_sin = np.sin(x)\n",
    "y_cos = np.cos(x)"
   ]
  },
  {
   "cell_type": "code",
   "execution_count": 62,
   "metadata": {},
   "outputs": [],
   "source": [
    "# データをシートに入力\n",
    "s2_xw.range(\"A1\").value = x\n",
    "s2_xw.range(\"A2\").value = y_sin\n",
    "s2_xw.range(\"A3\").value = y_cos"
   ]
  },
  {
   "cell_type": "code",
   "execution_count": 63,
   "metadata": {},
   "outputs": [
    {
     "name": "stdout",
     "output_type": "stream",
     "text": [
      "101\n"
     ]
    }
   ],
   "source": [
    "# データの個数を確認\n",
    "print(len(x))"
   ]
  },
  {
   "cell_type": "code",
   "execution_count": 64,
   "metadata": {},
   "outputs": [
    {
     "data": {
      "text/plain": [
       "3"
      ]
     },
     "execution_count": 64,
     "metadata": {},
     "output_type": "execute_result"
    }
   ],
   "source": [
    "# 使用されている最大の行を取得\n",
    "s2_xw.used_range.last_cell.row"
   ]
  },
  {
   "cell_type": "code",
   "execution_count": 65,
   "metadata": {},
   "outputs": [
    {
     "data": {
      "text/plain": [
       "101"
      ]
     },
     "execution_count": 65,
     "metadata": {},
     "output_type": "execute_result"
    }
   ],
   "source": [
    "# 使用されている最大の列を取得\n",
    "# データの個数と一致\n",
    "s2_xw.used_range.last_cell.column"
   ]
  },
  {
   "cell_type": "code",
   "execution_count": 66,
   "metadata": {},
   "outputs": [
    {
     "name": "stdout",
     "output_type": "stream",
     "text": [
      "<class 'xlwings.main.Range'>\n"
     ]
    }
   ],
   "source": [
    "# 取得されているのは Range\n",
    "last_cell = s2_xw.used_range.last_cell\n",
    "print(type(last_cell))"
   ]
  },
  {
   "cell_type": "code",
   "execution_count": 67,
   "metadata": {},
   "outputs": [
    {
     "data": {
      "text/plain": [
       "'$CW$3'"
      ]
     },
     "execution_count": 67,
     "metadata": {},
     "output_type": "execute_result"
    }
   ],
   "source": [
    "# Range.get_address() を使うと A1 形式のアドレスが返る\n",
    "s2_xw.used_range.last_cell.get_address()"
   ]
  },
  {
   "cell_type": "code",
   "execution_count": 68,
   "metadata": {},
   "outputs": [
    {
     "name": "stdout",
     "output_type": "stream",
     "text": [
      "<class 'xlwings.main.Chart'>\n"
     ]
    }
   ],
   "source": [
    "# データをもとに Chart (グラフ) を作成\n",
    "chart_xw = s2_xw.charts.add()\n",
    "print(type(chart_xw))"
   ]
  },
  {
   "cell_type": "code",
   "execution_count": 69,
   "metadata": {},
   "outputs": [],
   "source": [
    "chart_xw.set_source_data(s2_xw.range(\"A2:{}\".format(last_cell.get_address())))\n",
    "chart_xw.chart_type = 'line'\n",
    "chart_xw.top = 100  #　グラフの上下方向の位置"
   ]
  },
  {
   "cell_type": "code",
   "execution_count": 70,
   "metadata": {},
   "outputs": [],
   "source": [
    "# api を使って Excel ネイティブのオブジェクトを操作\n",
    "# ここでは x 軸の目盛りを変換\n",
    "chart_xw.api[1].SeriesCollection(1).XValues = s2_xw.api.Range(\"A1:CW1\")"
   ]
  },
  {
   "cell_type": "code",
   "execution_count": 71,
   "metadata": {},
   "outputs": [],
   "source": [
    "# ここでは凡例ラベルを変更\n",
    "names = (\"y_sin\", \"y_cos\")\n",
    "for s, n in zip(chart_xw.api[1].SeriesCollection(), names):\n",
    "    s.XValues = s2_xw.api.Range(\"A1:CW1\")\n",
    "    s.Name = n"
   ]
  },
  {
   "cell_type": "markdown",
   "metadata": {},
   "source": [
    "注意: Chart.api は要素が 2 つのタプルを返します。  \n",
    "2 番目の要素 (インデックス指定は `[1]`) を指定することでうまく操作できるようです。(理由はよくわかりません💦)  \n",
    "\n",
    "[python - set chart name in Xlwings - Stack Overflow](https://stackoverflow.com/questions/44910566/set-chart-name-in-xlwings?rq=1)  "
   ]
  },
  {
   "cell_type": "code",
   "execution_count": 101,
   "metadata": {},
   "outputs": [],
   "source": [
    "# 上書き保存して終了\n",
    "book_xw.save()\n",
    "book_xw.close()\n",
    "app_xw.quit()  # ← これがないと Excel のプロセスが残ってしまう"
   ]
  },
  {
   "cell_type": "markdown",
   "metadata": {},
   "source": [
    "## openpyxl"
   ]
  },
  {
   "cell_type": "code",
   "execution_count": 31,
   "metadata": {},
   "outputs": [],
   "source": [
    "# openpyxl のインポート\n",
    "import openpyxl as px"
   ]
  },
  {
   "cell_type": "code",
   "execution_count": 32,
   "metadata": {},
   "outputs": [
    {
     "name": "stdout",
     "output_type": "stream",
     "text": [
      "<class 'openpyxl.workbook.workbook.Workbook'>\n"
     ]
    }
   ],
   "source": [
    "# 新規 Workbook の作成\n",
    "book_px = px.Workbook()\n",
    "print(type(book_px))"
   ]
  },
  {
   "cell_type": "code",
   "execution_count": 33,
   "metadata": {},
   "outputs": [
    {
     "data": {
      "text/plain": [
       "['Sheet']"
      ]
     },
     "execution_count": 33,
     "metadata": {},
     "output_type": "execute_result"
    }
   ],
   "source": [
    "# WorkBook 内に存在しているシート名のリスト\n",
    "book_px.sheetnames"
   ]
  },
  {
   "cell_type": "code",
   "execution_count": 34,
   "metadata": {},
   "outputs": [
    {
     "name": "stdout",
     "output_type": "stream",
     "text": [
      "<class 'list'>\n"
     ]
    }
   ],
   "source": [
    "# Workbook 内に存在している Worksheet のリスト\n",
    "sheets_px = book_px.worksheets\n",
    "print(type(sheets_px))"
   ]
  },
  {
   "cell_type": "code",
   "execution_count": 35,
   "metadata": {},
   "outputs": [
    {
     "name": "stdout",
     "output_type": "stream",
     "text": [
      "Sheet\n",
      "Sheet\n",
      "<class 'openpyxl.worksheet.worksheet.Worksheet'>\n"
     ]
    }
   ],
   "source": [
    "# Worksheet へのアクセスとシート名の表示\n",
    "print(sheets_px[0].title)\n",
    "print(book_px[\"Sheet\"].title)\n",
    "print(type(sheets_px[0]))"
   ]
  },
  {
   "cell_type": "code",
   "execution_count": 36,
   "metadata": {},
   "outputs": [
    {
     "data": {
      "text/plain": [
       "['シート1']"
      ]
     },
     "execution_count": 36,
     "metadata": {},
     "output_type": "execute_result"
    }
   ],
   "source": [
    "# シート名の変更\n",
    "s1_px = sheets_px[0]\n",
    "s1_px.title = \"シート1\"\n",
    "book_px.sheetnames"
   ]
  },
  {
   "cell_type": "code",
   "execution_count": 39,
   "metadata": {},
   "outputs": [
    {
     "name": "stdout",
     "output_type": "stream",
     "text": [
      "<class 'openpyxl.cell.cell.Cell'>\n"
     ]
    }
   ],
   "source": [
    "s1_px[\"A1\"].value = 5\n",
    "s1_px[\"A2\"].value = 15\n",
    "s1_px[\"A3\"] = \"=A1+A2\"\n",
    "s1_px.cell(row=4, column=1, value=101)\n",
    "s1_px.cell(5, 1).value = 105\n",
    "print(type(s1_px[\"A1\"]))"
   ]
  },
  {
   "cell_type": "code",
   "execution_count": 40,
   "metadata": {},
   "outputs": [],
   "source": [
    "book_px.save(\"book_px.xlsx\")"
   ]
  },
  {
   "cell_type": "code",
   "execution_count": 7,
   "metadata": {},
   "outputs": [],
   "source": [
    "# 新しい Worksheet の追加\n",
    "s2_px = book_px.create_sheet(title=\"シート2\", index=1)"
   ]
  },
  {
   "cell_type": "code",
   "execution_count": 8,
   "metadata": {},
   "outputs": [
    {
     "data": {
      "text/plain": [
       "['シート1', 'シート2']"
      ]
     },
     "execution_count": 8,
     "metadata": {},
     "output_type": "execute_result"
    }
   ],
   "source": [
    "book_px.sheetnames"
   ]
  },
  {
   "cell_type": "code",
   "execution_count": 15,
   "metadata": {},
   "outputs": [],
   "source": []
  },
  {
   "cell_type": "code",
   "execution_count": 17,
   "metadata": {},
   "outputs": [
    {
     "name": "stdout",
     "output_type": "stream",
     "text": [
      "((<Cell 'シート2'.B5>, <Cell 'シート2'.C5>), (<Cell 'シート2'.B6>, <Cell 'シート2'.C6>))\n",
      "<class 'tuple'>\n"
     ]
    }
   ],
   "source": [
    "rng = s2_px[\"B5\":\"C6\"]\n",
    "print(rng)\n",
    "print(type(rng))"
   ]
  },
  {
   "cell_type": "code",
   "execution_count": 13,
   "metadata": {},
   "outputs": [
    {
     "name": "stdout",
     "output_type": "stream",
     "text": [
      "B5\n",
      "C5\n",
      "B6\n",
      "C6\n"
     ]
    }
   ],
   "source": [
    "for row in rng:\n",
    "    for c in row:\n",
    "        print(c.coordinate)"
   ]
  },
  {
   "cell_type": "code",
   "execution_count": 16,
   "metadata": {},
   "outputs": [],
   "source": [
    "s1_px.append([1, 2, 3, 4])  # appnd するたびに一行ずつ書き込み\n",
    "book_px.save(\"book_px.xlsx\")"
   ]
  },
  {
   "cell_type": "code",
   "execution_count": 118,
   "metadata": {},
   "outputs": [
    {
     "ename": "IndexError",
     "evalue": "slice('A5', None, None) is not a valid coordinate or range",
     "output_type": "error",
     "traceback": [
      "\u001b[1;31m---------------------------------------------------------------------------\u001b[0m",
      "\u001b[1;31mIndexError\u001b[0m                                Traceback (most recent call last)",
      "\u001b[1;32m<ipython-input-118-5f20dd48ed57>\u001b[0m in \u001b[0;36m<module>\u001b[1;34m\u001b[0m\n\u001b[1;32m----> 1\u001b[1;33m \u001b[0ms2_px\u001b[0m\u001b[1;33m[\u001b[0m\u001b[1;34m\"A5\"\u001b[0m\u001b[1;33m:\u001b[0m\u001b[1;33m]\u001b[0m\u001b[1;33m.\u001b[0m\u001b[0mvalue\u001b[0m \u001b[1;33m=\u001b[0m \u001b[0mx\u001b[0m\u001b[1;33m\u001b[0m\u001b[1;33m\u001b[0m\u001b[0m\n\u001b[0m\u001b[0;32m      2\u001b[0m \u001b[0ms2_px\u001b[0m\u001b[1;33m.\u001b[0m\u001b[0mcell\u001b[0m\u001b[1;33m(\u001b[0m\u001b[1;36m6\u001b[0m\u001b[1;33m,\u001b[0m \u001b[0mlen\u001b[0m\u001b[1;33m(\u001b[0m\u001b[0my_sin\u001b[0m\u001b[1;33m)\u001b[0m\u001b[1;33m)\u001b[0m\u001b[1;33m.\u001b[0m\u001b[0mvalue\u001b[0m \u001b[1;33m=\u001b[0m \u001b[0my_sin\u001b[0m\u001b[1;33m\u001b[0m\u001b[1;33m\u001b[0m\u001b[0m\n",
      "\u001b[1;32mD:\\Users\\kotar\\Anaconda3\\envs\\Jupyter\\lib\\site-packages\\openpyxl\\worksheet\\worksheet.py\u001b[0m in \u001b[0;36m__getitem__\u001b[1;34m(self, key)\u001b[0m\n\u001b[0;32m    278\u001b[0m         \u001b[1;32mif\u001b[0m \u001b[0misinstance\u001b[0m\u001b[1;33m(\u001b[0m\u001b[0mkey\u001b[0m\u001b[1;33m,\u001b[0m \u001b[0mslice\u001b[0m\u001b[1;33m)\u001b[0m\u001b[1;33m:\u001b[0m\u001b[1;33m\u001b[0m\u001b[1;33m\u001b[0m\u001b[0m\n\u001b[0;32m    279\u001b[0m             \u001b[1;32mif\u001b[0m \u001b[1;32mnot\u001b[0m \u001b[0mall\u001b[0m\u001b[1;33m(\u001b[0m\u001b[1;33m[\u001b[0m\u001b[0mkey\u001b[0m\u001b[1;33m.\u001b[0m\u001b[0mstart\u001b[0m\u001b[1;33m,\u001b[0m \u001b[0mkey\u001b[0m\u001b[1;33m.\u001b[0m\u001b[0mstop\u001b[0m\u001b[1;33m]\u001b[0m\u001b[1;33m)\u001b[0m\u001b[1;33m:\u001b[0m\u001b[1;33m\u001b[0m\u001b[1;33m\u001b[0m\u001b[0m\n\u001b[1;32m--> 280\u001b[1;33m                 \u001b[1;32mraise\u001b[0m \u001b[0mIndexError\u001b[0m\u001b[1;33m(\u001b[0m\u001b[1;34m\"{0} is not a valid coordinate or range\"\u001b[0m\u001b[1;33m.\u001b[0m\u001b[0mformat\u001b[0m\u001b[1;33m(\u001b[0m\u001b[0mkey\u001b[0m\u001b[1;33m)\u001b[0m\u001b[1;33m)\u001b[0m\u001b[1;33m\u001b[0m\u001b[1;33m\u001b[0m\u001b[0m\n\u001b[0m\u001b[0;32m    281\u001b[0m             \u001b[0mkey\u001b[0m \u001b[1;33m=\u001b[0m \u001b[1;34m\"{0}:{1}\"\u001b[0m\u001b[1;33m.\u001b[0m\u001b[0mformat\u001b[0m\u001b[1;33m(\u001b[0m\u001b[0mkey\u001b[0m\u001b[1;33m.\u001b[0m\u001b[0mstart\u001b[0m\u001b[1;33m,\u001b[0m \u001b[0mkey\u001b[0m\u001b[1;33m.\u001b[0m\u001b[0mstop\u001b[0m\u001b[1;33m)\u001b[0m\u001b[1;33m\u001b[0m\u001b[1;33m\u001b[0m\u001b[0m\n\u001b[0;32m    282\u001b[0m \u001b[1;33m\u001b[0m\u001b[0m\n",
      "\u001b[1;31mIndexError\u001b[0m: slice('A5', None, None) is not a valid coordinate or range"
     ]
    }
   ],
   "source": [
    "s2_px[\"A5\":].value = x\n",
    "s2_px.cell(6, len(y_sin)).value = y_sin"
   ]
  },
  {
   "cell_type": "code",
   "execution_count": 11,
   "metadata": {},
   "outputs": [],
   "source": [
    "book_px.save(\"book_px.xlsx\")"
   ]
  },
  {
   "cell_type": "code",
   "execution_count": 18,
   "metadata": {},
   "outputs": [],
   "source": [
    "import openpyxl as px"
   ]
  },
  {
   "cell_type": "code",
   "execution_count": 19,
   "metadata": {},
   "outputs": [
    {
     "data": {
      "text/plain": [
       "<openpyxl.workbook.workbook.Workbook at 0x1f2edbe8088>"
      ]
     },
     "execution_count": 19,
     "metadata": {},
     "output_type": "execute_result"
    }
   ],
   "source": [
    "book = px.Workbook()\n",
    "book"
   ]
  },
  {
   "cell_type": "code",
   "execution_count": 20,
   "metadata": {},
   "outputs": [
    {
     "data": {
      "text/plain": [
       "[<Worksheet \"Sheet\">]"
      ]
     },
     "execution_count": 20,
     "metadata": {},
     "output_type": "execute_result"
    }
   ],
   "source": [
    "sheets = book.worksheets\n",
    "sheets"
   ]
  },
  {
   "cell_type": "code",
   "execution_count": 21,
   "metadata": {},
   "outputs": [
    {
     "data": {
      "text/plain": [
       "<Worksheet \"Sheet\">"
      ]
     },
     "execution_count": 21,
     "metadata": {},
     "output_type": "execute_result"
    }
   ],
   "source": [
    "sheet = sheets[0]\n",
    "sheet"
   ]
  },
  {
   "cell_type": "code",
   "execution_count": 22,
   "metadata": {},
   "outputs": [
    {
     "data": {
      "text/plain": [
       "<Worksheet \"Sheet\">"
      ]
     },
     "execution_count": 22,
     "metadata": {},
     "output_type": "execute_result"
    }
   ],
   "source": [
    "sheet.cell(1, 1)\n",
    "sheet.append([1])\n",
    "sheet"
   ]
  },
  {
   "cell_type": "code",
   "execution_count": 23,
   "metadata": {},
   "outputs": [],
   "source": [
    "book.worksheets.append(1)"
   ]
  },
  {
   "cell_type": "code",
   "execution_count": 24,
   "metadata": {},
   "outputs": [
    {
     "data": {
      "text/plain": [
       "[<Worksheet \"Sheet\">]"
      ]
     },
     "execution_count": 24,
     "metadata": {},
     "output_type": "execute_result"
    }
   ],
   "source": [
    "book.worksheets"
   ]
  },
  {
   "cell_type": "code",
   "execution_count": 26,
   "metadata": {},
   "outputs": [
    {
     "name": "stdout",
     "output_type": "stream",
     "text": [
      "<generator object dataframe_to_rows at 0x000001F2EDA8AA48>\n",
      "[None, 0, 1, 2, 3]\n",
      "[None]\n",
      "[0, 0, 1, 2, 3]\n",
      "[1, 4, 5, 6, 7]\n",
      "[2, 8, 9, 10, 11]\n"
     ]
    }
   ],
   "source": [
    "import pandas as pd\n",
    "import numpy as np\n",
    "from openpyxl.utils.dataframe import dataframe_to_rows\n",
    "\n",
    "wb = px.Workbook()\n",
    "ws = wb.active\n",
    "\n",
    "df = pd.DataFrame(np.arange(12).reshape(3, 4))\n",
    "\n",
    "for r in dataframe_to_rows(df, index=True, header=True):\n",
    "    print(r)\n",
    "    ws.append(r)\n",
    "    \n",
    "wb.save(\"pd_test.xlsx\")"
   ]
  },
  {
   "cell_type": "code",
   "execution_count": 27,
   "metadata": {},
   "outputs": [
    {
     "name": "stdout",
     "output_type": "stream",
     "text": [
      "<Cell 'Sheet'.A1>\n",
      "<Cell 'Sheet'.A2>\n",
      "<Cell 'Sheet'.A3>\n",
      "<Cell 'Sheet'.A4>\n",
      "<Cell 'Sheet'.A5>\n",
      "<Cell 'Sheet'.A1>\n",
      "<Cell 'Sheet'.B1>\n",
      "<Cell 'Sheet'.C1>\n",
      "<Cell 'Sheet'.D1>\n",
      "<Cell 'Sheet'.E1>\n"
     ]
    }
   ],
   "source": [
    "for cell in ws[\"A\"] + ws[\"1\"]:\n",
    "    print(cell)\n",
    "    cell.style = \"Pandas\"\n",
    "    \n",
    "wb.save(\"pd_test.xlsx\")"
   ]
  },
  {
   "cell_type": "code",
   "execution_count": 30,
   "metadata": {},
   "outputs": [
    {
     "data": {
      "text/plain": [
       "(<Cell 'Sheet'.A1>,\n",
       " <Cell 'Sheet'.A2>,\n",
       " <Cell 'Sheet'.A3>,\n",
       " <Cell 'Sheet'.A4>,\n",
       " <Cell 'Sheet'.A5>,\n",
       " <Cell 'Sheet'.A1>,\n",
       " <Cell 'Sheet'.B1>,\n",
       " <Cell 'Sheet'.C1>,\n",
       " <Cell 'Sheet'.D1>,\n",
       " <Cell 'Sheet'.E1>)"
      ]
     },
     "execution_count": 30,
     "metadata": {},
     "output_type": "execute_result"
    }
   ],
   "source": [
    "ws[\"A\"] + ws[\"1\"]"
   ]
  },
  {
   "cell_type": "code",
   "execution_count": null,
   "metadata": {},
   "outputs": [],
   "source": []
  }
 ],
 "metadata": {
  "kernelspec": {
   "display_name": "Jupyter",
   "language": "python",
   "name": "jupyter"
  },
  "language_info": {
   "codemirror_mode": {
    "name": "ipython",
    "version": 3
   },
   "file_extension": ".py",
   "mimetype": "text/x-python",
   "name": "python",
   "nbconvert_exporter": "python",
   "pygments_lexer": "ipython3",
   "version": "3.7.6"
  }
 },
 "nbformat": 4,
 "nbformat_minor": 4
}
