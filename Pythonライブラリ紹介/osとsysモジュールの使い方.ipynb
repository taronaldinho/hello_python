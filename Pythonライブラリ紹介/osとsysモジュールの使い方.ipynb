{
 "cells": [
  {
   "cell_type": "markdown",
   "metadata": {},
   "source": [
    "# os と sys モジュールのつかいかた\n",
    "\n",
    "os モジュールと sys モジュールを組み合わせて使うことで、ファイルやフォルダ (ディレクトリ) のパスの取得や操作をしたり、一時的に環境変数を操作したりすることができます。  \n"
   ]
  },
  {
   "cell_type": "markdown",
   "metadata": {},
   "source": [
    "## os モジュール  \n",
    "\n",
    "- [os --- 雑多なオペレーティングシステムインタフェース](https://docs.python.org/ja/3/library/os.html)  \n",
    "- [［Python入門］ディレクトリ操作の基本 (1/3)：Python入門 - ＠IT](https://www.atmarkit.co.jp/ait/articles/1910/25/news021.html#_ga=2.249950848.767250782.1581487581-1112458607.1505980317)  \n",
    "\n",
    "|機能|os および os.path|pathlib|\n",
    "|--- |--- |--- |\n",
    "|絶対パスの取得|os.path.abspath()|Path.resolve()|\n",
    "|相対パスの取得|-|PurePath.relative_to()|\n",
    "|ファイルのモードと<br>アクセス権限の変更|os.chmod()|Path.chmod()|\n",
    "|ディレクトリの作成|os.mkdir()|Path.mkdir()|\n",
    "|リネーム＆移動|os.rename()|Path.rename()|\n",
    "|ディレクトリの削除|os.rmdir()|Path.rmdir()|\n",
    "|ファイルの削除|os.remove(), os.unlink()|Path.unlink()|\n",
    "|現在の作業ディレクトリの取得|os.getcwd()|Path.cwd()|\n",
    "|現在の作業ディレクトリの移動|os.chdir()|-|\n",
    "|パスの存在確認|os.path.exists()|Path.exists()|\n",
    "|ホームディレクトリの取得|-|Path.home()|\n",
    "|ディレクトリかどうかの確認|os.path.isdir()|Path.is_dir()|\n",
    "|ファイルかどうかの確認|os.path.isfile()|Path.is_file()|\n",
    "|シンボリックリンク<br>かどうかの確認|os.path.islink()|Path.is_symlink()|\n",
    "|絶対パスかどうかの確認|os.path.isabs()|PurePath.is_absolute()|\n",
    "|環境変数の操作|os.environ|-|\n",
    "|パスの連結|os.path.join()|PurePath.joinpath()|\n",
    "|ベース名の取得|os.path.basename()|PurePath.name|\n",
    "|ディレクトリの取得|os.path.dirname()|PurePath.parent|\n",
    "|ベース名から拡張子を<br>除いたものを取得|-|PurePath.stem|\n",
    "|拡張子の取得|os.path.splitext()|PurePath.suffix|\n",
    "|パスが表すファイルを作成<br>既存ファイルのタイムスタンプ更新|-|Path.touch()|\n",
    "\n"
   ]
  },
  {
   "cell_type": "code",
   "execution_count": null,
   "metadata": {},
   "outputs": [],
   "source": [
    "# モジュールのインポート\n",
    "import os"
   ]
  },
  {
   "cell_type": "code",
   "execution_count": null,
   "metadata": {},
   "outputs": [],
   "source": [
    "# 現在の作業ディレクトリの取得\n",
    "current_working_dir = os.getcwd()\n",
    "print(current_working_dir)"
   ]
  },
  {
   "cell_type": "code",
   "execution_count": null,
   "metadata": {},
   "outputs": [],
   "source": [
    "# 型は str (文字列)\n",
    "type(current_working_dir)"
   ]
  },
  {
   "cell_type": "code",
   "execution_count": null,
   "metadata": {},
   "outputs": [],
   "source": [
    "# 作業ディレクトリの移動\n",
    "new_cwd = \"..\"  #  相対パスで親ディレクトリを指定\n",
    "os.chdir(new_cwd)\n",
    "print(os.getcwd())"
   ]
  },
  {
   "cell_type": "code",
   "execution_count": null,
   "metadata": {},
   "outputs": [],
   "source": [
    "# 元のディレクトリに戻しておく\n",
    "os.chdir(current_working_dir)\n",
    "print(os.getcwd())"
   ]
  },
  {
   "cell_type": "code",
   "execution_count": null,
   "metadata": {},
   "outputs": [],
   "source": [
    "# 一時的に環境変数に値を追加\n",
    "# PATH への一時的な追加は sys.path.append を使う方法が簡単\n",
    "os.environ[\"NEW_ENV_KEY\"] = \"NEW_ENV_VAL\"  # 新しい KEY と VALUE を追加する場合\n",
    "os.environ[\"NEW_ENV_KEY\"] = \"{}; {}\".format(\"ADDED_ENV_VAL\", os.environ[\"NEW_ENV_KEY\"])  # 既存の KEY に VAL を追加する場合\n",
    "print(os.environ)"
   ]
  },
  {
   "cell_type": "markdown",
   "metadata": {},
   "source": [
    "## sys モジュール  \n",
    "\n",
    "[sys --- システムパラメータと関数](https://docs.python.org/ja/3/library/sys.html?highlight=sys%20version)\n",
    "\n"
   ]
  },
  {
   "cell_type": "code",
   "execution_count": null,
   "metadata": {},
   "outputs": [],
   "source": [
    "# モジュールのインポート\n",
    "# ついでにいい感じで print してくれる pprint をインポート\n",
    "import sys\n",
    "from pprint import pprint"
   ]
  },
  {
   "cell_type": "code",
   "execution_count": null,
   "metadata": {},
   "outputs": [],
   "source": [
    "# 環境変数 PATH の値を表示\n",
    "pprint(sys.path)"
   ]
  },
  {
   "cell_type": "code",
   "execution_count": null,
   "metadata": {},
   "outputs": [],
   "source": [
    "# 環境変数 PATH に現在の作業ディレクトリを追加\n",
    "sys.path.append(os.getcwd())\n",
    "pprint(sys.path)"
   ]
  },
  {
   "cell_type": "code",
   "execution_count": null,
   "metadata": {},
   "outputs": [],
   "source": [
    "# 環境変数 PATH に現在の作業ディレクトリの親ディレクトリを追加\n",
    "sys.path.append(os.path.abspath(os.path.pardir))  # os.path.pardir は、\"..\" でもよい\n",
    "pprint(sys.path)"
   ]
  },
  {
   "cell_type": "markdown",
   "metadata": {},
   "source": [
    "### Python に スクリプトファイル (.py) を引数として実行する場合に便利な機能"
   ]
  },
  {
   "cell_type": "code",
   "execution_count": null,
   "metadata": {},
   "outputs": [],
   "source": [
    "# 環境変数 PATH にスクリプトファイルがあるディレクトリを追加\n",
    "# __file__ にはスクリプトファイルの (現在の作業ディレクトリからの相対) パスが格納されている\n",
    "sys.path.append(os.path.dirname(os.path.abspath(__file__)))"
   ]
  },
  {
   "cell_type": "code",
   "execution_count": null,
   "metadata": {},
   "outputs": [],
   "source": [
    "# Python スクリプトに渡されたコマンドライン引数のリストを取得\n",
    "# command_line_args[0] はスクリプトファイル自身のファイル名となる\n",
    "command_line_args = sys.argv"
   ]
  },
  {
   "cell_type": "code",
   "execution_count": null,
   "metadata": {},
   "outputs": [],
   "source": [
    "# スクリプトを途中で終了させる\n",
    "sys.exit()"
   ]
  }
 ],
 "metadata": {
  "file_extension": ".py",
  "kernelspec": {
   "display_name": "Jupyter",
   "language": "python",
   "name": "jupyter"
  },
  "language_info": {
   "codemirror_mode": {
    "name": "ipython",
    "version": 3
   },
   "file_extension": ".py",
   "mimetype": "text/x-python",
   "name": "python",
   "nbconvert_exporter": "python",
   "pygments_lexer": "ipython3",
   "version": "3.7.6"
  },
  "mimetype": "text/x-python",
  "name": "python",
  "npconvert_exporter": "python",
  "pygments_lexer": "ipython3",
  "version": 3
 },
 "nbformat": 4,
 "nbformat_minor": 4
}
