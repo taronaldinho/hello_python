{
 "cells": [
  {
   "cell_type": "markdown",
   "metadata": {},
   "source": [
    "# Jupyter 基礎  \n",
    "\n",
    "この記事では対話的に Python を実行したり、データの処理過程を可視化/メモしたりすることができる Jupyter (Notebook/Lab) について説明します。 "
   ]
  },
  {
   "cell_type": "markdown",
   "metadata": {},
   "source": [
    "## Jupyter とは  \n",
    "\n",
    "「Jupyter」の名称は、対応している主要言語「Julia」＋「Python」＋「R」の頭文字をつなげて名付けられました。  \n",
    "「Jupyter Notebook」はかつて、Python 専用の Notebook「IPython Notebook」という名称でしたが、Python 以外でも活用できることから改名されました。  \n",
    "Jupyter Notebook は「プログラム」「実行結果」「メモ」を簡単に作成し、ひとつのノートブックファイルに保存できるため、「過去作業内容の振り返り」「チームメンバーへの作業結果共有」「授業/研修」「データの加工、分析、可視化」「機械学習」などに利用されています。  \n",
    "\n",
    "また、Jupyter Notebook の後継として「JupyterLab」もリリースされており、基本的な使い勝手はそのままに、様々な機能の改善や追加が行われています。  \n",
    "\n",
    "公式ドキュメントはこちら  \n",
    "\n",
    "- [The Jupyter Notebook — Jupyter Notebook 6.0.3 documentation](https://jupyter-notebook.readthedocs.io/en/stable/)  \n",
    "- [JupyterLab Documentation — JupyterLab 2.0.0b3 documentation](https://jupyterlab.readthedocs.io/en/latest/)  \n",
    "\n",
    "Anaconda をインストールすることで、Jupyter Notebook や JupyterLab も同時にインストールされます。  \n",
    "\n",
    "![picture](pictures/Jupyter_install.png)  \n",
    "\n",
    "上図のように Anaconda Navigator や Windows のスタートメニューから、または、Anaconda Prompt から `cd` コマンドで任意のフォルダに移動したのち、  \n",
    "\n",
    "```\n",
    "jupyter notebook   (← Jupyter Notebook を起動するとき)\n",
    "jupyter lab        (← JupyterLab を起動するとき)\n",
    "```\n",
    "\n",
    "とコマンドで起動することが可能です。  \n",
    "(コマンド起動前に `cd` で移動したフォルダがノートブックを開いた時の Root となります)  \n",
    "\n",
    "本ノートブックファイルでは、特に注意の必要がない限り Jupyter Notebook と呼ぶこととします。  \n"
   ]
  },
  {
   "cell_type": "markdown",
   "metadata": {},
   "source": [
    "## ノートブックを構成するセルについて  \n",
    "\n",
    "Jupyter Notebook で開くことのできるノートブック (拡張子が `ipynb`) は、このテキストが入力されているような **Markdown セル** や、下のセルのようにセルに入力された単位でプログラムを実行し結果を出力させることができる **Code セル** と呼ばれる領域からできています。  \n",
    "\n",
    "Markdown セルでは、Markdown 記法を使って、文章構造の表現、文字の修飾、画像の表示、リンクの作成などが可能です。  \n",
    "さらに、TeX 記法により、$E = mc^{2}$ のように数式を表示させることもできます (ただしすべての TeX 記法をサポートしているわけではない模様)。  \n",
    "[Markdownを使って文章を記述しよう](https://home.hiroshima-u.ac.jp/~d172596/markdown.html)  \n"
   ]
  },
  {
   "cell_type": "code",
   "execution_count": 8,
   "metadata": {},
   "outputs": [
    {
     "name": "stdout",
     "output_type": "stream",
     "text": [
      "[7, 14, 21, 28, 35, 42, 49, 56, 63, 70, 77, 84, 91, 98]\n"
     ]
    }
   ],
   "source": [
    "# Code セルの例\n",
    "# Shift + Enter でプログラムセルを実行します。\n",
    "\n",
    "print([i for i in range(1, 101) if i%7==0])  # 100 以下の 7 で割り切れる整数を出力します。"
   ]
  },
  {
   "cell_type": "markdown",
   "execution_count": null,
   "metadata": {},
   "outputs": [],
   "source": [
    "## 入出力の例  \n",
    "\n",
    "Code セルで `print()` などを使わずにセルを実行した場合、最後に評価された式の結果が出力されます。  "
   ]
  },
  {
   "cell_type": "code",
   "execution_count": 1,
   "metadata": {},
   "outputs": [
    {
     "data": {
      "text/plain": "3"
     },
     "execution_count": 1,
     "metadata": {},
     "output_type": "execute_result"
    }
   ],
   "source": [
    "# 1 + 2 = 3 が出力されます。  \n",
    "1 + 2"
   ]
  },
  {
   "cell_type": "code",
   "execution_count": 2,
   "metadata": {},
   "outputs": [
    {
     "data": {
      "text/plain": "'abcde'"
     },
     "execution_count": 2,
     "metadata": {},
     "output_type": "execute_result"
    }
   ],
   "source": [
    "# 最後に評価された b → \"abcde\" だけが出力されます。  \n",
    "a = \"aiueo\"\n",
    "b = \"abcde\"\n",
    "\n",
    "a\n",
    "b"
   ]
  },
  {
   "cell_type": "code",
   "execution_count": 3,
   "metadata": {},
   "outputs": [
    {
     "name": "stdout",
     "output_type": "stream",
     "text": "aiueo\nabcde\n12345\n"
    }
   ],
   "source": [
    "# print() を使うことで、セル内の任意の式の評価結果を出力することができます。  \n",
    "print(a)\n",
    "print(b)\n",
    "print(\"12345\")"
   ]
  },
  {
   "cell_type": "markdown",
   "metadata": {},
   "source": [
    "また、Matplotlib などで描画したグラフも表示させることができます。"
   ]
  },
  {
   "cell_type": "code",
   "execution_count": 6,
   "metadata": {},
   "outputs": [
    {
     "name": "stdout",
     "output_type": "stream",
     "text": "Matplotlib による Sin 波 と Cos 波の描画例\n"
    },
    {
     "data": {
      "image/png": "[encoded data removed]",
      "image/svg+xml": "<?xml version=\"1.0\" encoding=\"utf-8\" standalone=\"no\"?>\r\n<!DOCTYPE svg PUBLIC \"-//W3C//DTD SVG 1.1//EN\"\r\n  \"http://www.w3.org/Graphics/SVG/1.1/DTD/svg11.dtd\">\r\n<!-- Created with matplotlib (https://matplotlib.org/) -->\r\n<svg height=\"252.317344pt\" version=\"1.1\" viewBox=\"0 0 380.482812 252.317344\" width=\"380.482812pt\" xmlns=\"http://www.w3.org/2000/svg\" xmlns:xlink=\"http://www.w3.org/1999/xlink\">\r\n <defs>\r\n  <style type=\"text/css\">\r\n*{stroke-linecap:butt;stroke-linejoin:round;}\r\n  </style>\r\n </defs>\r\n <g id=\"figure_1\">\r\n  <g id=\"patch_1\">\r\n   <path d=\"M -0 252.317344 \r\nL 380.482812 252.317344 \r\nL 380.482812 0 \r\nL -0 0 \r\nz\r\n\" style=\"fill:none;\"/>\r\n  </g>\r\n  <g id=\"axes_1\">\r\n   <g id=\"patch_2\">\r\n    <path d=\"M 38.482813 228.439219 \r\nL 373.282813 228.439219 \r\nL 373.282813 10.999219 \r\nL 38.482813 10.999219 \r\nz\r\n\" style=\"fill:#ffffff;\"/>\r\n   </g>\r\n   <g id=\"matplotlib.axis_1\">\r\n    <g id=\"xtick_1\">\r\n     <g id=\"line2d_1\">\r\n      <defs>\r\n       <path d=\"M 0 0 \r\nL 0 3.5 \r\n\" id=\"m46eb6870fe\" style=\"stroke:#000000;stroke-width:0.8;\"/>\r\n      </defs>\r\n      <g>\r\n       <use style=\"stroke:#000000;stroke-width:0.8;\" x=\"84.137358\" xlink:href=\"#m46eb6870fe\" y=\"228.439219\"/>\r\n      </g>\r\n     </g>\r\n     <g id=\"text_1\">\r\n      <!-- −4 -->\r\n      <defs>\r\n       <path d=\"M 10.59375 35.5 \r\nL 73.1875 35.5 \r\nL 73.1875 27.203125 \r\nL 10.59375 27.203125 \r\nz\r\n\" id=\"DejaVuSans-8722\"/>\r\n       <path d=\"M 37.796875 64.3125 \r\nL 12.890625 25.390625 \r\nL 37.796875 25.390625 \r\nz\r\nM 35.203125 72.90625 \r\nL 47.609375 72.90625 \r\nL 47.609375 25.390625 \r\nL 58.015625 25.390625 \r\nL 58.015625 17.1875 \r\nL 47.609375 17.1875 \r\nL 47.609375 0 \r\nL 37.796875 0 \r\nL 37.796875 17.1875 \r\nL 4.890625 17.1875 \r\nL 4.890625 26.703125 \r\nz\r\n\" id=\"DejaVuSans-52\"/>\r\n      </defs>\r\n      <g transform=\"translate(76.766264 243.037656)scale(0.1 -0.1)\">\r\n       <use xlink:href=\"#DejaVuSans-8722\"/>\r\n       <use x=\"83.789062\" xlink:href=\"#DejaVuSans-52\"/>\r\n      </g>\r\n     </g>\r\n    </g>\r\n    <g id=\"xtick_2\">\r\n     <g id=\"line2d_2\">\r\n      <g>\r\n       <use style=\"stroke:#000000;stroke-width:0.8;\" x=\"145.010085\" xlink:href=\"#m46eb6870fe\" y=\"228.439219\"/>\r\n      </g>\r\n     </g>\r\n     <g id=\"text_2\">\r\n      <!-- −2 -->\r\n      <defs>\r\n       <path d=\"M 19.1875 8.296875 \r\nL 53.609375 8.296875 \r\nL 53.609375 0 \r\nL 7.328125 0 \r\nL 7.328125 8.296875 \r\nQ 12.9375 14.109375 22.625 23.890625 \r\nQ 32.328125 33.6875 34.8125 36.53125 \r\nQ 39.546875 41.84375 41.421875 45.53125 \r\nQ 43.3125 49.21875 43.3125 52.78125 \r\nQ 43.3125 58.59375 39.234375 62.25 \r\nQ 35.15625 65.921875 28.609375 65.921875 \r\nQ 23.96875 65.921875 18.8125 64.3125 \r\nQ 13.671875 62.703125 7.8125 59.421875 \r\nL 7.8125 69.390625 \r\nQ 13.765625 71.78125 18.9375 73 \r\nQ 24.125 74.21875 28.421875 74.21875 \r\nQ 39.75 74.21875 46.484375 68.546875 \r\nQ 53.21875 62.890625 53.21875 53.421875 \r\nQ 53.21875 48.921875 51.53125 44.890625 \r\nQ 49.859375 40.875 45.40625 35.40625 \r\nQ 44.1875 33.984375 37.640625 27.21875 \r\nQ 31.109375 20.453125 19.1875 8.296875 \r\nz\r\n\" id=\"DejaVuSans-50\"/>\r\n      </defs>\r\n      <g transform=\"translate(137.638991 243.037656)scale(0.1 -0.1)\">\r\n       <use xlink:href=\"#DejaVuSans-8722\"/>\r\n       <use x=\"83.789062\" xlink:href=\"#DejaVuSans-50\"/>\r\n      </g>\r\n     </g>\r\n    </g>\r\n    <g id=\"xtick_3\">\r\n     <g id=\"line2d_3\">\r\n      <g>\r\n       <use style=\"stroke:#000000;stroke-width:0.8;\" x=\"205.882812\" xlink:href=\"#m46eb6870fe\" y=\"228.439219\"/>\r\n      </g>\r\n     </g>\r\n     <g id=\"text_3\">\r\n      <!-- 0 -->\r\n      <defs>\r\n       <path d=\"M 31.78125 66.40625 \r\nQ 24.171875 66.40625 20.328125 58.90625 \r\nQ 16.5 51.421875 16.5 36.375 \r\nQ 16.5 21.390625 20.328125 13.890625 \r\nQ 24.171875 6.390625 31.78125 6.390625 \r\nQ 39.453125 6.390625 43.28125 13.890625 \r\nQ 47.125 21.390625 47.125 36.375 \r\nQ 47.125 51.421875 43.28125 58.90625 \r\nQ 39.453125 66.40625 31.78125 66.40625 \r\nz\r\nM 31.78125 74.21875 \r\nQ 44.046875 74.21875 50.515625 64.515625 \r\nQ 56.984375 54.828125 56.984375 36.375 \r\nQ 56.984375 17.96875 50.515625 8.265625 \r\nQ 44.046875 -1.421875 31.78125 -1.421875 \r\nQ 19.53125 -1.421875 13.0625 8.265625 \r\nQ 6.59375 17.96875 6.59375 36.375 \r\nQ 6.59375 54.828125 13.0625 64.515625 \r\nQ 19.53125 74.21875 31.78125 74.21875 \r\nz\r\n\" id=\"DejaVuSans-48\"/>\r\n      </defs>\r\n      <g transform=\"translate(202.701562 243.037656)scale(0.1 -0.1)\">\r\n       <use xlink:href=\"#DejaVuSans-48\"/>\r\n      </g>\r\n     </g>\r\n    </g>\r\n    <g id=\"xtick_4\">\r\n     <g id=\"line2d_4\">\r\n      <g>\r\n       <use style=\"stroke:#000000;stroke-width:0.8;\" x=\"266.75554\" xlink:href=\"#m46eb6870fe\" y=\"228.439219\"/>\r\n      </g>\r\n     </g>\r\n     <g id=\"text_4\">\r\n      <!-- 2 -->\r\n      <g transform=\"translate(263.57429 243.037656)scale(0.1 -0.1)\">\r\n       <use xlink:href=\"#DejaVuSans-50\"/>\r\n      </g>\r\n     </g>\r\n    </g>\r\n    <g id=\"xtick_5\">\r\n     <g id=\"line2d_5\">\r\n      <g>\r\n       <use style=\"stroke:#000000;stroke-width:0.8;\" x=\"327.628267\" xlink:href=\"#m46eb6870fe\" y=\"228.439219\"/>\r\n      </g>\r\n     </g>\r\n     <g id=\"text_5\">\r\n      <!-- 4 -->\r\n      <g transform=\"translate(324.447017 243.037656)scale(0.1 -0.1)\">\r\n       <use xlink:href=\"#DejaVuSans-52\"/>\r\n      </g>\r\n     </g>\r\n    </g>\r\n   </g>\r\n   <g id=\"matplotlib.axis_2\">\r\n    <g id=\"ytick_1\">\r\n     <g id=\"line2d_6\">\r\n      <defs>\r\n       <path d=\"M 0 0 \r\nL -3.5 0 \r\n\" id=\"md306fc1047\" style=\"stroke:#000000;stroke-width:0.8;\"/>\r\n      </defs>\r\n      <g>\r\n       <use style=\"stroke:#000000;stroke-width:0.8;\" x=\"38.482813\" xlink:href=\"#md306fc1047\" y=\"228.439219\"/>\r\n      </g>\r\n     </g>\r\n     <g id=\"text_6\">\r\n      <!-- −2.0 -->\r\n      <defs>\r\n       <path d=\"M 10.6875 12.40625 \r\nL 21 12.40625 \r\nL 21 0 \r\nL 10.6875 0 \r\nz\r\n\" id=\"DejaVuSans-46\"/>\r\n      </defs>\r\n      <g transform=\"translate(7.2 232.238437)scale(0.1 -0.1)\">\r\n       <use xlink:href=\"#DejaVuSans-8722\"/>\r\n       <use x=\"83.789062\" xlink:href=\"#DejaVuSans-50\"/>\r\n       <use x=\"147.412109\" xlink:href=\"#DejaVuSans-46\"/>\r\n       <use x=\"179.199219\" xlink:href=\"#DejaVuSans-48\"/>\r\n      </g>\r\n     </g>\r\n    </g>\r\n    <g id=\"ytick_2\">\r\n     <g id=\"line2d_7\">\r\n      <g>\r\n       <use style=\"stroke:#000000;stroke-width:0.8;\" x=\"38.482813\" xlink:href=\"#md306fc1047\" y=\"201.259219\"/>\r\n      </g>\r\n     </g>\r\n     <g id=\"text_7\">\r\n      <!-- −1.5 -->\r\n      <defs>\r\n       <path d=\"M 12.40625 8.296875 \r\nL 28.515625 8.296875 \r\nL 28.515625 63.921875 \r\nL 10.984375 60.40625 \r\nL 10.984375 69.390625 \r\nL 28.421875 72.90625 \r\nL 38.28125 72.90625 \r\nL 38.28125 8.296875 \r\nL 54.390625 8.296875 \r\nL 54.390625 0 \r\nL 12.40625 0 \r\nz\r\n\" id=\"DejaVuSans-49\"/>\r\n       <path d=\"M 10.796875 72.90625 \r\nL 49.515625 72.90625 \r\nL 49.515625 64.59375 \r\nL 19.828125 64.59375 \r\nL 19.828125 46.734375 \r\nQ 21.96875 47.46875 24.109375 47.828125 \r\nQ 26.265625 48.1875 28.421875 48.1875 \r\nQ 40.625 48.1875 47.75 41.5 \r\nQ 54.890625 34.8125 54.890625 23.390625 \r\nQ 54.890625 11.625 47.5625 5.09375 \r\nQ 40.234375 -1.421875 26.90625 -1.421875 \r\nQ 22.3125 -1.421875 17.546875 -0.640625 \r\nQ 12.796875 0.140625 7.71875 1.703125 \r\nL 7.71875 11.625 \r\nQ 12.109375 9.234375 16.796875 8.0625 \r\nQ 21.484375 6.890625 26.703125 6.890625 \r\nQ 35.15625 6.890625 40.078125 11.328125 \r\nQ 45.015625 15.765625 45.015625 23.390625 \r\nQ 45.015625 31 40.078125 35.4375 \r\nQ 35.15625 39.890625 26.703125 39.890625 \r\nQ 22.75 39.890625 18.8125 39.015625 \r\nQ 14.890625 38.140625 10.796875 36.28125 \r\nz\r\n\" id=\"DejaVuSans-53\"/>\r\n      </defs>\r\n      <g transform=\"translate(7.2 205.058437)scale(0.1 -0.1)\">\r\n       <use xlink:href=\"#DejaVuSans-8722\"/>\r\n       <use x=\"83.789062\" xlink:href=\"#DejaVuSans-49\"/>\r\n       <use x=\"147.412109\" xlink:href=\"#DejaVuSans-46\"/>\r\n       <use x=\"179.199219\" xlink:href=\"#DejaVuSans-53\"/>\r\n      </g>\r\n     </g>\r\n    </g>\r\n    <g id=\"ytick_3\">\r\n     <g id=\"line2d_8\">\r\n      <g>\r\n       <use style=\"stroke:#000000;stroke-width:0.8;\" x=\"38.482813\" xlink:href=\"#md306fc1047\" y=\"174.079219\"/>\r\n      </g>\r\n     </g>\r\n     <g id=\"text_8\">\r\n      <!-- −1.0 -->\r\n      <g transform=\"translate(7.2 177.878437)scale(0.1 -0.1)\">\r\n       <use xlink:href=\"#DejaVuSans-8722\"/>\r\n       <use x=\"83.789062\" xlink:href=\"#DejaVuSans-49\"/>\r\n       <use x=\"147.412109\" xlink:href=\"#DejaVuSans-46\"/>\r\n       <use x=\"179.199219\" xlink:href=\"#DejaVuSans-48\"/>\r\n      </g>\r\n     </g>\r\n    </g>\r\n    <g id=\"ytick_4\">\r\n     <g id=\"line2d_9\">\r\n      <g>\r\n       <use style=\"stroke:#000000;stroke-width:0.8;\" x=\"38.482813\" xlink:href=\"#md306fc1047\" y=\"146.899219\"/>\r\n      </g>\r\n     </g>\r\n     <g id=\"text_9\">\r\n      <!-- −0.5 -->\r\n      <g transform=\"translate(7.2 150.698437)scale(0.1 -0.1)\">\r\n       <use xlink:href=\"#DejaVuSans-8722\"/>\r\n       <use x=\"83.789062\" xlink:href=\"#DejaVuSans-48\"/>\r\n       <use x=\"147.412109\" xlink:href=\"#DejaVuSans-46\"/>\r\n       <use x=\"179.199219\" xlink:href=\"#DejaVuSans-53\"/>\r\n      </g>\r\n     </g>\r\n    </g>\r\n    <g id=\"ytick_5\">\r\n     <g id=\"line2d_10\">\r\n      <g>\r\n       <use style=\"stroke:#000000;stroke-width:0.8;\" x=\"38.482813\" xlink:href=\"#md306fc1047\" y=\"119.719219\"/>\r\n      </g>\r\n     </g>\r\n     <g id=\"text_10\">\r\n      <!-- 0.0 -->\r\n      <g transform=\"translate(15.579688 123.518437)scale(0.1 -0.1)\">\r\n       <use xlink:href=\"#DejaVuSans-48\"/>\r\n       <use x=\"63.623047\" xlink:href=\"#DejaVuSans-46\"/>\r\n       <use x=\"95.410156\" xlink:href=\"#DejaVuSans-48\"/>\r\n      </g>\r\n     </g>\r\n    </g>\r\n    <g id=\"ytick_6\">\r\n     <g id=\"line2d_11\">\r\n      <g>\r\n       <use style=\"stroke:#000000;stroke-width:0.8;\" x=\"38.482813\" xlink:href=\"#md306fc1047\" y=\"92.539219\"/>\r\n      </g>\r\n     </g>\r\n     <g id=\"text_11\">\r\n      <!-- 0.5 -->\r\n      <g transform=\"translate(15.579688 96.338437)scale(0.1 -0.1)\">\r\n       <use xlink:href=\"#DejaVuSans-48\"/>\r\n       <use x=\"63.623047\" xlink:href=\"#DejaVuSans-46\"/>\r\n       <use x=\"95.410156\" xlink:href=\"#DejaVuSans-53\"/>\r\n      </g>\r\n     </g>\r\n    </g>\r\n    <g id=\"ytick_7\">\r\n     <g id=\"line2d_12\">\r\n      <g>\r\n       <use style=\"stroke:#000000;stroke-width:0.8;\" x=\"38.482813\" xlink:href=\"#md306fc1047\" y=\"65.359219\"/>\r\n      </g>\r\n     </g>\r\n     <g id=\"text_12\">\r\n      <!-- 1.0 -->\r\n      <g transform=\"translate(15.579688 69.158437)scale(0.1 -0.1)\">\r\n       <use xlink:href=\"#DejaVuSans-49\"/>\r\n       <use x=\"63.623047\" xlink:href=\"#DejaVuSans-46\"/>\r\n       <use x=\"95.410156\" xlink:href=\"#DejaVuSans-48\"/>\r\n      </g>\r\n     </g>\r\n    </g>\r\n    <g id=\"ytick_8\">\r\n     <g id=\"line2d_13\">\r\n      <g>\r\n       <use style=\"stroke:#000000;stroke-width:0.8;\" x=\"38.482813\" xlink:href=\"#md306fc1047\" y=\"38.179219\"/>\r\n      </g>\r\n     </g>\r\n     <g id=\"text_13\">\r\n      <!-- 1.5 -->\r\n      <g transform=\"translate(15.579688 41.978437)scale(0.1 -0.1)\">\r\n       <use xlink:href=\"#DejaVuSans-49\"/>\r\n       <use x=\"63.623047\" xlink:href=\"#DejaVuSans-46\"/>\r\n       <use x=\"95.410156\" xlink:href=\"#DejaVuSans-53\"/>\r\n      </g>\r\n     </g>\r\n    </g>\r\n    <g id=\"ytick_9\">\r\n     <g id=\"line2d_14\">\r\n      <g>\r\n       <use style=\"stroke:#000000;stroke-width:0.8;\" x=\"38.482813\" xlink:href=\"#md306fc1047\" y=\"10.999219\"/>\r\n      </g>\r\n     </g>\r\n     <g id=\"text_14\">\r\n      <!-- 2.0 -->\r\n      <g transform=\"translate(15.579688 14.798437)scale(0.1 -0.1)\">\r\n       <use xlink:href=\"#DejaVuSans-50\"/>\r\n       <use x=\"63.623047\" xlink:href=\"#DejaVuSans-46\"/>\r\n       <use x=\"95.410156\" xlink:href=\"#DejaVuSans-48\"/>\r\n      </g>\r\n     </g>\r\n    </g>\r\n   </g>\r\n   <g id=\"line2d_15\">\r\n    <path clip-path=\"url(#p1e915f49a0)\" d=\"M 53.700994 67.592095 \r\nL 56.744631 66.313095 \r\nL 59.788267 65.567711 \r\nL 62.831903 65.36339 \r\nL 65.87554 65.702176 \r\nL 68.919176 66.580682 \r\nL 71.962812 67.99013 \r\nL 75.006449 69.916438 \r\nL 78.050085 72.34036 \r\nL 81.093722 75.237675 \r\nL 84.137358 78.579435 \r\nL 87.180994 82.33225 \r\nL 90.224631 86.458624 \r\nL 93.268267 90.917326 \r\nL 96.311903 95.663807 \r\nL 99.35554 100.650642 \r\nL 102.399176 105.828004 \r\nL 105.442813 111.144163 \r\nL 108.486449 116.546 \r\nL 111.530085 121.979544 \r\nL 114.573722 127.390502 \r\nL 117.617358 132.724812 \r\nL 120.660994 137.929175 \r\nL 123.704631 142.951589 \r\nL 126.748267 147.741873 \r\nL 129.791903 152.252165 \r\nL 132.83554 156.437397 \r\nL 135.879176 160.255754 \r\nL 138.922813 163.669083 \r\nL 141.966449 166.64328 \r\nL 145.010085 169.148627 \r\nL 148.053722 171.160092 \r\nL 151.097358 172.657576 \r\nL 154.140994 173.626118 \r\nL 157.184631 174.05604 \r\nL 160.228267 173.943046 \r\nL 163.271903 173.288266 \r\nL 166.31554 172.098242 \r\nL 169.359176 170.384863 \r\nL 172.402813 168.165251 \r\nL 175.446449 165.461581 \r\nL 178.490085 162.30087 \r\nL 181.533722 158.714696 \r\nL 184.577358 154.738892 \r\nL 187.620994 150.413184 \r\nL 190.664631 145.780791 \r\nL 193.708267 140.888 \r\nL 196.751903 135.783697 \r\nL 199.79554 130.518884 \r\nL 202.839176 125.146163 \r\nL 205.882812 119.719219 \r\nL 208.926449 114.292274 \r\nL 211.970085 108.919554 \r\nL 215.013722 103.65474 \r\nL 218.057358 98.550438 \r\nL 221.100994 93.657646 \r\nL 224.144631 89.025254 \r\nL 227.188267 84.699545 \r\nL 230.231903 80.723742 \r\nL 233.27554 77.137568 \r\nL 236.319176 73.976856 \r\nL 239.362813 71.273187 \r\nL 242.406449 69.053574 \r\nL 245.450085 67.340196 \r\nL 248.493722 66.150171 \r\nL 251.537358 65.495391 \r\nL 254.580994 65.382398 \r\nL 257.624631 65.81232 \r\nL 260.668267 66.780862 \r\nL 263.711903 68.278346 \r\nL 266.75554 70.289811 \r\nL 269.799176 72.795158 \r\nL 272.842813 75.769354 \r\nL 275.886449 79.182683 \r\nL 278.930085 83.00104 \r\nL 281.973722 87.186273 \r\nL 285.017358 91.696564 \r\nL 288.060994 96.486848 \r\nL 291.104631 101.509263 \r\nL 294.148267 106.713625 \r\nL 297.191903 112.047935 \r\nL 300.23554 117.458894 \r\nL 303.279176 122.892437 \r\nL 306.322813 128.294275 \r\nL 309.366449 133.610433 \r\nL 312.410085 138.787795 \r\nL 315.453722 143.77463 \r\nL 318.497358 148.521111 \r\nL 321.540994 152.979814 \r\nL 324.584631 157.106187 \r\nL 327.628267 160.859002 \r\nL 330.671903 164.200763 \r\nL 333.71554 167.098078 \r\nL 336.759176 169.521999 \r\nL 339.802813 171.448307 \r\nL 342.846449 172.857756 \r\nL 345.890085 173.736262 \r\nL 348.933722 174.075047 \r\nL 351.977358 173.870727 \r\nL 355.020994 173.125343 \r\nL 358.064631 171.846342 \r\n\" style=\"fill:none;stroke:#1f77b4;stroke-linecap:square;stroke-width:1.5;\"/>\r\n   </g>\r\n   <g id=\"line2d_16\">\r\n    <path clip-path=\"url(#p1e915f49a0)\" d=\"M 53.700994 104.299342 \r\nL 56.744631 109.580406 \r\nL 59.788267 114.962774 \r\nL 62.831903 120.392666 \r\nL 65.87554 125.81583 \r\nL 68.919176 131.178078 \r\nL 71.962812 136.425834 \r\nL 75.006449 141.506662 \r\nL 78.050085 146.369797 \r\nL 81.093722 150.966648 \r\nL 84.137358 155.251286 \r\nL 87.180994 159.180899 \r\nL 90.224631 162.716224 \r\nL 93.268267 165.821936 \r\nL 96.311903 168.467006 \r\nL 99.35554 170.625004 \r\nL 102.399176 172.274368 \r\nL 105.442813 173.398619 \r\nL 108.486449 173.986523 \r\nL 111.530085 174.032206 \r\nL 114.573722 173.535211 \r\nL 117.617358 172.500505 \r\nL 120.660994 170.938425 \r\nL 123.704631 168.86458 \r\nL 126.748267 166.299691 \r\nL 129.791903 163.269386 \r\nL 132.83554 159.803941 \r\nL 135.879176 155.937983 \r\nL 138.922813 151.710139 \r\nL 141.966449 147.162653 \r\nL 145.010085 142.340961 \r\nL 148.053722 137.29324 \r\nL 151.097358 132.069925 \r\nL 154.140994 126.723205 \r\nL 157.184631 121.306505 \r\nL 160.228267 115.873944 \r\nL 163.271903 110.479805 \r\nL 166.31554 105.177982 \r\nL 169.359176 100.021451 \r\nL 172.402813 95.061734 \r\nL 175.446449 90.348385 \r\nL 178.490085 85.928501 \r\nL 181.533722 81.846242 \r\nL 184.577358 78.142397 \r\nL 187.620994 74.853975 \r\nL 190.664631 72.013831 \r\nL 193.708267 69.650343 \r\nL 196.751903 67.787127 \r\nL 199.79554 66.4428 \r\nL 202.839176 65.630792 \r\nL 205.882812 65.359219 \r\nL 208.926449 65.630792 \r\nL 211.970085 66.4428 \r\nL 215.013722 67.787127 \r\nL 218.057358 69.650343 \r\nL 221.100994 72.013831 \r\nL 224.144631 74.853975 \r\nL 227.188267 78.142397 \r\nL 230.231903 81.846242 \r\nL 233.27554 85.928501 \r\nL 236.319176 90.348385 \r\nL 239.362813 95.061734 \r\nL 242.406449 100.021451 \r\nL 245.450085 105.177982 \r\nL 248.493722 110.479805 \r\nL 251.537358 115.873944 \r\nL 254.580994 121.306505 \r\nL 257.624631 126.723205 \r\nL 260.668267 132.069925 \r\nL 263.711903 137.29324 \r\nL 266.75554 142.340961 \r\nL 269.799176 147.162653 \r\nL 272.842813 151.710139 \r\nL 275.886449 155.937983 \r\nL 278.930085 159.803941 \r\nL 281.973722 163.269386 \r\nL 285.017358 166.299691 \r\nL 288.060994 168.86458 \r\nL 291.104631 170.938425 \r\nL 294.148267 172.500505 \r\nL 297.191903 173.535211 \r\nL 300.23554 174.032206 \r\nL 303.279176 173.986523 \r\nL 306.322813 173.398619 \r\nL 309.366449 172.274368 \r\nL 312.410085 170.625004 \r\nL 315.453722 168.467006 \r\nL 318.497358 165.821936 \r\nL 321.540994 162.716224 \r\nL 324.584631 159.180899 \r\nL 327.628267 155.251286 \r\nL 330.671903 150.966648 \r\nL 333.71554 146.369797 \r\nL 336.759176 141.506662 \r\nL 339.802813 136.425834 \r\nL 342.846449 131.178078 \r\nL 345.890085 125.81583 \r\nL 348.933722 120.392666 \r\nL 351.977358 114.962774 \r\nL 355.020994 109.580406 \r\nL 358.064631 104.299342 \r\n\" style=\"fill:none;stroke:#ff7f0e;stroke-linecap:square;stroke-width:1.5;\"/>\r\n   </g>\r\n   <g id=\"patch_3\">\r\n    <path d=\"M 38.482813 228.439219 \r\nL 38.482813 10.999219 \r\n\" style=\"fill:none;stroke:#000000;stroke-linecap:square;stroke-linejoin:miter;stroke-width:0.8;\"/>\r\n   </g>\r\n   <g id=\"patch_4\">\r\n    <path d=\"M 373.282813 228.439219 \r\nL 373.282813 10.999219 \r\n\" style=\"fill:none;stroke:#000000;stroke-linecap:square;stroke-linejoin:miter;stroke-width:0.8;\"/>\r\n   </g>\r\n   <g id=\"patch_5\">\r\n    <path d=\"M 38.482812 228.439219 \r\nL 373.282812 228.439219 \r\n\" style=\"fill:none;stroke:#000000;stroke-linecap:square;stroke-linejoin:miter;stroke-width:0.8;\"/>\r\n   </g>\r\n   <g id=\"patch_6\">\r\n    <path d=\"M 38.482812 10.999219 \r\nL 373.282812 10.999219 \r\n\" style=\"fill:none;stroke:#000000;stroke-linecap:square;stroke-linejoin:miter;stroke-width:0.8;\"/>\r\n   </g>\r\n   <g id=\"legend_1\">\r\n    <g id=\"patch_7\">\r\n     <path d=\"M 317.45625 48.355469 \r\nL 366.282813 48.355469 \r\nQ 368.282813 48.355469 368.282813 46.355469 \r\nL 368.282813 17.999219 \r\nQ 368.282813 15.999219 366.282813 15.999219 \r\nL 317.45625 15.999219 \r\nQ 315.45625 15.999219 315.45625 17.999219 \r\nL 315.45625 46.355469 \r\nQ 315.45625 48.355469 317.45625 48.355469 \r\nz\r\n\" style=\"fill:#ffffff;opacity:0.8;stroke:#cccccc;stroke-linejoin:miter;\"/>\r\n    </g>\r\n    <g id=\"line2d_17\">\r\n     <path d=\"M 319.45625 24.097656 \r\nL 339.45625 24.097656 \r\n\" style=\"fill:none;stroke:#1f77b4;stroke-linecap:square;stroke-width:1.5;\"/>\r\n    </g>\r\n    <g id=\"line2d_18\"/>\r\n    <g id=\"text_15\">\r\n     <!-- sin -->\r\n     <defs>\r\n      <path d=\"M 44.28125 53.078125 \r\nL 44.28125 44.578125 \r\nQ 40.484375 46.53125 36.375 47.5 \r\nQ 32.28125 48.484375 27.875 48.484375 \r\nQ 21.1875 48.484375 17.84375 46.4375 \r\nQ 14.5 44.390625 14.5 40.28125 \r\nQ 14.5 37.15625 16.890625 35.375 \r\nQ 19.28125 33.59375 26.515625 31.984375 \r\nL 29.59375 31.296875 \r\nQ 39.15625 29.25 43.1875 25.515625 \r\nQ 47.21875 21.78125 47.21875 15.09375 \r\nQ 47.21875 7.46875 41.1875 3.015625 \r\nQ 35.15625 -1.421875 24.609375 -1.421875 \r\nQ 20.21875 -1.421875 15.453125 -0.5625 \r\nQ 10.6875 0.296875 5.421875 2 \r\nL 5.421875 11.28125 \r\nQ 10.40625 8.6875 15.234375 7.390625 \r\nQ 20.0625 6.109375 24.8125 6.109375 \r\nQ 31.15625 6.109375 34.5625 8.28125 \r\nQ 37.984375 10.453125 37.984375 14.40625 \r\nQ 37.984375 18.0625 35.515625 20.015625 \r\nQ 33.0625 21.96875 24.703125 23.78125 \r\nL 21.578125 24.515625 \r\nQ 13.234375 26.265625 9.515625 29.90625 \r\nQ 5.8125 33.546875 5.8125 39.890625 \r\nQ 5.8125 47.609375 11.28125 51.796875 \r\nQ 16.75 56 26.8125 56 \r\nQ 31.78125 56 36.171875 55.265625 \r\nQ 40.578125 54.546875 44.28125 53.078125 \r\nz\r\n\" id=\"DejaVuSans-115\"/>\r\n      <path d=\"M 9.421875 54.6875 \r\nL 18.40625 54.6875 \r\nL 18.40625 0 \r\nL 9.421875 0 \r\nz\r\nM 9.421875 75.984375 \r\nL 18.40625 75.984375 \r\nL 18.40625 64.59375 \r\nL 9.421875 64.59375 \r\nz\r\n\" id=\"DejaVuSans-105\"/>\r\n      <path d=\"M 54.890625 33.015625 \r\nL 54.890625 0 \r\nL 45.90625 0 \r\nL 45.90625 32.71875 \r\nQ 45.90625 40.484375 42.875 44.328125 \r\nQ 39.84375 48.1875 33.796875 48.1875 \r\nQ 26.515625 48.1875 22.3125 43.546875 \r\nQ 18.109375 38.921875 18.109375 30.90625 \r\nL 18.109375 0 \r\nL 9.078125 0 \r\nL 9.078125 54.6875 \r\nL 18.109375 54.6875 \r\nL 18.109375 46.1875 \r\nQ 21.34375 51.125 25.703125 53.5625 \r\nQ 30.078125 56 35.796875 56 \r\nQ 45.21875 56 50.046875 50.171875 \r\nQ 54.890625 44.34375 54.890625 33.015625 \r\nz\r\n\" id=\"DejaVuSans-110\"/>\r\n     </defs>\r\n     <g transform=\"translate(347.45625 27.597656)scale(0.1 -0.1)\">\r\n      <use xlink:href=\"#DejaVuSans-115\"/>\r\n      <use x=\"52.099609\" xlink:href=\"#DejaVuSans-105\"/>\r\n      <use x=\"79.882812\" xlink:href=\"#DejaVuSans-110\"/>\r\n     </g>\r\n    </g>\r\n    <g id=\"line2d_19\">\r\n     <path d=\"M 319.45625 38.775781 \r\nL 339.45625 38.775781 \r\n\" style=\"fill:none;stroke:#ff7f0e;stroke-linecap:square;stroke-width:1.5;\"/>\r\n    </g>\r\n    <g id=\"line2d_20\"/>\r\n    <g id=\"text_16\">\r\n     <!-- cos -->\r\n     <defs>\r\n      <path d=\"M 48.78125 52.59375 \r\nL 48.78125 44.1875 \r\nQ 44.96875 46.296875 41.140625 47.34375 \r\nQ 37.3125 48.390625 33.40625 48.390625 \r\nQ 24.65625 48.390625 19.8125 42.84375 \r\nQ 14.984375 37.3125 14.984375 27.296875 \r\nQ 14.984375 17.28125 19.8125 11.734375 \r\nQ 24.65625 6.203125 33.40625 6.203125 \r\nQ 37.3125 6.203125 41.140625 7.25 \r\nQ 44.96875 8.296875 48.78125 10.40625 \r\nL 48.78125 2.09375 \r\nQ 45.015625 0.34375 40.984375 -0.53125 \r\nQ 36.96875 -1.421875 32.421875 -1.421875 \r\nQ 20.0625 -1.421875 12.78125 6.34375 \r\nQ 5.515625 14.109375 5.515625 27.296875 \r\nQ 5.515625 40.671875 12.859375 48.328125 \r\nQ 20.21875 56 33.015625 56 \r\nQ 37.15625 56 41.109375 55.140625 \r\nQ 45.0625 54.296875 48.78125 52.59375 \r\nz\r\n\" id=\"DejaVuSans-99\"/>\r\n      <path d=\"M 30.609375 48.390625 \r\nQ 23.390625 48.390625 19.1875 42.75 \r\nQ 14.984375 37.109375 14.984375 27.296875 \r\nQ 14.984375 17.484375 19.15625 11.84375 \r\nQ 23.34375 6.203125 30.609375 6.203125 \r\nQ 37.796875 6.203125 41.984375 11.859375 \r\nQ 46.1875 17.53125 46.1875 27.296875 \r\nQ 46.1875 37.015625 41.984375 42.703125 \r\nQ 37.796875 48.390625 30.609375 48.390625 \r\nz\r\nM 30.609375 56 \r\nQ 42.328125 56 49.015625 48.375 \r\nQ 55.71875 40.765625 55.71875 27.296875 \r\nQ 55.71875 13.875 49.015625 6.21875 \r\nQ 42.328125 -1.421875 30.609375 -1.421875 \r\nQ 18.84375 -1.421875 12.171875 6.21875 \r\nQ 5.515625 13.875 5.515625 27.296875 \r\nQ 5.515625 40.765625 12.171875 48.375 \r\nQ 18.84375 56 30.609375 56 \r\nz\r\n\" id=\"DejaVuSans-111\"/>\r\n     </defs>\r\n     <g transform=\"translate(347.45625 42.275781)scale(0.1 -0.1)\">\r\n      <use xlink:href=\"#DejaVuSans-99\"/>\r\n      <use x=\"54.980469\" xlink:href=\"#DejaVuSans-111\"/>\r\n      <use x=\"116.162109\" xlink:href=\"#DejaVuSans-115\"/>\r\n     </g>\r\n    </g>\r\n   </g>\r\n  </g>\r\n </g>\r\n <defs>\r\n  <clipPath id=\"p1e915f49a0\">\r\n   <rect height=\"217.44\" width=\"334.8\" x=\"38.482813\" y=\"10.999219\"/>\r\n  </clipPath>\r\n </defs>\r\n</svg>\r\n",
      "text/plain": "<Figure size 432x288 with 1 Axes>"
     },
     "metadata": {
      "needs_background": "light"
     },
     "output_type": "display_data"
    }
   ],
   "source": [
    "import matplotlib.pyplot as plt\n",
    "import numpy as np\n",
    "# ↓ これは Matplotlib でノートブックの出力セルに図表を表示させるためのマジックコマンドです (現在は不要かもしれない)。\n",
    "%matplotlib inline  \n",
    "\n",
    "x = np.linspace(-5, 5, 101)\n",
    "y_sin = np.sin(x)\n",
    "y_cos = np.cos(x)\n",
    "\n",
    "plt.plot(x, y_sin, label=\"sin\")\n",
    "plt.plot(x, y_cos, label=\"cos\")\n",
    "\n",
    "plt.ylim(-2, 2)\n",
    "plt.legend()\n",
    "print(\"Matplotlib による Sin 波 と Cos 波の描画例\")\n",
    "plt.show()"
   ]
  },
  {
   "cell_type": "markdown",
   "execution_count": null,
   "metadata": {},
   "outputs": [],
   "source": [
    "## ショートカットキーによる操作  \n",
    "\n",
    "Jupyter Notebook には、Command Mode と Edit Mode の2つのモードがあります。\n",
    "\n",
    "- Command Mode で `Enter` を押すと Edit Mode に移行\n",
    "- Edit Mode で `Esc` または `Ctrl + M` を押すと Command Mode に移行\n",
    "\n",
    "\n",
    "共通のショートカット  \n",
    "\n",
    "| 説明                 | コマンド      |\n",
    "| -------------------- | ------------- |\n",
    "| セルの実行           | `Ctrl + Enter` |\n",
    "| セルの実行 (次のセルが無ければ挿入)| `Shift + Enter` |\n",
    "| セルの実行 (次のセルを挿入)| `Alt + Enter` |\n",
    "\n",
    "Command Mode のショートカット  \n",
    "\n",
    "| 説明                 | コマンド      |\n",
    "| -------------------- | ------------- |\n",
    "| Edit Mode に移行 | `Enter`|\n",
    "| Markdown セルへ変更    | `M` |\n",
    "| Code セルへ変更     | `Y` |\n",
    "| セルを上に追加       | `A` |\n",
    "| セルを下に追加       | `B` |\n",
    "| セルのコピー         | `C` |\n",
    "| セルの貼り付け       | `V` |\n",
    "| セルの消去           | `D D` |\n",
    "\n",
    "Edit Mode のショートカット  \n",
    "\n",
    "| 説明                 | コマンド      |\n",
    "| -------------------- | ------------- |\n",
    "| Command Mode に移行 | `Esc` または `Ctrl + M`|\n",
    "| コメントアウト       | `Ctrl + /`     |\n",
    "| インデントを減らす   | `Ctrl + [`     |\n",
    "| インデントを増やす   | `Ctrl + ]`     |\n",
    "| コード入力時の補完   | `Tab`          |"
   ]
  },
  {
   "cell_type": "markdown",
   "metadata": {},
   "source": [
    "## まとめ  \n",
    "\n",
    "以上のように Jupyter Notebook を使えば、コード、出力結果、メモを実験ノートに残すように保存しておくことが可能です。アイディアや過程を記録しつつデータ分析を行うことが主な用途ですが、従来 Excel でやっていた計算をこちらに置き換えることで可読性を向上させることも期待できます (もちろん向き不向きはありますが)。  \n",
    "\n",
    "また、ローカル PC にインストールしなくても [Try Jupyter](https://jupyter.org/try) や [Google Colaboratory](https://colab.research.google.com/notebooks/intro.ipynb) などの WEB サービスを利用することで、すぐに無料で Jupyter Notebook に触れることができます。\n"
   ]
  }
 ],
 "metadata": {
  "kernelspec": {
   "display_name": "Jupyter",
   "language": "python",
   "name": "jupyter"
  },
  "language_info": {
   "codemirror_mode": {
    "name": "ipython",
    "version": 3
   },
   "file_extension": ".py",
   "mimetype": "text/x-python",
   "name": "python",
   "nbconvert_exporter": "python",
   "pygments_lexer": "ipython3",
   "version": "3.7.6-final"
  }
 },
 "nbformat": 4,
 "nbformat_minor": 4
}