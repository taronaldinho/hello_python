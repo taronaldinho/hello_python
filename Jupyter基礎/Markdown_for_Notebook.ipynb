{
 "cells": [
  {
   "cell_type": "markdown",
   "metadata": {},
   "source": [
    "# Markdown for Notebook  \n",
    "\n",
    "[Markdown Cells](https://jupyter-notebook.readthedocs.io/en/stable/examples/Notebook/Working%20With%20Markdown%20Cells.html)  "
   ]
  },
  {
   "cell_type": "markdown",
   "metadata": {},
   "source": [
    "# Header_1 ←\\# Header_1  \n",
    "## Header_2 ←\\## Header_2  \n",
    "### Header_3 ←\\### Header_3  \n",
    "#### Header_4 ←\\#### Header_4  \n",
    "##### Header_5 ←\\##### Header_5  \n",
    "###### Header_6 ←\\###### Header_6  \n"
   ]
  },
  {
   "cell_type": "markdown",
   "metadata": {},
   "source": [
    "---\n",
    "↑↓ 3 つ以上連続した半角ハイフンで水平線を表示します。ただし、ハイフンの行の前は空行である必要があります。  \n",
    "\n",
    "-------"
   ]
  },
  {
   "cell_type": "markdown",
   "metadata": {},
   "source": [
    "記号でマークアップしなければ、普通のテキストとして表示されます。\n",
    "またこの文の直前のように、単に改行しただけでは表示されるテキストには反映されません。  \n",
    "この文の直前のように、半角スペース 2 つの後に改行することで表示されるテキストも改行されます。  \n",
    "\n",
    "さらに文の直前に空行を置くことで段落を変えることができ、前の行との間に余白が生まれます。  "
   ]
  },
  {
   "cell_type": "markdown",
   "metadata": {},
   "source": [
    "---\n",
    "これは __太字__ です。太字にしたい部分を __ (アンダースコア 2 つ) または ** で囲います。  \n",
    "\n",
    "これは  _Italic_ (斜体) です。斜体にしたい部分を _ または * で囲います。  \n",
    "\n",
    "これは ~~取消し線~~ です。取り消したい部分を ~~ で囲います。    "
   ]
  },
  {
   "cell_type": "markdown",
   "metadata": {},
   "source": [
    "---\n",
    "これは [リンク](https://www.google.com/ \"Google\") です。\\[リンク文字列](URL またはファイルパス \"タイトル (省略可)\") でリンクになります。  "
   ]
  },
  {
   "cell_type": "markdown",
   "metadata": {},
   "source": [
    "画像は、\\!\\[代替テキスト](画像の URL またはファイルパス \"画像タイトル (省略可)\") で引用できます。  \n",
    "![Google Logo](https://www.google.com/images/branding/googlelogo/1x/googlelogo_color_272x92dp.png \"Google Logo\")  "
   ]
  },
  {
   "cell_type": "markdown",
   "metadata": {},
   "source": [
    "---\n",
    "これは `インラインコード` です。インラインコードにしたい部分を \\` (バッククォート) で囲います。"
   ]
  },
  {
   "cell_type": "markdown",
   "metadata": {},
   "source": [
    "```python\n",
    "print(\"これはコードブロックです。\")\n",
    "print(\"コードブロックは 3 つの連続した  ``` (バッククォート) で上下を囲われた行です。\")\n",
    "```"
   ]
  },
  {
   "cell_type": "markdown",
   "metadata": {},
   "source": [
    "---\n",
    "これは $\\mathrm{this\\, part} = \\mathcal{inline\\, expression}$ インライン数式です。$\\LaTeX$ で数式を記述して前後を $ (ドル) で囲います。  "
   ]
  },
  {
   "cell_type": "markdown",
   "metadata": {},
   "source": [
    "$$\\begin{aligned}\n",
    "    \\textsf{これは数式ブロックです。}\\\\\n",
    "    \\textsf{these rows} = \\textsf{expression block}\\\\\n",
    "    e = mc^{2}\\\\\n",
    "    \\LaTeX \\textsf{で数式を記述して前後を 2 つの連続した $$ (ドル) で囲います。}\\\\\n",
    "\\end{aligned}$$"
   ]
  },
  {
   "cell_type": "markdown",
   "metadata": {},
   "source": [
    "[LaTeX for Notebook](./LaTeX_in_Notebook.ipynb)  "
   ]
  },
  {
   "cell_type": "markdown",
   "metadata": {},
   "source": [
    "---\n",
    "> これはインデント文です。  \n",
    ">> インデントは行頭に > (右アングルブラケット) + 半角スペースです。  \n",
    ">>> さらに、> の数を増やせば、このように階層が深くなります。  \n",
    "インデントは空行がなければ、次行も継続して適用されます。  "
   ]
  },
  {
   "cell_type": "markdown",
   "metadata": {},
   "source": [
    "---\n",
    "行頭の半角ハイフン + 半角スペースは、\n",
    "\n",
    "- このように、リストに変換されます。    \n",
    "\n",
    "- 空行後の半角ハイフン + 半角スペースは黒丸に変換されます。  \n",
    "空行が無ければ、このように連続したリスト項目の改行となり自動で行頭の位置が調整されます。  \n",
    "\n",
    "  - さらに、半角ハイフンの前に半角スペースを置くことで、  \n",
    "  \n",
    "  - 階層の深いリストとなります。  "
   ]
  },
  {
   "cell_type": "markdown",
   "metadata": {},
   "source": [
    "---\n",
    "1. 半角数字 + 半角ピリオド + 半角スペースで  \n",
    "\n",
    "1. 番号付きのリスト表示されとしてます。  \n",
    "改行しても空行がなければインデントされます。  \n",
    "\n",
    "  1. 半角数字の前に半角スペースを置くことで、  \n",
    "  \n",
    "  1. 階層の深い番号付きリストとなります。  \n",
    "\n",
    "1. リスト数字は自動で振られるため、すべて 1. でもますが、  \n",
    "\n",
    "1\\. このようにバックスラッシュを数字とピリオドの間に入れれば回避することができます。  "
   ]
  },
  {
   "cell_type": "markdown",
   "metadata": {},
   "source": [
    "---\n",
    "表は...  \n",
    "\\|右揃え配置の列|中央配置の列|左揃え配置の列|  \n",
    "|:-            |:-:         |            -:|  \n",
    "|値 1 行 1 列  |値 1 行 2 列|値 1 行 3 列  |  \n",
    "|値 2 行 1 列  |値 2 行 2 列|値 2 行 3 列  |  \n",
    "|値 3 行 1 列  |値 3 行 2 列|値 3 行 3 列  |  \n",
    "\n",
    "|右揃え配置の列|中央配置の列|左揃え配置の列|\n",
    "|:-            |:-:         |            -:|\n",
    "|値 1 行 1 列  |値 1 行 2 列|値 1 行 3 列  |\n",
    "|値 2 行 1 列  |値 2 行 2 列|値 2 行 3 列  |\n",
    "|値 3 行 1 列  |値 3 行 2 列|値 3 行 3 列  |"
   ]
  },
  {
   "cell_type": "markdown",
   "metadata": {},
   "source": [
    "ほかにも HTML 記法を使って<span style=\"font-size:2em; color:red\">文字の修飾</span>などを行うことも可能です。"
   ]
  },
  {
   "cell_type": "markdown",
   "metadata": {},
   "source": [
    "Markdown 記法は Notebook 以外の様々なツールで利用することができますが、それぞれで若干ルールが異なることがあり注意が必要です。  \n",
    "各ツールのドキュメントをよく参照して使ってください😎"
   ]
  }
 ],
 "metadata": {
  "kernelspec": {
   "display_name": "jpy",
   "language": "python",
   "name": "jpy"
  },
  "language_info": {
   "codemirror_mode": {
    "name": "ipython",
    "version": 3
   },
   "file_extension": ".py",
   "mimetype": "text/x-python",
   "name": "python",
   "nbconvert_exporter": "python",
   "pygments_lexer": "ipython3",
   "version": "3.7.6"
  }
 },
 "nbformat": 4,
 "nbformat_minor": 4
}
