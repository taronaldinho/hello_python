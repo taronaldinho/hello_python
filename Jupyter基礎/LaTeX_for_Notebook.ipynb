{
 "cells": [
  {
   "cell_type": "markdown",
   "metadata": {},
   "source": [
    "# $\\LaTeX$ in Notebook Cheat Sheet  "
   ]
  },
  {
   "cell_type": "markdown",
   "metadata": {},
   "source": [
    "Notebook ファイル中のMarkdown セルで数式の記述に利用可能な $\\LaTeX$ 記法についてまとめています。  \n",
    "なお、$\\LaTeX$ は、「ラーテック」、「ラテック」、「レイテック」、「レイテックス」、「ラテック」あるいは「ラテフ」と発音するようです。 \n",
    "\n",
    "- [LaTeX/Mathematics - Wikibooks, open books for an open world](https://en.wikibooks.org/wiki/LaTeX/Mathematics)  \n",
    "- [LaTeXコマンド集](http://www.latex-cmd.com/index.html#style)  "
   ]
  },
  {
   "cell_type": "markdown",
   "metadata": {},
   "source": [
    "## Markdown セルでの数式記述方法  \n",
    "\n",
    "Markdown 記法で数式を文中に挿入する場合は、`$e^{i\\omega}-1 = 0$` → $e^{i\\omega}-1 = 0$ のようにドル記号 (`$`) で数式の前後を囲います。  \n",
    "\n",
    "また、ふたつのドル記号 (`$$`) で囲うと、独立した段落で、  \n",
    "$$V^{\\pi}(s) = \\underset{a}{\\max} \\mathbb{E} [R_{s, a}+\\gamma \\ast V^{\\pi}(s(s, a))]$$  \n",
    "のように表現することができます。  "
   ]
  },
  {
   "cell_type": "markdown",
   "metadata": {},
   "source": [
    "## Greek Letters  \n",
    "\n",
    "|display|command|display|command|display|command|display|command|  \n",
    "|:--|:--|:--|:--|:--|:--|:--|:--|  \n",
    "|$\\alpha ~ A$     |\\alpha A     |$\\eta ~ E$         |\\eta E         |$\\nu ~ N$      |\\nu N        |$\\tau ~ T$|\\tau Tau|  \n",
    "|$\\beta ~ B$      |\\beta B      |$\\theta ~ \\Theta$  |\\theta \\Theta  |$\\xi ~ \\Xi$    |\\xi \\Xi      |$\\upsilon ~ \\Upsilon$|\\upsilon \\Upsilon|  \n",
    "|$\\gamma ~ \\Gamma$|\\gamma \\Gamma|$\\iota ~ I$        |\\iota I        |$\\omicron ~ O$ |\\omicron O   |$\\phi ~ \\Phi$|\\phi \\Phi|  \n",
    "|$\\delta ~ \\Delta$|\\delta \\Delta|$\\kappa ~ K$       |\\kappa \\Kappa  |$\\pi ~ \\Pi$    |\\pi \\Pi      |$\\chi ~ X$|\\chi X|  \n",
    "|$\\epsilon ~ E$   |\\epsilon E   |$\\lambda ~ \\Lambda$|\\lambda \\Lambda|$\\rho ~ R$     |\\rho R       |$\\psi ~ \\Psi$|\\psi \\Psi|  \n",
    "|$\\zeta ~ Z$      |\\zeta Z      |$\\mu ~ M$          |mu M           |$\\sigma \\Sigma$|\\sigma \\Sigma|$\\omega ~ \\Omega$|\\omega \\Omega|  "
   ]
  },
  {
   "cell_type": "markdown",
   "metadata": {},
   "source": [
    "## Accents  \n",
    "\n",
    "|display|command|display|command|display|command|display|command|\n",
    "|:-:|:--|:-:|:--|:-:|:--|:-:|:--|\n",
    "|$a^{2}$      |a^{2}          |$\\vec{a}$  |\\vec{a}    |$\\hat{a}$ |\\hat{a} |$\\bf{aA} ~ \\boldsymbol{aA}$|\\bf{aA} \\boldsymbol{aA}|\n",
    "|$\\sqrt{a}$   |\\sqrt{a}       |$\\bar{a}$  |\\bar{a}    |$\\dot{a}$ |\\dot{a} |$a_{i}$  |a_{i}|\n",
    "|$\\sqrt[3]{a}$|\\sqrt[3]{a}    |$\\tilde{a}$|\\tilde{a}  |$\\ddot{a}$|\\ddot{a}|$x^{(i)}_{i,j}$|x^{(i)}\\_{i,j}|\n",
    "|$a^{2}$      |a^{2}          |$\\vec{a}$  |\\vec{a}    |$\\hat{a}$ |\\hat{a} |$\\bf{aA} ~ \\boldsymbol{aA}$|\\bf{aA} \\boldsymbol{aA}|\n",
    "|$\\overline{x+y}$|\\overline{x+y}|$\\underline{x+y}$|\\underline{x+y}|$\\overrightarrow{AB}$|\\overrightarrow{AB}|$\\overleftarrow{AB}$|\\overleftarrow{AB}|\n",
    "|$\\widehat{xyz}$|\\widehat{xyz}|$\\widetilde{xyz}$|\\widetilde{xyz}|$\\overbrace{x+y}$ |\\overbrace{x+y}|$\\underbrace{x+y}$|\\underbrace{x + y}|"
   ]
  },
  {
   "cell_type": "markdown",
   "metadata": {},
   "source": [
    "## Mathematical Symbols and Operators  \n",
    "\n",
    "|display|command|display|command|display|command|display|command|\n",
    "|:-:|:--|:-:|:--|:-:|:--|:-:|:--|\n",
    "|$=$        |=        |$<$     |<     |$\\cap$     |\\cap     |$\\subset$|\\subset|\n",
    "|$\\equiv$   |\\equiv   |$\\leq$  |\\leq  |$\\cup$     |\\cup     |$\\subseteq$|\\subseteq|\n",
    "|$\\approx$  |\\approx  |$\\ll$   |\\ll   |$\\in$      |\\in      |$\\Subset$|\\Subset|\n",
    "|$\\approxeq$|\\approxeq|$>$     |>     |$\\owns$    |\\owns    |$\\supset$|\\supset|\n",
    "|$\\simeq$   |\\simeq   |$\\geq$  |\\geq  |$\\infty$   |\\infty   |$\\supseteq$|\\supseteq|\n",
    "|$\\propto$  |\\propto  |$\\gg$   |\\gg   |$\\emptyset$|\\emptyset|$\\Supset$|\\Supset|\n",
    "|$\\neq$     |\\neq     |$\\therefore$|\\therefore|$\\because$|\\because|$\\overset{\\mathrm{def}}{=}$|\\overset{\\mathrm{def}}{=}|\n",
    "|$+$        |+        |$-$     |-     |$\\cdot$    |\\cdot    |$\\cdots$|\\cdots|\n",
    "|$\\pm$      |\\pm      |$\\mp$   |\\mp   |$\\bullet$  |\\bullet  |$\\vdots$|\\vdots|\n",
    "|$\\ast$     |\\ast     |$\\times$|\\times|$\\circ$    |\\circ    |$\\ddots$|\\ddots|\n",
    "|$/$        |/        |$\\div$  |\\div  |$30^{\\circ}$|30^{\\circ}|$\\angle$|\\angle|\n",
    "|$!$        |!        |$\\nabla$|\\nabla|\n",
    "|$\\cos$     |\\cos     |$\\sin$  |\\sin  |$\\tan$     |\\tan     |$\\max$|\\max|\n",
    "|$\\arccos$  |\\arccos  |$\\arcsin$|\\arcsin|$\\arctan$|\\arctan  |$\\min$|\\min|\n",
    "|$\\cosh$    |\\cosh    |$\\sinh$  |\\sinh |$\\tanh$   |\\tanh    |$\\coth$|\\coth|\n",
    "|$\\log$     |\\log     |$\\ln$    |\\ln   |$\\exp$    |\\exp     |$\\bmod$  |\\bmod\\|\n",
    "|$\\arg$     |\\arg     |$\\deg$   |\\deg  |$\\det$    |\\det     |$\\inf$|\\inf|\n",
    "|$\\odot$    |\\odot    |$\\oplus$ |\\oplus|$\\otimes$ |\\otimes  |$\\wedge$ |\\wedge|\n",
    "|$\\forall$  |\\forall  |$\\exists$|\\exists|$\\to$    |\\to      |$\\gets$|\\gets|\n",
    "|$\\implies$ |\\implies |$\\impliedby$|\\impliedby|$\\leftrightarrow$|\\leftrightarrow|$\\iff$|\\iff  |"
   ]
  },
  {
   "cell_type": "markdown",
   "metadata": {},
   "source": [
    "|display|command|display|command|&nbsp;&nbsp;&nbsp;&nbsp;display&nbsp;&nbsp;&nbsp;&nbsp;|command|display|command|\n",
    "|:-:|:--|:-:|:--|:-:|:--|:-:|:--|\n",
    "|$\\sum$         |\\sum         |$\\sum_{i=0}^{n}x_{i}$     |\\sum_{i=0}^{n}x_{i}     |$\\prod$              |\\prod  |$\\prod_{i=0}^{n} x_{i}$|\\prod_{i=0}^{n} x_{i}|\n",
    "|$\\lim$         |\\lim         |$\\lim_{x \\to \\infty} f(x)$|\\lim_{x \\to \\infty} f(x)|${}_nP_r$            |{}\\_nP\\_r|${}_nC_r$|{}\\_nC\\_r|\n",
    "|$\\frac{dy}{dx}$|\\frac{dy}{dx}|$\\frac{dy^{2}}{dx^{2}}$|\\frac{dy\\^{2}}{dx\\^{2}}|$\\frac{\\partial f}{\\partial x}$|\\frac{\\partial f}{\\partial x}|$\\frac{\\mathrm{d}y}{\\mathrm{d}x}$|\\frac{\\mathrm{d}y}{\\mathrm{d}x}|\n",
    "|$y\\prime$      |y\\prime      |$y\\prime\\prime$           |y\\prime\\prime           |$y'$                 |y'     |$y'''$                |y'''|\n",
    "|$\\int$|\\int|$\\int_{a}^{b}$|\\int_{a}^{b}|$\\int_{a}^{b}f(x)\\,\\mathrm{d}x$|\\int_{a}^{b}f(x)\\\\,\\mathrm{d}x|$\\int\\limits_{a}^{b}$|\\int\\limits_{a}^{b}|\n",
    "|$\\oint$        |\\oint        |$\\iint$                   |\\iint                   |$\\iiint$             |\\iiint  |$\\iiiint$|\\iiiint|\n"
   ]
  },
  {
   "cell_type": "markdown",
   "metadata": {},
   "source": [
    "## Sets  \n",
    "\n",
    "|display|command|memo|\n",
    "|:-:|:--|:--|\n",
    "|$\\mathbb{C}$      |\\mathbb{C}|複素数全体の集合|\n",
    "|$\\Re$             |\\Re|複素数の実部|\n",
    "|$\\Im$             |\\Im|複素数の虚部|\n",
    "|$\\mathbb{R}$      |\\mathbb{R}|実数全体の集合|\n",
    "|$\\mathbb{Q}$      |\\mathbb{Q}|有理数全体の集合|\n",
    "|$\\mathbb{Z}$      |\\mathbb{Z}|整数全体の集合|\n",
    "|$\\mathbb{N}$      |\\mathbb{N}|自然数全体の集合|"
   ]
  },
  {
   "cell_type": "markdown",
   "metadata": {},
   "source": [
    "## Brackets  \n",
    "\n",
    "|display|command|\n",
    "|:-:|:--|\n",
    "|$(x)$              |(x)|\n",
    "|$[x]$              |[x]|\n",
    "|$\\{x\\}$            |\\\\{x\\\\}|\n",
    "|$|x|$              |&#124;x&#124;|\n",
    "|$\\|x\\|$            |\\\\&#124;x\\\\&#124;|\n",
    "|$\\langle x \\rangle$|\\langle x \\rangle|\n",
    "|$\\lceil x \\rceil$  |\\lceil x \\rceil|\n",
    "|$\\lfloor x \\rfloor$|\\lfloor x \\rfloor|\n",
    "|$\\left\\{\\frac{x(a+b)}{y}\\right\\}$|\\left\\{\\frac{x(a+b)}{y}\\right\\}|\n",
    "\n",
    "Table の作成では [Markdownのtable記述でのエスケープ - Qiita](https://qiita.com/takashisite/items/f3000d46d39a61930dc5) を参考にした。  "
   ]
  },
  {
   "cell_type": "markdown",
   "metadata": {},
   "source": [
    "## Fonts  \n",
    "\n",
    "|display|command|\n",
    "|:-:|:--|\n",
    "|${\\tiny ABCdef123}$      |{\\tiny ABCdef123}|\n",
    "|${\\scriptsize ABCdef123}$|{\\scriptsize ABCdef123}|\n",
    "|${\\small ABCdef123}$     |{\\small ABCdef123}|\n",
    "|$ABCdef123$              |ABCdef123|\n",
    "|${\\normalsize ABCdef123}$|{\\normalsize ABCdef123}|\n",
    "|${\\large ABCdef123}$     |{\\large ABCdef123}|\n",
    "|${\\Large ABCdef123}$     |{\\Large ABCdef123}|\n",
    "|${\\LARGE ABCdef123}$     |{\\LARGE ABCdef123}|\n",
    "|${\\huge ABCdef123}$      |{\\huge ABCdef123}|\n",
    "|${\\Huge ABCdef123}$      |{\\Huge ABCdef123}|\n"
   ]
  },
  {
   "cell_type": "markdown",
   "metadata": {},
   "source": [
    "|display|command|memo|\n",
    "|:-:|:--|:--|\n",
    "|$\\mathrm{ABCdef123}$        |\\mathrm{ABCdef123}|計量単位または 1 語の関数|\n",
    "|$\\mathit{ABCdef123}$        |\\mathit{ABCdef123}|複数文字の変数|\n",
    "|$\\mathbf{ABCdef123}$        |\\mathbf{ABCdef123}|ベクトル|\n",
    "|$\\mathsf{ABCdef123}$        |\\mathsf{ABCdef123}|圏|\n",
    "|$\\mathfrak{ABCdef123}$      |\\mathfrak{ABCdef123}|環論のイデアル|\n",
    "|$\\mathcal{ABCdef123}$       |\\mathcal{ABCdef123}|層、概型、圏|\n",
    "|$\\mathbb{ABCdef123}$        |\\mathbb{ABCdef123}|特殊な集合|\n",
    "|$\\mathscr{ABCdef123}$       |\\mathscr{ABCdef123}|\n",
    "|$\\mathtt{ABCdef123}$        |\\mathtt{ABCdef123}|タイプライタ体|\n",
    "|$\\textrm{Roman}$            |\\textrm{Roman}|ローマン体|\n",
    "|$\\textbf{Boldface}$         |\\textbf{Boldface}|太字|\n",
    "|$\\textit{Italic}$           |\\textit{Italic}|斜体|\n",
    "|$\\textsf{Sans Serif}$       |\\textsf{Sans Serif}|サンセリフ体|\n",
    "|$\\texttt{Typewriter}$       |\\texttt{Typewriter}|タイプライタ体、等幅|"
   ]
  },
  {
   "cell_type": "markdown",
   "metadata": {},
   "source": [
    "## Spaces  \n",
    "\n",
    "空白 (その 1) ~ (その 4) は本来異なる間隔のスペースを表示するようですが、Notebook では同じになってしまうようです。  \n",
    "\n",
    "|display|command|memo|\n",
    "|:-:|:--|:--|\n",
    "|$ab$|ab|連続した文字|\n",
    "|$a b$|a b|単なるスペースは表示に影響はない|\n",
    "|$a\\,b$|a\\\\,b|空白 (その 1)|\n",
    "|$a\\:b$|a\\\\:b|空白 (その 2)|\n",
    "|$a\\;b$|a\\\\;b|空白 (その 3)|\n",
    "|$a\\ b$|a\\\\ b|空白 (その 4)|\n",
    "|$a~b$|a~b|改行されないスペース|\n",
    "|$a\\hspace{15pt}b$|a\\hspace{15pt}b|任意の長さのスペース|\n",
    "|$a\\! b$|a\\! b|負のスペース|"
   ]
  },
  {
   "cell_type": "markdown",
   "metadata": {},
   "source": [
    "## Others  \n",
    "\n",
    "|display|command|memo|\n",
    "|:-:|:--|:--|\n",
    "|$\\mathcal{F}$     |\\mathcal{F}|フーリエ変換\n",
    "|$\\mathcal{F}^{-1}$|\\mathcal{F}^{-1}|逆フーリエ変換|\n",
    "|$\\mathcal{L}$     |\\mathcal{L}|ラプラス変換|\n",
    "|$\\mathcal{L}^{-1}$|\\mathcal{L}^{-1}|逆ラプラス変換|"
   ]
  },
  {
   "cell_type": "markdown",
   "metadata": {},
   "source": [
    "## Examples  "
   ]
  },
  {
   "cell_type": "markdown",
   "metadata": {},
   "source": [
    "$$f'=\\underset{h\\to0}{\\lim}\\frac{f(a+h)-f(a)}{h}$$"
   ]
  },
  {
   "cell_type": "markdown",
   "metadata": {},
   "source": [
    "$$\n",
    "\\frac{\\sum_{i = 1}^n [(x^{(i)} - \\mu_{x}) (y^{(i)} - \\mu_{y})]}\n",
    "     {\n",
    "      \\sqrt{\\sum_{i = 1}^n (x^{(i)} - \\mu_{x})} \n",
    "      \\sqrt{\\sum_{i = 1}^n (y^{(i)} - \\mu_{y})}\n",
    "       }$$"
   ]
  },
  {
   "cell_type": "markdown",
   "metadata": {},
   "source": [
    "$$\\mathrm{softmax}(x_{i}) = \\frac{\\exp(x_{i})}{\\sum_{k} \\exp(x_{k})}$$ "
   ]
  },
  {
   "cell_type": "markdown",
   "metadata": {},
   "source": [
    "$$\\overbrace{a + \\cdots + z}^{26}$$"
   ]
  },
  {
   "cell_type": "markdown",
   "metadata": {},
   "source": [
    "$$\\underbrace{a + \\cdots + z}_{26}$$"
   ]
  },
  {
   "cell_type": "markdown",
   "metadata": {},
   "source": [
    "$$\\left.\\frac{df}{dx}\\right|_{x=0}$$"
   ]
  },
  {
   "cell_type": "markdown",
   "metadata": {},
   "source": [
    "$$\n",
    "A =\n",
    "\\begin{pmatrix}\n",
    "a_{11} & a_{12} & \\ldots & a_{1n} \\\\\n",
    "a_{21} & a_{22} & \\ldots & a_{2n} \\\\\n",
    "\\vdots & \\vdots & \\ddots & \\vdots \\\\\n",
    "a_{n1} & a_{n2} & \\ldots & a_{nn}\n",
    "\\end{pmatrix}\n",
    "$$"
   ]
  },
  {
   "cell_type": "markdown",
   "metadata": {},
   "source": [
    "$${\n",
    "\\begin{aligned}\n",
    "ax+by=c \\\\\n",
    "cx+dy+ez=f\n",
    "\\end{aligned}\n",
    "}$$"
   ]
  },
  {
   "cell_type": "markdown",
   "metadata": {},
   "source": [
    "$${\n",
    "\\begin{eqnarray}\n",
    "    y =\\left\\{ \\begin{array}{aligned} \n",
    "        0 & (b + w_1x_1 + w_2x_2 \\leqq 0) \\\\\n",
    "        1 & (b + w_1x_1 + w_2x_2 > 0) \\\\\n",
    "    \\end{array} \\right.\n",
    "\\end{eqnarray}\n",
    "}$$ "
   ]
  },
  {
   "cell_type": "markdown",
   "metadata": {},
   "source": [
    "$$\n",
    "\\begin{cases}\n",
    " x_1 +  x_2        \\leq 120,\\\\\n",
    "2x_1 +       3x_3 \\leq 150,\\\\\n",
    "       4x_2 + 5x_3 \\leq 340.\n",
    "\\end{cases}\n",
    "$$"
   ]
  },
  {
   "cell_type": "markdown",
   "metadata": {},
   "source": [
    "$$\n",
    "\\left\\{\n",
    "\\begin{array}{rrrr}\n",
    " x_1& +\\  \\hphantom{4}x_2&\\ \\phantom{+5x_3}&\\leq 120,\\\\\n",
    "2x_1& +\\  \\hphantom{4x_2}&+\\          3x_3 &\\leq 150,\\\\\n",
    "    &             4x_2   &+\\  5x_3         &\\leq 340.\n",
    "\\end{array}\n",
    "\\right.\n",
    "$$"
   ]
  },
  {
   "cell_type": "markdown",
   "metadata": {},
   "source": [
    "$$\\begin{aligned}\n",
    "   a&=b+c \\\\\n",
    "   d+e&=f\n",
    "\\end{aligned}$$"
   ]
  },
  {
   "cell_type": "markdown",
   "metadata": {},
   "source": [
    "$$\n",
    "a \\left[\n",
    "    b \\left\\{\n",
    "        \\frac{1}{2} \\left(\n",
    "            c ( d + e )^x\n",
    "        \\right)\n",
    "    \\right\\}^{\\frac{y}{z}}\n",
    "\\right]\n",
    "$$"
   ]
  },
  {
   "cell_type": "markdown",
   "metadata": {},
   "source": [
    "$$\n",
    "\\binom{n}{k} = {}_n C_{k} = \\frac{n!}{(n-k)!k!}\n",
    "$$"
   ]
  },
  {
   "cell_type": "markdown",
   "metadata": {},
   "source": [
    "$$\n",
    "\\nabla f = \\frac{\\partial}{\\partial x}f + \\frac{\\partial}{\\partial y}f + \\frac{\\partial}{\\partial z}f \n",
    "$$"
   ]
  },
  {
   "cell_type": "markdown",
   "metadata": {},
   "source": [
    "$$\n",
    "\\Delta f = \\nabla \\cdot \\nabla f = \\frac{\\partial^2}{\\partial^2 x}f + \\frac{\\partial^2}{\\partial^2 y}f + \\frac{\\partial^2}{\\partial^2 z}f\n",
    "$$"
   ]
  }
 ],
 "metadata": {
  "kernelspec": {
   "display_name": "jpy",
   "language": "python",
   "name": "jpy"
  },
  "language_info": {
   "codemirror_mode": {
    "name": "ipython",
    "version": 3
   },
   "file_extension": ".py",
   "mimetype": "text/x-python",
   "name": "python",
   "nbconvert_exporter": "python",
   "pygments_lexer": "ipython3",
   "version": "3.7.6"
  }
 },
 "nbformat": 4,
 "nbformat_minor": 4
}
