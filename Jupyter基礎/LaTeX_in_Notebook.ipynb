{
 "cells": [
  {
   "cell_type": "markdown",
   "metadata": {},
   "source": [
    "# $\\LaTeX$ in Notebook Cheat Sheet  "
   ]
  },
  {
   "cell_type": "markdown",
   "metadata": {},
   "source": [
    "Notebook ファイル中のMarkdown セルで数式の記述に利用可能な $\\LaTeX$ 記法についてまとめています。  \n",
    "なお、$\\LaTeX$ は、「ラーテック」、「ラテック」、「レイテック」、「レイテックス」、「ラテック」あるいは「ラテフ」と発音するようです。 \n",
    "\n",
    "[LaTeX/Mathematics - Wikibooks, open books for an open world](https://en.wikibooks.org/wiki/LaTeX/Mathematics)  "
   ]
  },
  {
   "cell_type": "markdown",
   "metadata": {},
   "source": [
    "## Markdown セルでの数式記述方法  \n",
    "\n",
    "Markdown 記法で数式を文中に挿入する場合は、`$e^{i\\omega}-1 = 0$` → $e^{i\\omega}-1 = 0$ のようにドル記号 (`$`) で数式の前後を囲います。  \n",
    "\n",
    "また、ふたつのドル記号 (`$$`) で囲うと、独立した段落で、  \n",
    "$$V^{\\pi}(s) = \\underset{a}{\\max} \\mathbb{E} [R_{s, a}+\\gamma \\ast V^{\\pi}(s(s, a))]$$  \n",
    "のように表現することができます。  "
   ]
  },
  {
   "cell_type": "markdown",
   "metadata": {},
   "source": [
    "## Greek Letters\n",
    "\n",
    "|display|command||display|command||display|command||display|command|\n",
    "|:-|:-||:-|:-||:-|:-||:-|:-|\n",
    "|$$\\alpha ~ A$$     |\\alpha A     ||$$\\eta ~ E$$         |\\eta E         ||$$\\nu ~ N$$      |\\nu N        ||$$\\tau ~ T$$|\\tau Tau|\n",
    "|$$\\beta ~ B$$      |\\beta B      ||$$\\theta ~ \\Theta$$  |\\theta \\Theta  ||$$\\xi ~ \\Xi$$    |\\xi \\Xi      ||$$\\upsilon ~ \\Upsilon$$|\\upsilon \\Upsilon|\n",
    "|$$\\gamma ~ \\Gamma$$|\\gamma \\Gamma||$$\\iota ~ I$$        |\\iota I        ||$$\\omicron ~ O$$ |\\omicron O   ||$$\\phi ~ \\Phi$$|\\phi \\Phi|\n",
    "|$$\\delta ~ \\Delta$$|\\delta \\Delta||$$\\kappa ~ K$$       |\\kappa \\Kappa  ||$$\\pi ~ \\Pi$$    |\\pi \\Pi      ||$$\\chi ~ X$$|\\chi X|\n",
    "|$$\\epsilon ~ E$$   |\\epsilon E   ||$$\\lambda ~ \\Lambda$$|\\lambda \\Lambda||$$\\rho ~ R$$     |\\rho R       ||$$\\psi ~ \\Psi$$|\\psi \\Psi|\n",
    "|$$\\zeta ~ Z$$      |\\zeta Z      ||$$\\mu ~ M$$          |mu M           ||$$\\sigma \\Sigma$$|\\sigma \\Sigma||$$\\omega ~ \\Omega$$|\\omega \\Omega|\n"
   ]
  },
  {
   "cell_type": "markdown",
   "metadata": {},
   "source": [
    "## Accents\n",
    "\n",
    "|display|command||display|command||display|command||display|command|\n",
    "|:-:|:-|-|:-:|:-|-|:-:|:-|-|:-:|:-|\n",
    "|$$a^{2}$$      |a^{2}      ||$$\\vec{a}$$  |\\vec{a}    ||$$\\hat{a}$$ |\\hat{a} ||$$\\bf{aA} ~ \\boldsymbol{aA}$$|\\bf{aA} \\boldsymbol{aA}|\n",
    "|$$\\sqrt{a}$$   |\\sqrt{a}   ||$$\\bar{a}$$  |\\bar{a}    ||$$\\dot{a}$$ |\\dot{a} ||$$a_{i}$$  |a_{i}  |\n",
    "|$$\\sqrt[3]{a}$$|\\sqrt[3]{a}||$$\\tilde{a}$$|\\tilde{a}  ||$$\\ddot{a}$$|\\ddot{a}||$$x^{(i)}_{i,j}$$|x^{(i)}_{i,j}|"
   ]
  },
  {
   "cell_type": "markdown",
   "metadata": {},
   "source": [
    "## Mathematical Symbols and Operators  \n",
    "\n",
    "|display|command||display|command||display|command||display|command|\n",
    "|:-:|:-|-|:-:|:-|-|:-:|:-|-|:-:|:-|\n",
    "|$$=$$        |=        ||$$<$$     |<     ||$$\\cap$$     |\\cap     ||$$\\subset$$|\\subset|\n",
    "|$$\\equiv$$   |\\equiv   ||$$\\leq$$  |\\leq  ||$$\\cup$$     |\\cup     ||$$\\subseteq$$|\\subseteq|\n",
    "|$$\\approx$$  |\\approx  ||$$\\ll$$   |\\ll   ||$$\\in$$      |\\in      ||$$\\Subset$$|\\Subset|\n",
    "|$$\\approxeq$$|\\approxeq||$$>$$     |>     ||$$\\owns$$    |\\owns    ||$$\\supset$$|\\supset|\n",
    "|$$\\simeq$$   |\\simeq   ||$$\\geq$$  |\\geq  ||$$\\infty$$   |\\infty   ||$$\\supseteq$$|\\supseteq|\n",
    "|$$\\propto$$  |\\propto  ||$$\\gg$$   |\\gg   ||$$\\emptyset$$|\\emptyset||$$\\Supset$$|\\Supset|\n",
    "|$$\\neq$$     |\\neq     ||$$\\therefore$$|\\therefore||$$\\because$$|\\because||$$\\overset{\\mathrm{def}}{=}$$|\\overset{\\mathrm{def}}{=}|\n",
    "|$$+$$        |+        ||$$-$$     |-     ||$$\\cdot$$    |\\cdot    ||$$\\cdots$$|\\cdots|\n",
    "|$$\\pm$$      |\\pm      ||$$\\mp$$   |\\mp   ||$$\\bullet$$  |\\bullet  ||$$\\vdots$$|\\vdots|\n",
    "|$$\\ast$$     |\\ast     ||$$\\times$$|\\times||$$\\circ$$    |\\circ    ||$$\\ddots$$|\\ddots|\n",
    "|$$/$$        |/        ||$$\\div$$  |\\div  ||$$30^{\\circ}$$|30^{\\circ}||$$\\star$$|\\star|\n",
    "|$$\\cos$$     |\\cos     ||$$\\sin$$  |\\sin  ||$$\\tan$$     |\\tan     ||$$\\max$$|\\max|\n",
    "|$$\\arccos$$  |\\arccos  ||$$\\arcsin$$|\\arcsin||$$\\arctan$$|\\arctan  ||$$\\min$$|\\min|\n",
    "|$$\\cosh$$    |\\cosh    ||$$\\sinh$$  |\\sinh ||$$\\tanh$$   |\\tanh    ||$$\\coth$$|\\coth|\n",
    "|$$\\log$$     |\\log     ||$$\\ln$$    |\\ln   ||$$\\exp$$    |\\exp     ||$$\\to$$|\\to|\n",
    "|$$\\odot$$    |\\odot    ||$$\\oplus$$ |\\oplus||$$\\otimes$$ |\\otimes  ||$$\\nabla$$ |\\nabla|\n",
    "|$$\\arg$$     |\\arg     ||$$\\deg$$   |\\deg  ||$$\\det$$    |\\det     ||$$\\inf$$|\\inf|\n",
    "|$$\\forall$$  |\\forall  ||$$\\exists$$|\\exists||$$\\bmod$$|\\bmod\\|\n",
    "|$$\\wedge$$ |\\wedge||"
   ]
  },
  {
   "cell_type": "markdown",
   "metadata": {},
   "source": [
    "|display|command||display|command||display|command||display|command|\n",
    "|:-:|:-|-|:-:|:-|-|:-:|:-|-|:-:|:-|\n",
    "|$$\\sum$$         |\\sum         ||$$\\sum_{i=0}^{n}x_{i}$$     |\\sum_{i=0}^{n}x_{i}     ||$$\\prod$$              |\\prod  ||$$\\prod_{i=0}^{n} x_{i}$$|\\prod_{i=0}^{n} x_{i}|\n",
    "|$$\\lim$$         |\\lim         ||$$\\lim_{x \\to \\infty} f(x)$$|\\lim_{x \\to \\infty} f(x)||$${}_nP_r$$            |{}_nP_r||$${}_nC_r$$|{}_nC_r|\n",
    "|$$\\frac{dy}{dx}$$|\\frac{dy}{dx}||$$\\frac{dy^{2}}{dx^{2}}$$|\\frac{dy\\^{2}}{dx\\^{2}}||$$\\frac{\\partial f}{\\partial x}$$|\\frac{\\partial f}{\\partial x}||$$\\frac{\\mathrm{d}y}{\\mathrm{d}x}$$|\\frac{\\mathrm{d}y}{\\mathrm{d}x}|\n",
    "|$$y\\prime$$      |y\\prime      ||$$y\\prime\\prime$$           |y\\prime\\prime           ||$$y'$$                 |y'     ||$$y'''$$                |y'''|\n",
    "|$$\\int$$|\\int||$$\\int_{a}^{b}$$|\\int_{a}^{b}||$$\\int_{a}^{b}f(x)\\,\\mathrm{d}x$$|\\int_{a}^{b}f(x)\\\\,\\mathrm{d}x||$$\\int\\limits_{a}^{b}$$|\\int\\limits_{a}^{b}|\n",
    "|$$\\oint$$        |\\oint        ||$$\\iint$$                   |\\iint                   ||$$\\iiint$$             |\\iiint  ||\n"
   ]
  },
  {
   "cell_type": "markdown",
   "metadata": {},
   "source": [
    "## Fonts\n",
    "\n",
    "|display|command|\n",
    "|:-:|:-|\n",
    "|$${\\tiny ABCdef123}$$      |{\\tiny ABCdef123}|\n",
    "|$${\\scriptsize ABCdef123}$$|{\\scriptsize ABCdef123}|\n",
    "|$${\\small ABCdef123}$$     |{\\small ABCdef123}|\n",
    "|$${\\normalsize ABCdef123}$$|{\\normalsize ABCdef123}|\n",
    "|$${\\large ABCdef123}$$     |{\\large ABCdef123}|\n",
    "|$${\\Large ABCdef123}$$     |{\\Large ABCdef123}|\n",
    "|$${\\LARGE ABCdef123}$$     |{\\LARGE ABCdef123}|\n",
    "|$${\\huge ABCdef123}$$      |{\\huge ABCdef123}|\n",
    "|$${\\Huge ABCdef123}$$      |{\\Huge ABCdef123}|\n"
   ]
  },
  {
   "cell_type": "markdown",
   "metadata": {},
   "source": [
    "|display|command|\n",
    "|:-:|:-|\n",
    "|$$\\mathrm{ABCdef123}$$        |\\mathrm{ABCdef123}|\n",
    "|$$\\mathit{ABCdef123}$$        |\\mathit{ABCdef123}|\n",
    "|$$\\mathbf{ABCdef123}$$        |\\mathbf{ABCdef123}|\n",
    "|$$\\mathsf{ABCdef123}$$        |\\mathsf{ABCdef123}|\n",
    "|$$\\mathcal{ABCdef123}$$       |\\mathcal{ABCdef123}|\n",
    "|$$\\mathscr{ABCdef123}$$       |\\mathscr{ABCdef123}|\n",
    "|$$\\mathbb{ABCdef123}$$        |\\mathbb{ABCdef123}|\n",
    "|$$\\mathtt{ABCdef123}$$        |\\mathtt{ABCdef123}|\n",
    "|$$\\mathfrak{ABCdef123}$$      |\\mathfrak{ABCdef123}|\n",
    "|$$\\textrm{Roman デフォルト}$$ |\\textrm{Roman デフォルト}|\n",
    "|$$\\textbf{Boldface 太字}$$    |\\textbf{Boldface 太字}|\n",
    "|$$\\textit{Italic 斜体}$$      |\\textit{Italic 斜体}|\n",
    "|$$\\textsf{Sans Serif サンセリフ体}$$|\\textsf{Sans Serif サンセリフ体}|\n",
    "|$$\\texttt{Typewriter タイプライタ体、等幅}$$|\\texttt{Typewriter タイプライタ体、等幅}|"
   ]
  },
  {
   "cell_type": "markdown",
   "metadata": {},
   "source": [
    "|display|command||display|command|\n",
    "|:-:|:-|-|:-:|:-|\n",
    "|$$\\mathbb{R}$$|\\mathbb{R}||$$\\Re$$|\\Re|\n",
    "|$$\\mathbb{I}$$|\\mathbb{I}||$$\\Im$$|\\Im|\n",
    "|$$\\mathbb{N}$$|\\mathbb{N}|\n",
    "|$$\\mathbb{Z}$$|\\mathbb{Z}|\n",
    "|$$\\mathcal{F}$$||$$\\mathcal{L}$$||"
   ]
  },
  {
   "cell_type": "markdown",
   "metadata": {},
   "source": [
    "## examples  \n",
    "\n",
    "|display|command|\n",
    "|:-:|:-|\n",
    "|$$\\sum_{i=1}^{m} a_{i}$$|\\sum_{i=1}^{m} a_{i}|\n",
    "|$$f'=\\underset{h\\to0}{\\lim}\\frac{f(a+h)-f(a)}{h}$$|f' = \\underset{h \\to 0}{\\lim} \\frac{f(a+h)-f(a)}{h}|  \n",
    "|$$V^{\\pi}(s) = \\underset{a}{\\max} \\mathbb{E} [R_{s, a}+\\gamma \\ast V^{\\pi}(s(s, a))]$$|V^{\\pi}(s) = \\underset{a}{\\max} \\mathbb{E} [R_{s, a}+\\gamma \\ast V^{\\pi}(s(s, a))]|\n",
    "|$$\\frac{\\sum_{i = 1}^n [(x^{(i)} - \\mu_{x}) (y^{(i)} - \\mu_{y})]}{\\sqrt{\\sum_{i = 1}^n (x^{(i)} - \\mu_{x})} \\sqrt{\\sum_{i = 1}^n (y^{(i)} - \\mu_{y})}}$$|\n",
    "\n",
    "\\begin{matrix}\n",
    "   a & b \\\\\n",
    "   c & d\n",
    "\\end{matrix}"
   ]
  },
  {
   "cell_type": "markdown",
   "metadata": {},
   "source": [
    "$$\\left.\\frac{df}{dx}\\right|_{x=0}$$"
   ]
  },
  {
   "cell_type": "markdown",
   "metadata": {},
   "source": [
    "$${\n",
    "\\begin{aligned}\n",
    "ax+by=c \\\\\n",
    "cx+dy+ez=f\n",
    "\\end{aligned}\n",
    "}$$"
   ]
  },
  {
   "cell_type": "markdown",
   "metadata": {},
   "source": [
    "$$\n",
    "A =\n",
    "\\begin{pmatrix}\n",
    "a_{11} & a_{12} & \\ldots & a_{1n} \\\\\n",
    "a_{21} & a_{22} & \\ldots & a_{2n} \\\\\n",
    "\\vdots & \\vdots & \\ddots & \\vdots \\\\\n",
    "a_{n1} & a_{n2} & \\ldots & a_{nn}\n",
    "\\end{pmatrix}\n",
    "$$"
   ]
  },
  {
   "cell_type": "markdown",
   "metadata": {},
   "source": [
    "$$\n",
    "\\begin{cases}\n",
    " x_1 +  x_2        \\leq 120,\\\\\n",
    "2x_1 +       3x_3 \\leq 150,\\\\\n",
    "       4x_2 + 5x_3 \\leq 340.\n",
    "\\end{cases}\n",
    "$$"
   ]
  },
  {
   "cell_type": "markdown",
   "metadata": {},
   "source": [
    "$$\n",
    "\\left\\{\n",
    "\\begin{array}{rrrr}\n",
    " x_1& +\\  \\hphantom{4}x_2&\\ \\phantom{+5x_3}&\\leq 120,\\\\\n",
    "2x_1& +\\  \\hphantom{4x_2}&+\\          3x_3 &\\leq 150,\\\\\n",
    "    &             4x_2   &+\\  5x_3         &\\leq 340.\n",
    "\\end{array}\n",
    "\\right.\n",
    "$$"
   ]
  },
  {
   "cell_type": "markdown",
   "metadata": {},
   "source": [
    "$$\n",
    "a \\left[\n",
    "    b \\left\\{\n",
    "        \\frac{1}{2} \\left(\n",
    "            c ( d + e )^x\n",
    "        \\right)\n",
    "    \\right\\}^{\\frac{y}{z}}\n",
    "\\right]\n",
    "$$"
   ]
  },
  {
   "cell_type": "markdown",
   "metadata": {},
   "source": [
    "$$\n",
    "\\left| \\frac{x}{y} \\right|\n",
    "$$\n",
    "\n",
    "$$\n",
    "\\binom{n}{k} = {}_n C_{k} = \\frac{n!}{(n-k)!k!}\n",
    "$$\n",
    "\n",
    "$$\n",
    "\\nabla f = \\frac{\\partial}{\\partial x}f + \\frac{\\partial}{\\partial y}f + \\frac{\\partial}{\\partial z}f \\\\\n",
    "\\Delta f = \\nabla \\cdot \\nabla f = \\frac{\\partial^2}{\\partial^2 x}f + \\frac{\\partial^2}{\\partial^2 y}f + \\frac{\\partial^2}{\\partial^2 z}f\n",
    "$$\n",
    "\n",
    "$$\n",
    "\\begin{matrix}\n",
    "   a & b \\\\\n",
    "   c & d\n",
    "\\end{matrix}\n",
    "$$\n",
    "\n",
    "$$\n",
    "\\def\\arraystretch{1.5}\n",
    "\\begin{array}{cc}\n",
    "   a & b \\\\\n",
    "   c & d\n",
    "\\end{array}\n",
    "$$\n",
    "\n",
    "$$\n",
    "\\begin{aligned}\n",
    "   a&=b+c \\\\\n",
    "   d+e&=f\n",
    "\\end{aligned}\n",
    "$$\n",
    "\n",
    "$$\n",
    "{n\\brace k}\n",
    "$$\n",
    "\n",
    "$$\n",
    "{n\\brack k}\n",
    "$$\n",
    "\n",
    "$$\n",
    "{n \\choose k}\n",
    "$$\n",
    "\n",
    "$$\n",
    "\\begin{cases}\n",
    "   a &\\text{if } b \\\\\n",
    "   c &\\text{if } d\n",
    "\\end{cases}\n",
    "$$\n"
   ]
  },
  {
   "cell_type": "markdown",
   "metadata": {},
   "source": []
  },
  {
   "cell_type": "markdown",
   "metadata": {},
   "source": []
  },
  {
   "cell_type": "markdown",
   "metadata": {},
   "source": []
  },
  {
   "cell_type": "markdown",
   "metadata": {},
   "source": []
  },
  {
   "cell_type": "markdown",
   "metadata": {},
   "source": []
  },
  {
   "cell_type": "markdown",
   "metadata": {},
   "source": []
  },
  {
   "cell_type": "markdown",
   "metadata": {},
   "source": []
  },
  {
   "cell_type": "code",
   "execution_count": null,
   "metadata": {},
   "outputs": [],
   "source": []
  }
 ],
 "metadata": {
  "kernelspec": {
   "display_name": "jpy",
   "language": "python",
   "name": "jpy"
  },
  "language_info": {
   "codemirror_mode": {
    "name": "ipython",
    "version": 3
   },
   "file_extension": ".py",
   "mimetype": "text/x-python",
   "name": "python",
   "nbconvert_exporter": "python",
   "pygments_lexer": "ipython3",
   "version": "3.7.6"
  }
 },
 "nbformat": 4,
 "nbformat_minor": 4
}
